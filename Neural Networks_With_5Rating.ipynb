{
 "nbformat": 4,
 "nbformat_minor": 0,
 "metadata": {
  "colab": {
   "name": "Neural Networks.ipynb",
   "provenance": [],
   "collapsed_sections": [],
   "authorship_tag": "ABX9TyMab7fd6D2sqa/20snMhJx9"
  },
  "kernelspec": {
   "name": "python3",
   "language": "python",
   "display_name": "Python 3 (ipykernel)"
  },
  "language_info": {
   "name": "python"
  }
 },
 "cells": [
  {
   "cell_type": "markdown",
   "source": [
    "# Imports\n"
   ],
   "metadata": {
    "id": "gjTPdCjJxLH6"
   }
  },
  {
   "cell_type": "code",
   "execution_count": 139,
   "metadata": {
    "id": "522vZmHYouCY",
    "executionInfo": {
     "status": "ok",
     "timestamp": 1660504512605,
     "user_tz": -180,
     "elapsed": 1,
     "user": {
      "displayName": "Serkan",
      "userId": "13266514479312701423"
     }
    }
   },
   "outputs": [],
   "source": [
    "import pandas as pd\n",
    "import numpy as np\n",
    "import seaborn as sns\n",
    "import matplotlib.pyplot as plt\n",
    "\n",
    "from sklearn.model_selection import train_test_split\n",
    "from sklearn.preprocessing import OneHotEncoder\n",
    "from sklearn.metrics import confusion_matrix\n",
    "\n",
    "from tensorflow import keras\n",
    "from keras.preprocessing import sequence\n",
    "from tensorflow.python.keras import Sequential\n",
    "from keras.models import load_model\n",
    "from tensorflow.python.keras.layers import Dense, Embedding, GlobalAveragePooling1D\n",
    "\n",
    "import pickle"
   ]
  },
  {
   "cell_type": "code",
   "source": [
    "df = pd.read_csv(r'C:\\Users\\lenovo\\PycharmProjects\\pythonProject2\\Data\\neural_network_data_5labels.csv')"
   ],
   "metadata": {
    "id": "c2ytC6ELsLpG",
    "executionInfo": {
     "status": "ok",
     "timestamp": 1660506510515,
     "user_tz": -180,
     "elapsed": 849,
     "user": {
      "displayName": "Serkan",
      "userId": "13266514479312701423"
     }
    }
   },
   "execution_count": 140,
   "outputs": []
  },
  {
   "cell_type": "code",
   "execution_count": 141,
   "outputs": [
    {
     "data": {
      "text/plain": "<AxesSubplot:>"
     },
     "execution_count": 141,
     "metadata": {},
     "output_type": "execute_result"
    },
    {
     "data": {
      "text/plain": "<Figure size 432x288 with 1 Axes>",
      "image/png": "[encoded data removed]"
     },
     "metadata": {
      "needs_background": "light"
     },
     "output_type": "display_data"
    }
   ],
   "source": [
    "df['rating'].hist()"
   ],
   "metadata": {
    "collapsed": false,
    "pycharm": {
     "name": "#%%\n"
    }
   }
  },
  {
   "cell_type": "code",
   "source": [
    "df['rating'] = df['rating'].fillna((df['rating'].mean()))"
   ],
   "metadata": {
    "id": "Isdr3GVry8oy",
    "executionInfo": {
     "status": "ok",
     "timestamp": 1660506517627,
     "user_tz": -180,
     "elapsed": 418,
     "user": {
      "displayName": "Serkan",
      "userId": "13266514479312701423"
     }
    }
   },
   "execution_count": 142,
   "outputs": []
  },
  {
   "cell_type": "code",
   "source": [
    "df['rating'] = df['rating'].astype(np.int64)"
   ],
   "metadata": {
    "id": "gaKX4RpoyW5M",
    "executionInfo": {
     "status": "ok",
     "timestamp": 1660506519262,
     "user_tz": -180,
     "elapsed": 1,
     "user": {
      "displayName": "Serkan",
      "userId": "13266514479312701423"
     }
    }
   },
   "execution_count": 143,
   "outputs": []
  },
  {
   "cell_type": "code",
   "source": [
    "df['review'] = df['review'].astype(str)"
   ],
   "metadata": {
    "id": "RTcAjNYl57JG",
    "executionInfo": {
     "status": "ok",
     "timestamp": 1660506602470,
     "user_tz": -180,
     "elapsed": 422,
     "user": {
      "displayName": "Serkan",
      "userId": "13266514479312701423"
     }
    }
   },
   "execution_count": 144,
   "outputs": []
  },
  {
   "cell_type": "code",
   "source": [
    "df.info()"
   ],
   "metadata": {
    "colab": {
     "base_uri": "https://localhost:8080/"
    },
    "id": "XgU4GhAV6AGO",
    "executionInfo": {
     "status": "ok",
     "timestamp": 1660506606600,
     "user_tz": -180,
     "elapsed": 2,
     "user": {
      "displayName": "Serkan",
      "userId": "13266514479312701423"
     }
    },
    "outputId": "2d6cdf5d-f736-4065-fe6d-460064e685c5"
   },
   "execution_count": 145,
   "outputs": [
    {
     "name": "stdout",
     "output_type": "stream",
     "text": [
      "<class 'pandas.core.frame.DataFrame'>\n",
      "RangeIndex: 16511 entries, 0 to 16510\n",
      "Data columns (total 2 columns):\n",
      " #   Column  Non-Null Count  Dtype \n",
      "---  ------  --------------  ----- \n",
      " 0   rating  16511 non-null  int64 \n",
      " 1   review  16511 non-null  object\n",
      "dtypes: int64(1), object(1)\n",
      "memory usage: 258.1+ KB\n"
     ]
    }
   ]
  },
  {
   "cell_type": "markdown",
   "source": [
    "# One Hot Encoding Scores Column"
   ],
   "metadata": {
    "id": "pNW5-lFAxWEi"
   }
  },
  {
   "cell_type": "raw",
   "source": [
    "Veri setimiz model kurmaya uygun olmadığından ve 1 ila 5 arasında puan çıktısına sahip olmak açısından one hot encoding uygulamak istedim."
   ],
   "metadata": {
    "collapsed": false,
    "pycharm": {
     "name": "#%% raw\n"
    }
   }
  },
  {
   "cell_type": "code",
   "execution_count": 146,
   "outputs": [
    {
     "data": {
      "text/plain": "count    16511.000000\nmean         3.000121\nstd          1.414128\nmin          1.000000\n25%          2.000000\n50%          3.000000\n75%          4.000000\nmax          5.000000\nName: rating, dtype: float64"
     },
     "execution_count": 146,
     "metadata": {},
     "output_type": "execute_result"
    }
   ],
   "source": [
    "df['rating'].describe()"
   ],
   "metadata": {
    "collapsed": false,
    "pycharm": {
     "name": "#%%\n"
    }
   }
  },
  {
   "cell_type": "code",
   "source": [
    "enc = OneHotEncoder(handle_unknown='ignore')\n",
    "\n",
    "enc_df = pd.DataFrame(enc.fit_transform(df[['rating']]).toarray())\n",
    "\n",
    "df = df.join(enc_df)\n",
    "df = df.rename(columns={0: \"rating_1\", 1:'rating_2',2:'rating_3',3:'rating_4',4:'rating_5'})\n",
    "df.head()"
   ],
   "metadata": {
    "colab": {
     "base_uri": "https://localhost:8080/",
     "height": 206
    },
    "id": "cMMY1kf2xKbF",
    "executionInfo": {
     "status": "ok",
     "timestamp": 1660506613545,
     "user_tz": -180,
     "elapsed": 429,
     "user": {
      "displayName": "Serkan",
      "userId": "13266514479312701423"
     }
    },
    "outputId": "d06737b2-dcf4-4293-e377-2c2fdb0b7fa7"
   },
   "execution_count": 147,
   "outputs": [
    {
     "data": {
      "text/plain": "   rating                                             review  rating_1  \\\n0       1  Its hard to find words that can describe this ...       1.0   \n1       1  Absolutely terrible. Cracked ceiling, tiny roo...       1.0   \n2       1  Very disappointed firstly i checked in online ...       1.0   \n3       1  First of all we arrived wanting to park at the...       1.0   \n4       1  Hello,  I currently staying @ Hilton Metropole...       1.0   \n\n   rating_2  rating_3  rating_4  rating_5  \n0       0.0       0.0       0.0       0.0  \n1       0.0       0.0       0.0       0.0  \n2       0.0       0.0       0.0       0.0  \n3       0.0       0.0       0.0       0.0  \n4       0.0       0.0       0.0       0.0  ",
      "text/html": "<div>\n<style scoped>\n    .dataframe tbody tr th:only-of-type {\n        vertical-align: middle;\n    }\n\n    .dataframe tbody tr th {\n        vertical-align: top;\n    }\n\n    .dataframe thead th {\n        text-align: right;\n    }\n</style>\n<table border=\"1\" class=\"dataframe\">\n  <thead>\n    <tr style=\"text-align: right;\">\n      <th></th>\n      <th>rating</th>\n      <th>review</th>\n      <th>rating_1</th>\n      <th>rating_2</th>\n      <th>rating_3</th>\n      <th>rating_4</th>\n      <th>rating_5</th>\n    </tr>\n  </thead>\n  <tbody>\n    <tr>\n      <th>0</th>\n      <td>1</td>\n      <td>Its hard to find words that can describe this ...</td>\n      <td>1.0</td>\n      <td>0.0</td>\n      <td>0.0</td>\n      <td>0.0</td>\n      <td>0.0</td>\n    </tr>\n    <tr>\n      <th>1</th>\n      <td>1</td>\n      <td>Absolutely terrible. Cracked ceiling, tiny roo...</td>\n      <td>1.0</td>\n      <td>0.0</td>\n      <td>0.0</td>\n      <td>0.0</td>\n      <td>0.0</td>\n    </tr>\n    <tr>\n      <th>2</th>\n      <td>1</td>\n      <td>Very disappointed firstly i checked in online ...</td>\n      <td>1.0</td>\n      <td>0.0</td>\n      <td>0.0</td>\n      <td>0.0</td>\n      <td>0.0</td>\n    </tr>\n    <tr>\n      <th>3</th>\n      <td>1</td>\n      <td>First of all we arrived wanting to park at the...</td>\n      <td>1.0</td>\n      <td>0.0</td>\n      <td>0.0</td>\n      <td>0.0</td>\n      <td>0.0</td>\n    </tr>\n    <tr>\n      <th>4</th>\n      <td>1</td>\n      <td>Hello,  I currently staying @ Hilton Metropole...</td>\n      <td>1.0</td>\n      <td>0.0</td>\n      <td>0.0</td>\n      <td>0.0</td>\n      <td>0.0</td>\n    </tr>\n  </tbody>\n</table>\n</div>"
     },
     "execution_count": 147,
     "metadata": {},
     "output_type": "execute_result"
    }
   ]
  },
  {
   "cell_type": "markdown",
   "source": [
    "Train - Test Split"
   ],
   "metadata": {
    "id": "N_yzTznxxx8b"
   }
  },
  {
   "cell_type": "code",
   "source": [
    "x_train, x_test, y_train, y_test = train_test_split(df[['review']], \n",
    "                                                    df[['rating_1','rating_2','rating_3','rating_4','rating_5']],\n",
    "                                                    test_size=.2, \n",
    "                                                    random_state=42)"
   ],
   "metadata": {
    "id": "Bn50aunSxzVC",
    "executionInfo": {
     "status": "ok",
     "timestamp": 1660506619052,
     "user_tz": -180,
     "elapsed": 2,
     "user": {
      "displayName": "Serkan",
      "userId": "13266514479312701423"
     }
    }
   },
   "execution_count": 148,
   "outputs": []
  },
  {
   "cell_type": "raw",
   "source": [
    "Başka modeller deneyebilmek için yaptığım train test splitini ayrıyetten kaydetmek istedim."
   ],
   "metadata": {
    "collapsed": false,
    "pycharm": {
     "name": "#%% raw\n"
    }
   }
  },
  {
   "cell_type": "code",
   "source": [
    "y_test.to_csv(r'C:\\Users\\lenovo\\PycharmProjects\\pythonProject2\\Data\\Neural_Networks\\y_test_neural.csv',index=False)"
   ],
   "metadata": {
    "id": "1Tb92hQVxzXS",
    "executionInfo": {
     "status": "ok",
     "timestamp": 1660504883188,
     "user_tz": -180,
     "elapsed": 406,
     "user": {
      "displayName": "Serkan",
      "userId": "13266514479312701423"
     }
    }
   },
   "execution_count": 149,
   "outputs": []
  },
  {
   "cell_type": "code",
   "source": [
    "x_test.to_csv(r'C:\\Users\\lenovo\\PycharmProjects\\pythonProject2\\Data\\Neural_Networks\\x_test_neural.csv')"
   ],
   "metadata": {
    "id": "p9bHIx-gzipy",
    "executionInfo": {
     "status": "ok",
     "timestamp": 1660504943165,
     "user_tz": -180,
     "elapsed": 422,
     "user": {
      "displayName": "Serkan",
      "userId": "13266514479312701423"
     }
    }
   },
   "execution_count": 150,
   "outputs": []
  },
  {
   "cell_type": "code",
   "source": [
    "y_train.to_csv(r'C:\\Users\\lenovo\\PycharmProjects\\pythonProject2\\Data\\Neural_Networks\\y_train_neural.csv')\n",
    "x_train.to_csv(r'C:\\Users\\lenovo\\PycharmProjects\\pythonProject2\\Data\\Neural_Networks\\x_train_neural.csv')"
   ],
   "metadata": {
    "id": "JTkof1YkzuL4",
    "executionInfo": {
     "status": "ok",
     "timestamp": 1660505020875,
     "user_tz": -180,
     "elapsed": 1045,
     "user": {
      "displayName": "Serkan",
      "userId": "13266514479312701423"
     }
    }
   },
   "execution_count": 151,
   "outputs": []
  },
  {
   "cell_type": "markdown",
   "source": [
    "#   Noktalama işaretlerini Kaldırılması ve Tokanization Yapılması"
   ],
   "metadata": {
    "id": "Bvu_heQc6LLf"
   }
  },
  {
   "cell_type": "code",
   "execution_count": 152,
   "outputs": [],
   "source": [
    "from nltk.tokenize import RegexpTokenizer\n",
    "tokenizer = RegexpTokenizer(r'[a-zA-Z]+')\n",
    "\n",
    "def text_cleanup(text):\n",
    "\n",
    "    token_list = tokenizer.tokenize(text.lower())\n",
    "    new_text = ''\n",
    "    for word in token_list:\n",
    "        new_text += word + ' '\n",
    "\n",
    "    return new_text"
   ],
   "metadata": {
    "collapsed": false,
    "pycharm": {
     "name": "#%%\n"
    }
   }
  },
  {
   "cell_type": "code",
   "source": [
    "x_train['review_cleaned'] = x_train['review'].apply(text_cleanup)\n",
    "x_test['review_cleaned'] = x_test['review'].apply(text_cleanup)"
   ],
   "metadata": {
    "id": "53z2KkPJ6MzV",
    "executionInfo": {
     "status": "ok",
     "timestamp": 1660506679148,
     "user_tz": -180,
     "elapsed": 1703,
     "user": {
      "displayName": "Serkan",
      "userId": "13266514479312701423"
     }
    }
   },
   "execution_count": 153,
   "outputs": []
  },
  {
   "cell_type": "code",
   "source": [
    "review_index = 2000\n",
    "print('REVİEW:', x_train['review'].iloc[review_index],)\n",
    "print('REVİEW_CLEANED', x_train['review_cleaned'].iloc[review_index])"
   ],
   "metadata": {
    "colab": {
     "base_uri": "https://localhost:8080/",
     "height": 206
    },
    "id": "8YKHpqVS6M1m",
    "executionInfo": {
     "status": "ok",
     "timestamp": 1660506685752,
     "user_tz": -180,
     "elapsed": 686,
     "user": {
      "displayName": "Serkan",
      "userId": "13266514479312701423"
     }
    },
    "outputId": "d0657400-2517-406f-cd58-c63b9935fa7a"
   },
   "execution_count": 154,
   "outputs": [
    {
     "name": "stdout",
     "output_type": "stream",
     "text": [
      "REVİEW: booking did not happen booked hotel trip advisor suggestion, sent visa number confirmation arrived did not booking alternative accom arrived home deducted visa account sent email far not reply, currently trying recover funds bank, definatly not advise using hotel, went hotel colon fantastic, cheryl wilsmore,  \n",
      "REVİEW_CLEANED booking did not happen booked hotel trip advisor suggestion sent visa number confirmation arrived did not booking alternative accom arrived home deducted visa account sent email far not reply currently trying recover funds bank definatly not advise using hotel went hotel colon fantastic cheryl wilsmore \n"
     ]
    }
   ]
  },
  {
   "cell_type": "code",
   "execution_count": 155,
   "outputs": [
    {
     "data": {
      "text/plain": "                                                  review  \\\n13105  honeymoon dominican looking reasonably priced ...   \n5714   I was lucky to be upgraded on check -in , bein...   \n16385  home away home staying hotel trip paris 1981 p...   \n5028   This Hilton hotel has a good location in the h...   \n7132   A great place to stay if visiting Maida Vale, ...   \n...                                                  ...   \n11284  not great stayed san juan beach hotel 7/31 til...   \n11964  nothing exciting stayed night moving phoenicia...   \n5390   We stayed just one night in readiness for a mo...   \n860    A very disappointing first stay, issues with t...   \n15795  excellent excellent, hotel services location p...   \n\n                                          review_cleaned  \n13105  honeymoon dominican looking reasonably priced ...  \n5714   i was lucky to be upgraded on check in being a...  \n16385  home away home staying hotel trip paris prior ...  \n5028   this hilton hotel has a good location in the h...  \n7132   a great place to stay if visiting maida vale s...  \n...                                                  ...  \n11284  not great stayed san juan beach hotel till we ...  \n11964  nothing exciting stayed night moving phoenicia...  \n5390   we stayed just one night in readiness for a mo...  \n860    a very disappointing first stay issues with th...  \n15795  excellent excellent hotel services location pl...  \n\n[13208 rows x 2 columns]",
      "text/html": "<div>\n<style scoped>\n    .dataframe tbody tr th:only-of-type {\n        vertical-align: middle;\n    }\n\n    .dataframe tbody tr th {\n        vertical-align: top;\n    }\n\n    .dataframe thead th {\n        text-align: right;\n    }\n</style>\n<table border=\"1\" class=\"dataframe\">\n  <thead>\n    <tr style=\"text-align: right;\">\n      <th></th>\n      <th>review</th>\n      <th>review_cleaned</th>\n    </tr>\n  </thead>\n  <tbody>\n    <tr>\n      <th>13105</th>\n      <td>honeymoon dominican looking reasonably priced ...</td>\n      <td>honeymoon dominican looking reasonably priced ...</td>\n    </tr>\n    <tr>\n      <th>5714</th>\n      <td>I was lucky to be upgraded on check -in , bein...</td>\n      <td>i was lucky to be upgraded on check in being a...</td>\n    </tr>\n    <tr>\n      <th>16385</th>\n      <td>home away home staying hotel trip paris 1981 p...</td>\n      <td>home away home staying hotel trip paris prior ...</td>\n    </tr>\n    <tr>\n      <th>5028</th>\n      <td>This Hilton hotel has a good location in the h...</td>\n      <td>this hilton hotel has a good location in the h...</td>\n    </tr>\n    <tr>\n      <th>7132</th>\n      <td>A great place to stay if visiting Maida Vale, ...</td>\n      <td>a great place to stay if visiting maida vale s...</td>\n    </tr>\n    <tr>\n      <th>...</th>\n      <td>...</td>\n      <td>...</td>\n    </tr>\n    <tr>\n      <th>11284</th>\n      <td>not great stayed san juan beach hotel 7/31 til...</td>\n      <td>not great stayed san juan beach hotel till we ...</td>\n    </tr>\n    <tr>\n      <th>11964</th>\n      <td>nothing exciting stayed night moving phoenicia...</td>\n      <td>nothing exciting stayed night moving phoenicia...</td>\n    </tr>\n    <tr>\n      <th>5390</th>\n      <td>We stayed just one night in readiness for a mo...</td>\n      <td>we stayed just one night in readiness for a mo...</td>\n    </tr>\n    <tr>\n      <th>860</th>\n      <td>A very disappointing first stay, issues with t...</td>\n      <td>a very disappointing first stay issues with th...</td>\n    </tr>\n    <tr>\n      <th>15795</th>\n      <td>excellent excellent, hotel services location p...</td>\n      <td>excellent excellent hotel services location pl...</td>\n    </tr>\n  </tbody>\n</table>\n<p>13208 rows × 2 columns</p>\n</div>"
     },
     "execution_count": 155,
     "metadata": {},
     "output_type": "execute_result"
    }
   ],
   "source": [
    "x_train"
   ],
   "metadata": {
    "collapsed": false,
    "pycharm": {
     "name": "#%%\n"
    }
   }
  },
  {
   "cell_type": "markdown",
   "source": [
    "# Her bir kelimenin flat şekilde ayrılması"
   ],
   "metadata": {
    "id": "QbGtI8oO6UPV"
   }
  },
  {
   "cell_type": "code",
   "source": [
    "flat_review = \" \".join(x_train['review_cleaned'].values)\n",
    "flat_review = flat_review.lower().split()"
   ],
   "metadata": {
    "id": "hp4S1XLi6W_d",
    "executionInfo": {
     "status": "ok",
     "timestamp": 1660506718727,
     "user_tz": -180,
     "elapsed": 442,
     "user": {
      "displayName": "Serkan",
      "userId": "13266514479312701423"
     }
    }
   },
   "execution_count": 156,
   "outputs": []
  },
  {
   "cell_type": "code",
   "execution_count": 157,
   "outputs": [],
   "source": [
    "#flat_review"
   ],
   "metadata": {
    "collapsed": false,
    "pycharm": {
     "name": "#%%\n"
    }
   }
  },
  {
   "cell_type": "code",
   "source": [
    "len(flat_review)"
   ],
   "metadata": {
    "colab": {
     "base_uri": "https://localhost:8080/"
    },
    "id": "7pEBEDxT6XBm",
    "executionInfo": {
     "status": "ok",
     "timestamp": 1660506721346,
     "user_tz": -180,
     "elapsed": 462,
     "user": {
      "displayName": "Serkan",
      "userId": "13266514479312701423"
     }
    },
    "outputId": "47f95ad8-a544-4dc5-9e05-cbacbf3dd3db"
   },
   "execution_count": 158,
   "outputs": [
    {
     "data": {
      "text/plain": "1375224"
     },
     "execution_count": 158,
     "metadata": {},
     "output_type": "execute_result"
    }
   ]
  },
  {
   "cell_type": "raw",
   "source": [
    "Aynı kelimelerin tamamen kaldırıp uniqe bir veri oluşturulması"
   ],
   "metadata": {
    "collapsed": false,
    "pycharm": {
     "name": "#%% raw\n"
    }
   }
  },
  {
   "cell_type": "code",
   "source": [
    "unique_list = []\n",
    "for word in flat_review:\n",
    "    if word not in unique_list:\n",
    "        unique_list.append(word)"
   ],
   "metadata": {
    "id": "JUfhdZJj6emN",
    "executionInfo": {
     "status": "ok",
     "timestamp": 1660507340671,
     "user_tz": -180,
     "elapsed": 189790,
     "user": {
      "displayName": "Serkan",
      "userId": "13266514479312701423"
     }
    }
   },
   "execution_count": 159,
   "outputs": []
  },
  {
   "cell_type": "code",
   "source": [
    "len(unique_list)"
   ],
   "metadata": {
    "id": "VGPcKEhj6q3M",
    "executionInfo": {
     "status": "aborted",
     "timestamp": 1660507131135,
     "user_tz": -180,
     "elapsed": 16,
     "user": {
      "displayName": "Serkan",
      "userId": "13266514479312701423"
     }
    }
   },
   "execution_count": 160,
   "outputs": [
    {
     "data": {
      "text/plain": "30894"
     },
     "execution_count": 160,
     "metadata": {},
     "output_type": "execute_result"
    }
   ]
  },
  {
   "cell_type": "code",
   "source": [
    "word_index_dict = {}\n",
    "for i in range(0,len(unique_list)):\n",
    "    word_index_dict[unique_list[i]] = i"
   ],
   "metadata": {
    "id": "OKl368nK6sO-",
    "executionInfo": {
     "status": "aborted",
     "timestamp": 1660507131138,
     "user_tz": -180,
     "elapsed": 18,
     "user": {
      "displayName": "Serkan",
      "userId": "13266514479312701423"
     }
    }
   },
   "execution_count": 161,
   "outputs": []
  },
  {
   "cell_type": "code",
   "execution_count": 162,
   "outputs": [],
   "source": [
    " #word_index_dict"
   ],
   "metadata": {
    "collapsed": false,
    "pycharm": {
     "name": "#%%\n"
    }
   }
  },
  {
   "cell_type": "code",
   "execution_count": 163,
   "outputs": [],
   "source": [
    "#word_index_dict.items()"
   ],
   "metadata": {
    "collapsed": false,
    "pycharm": {
     "name": "#%%\n"
    }
   }
  },
  {
   "cell_type": "code",
   "source": [
    "word_index_dict = {k:(v+4) for k,v in word_index_dict.items()}\n",
    "word_index_dict['<PAD>'] = 0\n",
    "word_index_dict['<START>'] = 1\n",
    "word_index_dict['<UNK>'] = 2  #Unkown Words\n",
    "word_index_dict['<UNUSED>'] = 3"
   ],
   "metadata": {
    "id": "XJ8H-xjU6teU",
    "executionInfo": {
     "status": "aborted",
     "timestamp": 1660507131139,
     "user_tz": -180,
     "elapsed": 19,
     "user": {
      "displayName": "Serkan",
      "userId": "13266514479312701423"
     }
    }
   },
   "execution_count": 164,
   "outputs": []
  },
  {
   "cell_type": "code",
   "execution_count": 165,
   "outputs": [],
   "source": [
    "#word_index_dict.items()"
   ],
   "metadata": {
    "collapsed": false,
    "pycharm": {
     "name": "#%%\n"
    }
   }
  },
  {
   "cell_type": "code",
   "execution_count": 166,
   "outputs": [
    {
     "data": {
      "text/plain": "30898"
     },
     "execution_count": 166,
     "metadata": {},
     "output_type": "execute_result"
    }
   ],
   "source": [
    "len(word_index_dict)"
   ],
   "metadata": {
    "collapsed": false,
    "pycharm": {
     "name": "#%%\n"
    }
   }
  },
  {
   "cell_type": "markdown",
   "source": [
    "# Indexing Words in Reviews Using Dictionary"
   ],
   "metadata": {
    "id": "Ul5ocJMi6wv-"
   }
  },
  {
   "cell_type": "code",
   "source": [
    "def index_review_words(text):\n",
    "    review_word_list = []\n",
    "    for word in text.lower().split():\n",
    "        if word in word_index_dict.keys():\n",
    "            review_word_list.append(word_index_dict[word])\n",
    "        else:\n",
    "            review_word_list.append(word_index_dict['<UNK>'])\n",
    "\n",
    "    return review_word_list"
   ],
   "metadata": {
    "id": "8i7YBBmJ6yUl",
    "executionInfo": {
     "status": "aborted",
     "timestamp": 1660507131140,
     "user_tz": -180,
     "elapsed": 17,
     "user": {
      "displayName": "Serkan",
      "userId": "13266514479312701423"
     }
    }
   },
   "execution_count": 167,
   "outputs": []
  },
  {
   "cell_type": "code",
   "execution_count": 168,
   "outputs": [],
   "source": [
    "x_train['preprocessed_review'] = x_train['review_cleaned'].apply(index_review_words)\n",
    "x_test['preprocessed_review'] = x_test['review_cleaned'].apply(index_review_words)"
   ],
   "metadata": {
    "collapsed": false,
    "pycharm": {
     "name": "#%%\n"
    }
   }
  },
  {
   "cell_type": "code",
   "source": [
    "x_train.head()"
   ],
   "metadata": {
    "id": "I3QAoUWV7IfO"
   },
   "execution_count": 169,
   "outputs": [
    {
     "data": {
      "text/plain": "                                                  review  \\\n13105  honeymoon dominican looking reasonably priced ...   \n5714   I was lucky to be upgraded on check -in , bein...   \n16385  home away home staying hotel trip paris 1981 p...   \n5028   This Hilton hotel has a good location in the h...   \n7132   A great place to stay if visiting Maida Vale, ...   \n\n                                          review_cleaned  \\\n13105  honeymoon dominican looking reasonably priced ...   \n5714   i was lucky to be upgraded on check in being a...   \n16385  home away home staying hotel trip paris prior ...   \n5028   this hilton hotel has a good location in the h...   \n7132   a great place to stay if visiting maida vale s...   \n\n                                     preprocessed_review  \n13105  [4, 5, 6, 7, 8, 9, 10, 11, 12, 13, 14, 15, 16,...  \n5714   [40, 118, 119, 120, 121, 122, 123, 124, 125, 1...  \n16385  [206, 207, 206, 208, 209, 210, 211, 212, 213, ...  \n5028   [249, 250, 209, 251, 48, 15, 218, 125, 93, 252...  \n7132   [48, 26, 216, 120, 113, 316, 317, 318, 319, 23...  ",
      "text/html": "<div>\n<style scoped>\n    .dataframe tbody tr th:only-of-type {\n        vertical-align: middle;\n    }\n\n    .dataframe tbody tr th {\n        vertical-align: top;\n    }\n\n    .dataframe thead th {\n        text-align: right;\n    }\n</style>\n<table border=\"1\" class=\"dataframe\">\n  <thead>\n    <tr style=\"text-align: right;\">\n      <th></th>\n      <th>review</th>\n      <th>review_cleaned</th>\n      <th>preprocessed_review</th>\n    </tr>\n  </thead>\n  <tbody>\n    <tr>\n      <th>13105</th>\n      <td>honeymoon dominican looking reasonably priced ...</td>\n      <td>honeymoon dominican looking reasonably priced ...</td>\n      <td>[4, 5, 6, 7, 8, 9, 10, 11, 12, 13, 14, 15, 16,...</td>\n    </tr>\n    <tr>\n      <th>5714</th>\n      <td>I was lucky to be upgraded on check -in , bein...</td>\n      <td>i was lucky to be upgraded on check in being a...</td>\n      <td>[40, 118, 119, 120, 121, 122, 123, 124, 125, 1...</td>\n    </tr>\n    <tr>\n      <th>16385</th>\n      <td>home away home staying hotel trip paris 1981 p...</td>\n      <td>home away home staying hotel trip paris prior ...</td>\n      <td>[206, 207, 206, 208, 209, 210, 211, 212, 213, ...</td>\n    </tr>\n    <tr>\n      <th>5028</th>\n      <td>This Hilton hotel has a good location in the h...</td>\n      <td>this hilton hotel has a good location in the h...</td>\n      <td>[249, 250, 209, 251, 48, 15, 218, 125, 93, 252...</td>\n    </tr>\n    <tr>\n      <th>7132</th>\n      <td>A great place to stay if visiting Maida Vale, ...</td>\n      <td>a great place to stay if visiting maida vale s...</td>\n      <td>[48, 26, 216, 120, 113, 316, 317, 318, 319, 23...</td>\n    </tr>\n  </tbody>\n</table>\n</div>"
     },
     "execution_count": 169,
     "metadata": {},
     "output_type": "execute_result"
    }
   ]
  },
  {
   "cell_type": "code",
   "execution_count": 170,
   "outputs": [
    {
     "data": {
      "text/plain": "count       13208\nunique      13207\ntop       [23127]\nfreq            2\nName: preprocessed_review, dtype: object"
     },
     "execution_count": 170,
     "metadata": {},
     "output_type": "execute_result"
    }
   ],
   "source": [
    "x_train['preprocessed_review'].describe()"
   ],
   "metadata": {
    "collapsed": false,
    "pycharm": {
     "name": "#%%\n"
    }
   }
  },
  {
   "cell_type": "code",
   "execution_count": 171,
   "outputs": [
    {
     "data": {
      "text/plain": "(13208,)"
     },
     "execution_count": 171,
     "metadata": {},
     "output_type": "execute_result"
    }
   ],
   "source": [
    "x_train['preprocessed_review'].shape"
   ],
   "metadata": {
    "collapsed": false,
    "pycharm": {
     "name": "#%%\n"
    }
   }
  },
  {
   "cell_type": "raw",
   "source": [
    "# 5.9 Modelling"
   ],
   "metadata": {
    "collapsed": false,
    "pycharm": {
     "name": "#%% raw\n"
    }
   }
  },
  {
   "cell_type": "code",
   "execution_count": 172,
   "outputs": [],
   "source": [
    "from keras import preprocessing\n",
    "import keras\n",
    "from keras.utils import pad_sequences"
   ],
   "metadata": {
    "collapsed": false,
    "pycharm": {
     "name": "#%%\n"
    }
   }
  },
  {
   "cell_type": "code",
   "execution_count": 173,
   "outputs": [],
   "source": [
    "from keras_preprocessing.sequence import pad_sequences\n",
    "\n",
    "x_train = pad_sequences(x_train['preprocessed_review'],value=word_index_dict['<PAD>'],padding='post',maxlen=1000)  #value=0\n",
    "x_test = pad_sequences(x_test['preprocessed_review'],value=word_index_dict['<PAD>'],padding='post',maxlen=1000)"
   ],
   "metadata": {
    "collapsed": false,
    "pycharm": {
     "name": "#%%\n"
    }
   }
  },
  {
   "cell_type": "code",
   "execution_count": 174,
   "outputs": [
    {
     "data": {
      "text/plain": "(13208, 1000)"
     },
     "execution_count": 174,
     "metadata": {},
     "output_type": "execute_result"
    }
   ],
   "source": [
    "x_train.shape"
   ],
   "metadata": {
    "collapsed": false,
    "pycharm": {
     "name": "#%%\n"
    }
   }
  },
  {
   "cell_type": "raw",
   "source": [
    "# 5.10"
   ],
   "metadata": {
    "collapsed": false,
    "pycharm": {
     "name": "#%% raw\n"
    }
   }
  },
  {
   "cell_type": "code",
   "execution_count": 175,
   "outputs": [],
   "source": [
    "np.save(r'C:\\Users\\lenovo\\PycharmProjects\\pythonProject2\\Data\\Neural_Networks\\/x_test',x_test)"
   ],
   "metadata": {
    "collapsed": false,
    "pycharm": {
     "name": "#%%\n"
    }
   }
  },
  {
   "cell_type": "raw",
   "source": [
    "5.9.3 Creating and Training Neural Network Model"
   ],
   "metadata": {
    "collapsed": false,
    "pycharm": {
     "name": "#%% raw\n"
    }
   }
  },
  {
   "cell_type": "code",
   "execution_count": 176,
   "outputs": [
    {
     "data": {
      "text/plain": "(13208, 5)"
     },
     "execution_count": 176,
     "metadata": {},
     "output_type": "execute_result"
    }
   ],
   "source": [
    "y_train.shape"
   ],
   "metadata": {
    "collapsed": false,
    "pycharm": {
     "name": "#%%\n"
    }
   }
  },
  {
   "cell_type": "code",
   "execution_count": 177,
   "outputs": [
    {
     "data": {
      "text/plain": "(3303, 1000)"
     },
     "execution_count": 177,
     "metadata": {},
     "output_type": "execute_result"
    }
   ],
   "source": [
    "x_test.shape"
   ],
   "metadata": {
    "collapsed": false,
    "pycharm": {
     "name": "#%%\n"
    }
   }
  },
  {
   "cell_type": "code",
   "execution_count": 178,
   "outputs": [
    {
     "data": {
      "text/plain": "(3303, 5)"
     },
     "execution_count": 178,
     "metadata": {},
     "output_type": "execute_result"
    }
   ],
   "source": [
    "y_test.shape"
   ],
   "metadata": {
    "collapsed": false,
    "pycharm": {
     "name": "#%%\n"
    }
   }
  },
  {
   "cell_type": "code",
   "execution_count": 179,
   "outputs": [],
   "source": [
    "x_train, x_val, y_train, y_val = train_test_split(x_train,y_train,test_size=.2,random_state=42)"
   ],
   "metadata": {
    "collapsed": false,
    "pycharm": {
     "name": "#%%\n"
    }
   }
  },
  {
   "cell_type": "code",
   "execution_count": 194,
   "outputs": [
    {
     "name": "stdout",
     "output_type": "stream",
     "text": [
      "Epoch 1/20\n",
      "43/43 [==============================] - 5s 111ms/step - loss: 1.6090 - accuracy: 0.2057 - val_loss: 1.6087 - val_accuracy: 0.1874\n",
      "Epoch 2/20\n",
      "43/43 [==============================] - 5s 115ms/step - loss: 1.6059 - accuracy: 0.2108 - val_loss: 1.6044 - val_accuracy: 0.1896\n",
      "Epoch 3/20\n",
      "43/43 [==============================] - 5s 115ms/step - loss: 1.5943 - accuracy: 0.2556 - val_loss: 1.5839 - val_accuracy: 0.2305\n",
      "Epoch 4/20\n",
      "43/43 [==============================] - 5s 106ms/step - loss: 1.5524 - accuracy: 0.2979 - val_loss: 1.5223 - val_accuracy: 0.3316\n",
      "Epoch 5/20\n",
      "43/43 [==============================] - 4s 104ms/step - loss: 1.4637 - accuracy: 0.3497 - val_loss: 1.4163 - val_accuracy: 0.3630\n",
      "Epoch 6/20\n",
      "43/43 [==============================] - 5s 108ms/step - loss: 1.3422 - accuracy: 0.4051 - val_loss: 1.3035 - val_accuracy: 0.4251\n",
      "Epoch 7/20\n",
      "43/43 [==============================] - 4s 104ms/step - loss: 1.2347 - accuracy: 0.4472 - val_loss: 1.2255 - val_accuracy: 0.4519\n",
      "Epoch 8/20\n",
      "43/43 [==============================] - 4s 98ms/step - loss: 1.1644 - accuracy: 0.4773 - val_loss: 1.1796 - val_accuracy: 0.4663\n",
      "Epoch 9/20\n",
      "43/43 [==============================] - 4s 96ms/step - loss: 1.1152 - accuracy: 0.4886 - val_loss: 1.1475 - val_accuracy: 0.4856\n",
      "Epoch 10/20\n",
      "43/43 [==============================] - 4s 97ms/step - loss: 1.0699 - accuracy: 0.5111 - val_loss: 1.1187 - val_accuracy: 0.4909\n",
      "Epoch 11/20\n",
      "43/43 [==============================] - 4s 97ms/step - loss: 1.0302 - accuracy: 0.5401 - val_loss: 1.1013 - val_accuracy: 0.5064\n",
      "Epoch 12/20\n",
      "43/43 [==============================] - 4s 100ms/step - loss: 0.9979 - accuracy: 0.5524 - val_loss: 1.0870 - val_accuracy: 0.5076\n",
      "Epoch 13/20\n",
      "43/43 [==============================] - 5s 110ms/step - loss: 0.9598 - accuracy: 0.5788 - val_loss: 1.0620 - val_accuracy: 0.5360\n",
      "Epoch 14/20\n",
      "43/43 [==============================] - 5s 107ms/step - loss: 0.9316 - accuracy: 0.5963 - val_loss: 1.0517 - val_accuracy: 0.5382\n",
      "Epoch 15/20\n",
      "43/43 [==============================] - 5s 107ms/step - loss: 0.9047 - accuracy: 0.6104 - val_loss: 1.0511 - val_accuracy: 0.5363\n",
      "Epoch 16/20\n",
      "43/43 [==============================] - 5s 105ms/step - loss: 0.8766 - accuracy: 0.6184 - val_loss: 1.0470 - val_accuracy: 0.5379\n",
      "Epoch 17/20\n",
      "43/43 [==============================] - 5s 107ms/step - loss: 0.8511 - accuracy: 0.6344 - val_loss: 1.0410 - val_accuracy: 0.5435\n",
      "Epoch 18/20\n",
      "43/43 [==============================] - 5s 109ms/step - loss: 0.8275 - accuracy: 0.6503 - val_loss: 1.0354 - val_accuracy: 0.5341\n",
      "Epoch 19/20\n",
      "43/43 [==============================] - 4s 98ms/step - loss: 0.8066 - accuracy: 0.6611 - val_loss: 1.0290 - val_accuracy: 0.5431\n",
      "Epoch 20/20\n",
      "43/43 [==============================] - 4s 97ms/step - loss: 0.7870 - accuracy: 0.6724 - val_loss: 1.0173 - val_accuracy: 0.5602\n"
     ]
    }
   ],
   "source": [
    "from tensorflow import keras\n",
    "from tensorflow.keras import layers\n",
    "##\n",
    "unique_list_len = len(word_index_dict)\n",
    "##\n",
    "model = Sequential()\n",
    "model.add(Embedding(unique_list_len,128))\n",
    "model.add(GlobalAveragePooling1D())\n",
    "model.add(Dense(64,activation='relu'))\n",
    "model.add(Dense(5,activation='softmax'))\n",
    "\n",
    "\n",
    "##\n",
    "model.compile(optimizer=\"adam\",\n",
    "              loss=\"categorical_crossentropy\",\n",
    "              metrics=[\"accuracy\"])\n",
    "#spars_categ.. #\n",
    "###\n",
    "history = model.fit(\n",
    "    x_train, y_train,\n",
    "    epochs=20,\n",
    "    batch_size=250,\n",
    "    validation_data=(x_val,y_val),)\n",
    "###\n"
   ],
   "metadata": {
    "collapsed": false,
    "pycharm": {
     "name": "#%%\n"
    }
   }
  },
  {
   "cell_type": "code",
   "execution_count": 195,
   "outputs": [
    {
     "data": {
      "text/plain": "<Figure size 432x288 with 1 Axes>",
      "image/png": "[encoded data removed]"
     },
     "metadata": {
      "needs_background": "light"
     },
     "output_type": "display_data"
    }
   ],
   "source": [
    "history_dict = history.history\n",
    "history_dict.keys()\n",
    "\n",
    "import matplotlib.pyplot as plt\n",
    "history_dict = history.history\n",
    "\n",
    "loss_values = history_dict[\"loss\"]\n",
    "val_loss_values = history_dict[\"val_loss\"]\n",
    "epochs = range(1, len(loss_values) + 1)\n",
    "plt.plot(epochs, loss_values, \"bo\", label=\"Training loss\")\n",
    "plt.plot(epochs, val_loss_values, \"b\", label=\"Validation loss\")\n",
    "plt.title(\"Training and validation loss\")\n",
    "plt.xlabel(\"Epochs\")\n",
    "plt.ylabel(\"Loss\")\n",
    "plt.legend()\n",
    "plt.show()"
   ],
   "metadata": {
    "collapsed": false,
    "pycharm": {
     "name": "#%%\n"
    }
   }
  },
  {
   "cell_type": "code",
   "execution_count": 196,
   "outputs": [
    {
     "data": {
      "text/plain": "<Figure size 432x288 with 1 Axes>",
      "image/png": "[encoded data removed]"
     },
     "metadata": {
      "needs_background": "light"
     },
     "output_type": "display_data"
    }
   ],
   "source": [
    "plt.clf()\n",
    "acc = history.history[\"accuracy\"]\n",
    "val_acc = history.history[\"val_accuracy\"]\n",
    "plt.plot(epochs, acc, \"bo\", label=\"Training accuracy\")\n",
    "plt.plot(epochs, val_acc, \"b\", label=\"Validation accuracy\")\n",
    "plt.title(\"Training and validation accuracy\")\n",
    "plt.xlabel(\"Epochs\")\n",
    "plt.ylabel(\"Accuracy\")\n",
    "plt.legend()\n",
    "plt.show()"
   ],
   "metadata": {
    "collapsed": false,
    "pycharm": {
     "name": "#%%\n"
    }
   }
  },
  {
   "cell_type": "raw",
   "source": [
    "Test Confusion Matrix"
   ],
   "metadata": {
    "collapsed": false,
    "pycharm": {
     "name": "#%% raw\n"
    }
   }
  },
  {
   "cell_type": "raw",
   "source": [
    "5.11.1 Reverse Encode Target Into One Column for Confusion Matrix"
   ],
   "metadata": {
    "collapsed": false,
    "pycharm": {
     "name": "#%% raw\n"
    }
   }
  },
  {
   "cell_type": "code",
   "execution_count": 198,
   "outputs": [],
   "source": [
    "def reverse_encode(y_df):\n",
    "\n",
    "    y_df['score'] = (y_df.iloc[:, 0:] == 1).idxmax(1)['score'] = (y_df.iloc[:, 0:] == 1).idxmax(1)\n",
    "    for i in range(0,len(y_df)):\n",
    "        if y_df.iloc[i,-1] == 'score_1':\n",
    "            y_df.iloc[i,-1] = 1\n",
    "        elif y_df.iloc[i,-1] == 'score_2':\n",
    "            y_df.iloc[i,-1] = 2\n",
    "        elif y_df.iloc[i,-1]== 'score_3':\n",
    "            y_df.iloc[i,-1] = 3\n",
    "        elif y_df.iloc[i,-1]== 'score_4':\n",
    "            y_df.iloc[i,-1] = 4\n",
    "        elif y_df.iloc[i,-1] == 'score_5':\n",
    "            y_df.iloc[i,-1]= 5"
   ],
   "metadata": {
    "collapsed": false,
    "pycharm": {
     "name": "#%%\n"
    }
   }
  },
  {
   "cell_type": "raw",
   "source": [],
   "metadata": {
    "collapsed": false,
    "pycharm": {
     "name": "#%% raw\n"
    }
   }
  },
  {
   "cell_type": "code",
   "execution_count": 199,
   "outputs": [],
   "source": [
    "yy_test = y_test\n",
    "yy_val = y_val\n",
    "\n",
    "reverse_encode(yy_test)\n",
    "reverse_encode(yy_val)"
   ],
   "metadata": {
    "collapsed": false,
    "pycharm": {
     "name": "#%%\n"
    }
   }
  },
  {
   "cell_type": "code",
   "execution_count": 200,
   "outputs": [],
   "source": [
    "def add_one_argmax_score(x):\n",
    "\n",
    "    x = x+1\n",
    "\n",
    "    return x"
   ],
   "metadata": {
    "collapsed": false,
    "pycharm": {
     "name": "#%%\n"
    }
   }
  },
  {
   "cell_type": "code",
   "execution_count": 201,
   "outputs": [],
   "source": [
    "yy_test_predicted = add_one_argmax_score(np.argmax(model.predict(x_test),axis=1))"
   ],
   "metadata": {
    "collapsed": false,
    "pycharm": {
     "name": "#%%\n"
    }
   }
  },
  {
   "cell_type": "raw",
   "source": [
    " Saving Neural Network Preprocessed y Data"
   ],
   "metadata": {
    "collapsed": false,
    "pycharm": {
     "name": "#%% raw\n"
    }
   }
  },
  {
   "cell_type": "code",
   "execution_count": 202,
   "outputs": [],
   "source": [
    "yy_test.to_csv(r'C:\\Users\\lenovo\\PycharmProjects\\pythonProject2\\Data\\Neural_Networks/y_test_nn_df_5labels.csv',index=False)\n",
    "np.save(r'C:\\Users\\lenovo\\PycharmProjects\\pythonProject2\\Data\\Neural_Networks/y_test_predicted_array_5labels',yy_test_predicted)"
   ],
   "metadata": {
    "collapsed": false,
    "pycharm": {
     "name": "#%%\n"
    }
   }
  },
  {
   "cell_type": "code",
   "execution_count": 203,
   "outputs": [],
   "source": [
    "yy_test['score'] = yy_test['score'].replace(['rating_1'],1)\n",
    "yy_test['score'] = yy_test['score'].replace(['rating_2'],2)\n",
    "yy_test['score'] = yy_test['score'].replace(['rating_3'],3)\n",
    "yy_test['score'] = yy_test['score'].replace(['rating_4'],4)\n",
    "yy_test['score'] = yy_test['score'].replace(['rating_5'],5)"
   ],
   "metadata": {
    "collapsed": false,
    "pycharm": {
     "name": "#%%\n"
    }
   }
  },
  {
   "cell_type": "code",
   "execution_count": 204,
   "outputs": [],
   "source": [
    "yy_test['score'] = yy_test['score'].astype(np.int64)"
   ],
   "metadata": {
    "collapsed": false,
    "pycharm": {
     "name": "#%%\n"
    }
   }
  },
  {
   "cell_type": "raw",
   "source": [],
   "metadata": {
    "collapsed": false,
    "pycharm": {
     "name": "#%% raw\n"
    }
   }
  },
  {
   "cell_type": "code",
   "execution_count": 205,
   "outputs": [],
   "source": [
    "def conf_matrix(cm):\n",
    "\n",
    "    plt.figure(figsize=(9,9))\n",
    "    ax = sns.heatmap(cm,\n",
    "                     annot= True,\n",
    "                     fmt = '.4g',\n",
    "                     cbar=0,\n",
    "                     xticklabels=[1,2,3,4,5],\n",
    "                     yticklabels=[1,2,3,4,5])\n",
    "\n",
    "    plt.show()"
   ],
   "metadata": {
    "collapsed": false,
    "pycharm": {
     "name": "#%%\n"
    }
   }
  },
  {
   "cell_type": "code",
   "execution_count": 206,
   "outputs": [
    {
     "data": {
      "text/plain": "<Figure size 648x648 with 1 Axes>",
      "image/png": "[encoded data removed]"
     },
     "metadata": {
      "needs_background": "light"
     },
     "output_type": "display_data"
    }
   ],
   "source": [
    "test_cm = confusion_matrix(yy_test['score'], yy_test_predicted)\n",
    "conf_matrix(test_cm)"
   ],
   "metadata": {
    "collapsed": false,
    "pycharm": {
     "name": "#%%\n"
    }
   }
  },
  {
   "cell_type": "code",
   "execution_count": 207,
   "outputs": [
    {
     "name": "stdout",
     "output_type": "stream",
     "text": [
      "              precision    recall  f1-score   support\n",
      "\n",
      "           1       0.68      0.66      0.67       694\n",
      "           2       0.43      0.47      0.45       595\n",
      "           3       0.49      0.48      0.48       684\n",
      "           4       0.44      0.49      0.46       576\n",
      "           5       0.75      0.67      0.71       754\n",
      "\n",
      "    accuracy                           0.56      3303\n",
      "   macro avg       0.56      0.55      0.55      3303\n",
      "weighted avg       0.57      0.56      0.56      3303\n",
      "\n"
     ]
    }
   ],
   "source": [
    "from sklearn.metrics import classification_report\n",
    "\n",
    "print(classification_report(yy_test_predicted, yy_test['score']))"
   ],
   "metadata": {
    "collapsed": false,
    "pycharm": {
     "name": "#%%\n"
    }
   }
  },
  {
   "cell_type": "raw",
   "source": [
    "Saving Model"
   ],
   "metadata": {
    "collapsed": false,
    "pycharm": {
     "name": "#%% raw\n"
    }
   }
  },
  {
   "cell_type": "code",
   "execution_count": 208,
   "outputs": [],
   "source": [
    "model.save(r'C:\\Users\\lenovo\\PycharmProjects\\pythonProject2\\Data\\Neural_Networks/Models/Neural_Network_5labels.h5')"
   ],
   "metadata": {
    "collapsed": false,
    "pycharm": {
     "name": "#%%\n"
    }
   }
  },
  {
   "cell_type": "code",
   "execution_count": 209,
   "outputs": [],
   "source": [
    "#pickle.dump(word_index_dict,open(r'C:\\Users\\lenovo\\PycharmProjects\\pythonProject2\\Data\\Neural_Networks/word_index_dict.pkl','wb'))"
   ],
   "metadata": {
    "collapsed": false,
    "pycharm": {
     "name": "#%%\n"
    }
   }
  }
 ]
}