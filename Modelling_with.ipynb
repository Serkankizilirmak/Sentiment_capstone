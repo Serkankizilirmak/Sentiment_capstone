{
 "cells": [
  {
   "cell_type": "raw",
   "source": [
    "Imports"
   ],
   "metadata": {
    "collapsed": false,
    "pycharm": {
     "name": "#%% raw\n"
    }
   }
  },
  {
   "cell_type": "code",
   "execution_count": 78,
   "outputs": [],
   "source": [
    "import pandas as pd\n",
    "import numpy as np\n",
    "import seaborn as sns\n",
    "import matplotlib.pyplot as plt\n",
    "\n",
    "from sklearn.pipeline import make_pipeline\n",
    "from sklearn.preprocessing import StandardScaler\n",
    "\n",
    "from sklearn.model_selection import train_test_split, StratifiedKFold\n",
    "\n",
    "import pickle\n",
    "\n",
    "##from Classification import Classification\n",
    "##from Ensemble import Ensemble"
   ],
   "metadata": {
    "collapsed": false,
    "pycharm": {
     "name": "#%%\n"
    }
   }
  },
  {
   "cell_type": "code",
   "execution_count": 79,
   "outputs": [],
   "source": [
    "def conf_matrix(cm):\n",
    "\n",
    "    plt.figure(figsize=(9,9))\n",
    "    ax = sns.heatmap(cm,\n",
    "                     annot= True,\n",
    "                     fmt = '.4g',\n",
    "                     cbar=0,\n",
    "                     xticklabels=[1,2,3,4,5],\n",
    "                     yticklabels=[1,2,3,4,5])\n",
    "\n",
    "    plt.show()"
   ],
   "metadata": {
    "collapsed": false,
    "pycharm": {
     "name": "#%%\n"
    }
   }
  },
  {
   "cell_type": "code",
   "execution_count": 80,
   "outputs": [],
   "source": [
    "x_train = pd.read_csv(r'C:\\Users\\lenovo\\PycharmProjects\\pythonProject2\\Data\\Trainn-Test\\x_train_data.csv')\n",
    "y_train = pd.read_csv(r'C:\\Users\\lenovo\\PycharmProjects\\pythonProject2\\Data\\Trainn-Test\\y_train_data.csv')"
   ],
   "metadata": {
    "collapsed": false,
    "pycharm": {
     "name": "#%%\n"
    }
   }
  },
  {
   "cell_type": "code",
   "execution_count": 81,
   "outputs": [],
   "source": [
    "x_test = pd.read_csv(r'C:\\Users\\lenovo\\PycharmProjects\\pythonProject2\\Data\\Trainn-Test\\x_test_data.csv')\n",
    "y_test = pd.read_csv(r'C:\\Users\\lenovo\\PycharmProjects\\pythonProject2\\Data\\Trainn-Test\\y_test_data.csv')"
   ],
   "metadata": {
    "collapsed": false,
    "pycharm": {
     "name": "#%%\n"
    }
   }
  },
  {
   "cell_type": "code",
   "execution_count": 82,
   "outputs": [
    {
     "name": "stdout",
     "output_type": "stream",
     "text": [
      "<class 'pandas.core.frame.DataFrame'>\n",
      "RangeIndex: 13208 entries, 0 to 13207\n",
      "Data columns (total 1 columns):\n",
      " #   Column  Non-Null Count  Dtype\n",
      "---  ------  --------------  -----\n",
      " 0   rating  13208 non-null  int64\n",
      "dtypes: int64(1)\n",
      "memory usage: 103.3 KB\n"
     ]
    }
   ],
   "source": [
    "y_train.info()"
   ],
   "metadata": {
    "collapsed": false,
    "pycharm": {
     "name": "#%%\n"
    }
   }
  },
  {
   "cell_type": "code",
   "execution_count": 83,
   "outputs": [
    {
     "data": {
      "text/plain": "             rating\ncount  13208.000000\nmean       3.002196\nstd        1.413167\nmin        1.000000\n25%        2.000000\n50%        3.000000\n75%        4.000000\nmax        5.000000",
      "text/html": "<div>\n<style scoped>\n    .dataframe tbody tr th:only-of-type {\n        vertical-align: middle;\n    }\n\n    .dataframe tbody tr th {\n        vertical-align: top;\n    }\n\n    .dataframe thead th {\n        text-align: right;\n    }\n</style>\n<table border=\"1\" class=\"dataframe\">\n  <thead>\n    <tr style=\"text-align: right;\">\n      <th></th>\n      <th>rating</th>\n    </tr>\n  </thead>\n  <tbody>\n    <tr>\n      <th>count</th>\n      <td>13208.000000</td>\n    </tr>\n    <tr>\n      <th>mean</th>\n      <td>3.002196</td>\n    </tr>\n    <tr>\n      <th>std</th>\n      <td>1.413167</td>\n    </tr>\n    <tr>\n      <th>min</th>\n      <td>1.000000</td>\n    </tr>\n    <tr>\n      <th>25%</th>\n      <td>2.000000</td>\n    </tr>\n    <tr>\n      <th>50%</th>\n      <td>3.000000</td>\n    </tr>\n    <tr>\n      <th>75%</th>\n      <td>4.000000</td>\n    </tr>\n    <tr>\n      <th>max</th>\n      <td>5.000000</td>\n    </tr>\n  </tbody>\n</table>\n</div>"
     },
     "execution_count": 83,
     "metadata": {},
     "output_type": "execute_result"
    }
   ],
   "source": [
    "y_train.describe()"
   ],
   "metadata": {
    "collapsed": false,
    "pycharm": {
     "name": "#%%\n"
    }
   }
  },
  {
   "cell_type": "code",
   "execution_count": 84,
   "outputs": [
    {
     "name": "stdout",
     "output_type": "stream",
     "text": [
      "<class 'pandas.core.frame.DataFrame'>\n",
      "RangeIndex: 13208 entries, 0 to 13207\n",
      "Columns: 182 entries, access to would\n",
      "dtypes: float64(182)\n",
      "memory usage: 18.3 MB\n"
     ]
    }
   ],
   "source": [
    "x_train.info()"
   ],
   "metadata": {
    "collapsed": false,
    "pycharm": {
     "name": "#%%\n"
    }
   }
  },
  {
   "cell_type": "raw",
   "source": [
    "Train - Validation"
   ],
   "metadata": {
    "collapsed": false,
    "pycharm": {
     "name": "#%% raw\n"
    }
   }
  },
  {
   "cell_type": "code",
   "execution_count": 8,
   "outputs": [],
   "source": [
    "x_train, x_val, y_train, y_val = train_test_split(x_train,y_train['rating'],test_size=.25,random_state=42)"
   ],
   "metadata": {
    "collapsed": false,
    "pycharm": {
     "name": "#%%\n"
    }
   }
  },
  {
   "cell_type": "code",
   "source": [
    "##skf = StratifiedKFold(n_splits=5,random_state=42,shuffle=True)"
   ],
   "metadata": {
    "collapsed": false,
    "pycharm": {
     "name": "#%%\n"
    }
   },
   "execution_count": 50,
   "outputs": []
  },
  {
   "cell_type": "markdown",
   "source": [
    "Modelling"
   ],
   "metadata": {
    "collapsed": false,
    "pycharm": {
     "name": "#%% md\n"
    }
   }
  },
  {
   "cell_type": "markdown",
   "source": [
    "Multinomial Naive Bayes"
   ],
   "metadata": {
    "collapsed": false,
    "pycharm": {
     "name": "#%% md\n"
    }
   }
  },
  {
   "cell_type": "markdown",
   "source": [
    "Grid Search"
   ],
   "metadata": {
    "collapsed": false,
    "pycharm": {
     "name": "#%% md\n"
    }
   }
  },
  {
   "cell_type": "code",
   "execution_count": 9,
   "outputs": [
    {
     "data": {
      "text/plain": "MultinomialNB(alpha=0.01)",
      "text/html": "<style>#sk-container-id-1 {color: black;background-color: white;}#sk-container-id-1 pre{padding: 0;}#sk-container-id-1 div.sk-toggleable {background-color: white;}#sk-container-id-1 label.sk-toggleable__label {cursor: pointer;display: block;width: 100%;margin-bottom: 0;padding: 0.3em;box-sizing: border-box;text-align: center;}#sk-container-id-1 label.sk-toggleable__label-arrow:before {content: \"▸\";float: left;margin-right: 0.25em;color: #696969;}#sk-container-id-1 label.sk-toggleable__label-arrow:hover:before {color: black;}#sk-container-id-1 div.sk-estimator:hover label.sk-toggleable__label-arrow:before {color: black;}#sk-container-id-1 div.sk-toggleable__content {max-height: 0;max-width: 0;overflow: hidden;text-align: left;background-color: #f0f8ff;}#sk-container-id-1 div.sk-toggleable__content pre {margin: 0.2em;color: black;border-radius: 0.25em;background-color: #f0f8ff;}#sk-container-id-1 input.sk-toggleable__control:checked~div.sk-toggleable__content {max-height: 200px;max-width: 100%;overflow: auto;}#sk-container-id-1 input.sk-toggleable__control:checked~label.sk-toggleable__label-arrow:before {content: \"▾\";}#sk-container-id-1 div.sk-estimator input.sk-toggleable__control:checked~label.sk-toggleable__label {background-color: #d4ebff;}#sk-container-id-1 div.sk-label input.sk-toggleable__control:checked~label.sk-toggleable__label {background-color: #d4ebff;}#sk-container-id-1 input.sk-hidden--visually {border: 0;clip: rect(1px 1px 1px 1px);clip: rect(1px, 1px, 1px, 1px);height: 1px;margin: -1px;overflow: hidden;padding: 0;position: absolute;width: 1px;}#sk-container-id-1 div.sk-estimator {font-family: monospace;background-color: #f0f8ff;border: 1px dotted black;border-radius: 0.25em;box-sizing: border-box;margin-bottom: 0.5em;}#sk-container-id-1 div.sk-estimator:hover {background-color: #d4ebff;}#sk-container-id-1 div.sk-parallel-item::after {content: \"\";width: 100%;border-bottom: 1px solid gray;flex-grow: 1;}#sk-container-id-1 div.sk-label:hover label.sk-toggleable__label {background-color: #d4ebff;}#sk-container-id-1 div.sk-serial::before {content: \"\";position: absolute;border-left: 1px solid gray;box-sizing: border-box;top: 0;bottom: 0;left: 50%;z-index: 0;}#sk-container-id-1 div.sk-serial {display: flex;flex-direction: column;align-items: center;background-color: white;padding-right: 0.2em;padding-left: 0.2em;position: relative;}#sk-container-id-1 div.sk-item {position: relative;z-index: 1;}#sk-container-id-1 div.sk-parallel {display: flex;align-items: stretch;justify-content: center;background-color: white;position: relative;}#sk-container-id-1 div.sk-item::before, #sk-container-id-1 div.sk-parallel-item::before {content: \"\";position: absolute;border-left: 1px solid gray;box-sizing: border-box;top: 0;bottom: 0;left: 50%;z-index: -1;}#sk-container-id-1 div.sk-parallel-item {display: flex;flex-direction: column;z-index: 1;position: relative;background-color: white;}#sk-container-id-1 div.sk-parallel-item:first-child::after {align-self: flex-end;width: 50%;}#sk-container-id-1 div.sk-parallel-item:last-child::after {align-self: flex-start;width: 50%;}#sk-container-id-1 div.sk-parallel-item:only-child::after {width: 0;}#sk-container-id-1 div.sk-dashed-wrapped {border: 1px dashed gray;margin: 0 0.4em 0.5em 0.4em;box-sizing: border-box;padding-bottom: 0.4em;background-color: white;}#sk-container-id-1 div.sk-label label {font-family: monospace;font-weight: bold;display: inline-block;line-height: 1.2em;}#sk-container-id-1 div.sk-label-container {text-align: center;}#sk-container-id-1 div.sk-container {/* jupyter's `normalize.less` sets `[hidden] { display: none; }` but bootstrap.min.css set `[hidden] { display: none !important; }` so we also need the `!important` here to be able to override the default hidden behavior on the sphinx rendered scikit-learn.org. See: https://github.com/scikit-learn/scikit-learn/issues/21755 */display: inline-block !important;position: relative;}#sk-container-id-1 div.sk-text-repr-fallback {display: none;}</style><div id=\"sk-container-id-1\" class=\"sk-top-container\"><div class=\"sk-text-repr-fallback\"><pre>MultinomialNB(alpha=0.01)</pre><b>In a Jupyter environment, please rerun this cell to show the HTML representation or trust the notebook. <br />On GitHub, the HTML representation is unable to render, please try loading this page with nbviewer.org.</b></div><div class=\"sk-container\" hidden><div class=\"sk-item\"><div class=\"sk-estimator sk-toggleable\"><input class=\"sk-toggleable__control sk-hidden--visually\" id=\"sk-estimator-id-1\" type=\"checkbox\" checked><label for=\"sk-estimator-id-1\" class=\"sk-toggleable__label sk-toggleable__label-arrow\">MultinomialNB</label><div class=\"sk-toggleable__content\"><pre>MultinomialNB(alpha=0.01)</pre></div></div></div></div></div>"
     },
     "execution_count": 9,
     "metadata": {},
     "output_type": "execute_result"
    }
   ],
   "source": [
    "from sklearn.naive_bayes import MultinomialNB\n",
    "from sklearn.model_selection import GridSearchCV\n",
    "###\n",
    "\n",
    "parameters = {\n",
    "'alpha': (1,0.1,0.01, 0.001, 0.0001, 0.00001),\n",
    "'fit_prior' : (True,False),\n",
    "}\n",
    "clf = MultinomialNB().fit(x_train, y_train)\n",
    "predicted= clf.predict(x_val)\n",
    "##\n",
    "grid_search= GridSearchCV(clf, parameters, cv=5)\n",
    "grid_search.fit(x_train,y_train)\n",
    "###\n",
    "grid_search.best_estimator_"
   ],
   "metadata": {
    "collapsed": false,
    "pycharm": {
     "name": "#%%\n"
    }
   }
  },
  {
   "cell_type": "markdown",
   "source": [
    "Best Modell"
   ],
   "metadata": {
    "collapsed": false,
    "pycharm": {
     "name": "#%% md\n"
    }
   }
  },
  {
   "cell_type": "code",
   "execution_count": 10,
   "outputs": [
    {
     "data": {
      "text/plain": "MultinomialNB(alpha=0.001, fit_prior=False)",
      "text/html": "<style>#sk-container-id-2 {color: black;background-color: white;}#sk-container-id-2 pre{padding: 0;}#sk-container-id-2 div.sk-toggleable {background-color: white;}#sk-container-id-2 label.sk-toggleable__label {cursor: pointer;display: block;width: 100%;margin-bottom: 0;padding: 0.3em;box-sizing: border-box;text-align: center;}#sk-container-id-2 label.sk-toggleable__label-arrow:before {content: \"▸\";float: left;margin-right: 0.25em;color: #696969;}#sk-container-id-2 label.sk-toggleable__label-arrow:hover:before {color: black;}#sk-container-id-2 div.sk-estimator:hover label.sk-toggleable__label-arrow:before {color: black;}#sk-container-id-2 div.sk-toggleable__content {max-height: 0;max-width: 0;overflow: hidden;text-align: left;background-color: #f0f8ff;}#sk-container-id-2 div.sk-toggleable__content pre {margin: 0.2em;color: black;border-radius: 0.25em;background-color: #f0f8ff;}#sk-container-id-2 input.sk-toggleable__control:checked~div.sk-toggleable__content {max-height: 200px;max-width: 100%;overflow: auto;}#sk-container-id-2 input.sk-toggleable__control:checked~label.sk-toggleable__label-arrow:before {content: \"▾\";}#sk-container-id-2 div.sk-estimator input.sk-toggleable__control:checked~label.sk-toggleable__label {background-color: #d4ebff;}#sk-container-id-2 div.sk-label input.sk-toggleable__control:checked~label.sk-toggleable__label {background-color: #d4ebff;}#sk-container-id-2 input.sk-hidden--visually {border: 0;clip: rect(1px 1px 1px 1px);clip: rect(1px, 1px, 1px, 1px);height: 1px;margin: -1px;overflow: hidden;padding: 0;position: absolute;width: 1px;}#sk-container-id-2 div.sk-estimator {font-family: monospace;background-color: #f0f8ff;border: 1px dotted black;border-radius: 0.25em;box-sizing: border-box;margin-bottom: 0.5em;}#sk-container-id-2 div.sk-estimator:hover {background-color: #d4ebff;}#sk-container-id-2 div.sk-parallel-item::after {content: \"\";width: 100%;border-bottom: 1px solid gray;flex-grow: 1;}#sk-container-id-2 div.sk-label:hover label.sk-toggleable__label {background-color: #d4ebff;}#sk-container-id-2 div.sk-serial::before {content: \"\";position: absolute;border-left: 1px solid gray;box-sizing: border-box;top: 0;bottom: 0;left: 50%;z-index: 0;}#sk-container-id-2 div.sk-serial {display: flex;flex-direction: column;align-items: center;background-color: white;padding-right: 0.2em;padding-left: 0.2em;position: relative;}#sk-container-id-2 div.sk-item {position: relative;z-index: 1;}#sk-container-id-2 div.sk-parallel {display: flex;align-items: stretch;justify-content: center;background-color: white;position: relative;}#sk-container-id-2 div.sk-item::before, #sk-container-id-2 div.sk-parallel-item::before {content: \"\";position: absolute;border-left: 1px solid gray;box-sizing: border-box;top: 0;bottom: 0;left: 50%;z-index: -1;}#sk-container-id-2 div.sk-parallel-item {display: flex;flex-direction: column;z-index: 1;position: relative;background-color: white;}#sk-container-id-2 div.sk-parallel-item:first-child::after {align-self: flex-end;width: 50%;}#sk-container-id-2 div.sk-parallel-item:last-child::after {align-self: flex-start;width: 50%;}#sk-container-id-2 div.sk-parallel-item:only-child::after {width: 0;}#sk-container-id-2 div.sk-dashed-wrapped {border: 1px dashed gray;margin: 0 0.4em 0.5em 0.4em;box-sizing: border-box;padding-bottom: 0.4em;background-color: white;}#sk-container-id-2 div.sk-label label {font-family: monospace;font-weight: bold;display: inline-block;line-height: 1.2em;}#sk-container-id-2 div.sk-label-container {text-align: center;}#sk-container-id-2 div.sk-container {/* jupyter's `normalize.less` sets `[hidden] { display: none; }` but bootstrap.min.css set `[hidden] { display: none !important; }` so we also need the `!important` here to be able to override the default hidden behavior on the sphinx rendered scikit-learn.org. See: https://github.com/scikit-learn/scikit-learn/issues/21755 */display: inline-block !important;position: relative;}#sk-container-id-2 div.sk-text-repr-fallback {display: none;}</style><div id=\"sk-container-id-2\" class=\"sk-top-container\"><div class=\"sk-text-repr-fallback\"><pre>MultinomialNB(alpha=0.001, fit_prior=False)</pre><b>In a Jupyter environment, please rerun this cell to show the HTML representation or trust the notebook. <br />On GitHub, the HTML representation is unable to render, please try loading this page with nbviewer.org.</b></div><div class=\"sk-container\" hidden><div class=\"sk-item\"><div class=\"sk-estimator sk-toggleable\"><input class=\"sk-toggleable__control sk-hidden--visually\" id=\"sk-estimator-id-2\" type=\"checkbox\" checked><label for=\"sk-estimator-id-2\" class=\"sk-toggleable__label sk-toggleable__label-arrow\">MultinomialNB</label><div class=\"sk-toggleable__content\"><pre>MultinomialNB(alpha=0.001, fit_prior=False)</pre></div></div></div></div></div>"
     },
     "execution_count": 10,
     "metadata": {},
     "output_type": "execute_result"
    }
   ],
   "source": [
    "NB_classifier = MultinomialNB(alpha=0.001, fit_prior=False)\n",
    "NB_classifier.fit(x_train, y_train)"
   ],
   "metadata": {
    "collapsed": false,
    "pycharm": {
     "name": "#%%\n"
    }
   }
  },
  {
   "cell_type": "code",
   "execution_count": 11,
   "outputs": [
    {
     "data": {
      "text/plain": "<Figure size 648x648 with 1 Axes>",
      "image/png": "[encoded data removed]"
     },
     "metadata": {
      "needs_background": "light"
     },
     "output_type": "display_data"
    }
   ],
   "source": [
    "from sklearn.metrics import classification_report, confusion_matrix\n",
    "y_predict_train = NB_classifier.predict(x_train)\n",
    "y_predict_train\n",
    "cm = confusion_matrix(y_train, y_predict_train)\n",
    "conf_matrix(cm)"
   ],
   "metadata": {
    "collapsed": false,
    "pycharm": {
     "name": "#%%\n"
    }
   }
  },
  {
   "cell_type": "code",
   "execution_count": 12,
   "outputs": [
    {
     "data": {
      "text/plain": "<Figure size 648x648 with 1 Axes>",
      "image/png": "[encoded data removed]"
     },
     "metadata": {
      "needs_background": "light"
     },
     "output_type": "display_data"
    }
   ],
   "source": [
    "# Predicting the Test set results\n",
    "y_predict_val = NB_classifier.predict(x_val)\n",
    "cm = confusion_matrix(y_val, y_predict_val)\n",
    "conf_matrix(cm)"
   ],
   "metadata": {
    "collapsed": false,
    "pycharm": {
     "name": "#%%\n"
    }
   }
  },
  {
   "cell_type": "code",
   "execution_count": 13,
   "outputs": [
    {
     "name": "stdout",
     "output_type": "stream",
     "text": [
      "              precision    recall  f1-score   support\n",
      "\n",
      "           1       0.53      0.63      0.58       633\n",
      "           2       0.38      0.33      0.35       702\n",
      "           3       0.40      0.37      0.39       674\n",
      "           4       0.42      0.41      0.42       639\n",
      "           5       0.58      0.60      0.59       654\n",
      "\n",
      "    accuracy                           0.47      3302\n",
      "   macro avg       0.46      0.47      0.46      3302\n",
      "weighted avg       0.46      0.47      0.46      3302\n",
      "\n"
     ]
    }
   ],
   "source": [
    "print(classification_report(y_val, y_predict_val))"
   ],
   "metadata": {
    "collapsed": false,
    "pycharm": {
     "name": "#%%\n"
    }
   }
  },
  {
   "cell_type": "code",
   "execution_count": 18,
   "outputs": [
    {
     "data": {
      "text/plain": "<Figure size 648x648 with 1 Axes>",
      "image/png": "[encoded data removed]"
     },
     "metadata": {
      "needs_background": "light"
     },
     "output_type": "display_data"
    }
   ],
   "source": [
    "y_predict_test = NB_classifier.predict(x_test)\n",
    "cm = confusion_matrix(y_test, y_predict_test)\n",
    "conf_matrix(cm)"
   ],
   "metadata": {
    "collapsed": false,
    "pycharm": {
     "name": "#%%\n"
    }
   }
  },
  {
   "cell_type": "code",
   "execution_count": 19,
   "outputs": [
    {
     "name": "stdout",
     "output_type": "stream",
     "text": [
      "              precision    recall  f1-score   support\n",
      "\n",
      "           1       0.57      0.68      0.62       668\n",
      "           2       0.40      0.35      0.37       662\n",
      "           3       0.42      0.38      0.40       670\n",
      "           4       0.44      0.44      0.44       635\n",
      "           5       0.60      0.63      0.62       668\n",
      "\n",
      "    accuracy                           0.50      3303\n",
      "   macro avg       0.49      0.50      0.49      3303\n",
      "weighted avg       0.49      0.50      0.49      3303\n",
      "\n"
     ]
    }
   ],
   "source": [
    "print(classification_report(y_test, y_predict_test))"
   ],
   "metadata": {
    "collapsed": false,
    "pycharm": {
     "name": "#%%\n"
    }
   }
  },
  {
   "cell_type": "code",
   "execution_count": 17,
   "outputs": [
    {
     "data": {
      "text/plain": "                Model Name  Train Accuracy  Validation Accuracy  Test Accuracy\n0  Multinomial Naive Bayes         0.51595             0.466687       0.496216",
      "text/html": "<div>\n<style scoped>\n    .dataframe tbody tr th:only-of-type {\n        vertical-align: middle;\n    }\n\n    .dataframe tbody tr th {\n        vertical-align: top;\n    }\n\n    .dataframe thead th {\n        text-align: right;\n    }\n</style>\n<table border=\"1\" class=\"dataframe\">\n  <thead>\n    <tr style=\"text-align: right;\">\n      <th></th>\n      <th>Model Name</th>\n      <th>Train Accuracy</th>\n      <th>Validation Accuracy</th>\n      <th>Test Accuracy</th>\n    </tr>\n  </thead>\n  <tbody>\n    <tr>\n      <th>0</th>\n      <td>Multinomial Naive Bayes</td>\n      <td>0.51595</td>\n      <td>0.466687</td>\n      <td>0.496216</td>\n    </tr>\n  </tbody>\n</table>\n</div>"
     },
     "execution_count": 17,
     "metadata": {},
     "output_type": "execute_result"
    }
   ],
   "source": [
    "import sklearn.metrics as metrics\n",
    "a = 'Multinomial Naive Bayes'\n",
    "d = {'Model Name': [a],\n",
    "             'Train Accuracy': [metrics.accuracy_score(y_train, y_predict_train)],\n",
    "             'Validation Accuracy': [metrics.accuracy_score(y_val, y_predict_val)],\n",
    "             'Test Accuracy':[metrics.accuracy_score(y_test, y_predict_test)]}\n",
    "NB_scores_table = pd.DataFrame(data=d)\n",
    "NB_scores_table"
   ],
   "metadata": {
    "collapsed": false,
    "pycharm": {
     "name": "#%%\n"
    }
   }
  },
  {
   "cell_type": "markdown",
   "source": [
    "# Logistic Regression"
   ],
   "metadata": {
    "collapsed": false,
    "pycharm": {
     "name": "#%% md\n"
    }
   }
  },
  {
   "cell_type": "markdown",
   "source": [
    "# Grid Search"
   ],
   "metadata": {
    "collapsed": false,
    "pycharm": {
     "name": "#%% md\n"
    }
   }
  },
  {
   "cell_type": "code",
   "execution_count": 21,
   "outputs": [
    {
     "name": "stdout",
     "output_type": "stream",
     "text": [
      "Best: 0.482941 using {'C': 1.0, 'penalty': 'l2', 'solver': 'newton-cg'}\n",
      "0.480991 (0.014850) with: {'C': 100, 'penalty': 'l2', 'solver': 'newton-cg'}\n",
      "0.480553 (0.014770) with: {'C': 100, 'penalty': 'l2', 'solver': 'lbfgs'}\n",
      "0.477018 (0.013696) with: {'C': 100, 'penalty': 'l2', 'solver': 'liblinear'}\n",
      "0.481192 (0.013878) with: {'C': 10, 'penalty': 'l2', 'solver': 'newton-cg'}\n",
      "0.481697 (0.013979) with: {'C': 10, 'penalty': 'l2', 'solver': 'lbfgs'}\n",
      "0.477893 (0.013782) with: {'C': 10, 'penalty': 'l2', 'solver': 'liblinear'}\n",
      "0.482941 (0.013193) with: {'C': 1.0, 'penalty': 'l2', 'solver': 'newton-cg'}\n",
      "0.482907 (0.013215) with: {'C': 1.0, 'penalty': 'l2', 'solver': 'lbfgs'}\n",
      "0.479071 (0.014093) with: {'C': 1.0, 'penalty': 'l2', 'solver': 'liblinear'}\n",
      "0.482335 (0.016676) with: {'C': 0.1, 'penalty': 'l2', 'solver': 'newton-cg'}\n",
      "0.482335 (0.016543) with: {'C': 0.1, 'penalty': 'l2', 'solver': 'lbfgs'}\n",
      "0.479474 (0.014541) with: {'C': 0.1, 'penalty': 'l2', 'solver': 'liblinear'}\n",
      "0.463625 (0.011903) with: {'C': 0.01, 'penalty': 'l2', 'solver': 'newton-cg'}\n",
      "0.463659 (0.011889) with: {'C': 0.01, 'penalty': 'l2', 'solver': 'lbfgs'}\n",
      "0.460361 (0.011627) with: {'C': 0.01, 'penalty': 'l2', 'solver': 'liblinear'}\n"
     ]
    }
   ],
   "source": [
    "from sklearn.linear_model import LogisticRegression\n",
    "from sklearn.model_selection import RepeatedStratifiedKFold\n",
    "\n",
    "model = LogisticRegression()\n",
    "solvers = ['newton-cg', 'lbfgs', 'liblinear']\n",
    "penalty = ['l2']\n",
    "c_values = [100, 10, 1.0, 0.1, 0.01]\n",
    "# define grid search\n",
    "grid = dict(solver=solvers,penalty=penalty,C=c_values)\n",
    "cv = RepeatedStratifiedKFold(n_splits=10, n_repeats=3, random_state=1)\n",
    "grid_search = GridSearchCV(estimator=model, param_grid=grid, n_jobs=-1, cv=cv, scoring='accuracy',error_score=0)\n",
    "grid_result = grid_search.fit(x_train, y_train)\n",
    "# summarize results\n",
    "print(\"Best: %f using %s\" % (grid_result.best_score_, grid_result.best_params_))\n",
    "means = grid_result.cv_results_['mean_test_score']\n",
    "stds = grid_result.cv_results_['std_test_score']\n",
    "params = grid_result.cv_results_['params']\n",
    "for mean, stdev, param in zip(means, stds, params):\n",
    "    print(\"%f (%f) with: %r\" % (mean, stdev, param))"
   ],
   "metadata": {
    "collapsed": false,
    "pycharm": {
     "name": "#%%\n"
    }
   }
  },
  {
   "cell_type": "code",
   "execution_count": 22,
   "outputs": [],
   "source": [
    "#Best Model"
   ],
   "metadata": {
    "collapsed": false,
    "pycharm": {
     "name": "#%%\n"
    }
   }
  },
  {
   "cell_type": "code",
   "execution_count": 23,
   "outputs": [
    {
     "data": {
      "text/plain": "LogisticRegression(solver='newton-cg')",
      "text/html": "<style>#sk-container-id-3 {color: black;background-color: white;}#sk-container-id-3 pre{padding: 0;}#sk-container-id-3 div.sk-toggleable {background-color: white;}#sk-container-id-3 label.sk-toggleable__label {cursor: pointer;display: block;width: 100%;margin-bottom: 0;padding: 0.3em;box-sizing: border-box;text-align: center;}#sk-container-id-3 label.sk-toggleable__label-arrow:before {content: \"▸\";float: left;margin-right: 0.25em;color: #696969;}#sk-container-id-3 label.sk-toggleable__label-arrow:hover:before {color: black;}#sk-container-id-3 div.sk-estimator:hover label.sk-toggleable__label-arrow:before {color: black;}#sk-container-id-3 div.sk-toggleable__content {max-height: 0;max-width: 0;overflow: hidden;text-align: left;background-color: #f0f8ff;}#sk-container-id-3 div.sk-toggleable__content pre {margin: 0.2em;color: black;border-radius: 0.25em;background-color: #f0f8ff;}#sk-container-id-3 input.sk-toggleable__control:checked~div.sk-toggleable__content {max-height: 200px;max-width: 100%;overflow: auto;}#sk-container-id-3 input.sk-toggleable__control:checked~label.sk-toggleable__label-arrow:before {content: \"▾\";}#sk-container-id-3 div.sk-estimator input.sk-toggleable__control:checked~label.sk-toggleable__label {background-color: #d4ebff;}#sk-container-id-3 div.sk-label input.sk-toggleable__control:checked~label.sk-toggleable__label {background-color: #d4ebff;}#sk-container-id-3 input.sk-hidden--visually {border: 0;clip: rect(1px 1px 1px 1px);clip: rect(1px, 1px, 1px, 1px);height: 1px;margin: -1px;overflow: hidden;padding: 0;position: absolute;width: 1px;}#sk-container-id-3 div.sk-estimator {font-family: monospace;background-color: #f0f8ff;border: 1px dotted black;border-radius: 0.25em;box-sizing: border-box;margin-bottom: 0.5em;}#sk-container-id-3 div.sk-estimator:hover {background-color: #d4ebff;}#sk-container-id-3 div.sk-parallel-item::after {content: \"\";width: 100%;border-bottom: 1px solid gray;flex-grow: 1;}#sk-container-id-3 div.sk-label:hover label.sk-toggleable__label {background-color: #d4ebff;}#sk-container-id-3 div.sk-serial::before {content: \"\";position: absolute;border-left: 1px solid gray;box-sizing: border-box;top: 0;bottom: 0;left: 50%;z-index: 0;}#sk-container-id-3 div.sk-serial {display: flex;flex-direction: column;align-items: center;background-color: white;padding-right: 0.2em;padding-left: 0.2em;position: relative;}#sk-container-id-3 div.sk-item {position: relative;z-index: 1;}#sk-container-id-3 div.sk-parallel {display: flex;align-items: stretch;justify-content: center;background-color: white;position: relative;}#sk-container-id-3 div.sk-item::before, #sk-container-id-3 div.sk-parallel-item::before {content: \"\";position: absolute;border-left: 1px solid gray;box-sizing: border-box;top: 0;bottom: 0;left: 50%;z-index: -1;}#sk-container-id-3 div.sk-parallel-item {display: flex;flex-direction: column;z-index: 1;position: relative;background-color: white;}#sk-container-id-3 div.sk-parallel-item:first-child::after {align-self: flex-end;width: 50%;}#sk-container-id-3 div.sk-parallel-item:last-child::after {align-self: flex-start;width: 50%;}#sk-container-id-3 div.sk-parallel-item:only-child::after {width: 0;}#sk-container-id-3 div.sk-dashed-wrapped {border: 1px dashed gray;margin: 0 0.4em 0.5em 0.4em;box-sizing: border-box;padding-bottom: 0.4em;background-color: white;}#sk-container-id-3 div.sk-label label {font-family: monospace;font-weight: bold;display: inline-block;line-height: 1.2em;}#sk-container-id-3 div.sk-label-container {text-align: center;}#sk-container-id-3 div.sk-container {/* jupyter's `normalize.less` sets `[hidden] { display: none; }` but bootstrap.min.css set `[hidden] { display: none !important; }` so we also need the `!important` here to be able to override the default hidden behavior on the sphinx rendered scikit-learn.org. See: https://github.com/scikit-learn/scikit-learn/issues/21755 */display: inline-block !important;position: relative;}#sk-container-id-3 div.sk-text-repr-fallback {display: none;}</style><div id=\"sk-container-id-3\" class=\"sk-top-container\"><div class=\"sk-text-repr-fallback\"><pre>LogisticRegression(solver=&#x27;newton-cg&#x27;)</pre><b>In a Jupyter environment, please rerun this cell to show the HTML representation or trust the notebook. <br />On GitHub, the HTML representation is unable to render, please try loading this page with nbviewer.org.</b></div><div class=\"sk-container\" hidden><div class=\"sk-item\"><div class=\"sk-estimator sk-toggleable\"><input class=\"sk-toggleable__control sk-hidden--visually\" id=\"sk-estimator-id-3\" type=\"checkbox\" checked><label for=\"sk-estimator-id-3\" class=\"sk-toggleable__label sk-toggleable__label-arrow\">LogisticRegression</label><div class=\"sk-toggleable__content\"><pre>LogisticRegression(solver=&#x27;newton-cg&#x27;)</pre></div></div></div></div></div>"
     },
     "execution_count": 23,
     "metadata": {},
     "output_type": "execute_result"
    }
   ],
   "source": [
    "LG_classifier = LogisticRegression(C=1.0, penalty='l2',solver='newton-cg')\n",
    "LG_classifier.fit(x_train, y_train)"
   ],
   "metadata": {
    "collapsed": false,
    "pycharm": {
     "name": "#%%\n"
    }
   }
  },
  {
   "cell_type": "code",
   "execution_count": 24,
   "outputs": [
    {
     "data": {
      "text/plain": "<Figure size 648x648 with 1 Axes>",
      "image/png": "[encoded data removed]"
     },
     "metadata": {
      "needs_background": "light"
     },
     "output_type": "display_data"
    }
   ],
   "source": [
    "# Predicting the Val set results\n",
    "y_predict_val = LG_classifier.predict(x_val)\n",
    "cm = confusion_matrix(y_val, y_predict_val)\n",
    "conf_matrix(cm)"
   ],
   "metadata": {
    "collapsed": false,
    "pycharm": {
     "name": "#%%\n"
    }
   }
  },
  {
   "cell_type": "code",
   "execution_count": 26,
   "outputs": [
    {
     "name": "stdout",
     "output_type": "stream",
     "text": [
      "              precision    recall  f1-score   support\n",
      "\n",
      "           1       0.52      0.66      0.58       633\n",
      "           2       0.42      0.32      0.36       702\n",
      "           3       0.41      0.37      0.39       674\n",
      "           4       0.41      0.41      0.41       639\n",
      "           5       0.55      0.60      0.57       654\n",
      "\n",
      "    accuracy                           0.47      3302\n",
      "   macro avg       0.46      0.47      0.46      3302\n",
      "weighted avg       0.46      0.47      0.46      3302\n",
      "\n"
     ]
    }
   ],
   "source": [
    "print(classification_report(y_val, y_predict_val))"
   ],
   "metadata": {
    "collapsed": false,
    "pycharm": {
     "name": "#%%\n"
    }
   }
  },
  {
   "cell_type": "code",
   "execution_count": 27,
   "outputs": [
    {
     "data": {
      "text/plain": "<Figure size 648x648 with 1 Axes>",
      "image/png": "[encoded data removed]"
     },
     "metadata": {
      "needs_background": "light"
     },
     "output_type": "display_data"
    }
   ],
   "source": [
    "y_predict_test = NB_classifier.predict(x_test)\n",
    "cm = confusion_matrix(y_test, y_predict_test)\n",
    "conf_matrix(cm)"
   ],
   "metadata": {
    "collapsed": false,
    "pycharm": {
     "name": "#%%\n"
    }
   }
  },
  {
   "cell_type": "code",
   "execution_count": 28,
   "outputs": [
    {
     "name": "stdout",
     "output_type": "stream",
     "text": [
      "              precision    recall  f1-score   support\n",
      "\n",
      "           1       0.57      0.68      0.62       668\n",
      "           2       0.40      0.35      0.37       662\n",
      "           3       0.42      0.38      0.40       670\n",
      "           4       0.44      0.44      0.44       635\n",
      "           5       0.60      0.63      0.62       668\n",
      "\n",
      "    accuracy                           0.50      3303\n",
      "   macro avg       0.49      0.50      0.49      3303\n",
      "weighted avg       0.49      0.50      0.49      3303\n",
      "\n"
     ]
    }
   ],
   "source": [
    "print(classification_report(y_test, y_predict_test))"
   ],
   "metadata": {
    "collapsed": false,
    "pycharm": {
     "name": "#%%\n"
    }
   }
  },
  {
   "cell_type": "code",
   "execution_count": 29,
   "outputs": [
    {
     "data": {
      "text/plain": "            Model Name  Train Accuracy  Validation Accuracy  Test Accuracy\n0  Logistic Regression         0.51595             0.467898       0.496216",
      "text/html": "<div>\n<style scoped>\n    .dataframe tbody tr th:only-of-type {\n        vertical-align: middle;\n    }\n\n    .dataframe tbody tr th {\n        vertical-align: top;\n    }\n\n    .dataframe thead th {\n        text-align: right;\n    }\n</style>\n<table border=\"1\" class=\"dataframe\">\n  <thead>\n    <tr style=\"text-align: right;\">\n      <th></th>\n      <th>Model Name</th>\n      <th>Train Accuracy</th>\n      <th>Validation Accuracy</th>\n      <th>Test Accuracy</th>\n    </tr>\n  </thead>\n  <tbody>\n    <tr>\n      <th>0</th>\n      <td>Logistic Regression</td>\n      <td>0.51595</td>\n      <td>0.467898</td>\n      <td>0.496216</td>\n    </tr>\n  </tbody>\n</table>\n</div>"
     },
     "execution_count": 29,
     "metadata": {},
     "output_type": "execute_result"
    }
   ],
   "source": [
    "a = 'Logistic Regression'\n",
    "d = {'Model Name': [a],\n",
    "             'Train Accuracy': [metrics.accuracy_score(y_train, y_predict_train)],\n",
    "             'Validation Accuracy': [metrics.accuracy_score(y_val, y_predict_val)],\n",
    "             'Test Accuracy':[metrics.accuracy_score(y_test, y_predict_test)]}\n",
    "LG_scores_table = pd.DataFrame(data=d)\n",
    "LG_scores_table"
   ],
   "metadata": {
    "collapsed": false,
    "pycharm": {
     "name": "#%%\n"
    }
   }
  },
  {
   "cell_type": "markdown",
   "source": [
    "# KNN"
   ],
   "metadata": {
    "collapsed": false,
    "pycharm": {
     "name": "#%% md\n"
    }
   }
  },
  {
   "cell_type": "markdown",
   "source": [
    "# Grid Search"
   ],
   "metadata": {
    "collapsed": false,
    "pycharm": {
     "name": "#%% md\n"
    }
   }
  },
  {
   "cell_type": "code",
   "execution_count": 63,
   "outputs": [
    {
     "name": "stdout",
     "output_type": "stream",
     "text": [
      "Best: 0.399792 using {'metric': 'euclidean', 'n_neighbors': 19, 'weights': 'distance'}\n",
      "0.306145 (0.013309) with: {'metric': 'euclidean', 'n_neighbors': 1, 'weights': 'uniform'}\n",
      "0.306145 (0.013309) with: {'metric': 'euclidean', 'n_neighbors': 1, 'weights': 'distance'}\n",
      "0.290969 (0.014551) with: {'metric': 'euclidean', 'n_neighbors': 3, 'weights': 'uniform'}\n",
      "0.301366 (0.016155) with: {'metric': 'euclidean', 'n_neighbors': 3, 'weights': 'distance'}\n",
      "0.299950 (0.027235) with: {'metric': 'euclidean', 'n_neighbors': 5, 'weights': 'uniform'}\n",
      "0.312804 (0.021513) with: {'metric': 'euclidean', 'n_neighbors': 5, 'weights': 'distance'}\n",
      "0.326130 (0.021058) with: {'metric': 'euclidean', 'n_neighbors': 7, 'weights': 'uniform'}\n",
      "0.336225 (0.017963) with: {'metric': 'euclidean', 'n_neighbors': 7, 'weights': 'distance'}\n",
      "0.352914 (0.017826) with: {'metric': 'euclidean', 'n_neighbors': 9, 'weights': 'uniform'}\n",
      "0.355371 (0.018752) with: {'metric': 'euclidean', 'n_neighbors': 9, 'weights': 'distance'}\n",
      "0.368898 (0.017078) with: {'metric': 'euclidean', 'n_neighbors': 11, 'weights': 'uniform'}\n",
      "0.371893 (0.016489) with: {'metric': 'euclidean', 'n_neighbors': 11, 'weights': 'distance'}\n",
      "0.378152 (0.012187) with: {'metric': 'euclidean', 'n_neighbors': 13, 'weights': 'uniform'}\n",
      "0.379397 (0.013511) with: {'metric': 'euclidean', 'n_neighbors': 13, 'weights': 'distance'}\n",
      "0.385454 (0.012261) with: {'metric': 'euclidean', 'n_neighbors': 15, 'weights': 'uniform'}\n",
      "0.386195 (0.012451) with: {'metric': 'euclidean', 'n_neighbors': 15, 'weights': 'distance'}\n",
      "0.393095 (0.013474) with: {'metric': 'euclidean', 'n_neighbors': 17, 'weights': 'uniform'}\n",
      "0.395417 (0.012926) with: {'metric': 'euclidean', 'n_neighbors': 17, 'weights': 'distance'}\n",
      "0.396966 (0.017160) with: {'metric': 'euclidean', 'n_neighbors': 19, 'weights': 'uniform'}\n",
      "0.399792 (0.016268) with: {'metric': 'euclidean', 'n_neighbors': 19, 'weights': 'distance'}\n",
      "0.269836 (0.011512) with: {'metric': 'manhattan', 'n_neighbors': 1, 'weights': 'uniform'}\n",
      "0.269836 (0.011512) with: {'metric': 'manhattan', 'n_neighbors': 1, 'weights': 'distance'}\n",
      "0.233865 (0.013929) with: {'metric': 'manhattan', 'n_neighbors': 3, 'weights': 'uniform'}\n",
      "0.246753 (0.019847) with: {'metric': 'manhattan', 'n_neighbors': 3, 'weights': 'distance'}\n",
      "0.253717 (0.032471) with: {'metric': 'manhattan', 'n_neighbors': 5, 'weights': 'uniform'}\n",
      "0.258126 (0.028154) with: {'metric': 'manhattan', 'n_neighbors': 5, 'weights': 'distance'}\n",
      "0.288309 (0.026722) with: {'metric': 'manhattan', 'n_neighbors': 7, 'weights': 'uniform'}\n",
      "0.293357 (0.024403) with: {'metric': 'manhattan', 'n_neighbors': 7, 'weights': 'distance'}\n",
      "0.322259 (0.021615) with: {'metric': 'manhattan', 'n_neighbors': 9, 'weights': 'uniform'}\n",
      "0.318592 (0.019618) with: {'metric': 'manhattan', 'n_neighbors': 9, 'weights': 'distance'}\n",
      "0.341542 (0.018448) with: {'metric': 'manhattan', 'n_neighbors': 11, 'weights': 'uniform'}\n",
      "0.338749 (0.016755) with: {'metric': 'manhattan', 'n_neighbors': 11, 'weights': 'distance'}\n",
      "0.357189 (0.015017) with: {'metric': 'manhattan', 'n_neighbors': 13, 'weights': 'uniform'}\n",
      "0.354597 (0.015951) with: {'metric': 'manhattan', 'n_neighbors': 13, 'weights': 'distance'}\n",
      "0.366140 (0.014007) with: {'metric': 'manhattan', 'n_neighbors': 15, 'weights': 'uniform'}\n",
      "0.367283 (0.016321) with: {'metric': 'manhattan', 'n_neighbors': 15, 'weights': 'distance'}\n",
      "0.373678 (0.013640) with: {'metric': 'manhattan', 'n_neighbors': 17, 'weights': 'uniform'}\n",
      "0.374922 (0.016291) with: {'metric': 'manhattan', 'n_neighbors': 17, 'weights': 'distance'}\n",
      "0.380745 (0.012331) with: {'metric': 'manhattan', 'n_neighbors': 19, 'weights': 'uniform'}\n",
      "0.382427 (0.014190) with: {'metric': 'manhattan', 'n_neighbors': 19, 'weights': 'distance'}\n",
      "0.306145 (0.013309) with: {'metric': 'minkowski', 'n_neighbors': 1, 'weights': 'uniform'}\n",
      "0.306145 (0.013309) with: {'metric': 'minkowski', 'n_neighbors': 1, 'weights': 'distance'}\n",
      "0.290969 (0.014551) with: {'metric': 'minkowski', 'n_neighbors': 3, 'weights': 'uniform'}\n",
      "0.301366 (0.016155) with: {'metric': 'minkowski', 'n_neighbors': 3, 'weights': 'distance'}\n",
      "0.299950 (0.027235) with: {'metric': 'minkowski', 'n_neighbors': 5, 'weights': 'uniform'}\n",
      "0.312804 (0.021513) with: {'metric': 'minkowski', 'n_neighbors': 5, 'weights': 'distance'}\n",
      "0.326130 (0.021058) with: {'metric': 'minkowski', 'n_neighbors': 7, 'weights': 'uniform'}\n",
      "0.336225 (0.017963) with: {'metric': 'minkowski', 'n_neighbors': 7, 'weights': 'distance'}\n",
      "0.352914 (0.017826) with: {'metric': 'minkowski', 'n_neighbors': 9, 'weights': 'uniform'}\n",
      "0.355371 (0.018752) with: {'metric': 'minkowski', 'n_neighbors': 9, 'weights': 'distance'}\n",
      "0.368898 (0.017078) with: {'metric': 'minkowski', 'n_neighbors': 11, 'weights': 'uniform'}\n",
      "0.371893 (0.016489) with: {'metric': 'minkowski', 'n_neighbors': 11, 'weights': 'distance'}\n",
      "0.378152 (0.012187) with: {'metric': 'minkowski', 'n_neighbors': 13, 'weights': 'uniform'}\n",
      "0.379397 (0.013511) with: {'metric': 'minkowski', 'n_neighbors': 13, 'weights': 'distance'}\n",
      "0.385454 (0.012261) with: {'metric': 'minkowski', 'n_neighbors': 15, 'weights': 'uniform'}\n",
      "0.386195 (0.012451) with: {'metric': 'minkowski', 'n_neighbors': 15, 'weights': 'distance'}\n",
      "0.393095 (0.013474) with: {'metric': 'minkowski', 'n_neighbors': 17, 'weights': 'uniform'}\n",
      "0.395417 (0.012926) with: {'metric': 'minkowski', 'n_neighbors': 17, 'weights': 'distance'}\n",
      "0.396966 (0.017160) with: {'metric': 'minkowski', 'n_neighbors': 19, 'weights': 'uniform'}\n",
      "0.399792 (0.016268) with: {'metric': 'minkowski', 'n_neighbors': 19, 'weights': 'distance'}\n"
     ]
    }
   ],
   "source": [
    "from sklearn.neighbors import KNeighborsClassifier\n",
    "\n",
    "# define models and parameters\n",
    "model = KNeighborsClassifier()\n",
    "n_neighbors = range(1, 21, 2)\n",
    "weights = ['uniform', 'distance']\n",
    "metric = ['euclidean', 'manhattan', 'minkowski']\n",
    "# define grid search\n",
    "grid = dict(n_neighbors=n_neighbors,weights=weights,metric=metric)\n",
    "cv = RepeatedStratifiedKFold(n_splits=10, n_repeats=3, random_state=1)\n",
    "grid_search = GridSearchCV(estimator=model, param_grid=grid, n_jobs=-1, cv=cv, scoring='accuracy',error_score=0)\n",
    "grid_result = grid_search.fit(x_train, y_train)\n",
    "# summarize results\n",
    "print(\"Best: %f using %s\" % (grid_result.best_score_, grid_result.best_params_))\n",
    "means = grid_result.cv_results_['mean_test_score']\n",
    "stds = grid_result.cv_results_['std_test_score']\n",
    "params = grid_result.cv_results_['params']\n",
    "for mean, stdev, param in zip(means, stds, params):\n",
    "    print(\"%f (%f) with: %r\" % (mean, stdev, param))"
   ],
   "metadata": {
    "collapsed": false,
    "pycharm": {
     "name": "#%%\n"
    }
   }
  },
  {
   "cell_type": "markdown",
   "source": [
    "# Best Model"
   ],
   "metadata": {
    "collapsed": false,
    "pycharm": {
     "name": "#%% md\n"
    }
   }
  },
  {
   "cell_type": "code",
   "execution_count": 91,
   "outputs": [
    {
     "name": "stderr",
     "output_type": "stream",
     "text": [
      "C:\\Users\\lenovo\\anaconda3\\envs\\SentimentCapstone\\lib\\site-packages\\sklearn\\neighbors\\_classification.py:200: DataConversionWarning: A column-vector y was passed when a 1d array was expected. Please change the shape of y to (n_samples,), for example using ravel().\n",
      "  return self._fit(X, y)\n"
     ]
    },
    {
     "data": {
      "text/plain": "KNeighborsClassifier(metric='euclidean', n_neighbors=19, weights='distance')",
      "text/html": "<style>#sk-container-id-9 {color: black;background-color: white;}#sk-container-id-9 pre{padding: 0;}#sk-container-id-9 div.sk-toggleable {background-color: white;}#sk-container-id-9 label.sk-toggleable__label {cursor: pointer;display: block;width: 100%;margin-bottom: 0;padding: 0.3em;box-sizing: border-box;text-align: center;}#sk-container-id-9 label.sk-toggleable__label-arrow:before {content: \"▸\";float: left;margin-right: 0.25em;color: #696969;}#sk-container-id-9 label.sk-toggleable__label-arrow:hover:before {color: black;}#sk-container-id-9 div.sk-estimator:hover label.sk-toggleable__label-arrow:before {color: black;}#sk-container-id-9 div.sk-toggleable__content {max-height: 0;max-width: 0;overflow: hidden;text-align: left;background-color: #f0f8ff;}#sk-container-id-9 div.sk-toggleable__content pre {margin: 0.2em;color: black;border-radius: 0.25em;background-color: #f0f8ff;}#sk-container-id-9 input.sk-toggleable__control:checked~div.sk-toggleable__content {max-height: 200px;max-width: 100%;overflow: auto;}#sk-container-id-9 input.sk-toggleable__control:checked~label.sk-toggleable__label-arrow:before {content: \"▾\";}#sk-container-id-9 div.sk-estimator input.sk-toggleable__control:checked~label.sk-toggleable__label {background-color: #d4ebff;}#sk-container-id-9 div.sk-label input.sk-toggleable__control:checked~label.sk-toggleable__label {background-color: #d4ebff;}#sk-container-id-9 input.sk-hidden--visually {border: 0;clip: rect(1px 1px 1px 1px);clip: rect(1px, 1px, 1px, 1px);height: 1px;margin: -1px;overflow: hidden;padding: 0;position: absolute;width: 1px;}#sk-container-id-9 div.sk-estimator {font-family: monospace;background-color: #f0f8ff;border: 1px dotted black;border-radius: 0.25em;box-sizing: border-box;margin-bottom: 0.5em;}#sk-container-id-9 div.sk-estimator:hover {background-color: #d4ebff;}#sk-container-id-9 div.sk-parallel-item::after {content: \"\";width: 100%;border-bottom: 1px solid gray;flex-grow: 1;}#sk-container-id-9 div.sk-label:hover label.sk-toggleable__label {background-color: #d4ebff;}#sk-container-id-9 div.sk-serial::before {content: \"\";position: absolute;border-left: 1px solid gray;box-sizing: border-box;top: 0;bottom: 0;left: 50%;z-index: 0;}#sk-container-id-9 div.sk-serial {display: flex;flex-direction: column;align-items: center;background-color: white;padding-right: 0.2em;padding-left: 0.2em;position: relative;}#sk-container-id-9 div.sk-item {position: relative;z-index: 1;}#sk-container-id-9 div.sk-parallel {display: flex;align-items: stretch;justify-content: center;background-color: white;position: relative;}#sk-container-id-9 div.sk-item::before, #sk-container-id-9 div.sk-parallel-item::before {content: \"\";position: absolute;border-left: 1px solid gray;box-sizing: border-box;top: 0;bottom: 0;left: 50%;z-index: -1;}#sk-container-id-9 div.sk-parallel-item {display: flex;flex-direction: column;z-index: 1;position: relative;background-color: white;}#sk-container-id-9 div.sk-parallel-item:first-child::after {align-self: flex-end;width: 50%;}#sk-container-id-9 div.sk-parallel-item:last-child::after {align-self: flex-start;width: 50%;}#sk-container-id-9 div.sk-parallel-item:only-child::after {width: 0;}#sk-container-id-9 div.sk-dashed-wrapped {border: 1px dashed gray;margin: 0 0.4em 0.5em 0.4em;box-sizing: border-box;padding-bottom: 0.4em;background-color: white;}#sk-container-id-9 div.sk-label label {font-family: monospace;font-weight: bold;display: inline-block;line-height: 1.2em;}#sk-container-id-9 div.sk-label-container {text-align: center;}#sk-container-id-9 div.sk-container {/* jupyter's `normalize.less` sets `[hidden] { display: none; }` but bootstrap.min.css set `[hidden] { display: none !important; }` so we also need the `!important` here to be able to override the default hidden behavior on the sphinx rendered scikit-learn.org. See: https://github.com/scikit-learn/scikit-learn/issues/21755 */display: inline-block !important;position: relative;}#sk-container-id-9 div.sk-text-repr-fallback {display: none;}</style><div id=\"sk-container-id-9\" class=\"sk-top-container\"><div class=\"sk-text-repr-fallback\"><pre>KNeighborsClassifier(metric=&#x27;euclidean&#x27;, n_neighbors=19, weights=&#x27;distance&#x27;)</pre><b>In a Jupyter environment, please rerun this cell to show the HTML representation or trust the notebook. <br />On GitHub, the HTML representation is unable to render, please try loading this page with nbviewer.org.</b></div><div class=\"sk-container\" hidden><div class=\"sk-item\"><div class=\"sk-estimator sk-toggleable\"><input class=\"sk-toggleable__control sk-hidden--visually\" id=\"sk-estimator-id-9\" type=\"checkbox\" checked><label for=\"sk-estimator-id-9\" class=\"sk-toggleable__label sk-toggleable__label-arrow\">KNeighborsClassifier</label><div class=\"sk-toggleable__content\"><pre>KNeighborsClassifier(metric=&#x27;euclidean&#x27;, n_neighbors=19, weights=&#x27;distance&#x27;)</pre></div></div></div></div></div>"
     },
     "execution_count": 91,
     "metadata": {},
     "output_type": "execute_result"
    }
   ],
   "source": [
    "KNN_classifier = KNeighborsClassifier(metric='euclidean', n_neighbors=19,weights='distance')\n",
    "KNN_classifier.fit(x_train, y_train)"
   ],
   "metadata": {
    "collapsed": false,
    "pycharm": {
     "name": "#%%\n"
    }
   }
  },
  {
   "cell_type": "code",
   "execution_count": 92,
   "outputs": [
    {
     "data": {
      "text/plain": "<Figure size 648x648 with 1 Axes>",
      "image/png": "[encoded data removed]"
     },
     "metadata": {
      "needs_background": "light"
     },
     "output_type": "display_data"
    }
   ],
   "source": [
    "y_predict_train = KNN_classifier.predict(x_train)\n",
    "y_predict_train\n",
    "cm = confusion_matrix(y_train, y_predict_train)\n",
    "conf_matrix(cm)"
   ],
   "metadata": {
    "collapsed": false,
    "pycharm": {
     "name": "#%%\n"
    }
   }
  },
  {
   "cell_type": "code",
   "execution_count": 93,
   "outputs": [
    {
     "name": "stderr",
     "output_type": "stream",
     "text": [
      "C:\\Users\\lenovo\\anaconda3\\envs\\SentimentCapstone\\lib\\site-packages\\sklearn\\base.py:493: FutureWarning: The feature names should match those that were passed during fit. Starting version 1.2, an error will be raised.\n",
      "Feature names seen at fit time, yet now missing:\n",
      "- count\n",
      "\n",
      "  warnings.warn(message, FutureWarning)\n"
     ]
    },
    {
     "ename": "ValueError",
     "evalue": "X has 182 features, but KNeighborsClassifier is expecting 183 features as input.",
     "output_type": "error",
     "traceback": [
      "\u001B[1;31m---------------------------------------------------------------------------\u001B[0m",
      "\u001B[1;31mValueError\u001B[0m                                Traceback (most recent call last)",
      "Input \u001B[1;32mIn [93]\u001B[0m, in \u001B[0;36m<cell line: 2>\u001B[1;34m()\u001B[0m\n\u001B[0;32m      1\u001B[0m \u001B[38;5;66;03m# Predicting the Val set results\u001B[39;00m\n\u001B[1;32m----> 2\u001B[0m y_predict_val \u001B[38;5;241m=\u001B[39m \u001B[43mKNN_classifier\u001B[49m\u001B[38;5;241;43m.\u001B[39;49m\u001B[43mpredict\u001B[49m\u001B[43m(\u001B[49m\u001B[43mx_val\u001B[49m\u001B[43m)\u001B[49m\n\u001B[0;32m      3\u001B[0m cm \u001B[38;5;241m=\u001B[39m confusion_matrix(y_val, y_predict_val)\n\u001B[0;32m      4\u001B[0m conf_matrix(cm)\n",
      "File \u001B[1;32m~\\anaconda3\\envs\\SentimentCapstone\\lib\\site-packages\\sklearn\\neighbors\\_classification.py:222\u001B[0m, in \u001B[0;36mKNeighborsClassifier.predict\u001B[1;34m(self, X)\u001B[0m\n\u001B[0;32m    220\u001B[0m     neigh_dist \u001B[38;5;241m=\u001B[39m \u001B[38;5;28;01mNone\u001B[39;00m\n\u001B[0;32m    221\u001B[0m \u001B[38;5;28;01melse\u001B[39;00m:\n\u001B[1;32m--> 222\u001B[0m     neigh_dist, neigh_ind \u001B[38;5;241m=\u001B[39m \u001B[38;5;28;43mself\u001B[39;49m\u001B[38;5;241;43m.\u001B[39;49m\u001B[43mkneighbors\u001B[49m\u001B[43m(\u001B[49m\u001B[43mX\u001B[49m\u001B[43m)\u001B[49m\n\u001B[0;32m    224\u001B[0m classes_ \u001B[38;5;241m=\u001B[39m \u001B[38;5;28mself\u001B[39m\u001B[38;5;241m.\u001B[39mclasses_\n\u001B[0;32m    225\u001B[0m _y \u001B[38;5;241m=\u001B[39m \u001B[38;5;28mself\u001B[39m\u001B[38;5;241m.\u001B[39m_y\n",
      "File \u001B[1;32m~\\anaconda3\\envs\\SentimentCapstone\\lib\\site-packages\\sklearn\\neighbors\\_base.py:745\u001B[0m, in \u001B[0;36mKNeighborsMixin.kneighbors\u001B[1;34m(self, X, n_neighbors, return_distance)\u001B[0m\n\u001B[0;32m    743\u001B[0m         X \u001B[38;5;241m=\u001B[39m _check_precomputed(X)\n\u001B[0;32m    744\u001B[0m     \u001B[38;5;28;01melse\u001B[39;00m:\n\u001B[1;32m--> 745\u001B[0m         X \u001B[38;5;241m=\u001B[39m \u001B[38;5;28;43mself\u001B[39;49m\u001B[38;5;241;43m.\u001B[39;49m\u001B[43m_validate_data\u001B[49m\u001B[43m(\u001B[49m\u001B[43mX\u001B[49m\u001B[43m,\u001B[49m\u001B[43m \u001B[49m\u001B[43maccept_sparse\u001B[49m\u001B[38;5;241;43m=\u001B[39;49m\u001B[38;5;124;43m\"\u001B[39;49m\u001B[38;5;124;43mcsr\u001B[39;49m\u001B[38;5;124;43m\"\u001B[39;49m\u001B[43m,\u001B[49m\u001B[43m \u001B[49m\u001B[43mreset\u001B[49m\u001B[38;5;241;43m=\u001B[39;49m\u001B[38;5;28;43;01mFalse\u001B[39;49;00m\u001B[43m,\u001B[49m\u001B[43m \u001B[49m\u001B[43morder\u001B[49m\u001B[38;5;241;43m=\u001B[39;49m\u001B[38;5;124;43m\"\u001B[39;49m\u001B[38;5;124;43mC\u001B[39;49m\u001B[38;5;124;43m\"\u001B[39;49m\u001B[43m)\u001B[49m\n\u001B[0;32m    747\u001B[0m n_samples_fit \u001B[38;5;241m=\u001B[39m \u001B[38;5;28mself\u001B[39m\u001B[38;5;241m.\u001B[39mn_samples_fit_\n\u001B[0;32m    748\u001B[0m \u001B[38;5;28;01mif\u001B[39;00m n_neighbors \u001B[38;5;241m>\u001B[39m n_samples_fit:\n",
      "File \u001B[1;32m~\\anaconda3\\envs\\SentimentCapstone\\lib\\site-packages\\sklearn\\base.py:600\u001B[0m, in \u001B[0;36mBaseEstimator._validate_data\u001B[1;34m(self, X, y, reset, validate_separately, **check_params)\u001B[0m\n\u001B[0;32m    597\u001B[0m     out \u001B[38;5;241m=\u001B[39m X, y\n\u001B[0;32m    599\u001B[0m \u001B[38;5;28;01mif\u001B[39;00m \u001B[38;5;129;01mnot\u001B[39;00m no_val_X \u001B[38;5;129;01mand\u001B[39;00m check_params\u001B[38;5;241m.\u001B[39mget(\u001B[38;5;124m\"\u001B[39m\u001B[38;5;124mensure_2d\u001B[39m\u001B[38;5;124m\"\u001B[39m, \u001B[38;5;28;01mTrue\u001B[39;00m):\n\u001B[1;32m--> 600\u001B[0m     \u001B[38;5;28;43mself\u001B[39;49m\u001B[38;5;241;43m.\u001B[39;49m\u001B[43m_check_n_features\u001B[49m\u001B[43m(\u001B[49m\u001B[43mX\u001B[49m\u001B[43m,\u001B[49m\u001B[43m \u001B[49m\u001B[43mreset\u001B[49m\u001B[38;5;241;43m=\u001B[39;49m\u001B[43mreset\u001B[49m\u001B[43m)\u001B[49m\n\u001B[0;32m    602\u001B[0m \u001B[38;5;28;01mreturn\u001B[39;00m out\n",
      "File \u001B[1;32m~\\anaconda3\\envs\\SentimentCapstone\\lib\\site-packages\\sklearn\\base.py:400\u001B[0m, in \u001B[0;36mBaseEstimator._check_n_features\u001B[1;34m(self, X, reset)\u001B[0m\n\u001B[0;32m    397\u001B[0m     \u001B[38;5;28;01mreturn\u001B[39;00m\n\u001B[0;32m    399\u001B[0m \u001B[38;5;28;01mif\u001B[39;00m n_features \u001B[38;5;241m!=\u001B[39m \u001B[38;5;28mself\u001B[39m\u001B[38;5;241m.\u001B[39mn_features_in_:\n\u001B[1;32m--> 400\u001B[0m     \u001B[38;5;28;01mraise\u001B[39;00m \u001B[38;5;167;01mValueError\u001B[39;00m(\n\u001B[0;32m    401\u001B[0m         \u001B[38;5;124mf\u001B[39m\u001B[38;5;124m\"\u001B[39m\u001B[38;5;124mX has \u001B[39m\u001B[38;5;132;01m{\u001B[39;00mn_features\u001B[38;5;132;01m}\u001B[39;00m\u001B[38;5;124m features, but \u001B[39m\u001B[38;5;132;01m{\u001B[39;00m\u001B[38;5;28mself\u001B[39m\u001B[38;5;241m.\u001B[39m\u001B[38;5;18m__class__\u001B[39m\u001B[38;5;241m.\u001B[39m\u001B[38;5;18m__name__\u001B[39m\u001B[38;5;132;01m}\u001B[39;00m\u001B[38;5;124m \u001B[39m\u001B[38;5;124m\"\u001B[39m\n\u001B[0;32m    402\u001B[0m         \u001B[38;5;124mf\u001B[39m\u001B[38;5;124m\"\u001B[39m\u001B[38;5;124mis expecting \u001B[39m\u001B[38;5;132;01m{\u001B[39;00m\u001B[38;5;28mself\u001B[39m\u001B[38;5;241m.\u001B[39mn_features_in_\u001B[38;5;132;01m}\u001B[39;00m\u001B[38;5;124m features as input.\u001B[39m\u001B[38;5;124m\"\u001B[39m\n\u001B[0;32m    403\u001B[0m     )\n",
      "\u001B[1;31mValueError\u001B[0m: X has 182 features, but KNeighborsClassifier is expecting 183 features as input."
     ]
    }
   ],
   "source": [
    "# Predicting the Val set results\n",
    "y_predict_val = KNN_classifier.predict(x_val)\n",
    "cm = confusion_matrix(y_val, y_predict_val)\n",
    "conf_matrix(cm)"
   ],
   "metadata": {
    "collapsed": false,
    "pycharm": {
     "name": "#%%\n"
    }
   }
  },
  {
   "cell_type": "code",
   "execution_count": null,
   "outputs": [],
   "source": [
    "print(classification_report(y_val, y_predict_val))"
   ],
   "metadata": {
    "collapsed": false,
    "pycharm": {
     "name": "#%%\n"
    }
   }
  },
  {
   "cell_type": "code",
   "execution_count": null,
   "outputs": [],
   "source": [
    "y_predict_test = NB_classifier.predict(x_test)\n",
    "cm = confusion_matrix(y_test, y_predict_test)\n",
    "conf_matrix(cm)"
   ],
   "metadata": {
    "collapsed": false,
    "pycharm": {
     "name": "#%%\n"
    }
   }
  },
  {
   "cell_type": "code",
   "execution_count": null,
   "outputs": [],
   "source": [
    "print(classification_report(y_test, y_predict_test))"
   ],
   "metadata": {
    "collapsed": false,
    "pycharm": {
     "name": "#%%\n"
    }
   }
  },
  {
   "cell_type": "code",
   "execution_count": null,
   "outputs": [],
   "source": [
    "a = 'KNeighborsClassifier'\n",
    "d = {'Model Name': [a],\n",
    "             'Train Accuracy': [metrics.accuracy_score(y_train, y_predict_train)],\n",
    "             'Validation Accuracy': [metrics.accuracy_score(y_val, y_predict_val)],\n",
    "             'Test Accuracy':[metrics.accuracy_score(y_test, y_predict_test)]}\n",
    "KNN_scores_table = pd.DataFrame(data=d)\n",
    "KNN_scores_table"
   ],
   "metadata": {
    "collapsed": false,
    "pycharm": {
     "name": "#%%\n"
    }
   }
  },
  {
   "cell_type": "markdown",
   "source": [
    "# Support Vector Machine"
   ],
   "metadata": {
    "collapsed": false,
    "pycharm": {
     "name": "#%% md\n"
    }
   }
  },
  {
   "cell_type": "markdown",
   "source": [
    "# Grid Search"
   ],
   "metadata": {
    "collapsed": false,
    "pycharm": {
     "name": "#%% md\n"
    }
   }
  },
  {
   "cell_type": "code",
   "execution_count": 77,
   "outputs": [
    {
     "name": "stdout",
     "output_type": "stream",
     "text": [
      "Best: 0.456761 using {'degree': 2, 'gamma': 'scale', 'kernel': 'poly'}\n",
      "0.456761 (0.012635) with: {'degree': 2, 'gamma': 'scale', 'kernel': 'poly'}\n",
      "0.453733 (0.013179) with: {'degree': 3, 'gamma': 'scale', 'kernel': 'poly'}\n"
     ]
    }
   ],
   "source": [
    "from sklearn.svm import SVC\n",
    "# define model and parameters\n",
    "model = SVC()\n",
    "kernel = ['poly']\n",
    "gamma = ['scale']\n",
    "degree = [2 , 3]\n",
    "# define grid search\n",
    "grid = dict(kernel=kernel,degree=degree,gamma=gamma)\n",
    "cv = RepeatedStratifiedKFold(n_splits=10, n_repeats=3, random_state=1)\n",
    "grid_search = GridSearchCV(estimator=model, param_grid=grid, n_jobs=-1, cv=cv, scoring='accuracy',error_score=0)\n",
    "grid_result = grid_search.fit(x_train, y_train)\n",
    "# summarize results\n",
    "print(\"Best: %f using %s\" % (grid_result.best_score_, grid_result.best_params_))\n",
    "means = grid_result.cv_results_['mean_test_score']\n",
    "stds = grid_result.cv_results_['std_test_score']\n",
    "params = grid_result.cv_results_['params']\n",
    "for mean, stdev, param in zip(means, stds, params):\n",
    "    print(\"%f (%f) with: %r\" % (mean, stdev, param))"
   ],
   "metadata": {
    "collapsed": false,
    "pycharm": {
     "name": "#%%\n"
    }
   }
  },
  {
   "cell_type": "code",
   "execution_count": 78,
   "outputs": [
    {
     "data": {
      "text/plain": "SVC(degree=2, kernel='poly')",
      "text/html": "<style>#sk-container-id-11 {color: black;background-color: white;}#sk-container-id-11 pre{padding: 0;}#sk-container-id-11 div.sk-toggleable {background-color: white;}#sk-container-id-11 label.sk-toggleable__label {cursor: pointer;display: block;width: 100%;margin-bottom: 0;padding: 0.3em;box-sizing: border-box;text-align: center;}#sk-container-id-11 label.sk-toggleable__label-arrow:before {content: \"▸\";float: left;margin-right: 0.25em;color: #696969;}#sk-container-id-11 label.sk-toggleable__label-arrow:hover:before {color: black;}#sk-container-id-11 div.sk-estimator:hover label.sk-toggleable__label-arrow:before {color: black;}#sk-container-id-11 div.sk-toggleable__content {max-height: 0;max-width: 0;overflow: hidden;text-align: left;background-color: #f0f8ff;}#sk-container-id-11 div.sk-toggleable__content pre {margin: 0.2em;color: black;border-radius: 0.25em;background-color: #f0f8ff;}#sk-container-id-11 input.sk-toggleable__control:checked~div.sk-toggleable__content {max-height: 200px;max-width: 100%;overflow: auto;}#sk-container-id-11 input.sk-toggleable__control:checked~label.sk-toggleable__label-arrow:before {content: \"▾\";}#sk-container-id-11 div.sk-estimator input.sk-toggleable__control:checked~label.sk-toggleable__label {background-color: #d4ebff;}#sk-container-id-11 div.sk-label input.sk-toggleable__control:checked~label.sk-toggleable__label {background-color: #d4ebff;}#sk-container-id-11 input.sk-hidden--visually {border: 0;clip: rect(1px 1px 1px 1px);clip: rect(1px, 1px, 1px, 1px);height: 1px;margin: -1px;overflow: hidden;padding: 0;position: absolute;width: 1px;}#sk-container-id-11 div.sk-estimator {font-family: monospace;background-color: #f0f8ff;border: 1px dotted black;border-radius: 0.25em;box-sizing: border-box;margin-bottom: 0.5em;}#sk-container-id-11 div.sk-estimator:hover {background-color: #d4ebff;}#sk-container-id-11 div.sk-parallel-item::after {content: \"\";width: 100%;border-bottom: 1px solid gray;flex-grow: 1;}#sk-container-id-11 div.sk-label:hover label.sk-toggleable__label {background-color: #d4ebff;}#sk-container-id-11 div.sk-serial::before {content: \"\";position: absolute;border-left: 1px solid gray;box-sizing: border-box;top: 0;bottom: 0;left: 50%;z-index: 0;}#sk-container-id-11 div.sk-serial {display: flex;flex-direction: column;align-items: center;background-color: white;padding-right: 0.2em;padding-left: 0.2em;position: relative;}#sk-container-id-11 div.sk-item {position: relative;z-index: 1;}#sk-container-id-11 div.sk-parallel {display: flex;align-items: stretch;justify-content: center;background-color: white;position: relative;}#sk-container-id-11 div.sk-item::before, #sk-container-id-11 div.sk-parallel-item::before {content: \"\";position: absolute;border-left: 1px solid gray;box-sizing: border-box;top: 0;bottom: 0;left: 50%;z-index: -1;}#sk-container-id-11 div.sk-parallel-item {display: flex;flex-direction: column;z-index: 1;position: relative;background-color: white;}#sk-container-id-11 div.sk-parallel-item:first-child::after {align-self: flex-end;width: 50%;}#sk-container-id-11 div.sk-parallel-item:last-child::after {align-self: flex-start;width: 50%;}#sk-container-id-11 div.sk-parallel-item:only-child::after {width: 0;}#sk-container-id-11 div.sk-dashed-wrapped {border: 1px dashed gray;margin: 0 0.4em 0.5em 0.4em;box-sizing: border-box;padding-bottom: 0.4em;background-color: white;}#sk-container-id-11 div.sk-label label {font-family: monospace;font-weight: bold;display: inline-block;line-height: 1.2em;}#sk-container-id-11 div.sk-label-container {text-align: center;}#sk-container-id-11 div.sk-container {/* jupyter's `normalize.less` sets `[hidden] { display: none; }` but bootstrap.min.css set `[hidden] { display: none !important; }` so we also need the `!important` here to be able to override the default hidden behavior on the sphinx rendered scikit-learn.org. See: https://github.com/scikit-learn/scikit-learn/issues/21755 */display: inline-block !important;position: relative;}#sk-container-id-11 div.sk-text-repr-fallback {display: none;}</style><div id=\"sk-container-id-11\" class=\"sk-top-container\"><div class=\"sk-text-repr-fallback\"><pre>SVC(degree=2, kernel=&#x27;poly&#x27;)</pre><b>In a Jupyter environment, please rerun this cell to show the HTML representation or trust the notebook. <br />On GitHub, the HTML representation is unable to render, please try loading this page with nbviewer.org.</b></div><div class=\"sk-container\" hidden><div class=\"sk-item\"><div class=\"sk-estimator sk-toggleable\"><input class=\"sk-toggleable__control sk-hidden--visually\" id=\"sk-estimator-id-11\" type=\"checkbox\" checked><label for=\"sk-estimator-id-11\" class=\"sk-toggleable__label sk-toggleable__label-arrow\">SVC</label><div class=\"sk-toggleable__content\"><pre>SVC(degree=2, kernel=&#x27;poly&#x27;)</pre></div></div></div></div></div>"
     },
     "execution_count": 78,
     "metadata": {},
     "output_type": "execute_result"
    }
   ],
   "source": [
    "from sklearn.svm import SVC\n",
    "SVM_classifier = SVC(kernel='poly',degree=2,gamma='scale')\n",
    "SVM_classifier.fit(x_train, y_train)"
   ],
   "metadata": {
    "collapsed": false,
    "pycharm": {
     "name": "#%%\n"
    }
   }
  },
  {
   "cell_type": "code",
   "execution_count": 79,
   "outputs": [
    {
     "data": {
      "text/plain": "<Figure size 648x648 with 1 Axes>",
      "image/png": "[encoded data removed]"
     },
     "metadata": {
      "needs_background": "light"
     },
     "output_type": "display_data"
    }
   ],
   "source": [
    "y_predict_train = SVM_classifier.predict(x_train)\n",
    "y_predict_train\n",
    "cm = confusion_matrix(y_train, y_predict_train)\n",
    "conf_matrix(cm)"
   ],
   "metadata": {
    "collapsed": false,
    "pycharm": {
     "name": "#%%\n"
    }
   }
  },
  {
   "cell_type": "code",
   "execution_count": 80,
   "outputs": [
    {
     "data": {
      "text/plain": "<Figure size 648x648 with 1 Axes>",
      "image/png": "[encoded data removed]"
     },
     "metadata": {
      "needs_background": "light"
     },
     "output_type": "display_data"
    }
   ],
   "source": [
    "# Predicting the Val set results\n",
    "y_predict_val = SVM_classifier.predict(x_val)\n",
    "cm = confusion_matrix(y_val, y_predict_val)\n",
    "conf_matrix(cm)"
   ],
   "metadata": {
    "collapsed": false,
    "pycharm": {
     "name": "#%%\n"
    }
   }
  },
  {
   "cell_type": "code",
   "execution_count": 81,
   "outputs": [
    {
     "name": "stdout",
     "output_type": "stream",
     "text": [
      "              precision    recall  f1-score   support\n",
      "\n",
      "           1       0.50      0.62      0.55       633\n",
      "           2       0.37      0.32      0.34       702\n",
      "           3       0.39      0.35      0.37       674\n",
      "           4       0.40      0.40      0.40       639\n",
      "           5       0.54      0.55      0.54       654\n",
      "\n",
      "    accuracy                           0.44      3302\n",
      "   macro avg       0.44      0.45      0.44      3302\n",
      "weighted avg       0.44      0.44      0.44      3302\n",
      "\n"
     ]
    }
   ],
   "source": [
    "print(classification_report(y_val, y_predict_val))"
   ],
   "metadata": {
    "collapsed": false,
    "pycharm": {
     "name": "#%%\n"
    }
   }
  },
  {
   "cell_type": "code",
   "execution_count": null,
   "outputs": [],
   "source": [
    "y_predict_test = NB_classifier.predict(x_test)\n",
    "cm = confusion_matrix(y_test, y_predict_test)\n",
    "conf_matrix(cm)"
   ],
   "metadata": {
    "collapsed": false,
    "pycharm": {
     "name": "#%%\n"
    }
   }
  },
  {
   "cell_type": "code",
   "execution_count": null,
   "outputs": [],
   "source": [
    "print(classification_report(y_test, y_predict_test))"
   ],
   "metadata": {
    "collapsed": false,
    "pycharm": {
     "name": "#%%\n"
    }
   }
  },
  {
   "cell_type": "code",
   "execution_count": 82,
   "outputs": [
    {
     "data": {
      "text/plain": "  Model Name  Train Accuracy  Validation Accuracy  Accuracy Difference\n0        SVM        0.859883             0.444276             0.415607",
      "text/html": "<div>\n<style scoped>\n    .dataframe tbody tr th:only-of-type {\n        vertical-align: middle;\n    }\n\n    .dataframe tbody tr th {\n        vertical-align: top;\n    }\n\n    .dataframe thead th {\n        text-align: right;\n    }\n</style>\n<table border=\"1\" class=\"dataframe\">\n  <thead>\n    <tr style=\"text-align: right;\">\n      <th></th>\n      <th>Model Name</th>\n      <th>Train Accuracy</th>\n      <th>Validation Accuracy</th>\n      <th>Accuracy Difference</th>\n    </tr>\n  </thead>\n  <tbody>\n    <tr>\n      <th>0</th>\n      <td>SVM</td>\n      <td>0.859883</td>\n      <td>0.444276</td>\n      <td>0.415607</td>\n    </tr>\n  </tbody>\n</table>\n</div>"
     },
     "execution_count": 82,
     "metadata": {},
     "output_type": "execute_result"
    }
   ],
   "source": [
    "a = 'SVM'\n",
    "d = {'Model Name': [a],\n",
    "             'Train Accuracy': [metrics.accuracy_score(y_train, y_predict_train)],\n",
    "             'Validation Accuracy': [metrics.accuracy_score(y_val, y_predict_val)],\n",
    "             'Test Accuracy':[metrics.accuracy_score(y_test, y_predict_test)]}\n",
    "SVM_scores_table = pd.DataFrame(data=d)\n",
    "SVM_scores_table"
   ],
   "metadata": {
    "collapsed": false,
    "pycharm": {
     "name": "#%%\n"
    }
   }
  },
  {
   "cell_type": "markdown",
   "source": [
    "# Random Forest"
   ],
   "metadata": {
    "collapsed": false,
    "pycharm": {
     "name": "#%% md\n"
    }
   }
  },
  {
   "cell_type": "code",
   "execution_count": null,
   "outputs": [],
   "source": [
    "# 1 st Attempt"
   ],
   "metadata": {
    "collapsed": false,
    "pycharm": {
     "name": "#%%\n"
    }
   }
  },
  {
   "cell_type": "code",
   "execution_count": 32,
   "outputs": [
    {
     "name": "stdout",
     "output_type": "stream",
     "text": [
      "Best: 0.451982 using {'max_depth': 15, 'min_samples_leaf': 3}\n",
      "0.410591 (0.015518) with: {'max_depth': 3, 'min_samples_leaf': 3}\n",
      "0.411400 (0.013737) with: {'max_depth': 3, 'min_samples_leaf': 5}\n",
      "0.411434 (0.015432) with: {'max_depth': 3, 'min_samples_leaf': 10}\n",
      "0.409952 (0.013498) with: {'max_depth': 3, 'min_samples_leaf': 15}\n",
      "0.408808 (0.016893) with: {'max_depth': 3, 'min_samples_leaf': 30}\n",
      "0.411972 (0.014912) with: {'max_depth': 3, 'min_samples_leaf': 50}\n",
      "0.409482 (0.013986) with: {'max_depth': 3, 'min_samples_leaf': 100}\n",
      "0.422808 (0.014367) with: {'max_depth': 5, 'min_samples_leaf': 3}\n",
      "0.422304 (0.013469) with: {'max_depth': 5, 'min_samples_leaf': 5}\n",
      "0.423177 (0.014946) with: {'max_depth': 5, 'min_samples_leaf': 10}\n",
      "0.425364 (0.015304) with: {'max_depth': 5, 'min_samples_leaf': 15}\n",
      "0.420889 (0.013087) with: {'max_depth': 5, 'min_samples_leaf': 30}\n",
      "0.417389 (0.015762) with: {'max_depth': 5, 'min_samples_leaf': 50}\n",
      "0.413723 (0.012901) with: {'max_depth': 5, 'min_samples_leaf': 100}\n",
      "0.432970 (0.013467) with: {'max_depth': 7, 'min_samples_leaf': 3}\n",
      "0.429942 (0.014114) with: {'max_depth': 7, 'min_samples_leaf': 5}\n",
      "0.434753 (0.013548) with: {'max_depth': 7, 'min_samples_leaf': 10}\n",
      "0.431522 (0.014433) with: {'max_depth': 7, 'min_samples_leaf': 15}\n",
      "0.428191 (0.015364) with: {'max_depth': 7, 'min_samples_leaf': 30}\n",
      "0.425903 (0.016224) with: {'max_depth': 7, 'min_samples_leaf': 50}\n",
      "0.421092 (0.015940) with: {'max_depth': 7, 'min_samples_leaf': 100}\n",
      "0.440104 (0.012270) with: {'max_depth': 9, 'min_samples_leaf': 3}\n",
      "0.436940 (0.013454) with: {'max_depth': 9, 'min_samples_leaf': 5}\n",
      "0.439700 (0.015658) with: {'max_depth': 9, 'min_samples_leaf': 10}\n",
      "0.438892 (0.015739) with: {'max_depth': 9, 'min_samples_leaf': 15}\n",
      "0.433743 (0.016354) with: {'max_depth': 9, 'min_samples_leaf': 30}\n",
      "0.430177 (0.013793) with: {'max_depth': 9, 'min_samples_leaf': 50}\n",
      "0.424254 (0.013001) with: {'max_depth': 9, 'min_samples_leaf': 100}\n",
      "0.441046 (0.012853) with: {'max_depth': 11, 'min_samples_leaf': 3}\n",
      "0.445858 (0.016370) with: {'max_depth': 11, 'min_samples_leaf': 5}\n",
      "0.441821 (0.015096) with: {'max_depth': 11, 'min_samples_leaf': 10}\n",
      "0.441821 (0.015044) with: {'max_depth': 11, 'min_samples_leaf': 15}\n",
      "0.436572 (0.014345) with: {'max_depth': 11, 'min_samples_leaf': 30}\n",
      "0.430985 (0.013191) with: {'max_depth': 11, 'min_samples_leaf': 50}\n",
      "0.423547 (0.011891) with: {'max_depth': 11, 'min_samples_leaf': 100}\n",
      "0.448044 (0.012220) with: {'max_depth': 13, 'min_samples_leaf': 3}\n",
      "0.447641 (0.017730) with: {'max_depth': 13, 'min_samples_leaf': 5}\n",
      "0.446330 (0.015669) with: {'max_depth': 13, 'min_samples_leaf': 10}\n",
      "0.444782 (0.015993) with: {'max_depth': 13, 'min_samples_leaf': 15}\n",
      "0.438052 (0.014443) with: {'max_depth': 13, 'min_samples_leaf': 30}\n",
      "0.434451 (0.015185) with: {'max_depth': 13, 'min_samples_leaf': 50}\n",
      "0.425399 (0.014717) with: {'max_depth': 13, 'min_samples_leaf': 100}\n",
      "0.451982 (0.017652) with: {'max_depth': 15, 'min_samples_leaf': 3}\n",
      "0.448987 (0.015301) with: {'max_depth': 15, 'min_samples_leaf': 5}\n",
      "0.447204 (0.015236) with: {'max_depth': 15, 'min_samples_leaf': 10}\n",
      "0.447675 (0.012887) with: {'max_depth': 15, 'min_samples_leaf': 15}\n",
      "0.441113 (0.016380) with: {'max_depth': 15, 'min_samples_leaf': 30}\n",
      "0.436470 (0.015729) with: {'max_depth': 15, 'min_samples_leaf': 50}\n",
      "0.424086 (0.012863) with: {'max_depth': 15, 'min_samples_leaf': 100}\n"
     ]
    }
   ],
   "source": [
    "from sklearn.ensemble import RandomForestClassifier\n",
    "# define models and parameters\n",
    "model = RandomForestClassifier()\n",
    "max_depth = [3,5,7,9,11,13,15]\n",
    "min_samples_leaf = [3,5,10,15,30,50,100]\n",
    "\n",
    "# define grid search\n",
    "grid = dict(max_depth=max_depth,min_samples_leaf=min_samples_leaf)\n",
    "cv = RepeatedStratifiedKFold(n_splits=10, n_repeats=3, random_state=1)\n",
    "grid_search = GridSearchCV(estimator=model, param_grid=grid, n_jobs=-1, cv=cv, scoring='accuracy',error_score=0)\n",
    "grid_result = grid_search.fit(x_train, y_train)\n",
    "# summarize results\n",
    "print(\"Best: %f using %s\" % (grid_result.best_score_, grid_result.best_params_))\n",
    "means = grid_result.cv_results_['mean_test_score']\n",
    "stds = grid_result.cv_results_['std_test_score']\n",
    "params = grid_result.cv_results_['params']\n",
    "for mean, stdev, param in zip(means, stds, params):\n",
    "    print(\"%f (%f) with: %r\" % (mean, stdev, param))"
   ],
   "metadata": {
    "collapsed": false,
    "pycharm": {
     "name": "#%%\n"
    }
   }
  },
  {
   "cell_type": "code",
   "execution_count": 40,
   "outputs": [
    {
     "data": {
      "text/plain": "      Model Name  Train Accuracy  Validation Accuracy  Test Accuracy\n0  Random Forest        0.755805             0.433677       0.496216",
      "text/html": "<div>\n<style scoped>\n    .dataframe tbody tr th:only-of-type {\n        vertical-align: middle;\n    }\n\n    .dataframe tbody tr th {\n        vertical-align: top;\n    }\n\n    .dataframe thead th {\n        text-align: right;\n    }\n</style>\n<table border=\"1\" class=\"dataframe\">\n  <thead>\n    <tr style=\"text-align: right;\">\n      <th></th>\n      <th>Model Name</th>\n      <th>Train Accuracy</th>\n      <th>Validation Accuracy</th>\n      <th>Test Accuracy</th>\n    </tr>\n  </thead>\n  <tbody>\n    <tr>\n      <th>0</th>\n      <td>Random Forest</td>\n      <td>0.755805</td>\n      <td>0.433677</td>\n      <td>0.496216</td>\n    </tr>\n  </tbody>\n</table>\n</div>"
     },
     "execution_count": 40,
     "metadata": {},
     "output_type": "execute_result"
    }
   ],
   "source": [
    "##RF_scores_table"
   ],
   "metadata": {
    "collapsed": false,
    "pycharm": {
     "name": "#%%\n"
    }
   }
  },
  {
   "cell_type": "code",
   "execution_count": null,
   "outputs": [],
   "source": [
    "# 2 nd Attempt"
   ],
   "metadata": {
    "collapsed": false,
    "pycharm": {
     "name": "#%%\n"
    }
   }
  },
  {
   "cell_type": "code",
   "execution_count": 41,
   "outputs": [
    {
     "name": "stdout",
     "output_type": "stream",
     "text": [
      "Best: 0.453530 using {'max_depth': 17, 'min_samples_leaf': 10}\n",
      "0.444142 (0.014499) with: {'max_depth': 13, 'min_samples_leaf': 1}\n",
      "0.449492 (0.013588) with: {'max_depth': 13, 'min_samples_leaf': 2}\n",
      "0.445757 (0.013870) with: {'max_depth': 13, 'min_samples_leaf': 3}\n",
      "0.446934 (0.014832) with: {'max_depth': 13, 'min_samples_leaf': 4}\n",
      "0.448652 (0.013025) with: {'max_depth': 13, 'min_samples_leaf': 5}\n",
      "0.448651 (0.014329) with: {'max_depth': 13, 'min_samples_leaf': 6}\n",
      "0.449256 (0.015324) with: {'max_depth': 13, 'min_samples_leaf': 7}\n",
      "0.447674 (0.013410) with: {'max_depth': 13, 'min_samples_leaf': 8}\n",
      "0.447742 (0.014025) with: {'max_depth': 13, 'min_samples_leaf': 9}\n",
      "0.447103 (0.015699) with: {'max_depth': 13, 'min_samples_leaf': 10}\n",
      "0.445924 (0.015062) with: {'max_depth': 14, 'min_samples_leaf': 1}\n",
      "0.443065 (0.015069) with: {'max_depth': 14, 'min_samples_leaf': 2}\n",
      "0.447507 (0.014253) with: {'max_depth': 14, 'min_samples_leaf': 3}\n",
      "0.448281 (0.015276) with: {'max_depth': 14, 'min_samples_leaf': 4}\n",
      "0.448888 (0.013246) with: {'max_depth': 14, 'min_samples_leaf': 5}\n",
      "0.448955 (0.014822) with: {'max_depth': 14, 'min_samples_leaf': 6}\n",
      "0.449896 (0.014778) with: {'max_depth': 14, 'min_samples_leaf': 7}\n",
      "0.447407 (0.013375) with: {'max_depth': 14, 'min_samples_leaf': 8}\n",
      "0.446700 (0.015266) with: {'max_depth': 14, 'min_samples_leaf': 9}\n",
      "0.446800 (0.013559) with: {'max_depth': 14, 'min_samples_leaf': 10}\n",
      "0.448413 (0.013661) with: {'max_depth': 15, 'min_samples_leaf': 1}\n",
      "0.451241 (0.016233) with: {'max_depth': 15, 'min_samples_leaf': 2}\n",
      "0.451781 (0.012313) with: {'max_depth': 15, 'min_samples_leaf': 3}\n",
      "0.449593 (0.013436) with: {'max_depth': 15, 'min_samples_leaf': 4}\n",
      "0.449391 (0.012676) with: {'max_depth': 15, 'min_samples_leaf': 5}\n",
      "0.447002 (0.015140) with: {'max_depth': 15, 'min_samples_leaf': 6}\n",
      "0.450231 (0.013996) with: {'max_depth': 15, 'min_samples_leaf': 7}\n",
      "0.450199 (0.013396) with: {'max_depth': 15, 'min_samples_leaf': 8}\n",
      "0.447878 (0.015277) with: {'max_depth': 15, 'min_samples_leaf': 9}\n",
      "0.448448 (0.014929) with: {'max_depth': 15, 'min_samples_leaf': 10}\n",
      "0.452285 (0.011121) with: {'max_depth': 16, 'min_samples_leaf': 1}\n",
      "0.452015 (0.016907) with: {'max_depth': 16, 'min_samples_leaf': 2}\n",
      "0.451982 (0.015983) with: {'max_depth': 16, 'min_samples_leaf': 3}\n",
      "0.449526 (0.011709) with: {'max_depth': 16, 'min_samples_leaf': 4}\n",
      "0.448382 (0.013900) with: {'max_depth': 16, 'min_samples_leaf': 5}\n",
      "0.453058 (0.015132) with: {'max_depth': 16, 'min_samples_leaf': 6}\n",
      "0.452016 (0.015147) with: {'max_depth': 16, 'min_samples_leaf': 7}\n",
      "0.450838 (0.013050) with: {'max_depth': 16, 'min_samples_leaf': 8}\n",
      "0.450435 (0.014994) with: {'max_depth': 16, 'min_samples_leaf': 9}\n",
      "0.448920 (0.015853) with: {'max_depth': 16, 'min_samples_leaf': 10}\n",
      "0.450232 (0.017080) with: {'max_depth': 17, 'min_samples_leaf': 1}\n",
      "0.450435 (0.017521) with: {'max_depth': 17, 'min_samples_leaf': 2}\n",
      "0.452655 (0.016462) with: {'max_depth': 17, 'min_samples_leaf': 3}\n",
      "0.451242 (0.013511) with: {'max_depth': 17, 'min_samples_leaf': 4}\n",
      "0.451646 (0.015682) with: {'max_depth': 17, 'min_samples_leaf': 5}\n",
      "0.453195 (0.015583) with: {'max_depth': 17, 'min_samples_leaf': 6}\n",
      "0.451108 (0.016019) with: {'max_depth': 17, 'min_samples_leaf': 7}\n",
      "0.451073 (0.017162) with: {'max_depth': 17, 'min_samples_leaf': 8}\n",
      "0.449694 (0.016224) with: {'max_depth': 17, 'min_samples_leaf': 9}\n",
      "0.453530 (0.013442) with: {'max_depth': 17, 'min_samples_leaf': 10}\n",
      "0.449155 (0.014587) with: {'max_depth': 18, 'min_samples_leaf': 1}\n",
      "0.453093 (0.014467) with: {'max_depth': 18, 'min_samples_leaf': 2}\n",
      "0.448281 (0.014482) with: {'max_depth': 18, 'min_samples_leaf': 3}\n",
      "0.453092 (0.014057) with: {'max_depth': 18, 'min_samples_leaf': 4}\n",
      "0.452151 (0.017256) with: {'max_depth': 18, 'min_samples_leaf': 5}\n",
      "0.451948 (0.014518) with: {'max_depth': 18, 'min_samples_leaf': 6}\n",
      "0.452556 (0.015420) with: {'max_depth': 18, 'min_samples_leaf': 7}\n",
      "0.452891 (0.013977) with: {'max_depth': 18, 'min_samples_leaf': 8}\n",
      "0.450266 (0.011586) with: {'max_depth': 18, 'min_samples_leaf': 9}\n",
      "0.452453 (0.014804) with: {'max_depth': 18, 'min_samples_leaf': 10}\n"
     ]
    }
   ],
   "source": [
    "model = RandomForestClassifier()\n",
    "max_depth = [13,14,15,16,17,18]\n",
    "min_samples_leaf = [1,2,3,4,5,6,7,8,9,10]\n",
    "\n",
    "# define grid search\n",
    "grid = dict(max_depth=max_depth,min_samples_leaf=min_samples_leaf)\n",
    "cv = RepeatedStratifiedKFold(n_splits=10, n_repeats=3, random_state=1)\n",
    "grid_search = GridSearchCV(estimator=model, param_grid=grid, n_jobs=-1, cv=cv, scoring='accuracy',error_score=0)\n",
    "grid_result = grid_search.fit(x_train, y_train)\n",
    "# summarize results\n",
    "print(\"Best: %f using %s\" % (grid_result.best_score_, grid_result.best_params_))\n",
    "means = grid_result.cv_results_['mean_test_score']\n",
    "stds = grid_result.cv_results_['std_test_score']\n",
    "params = grid_result.cv_results_['params']\n",
    "for mean, stdev, param in zip(means, stds, params):\n",
    "    print(\"%f (%f) with: %r\" % (mean, stdev, param))"
   ],
   "metadata": {
    "collapsed": false,
    "pycharm": {
     "name": "#%%\n"
    }
   }
  },
  {
   "cell_type": "code",
   "execution_count": 50,
   "outputs": [
    {
     "data": {
      "text/plain": "      Model Name  Train Accuracy  Validation Accuracy  Test Accuracy\n0  Random Forest        0.648799             0.436705       0.496216",
      "text/html": "<div>\n<style scoped>\n    .dataframe tbody tr th:only-of-type {\n        vertical-align: middle;\n    }\n\n    .dataframe tbody tr th {\n        vertical-align: top;\n    }\n\n    .dataframe thead th {\n        text-align: right;\n    }\n</style>\n<table border=\"1\" class=\"dataframe\">\n  <thead>\n    <tr style=\"text-align: right;\">\n      <th></th>\n      <th>Model Name</th>\n      <th>Train Accuracy</th>\n      <th>Validation Accuracy</th>\n      <th>Test Accuracy</th>\n    </tr>\n  </thead>\n  <tbody>\n    <tr>\n      <th>0</th>\n      <td>Random Forest</td>\n      <td>0.648799</td>\n      <td>0.436705</td>\n      <td>0.496216</td>\n    </tr>\n  </tbody>\n</table>\n</div>"
     },
     "execution_count": 50,
     "metadata": {},
     "output_type": "execute_result"
    }
   ],
   "source": [
    "#RF_scores_table"
   ],
   "metadata": {
    "collapsed": false,
    "pycharm": {
     "name": "#%%\n"
    }
   }
  },
  {
   "cell_type": "code",
   "execution_count": null,
   "outputs": [],
   "source": [
    "# 3 nd Attempt"
   ],
   "metadata": {
    "collapsed": false,
    "pycharm": {
     "name": "#%%\n"
    }
   }
  },
  {
   "cell_type": "code",
   "execution_count": 51,
   "outputs": [
    {
     "name": "stdout",
     "output_type": "stream",
     "text": [
      "Best: 0.455649 using {'max_depth': 18, 'min_samples_leaf': 5}\n",
      "0.449358 (0.012871) with: {'max_depth': 15, 'min_samples_leaf': 5}\n",
      "0.449122 (0.013312) with: {'max_depth': 15, 'min_samples_leaf': 6}\n",
      "0.448145 (0.015357) with: {'max_depth': 15, 'min_samples_leaf': 7}\n",
      "0.448683 (0.015737) with: {'max_depth': 15, 'min_samples_leaf': 8}\n",
      "0.448954 (0.014042) with: {'max_depth': 15, 'min_samples_leaf': 9}\n",
      "0.447473 (0.013790) with: {'max_depth': 15, 'min_samples_leaf': 10}\n",
      "0.448954 (0.012990) with: {'max_depth': 15, 'min_samples_leaf': 11}\n",
      "0.445858 (0.015296) with: {'max_depth': 15, 'min_samples_leaf': 12}\n",
      "0.446296 (0.014477) with: {'max_depth': 15, 'min_samples_leaf': 13}\n",
      "0.449760 (0.014523) with: {'max_depth': 15, 'min_samples_leaf': 14}\n",
      "0.450164 (0.013932) with: {'max_depth': 16, 'min_samples_leaf': 5}\n",
      "0.452656 (0.012392) with: {'max_depth': 16, 'min_samples_leaf': 6}\n",
      "0.449796 (0.013889) with: {'max_depth': 16, 'min_samples_leaf': 7}\n",
      "0.447878 (0.016213) with: {'max_depth': 16, 'min_samples_leaf': 8}\n",
      "0.447978 (0.014270) with: {'max_depth': 16, 'min_samples_leaf': 9}\n",
      "0.447575 (0.017199) with: {'max_depth': 16, 'min_samples_leaf': 10}\n",
      "0.448584 (0.013318) with: {'max_depth': 16, 'min_samples_leaf': 11}\n",
      "0.448248 (0.013496) with: {'max_depth': 16, 'min_samples_leaf': 12}\n",
      "0.448347 (0.015404) with: {'max_depth': 16, 'min_samples_leaf': 13}\n",
      "0.447675 (0.017575) with: {'max_depth': 16, 'min_samples_leaf': 14}\n",
      "0.451712 (0.016748) with: {'max_depth': 17, 'min_samples_leaf': 5}\n",
      "0.451107 (0.015245) with: {'max_depth': 17, 'min_samples_leaf': 6}\n",
      "0.450535 (0.014117) with: {'max_depth': 17, 'min_samples_leaf': 7}\n",
      "0.449089 (0.013568) with: {'max_depth': 17, 'min_samples_leaf': 8}\n",
      "0.452385 (0.017057) with: {'max_depth': 17, 'min_samples_leaf': 9}\n",
      "0.451242 (0.014689) with: {'max_depth': 17, 'min_samples_leaf': 10}\n",
      "0.448045 (0.017458) with: {'max_depth': 17, 'min_samples_leaf': 11}\n",
      "0.449963 (0.013134) with: {'max_depth': 17, 'min_samples_leaf': 12}\n",
      "0.449761 (0.013715) with: {'max_depth': 17, 'min_samples_leaf': 13}\n",
      "0.448347 (0.017042) with: {'max_depth': 17, 'min_samples_leaf': 14}\n",
      "0.455649 (0.017710) with: {'max_depth': 18, 'min_samples_leaf': 5}\n",
      "0.455111 (0.015241) with: {'max_depth': 18, 'min_samples_leaf': 6}\n",
      "0.453834 (0.016684) with: {'max_depth': 18, 'min_samples_leaf': 7}\n",
      "0.451914 (0.015256) with: {'max_depth': 18, 'min_samples_leaf': 8}\n",
      "0.450468 (0.014922) with: {'max_depth': 18, 'min_samples_leaf': 9}\n",
      "0.453059 (0.014724) with: {'max_depth': 18, 'min_samples_leaf': 10}\n",
      "0.452149 (0.014228) with: {'max_depth': 18, 'min_samples_leaf': 11}\n",
      "0.449828 (0.015856) with: {'max_depth': 18, 'min_samples_leaf': 12}\n",
      "0.450333 (0.014869) with: {'max_depth': 18, 'min_samples_leaf': 13}\n",
      "0.449290 (0.014281) with: {'max_depth': 18, 'min_samples_leaf': 14}\n",
      "0.450838 (0.015773) with: {'max_depth': 19, 'min_samples_leaf': 5}\n",
      "0.452015 (0.015418) with: {'max_depth': 19, 'min_samples_leaf': 6}\n",
      "0.453294 (0.014498) with: {'max_depth': 19, 'min_samples_leaf': 7}\n",
      "0.452083 (0.013386) with: {'max_depth': 19, 'min_samples_leaf': 8}\n",
      "0.454304 (0.015752) with: {'max_depth': 19, 'min_samples_leaf': 9}\n",
      "0.451881 (0.013458) with: {'max_depth': 19, 'min_samples_leaf': 10}\n",
      "0.450300 (0.015672) with: {'max_depth': 19, 'min_samples_leaf': 11}\n",
      "0.453530 (0.014697) with: {'max_depth': 19, 'min_samples_leaf': 12}\n",
      "0.448245 (0.013389) with: {'max_depth': 19, 'min_samples_leaf': 13}\n",
      "0.452487 (0.012620) with: {'max_depth': 19, 'min_samples_leaf': 14}\n",
      "0.453834 (0.017098) with: {'max_depth': 20, 'min_samples_leaf': 5}\n",
      "0.450468 (0.013836) with: {'max_depth': 20, 'min_samples_leaf': 6}\n",
      "0.454337 (0.015522) with: {'max_depth': 20, 'min_samples_leaf': 7}\n",
      "0.452857 (0.016292) with: {'max_depth': 20, 'min_samples_leaf': 8}\n",
      "0.451713 (0.013367) with: {'max_depth': 20, 'min_samples_leaf': 9}\n",
      "0.452521 (0.015476) with: {'max_depth': 20, 'min_samples_leaf': 10}\n",
      "0.451240 (0.015586) with: {'max_depth': 20, 'min_samples_leaf': 11}\n",
      "0.449660 (0.013665) with: {'max_depth': 20, 'min_samples_leaf': 12}\n",
      "0.448213 (0.015170) with: {'max_depth': 20, 'min_samples_leaf': 13}\n",
      "0.451782 (0.014079) with: {'max_depth': 20, 'min_samples_leaf': 14}\n"
     ]
    }
   ],
   "source": [
    "model = RandomForestClassifier()\n",
    "max_depth = [15,16,17,18,19,20]\n",
    "min_samples_leaf = [5,6,7,8,9,10,11,12,13,14]\n",
    "\n",
    "# define grid search\n",
    "grid = dict(max_depth=max_depth,min_samples_leaf=min_samples_leaf)\n",
    "cv = RepeatedStratifiedKFold(n_splits=10, n_repeats=3, random_state=1)\n",
    "grid_search = GridSearchCV(estimator=model, param_grid=grid, n_jobs=-1, cv=cv, scoring='accuracy',error_score=0)\n",
    "grid_result = grid_search.fit(x_train, y_train)\n",
    "# summarize results\n",
    "print(\"Best: %f using %s\" % (grid_result.best_score_, grid_result.best_params_))\n",
    "means = grid_result.cv_results_['mean_test_score']\n",
    "stds = grid_result.cv_results_['std_test_score']\n",
    "params = grid_result.cv_results_['params']\n",
    "for mean, stdev, param in zip(means, stds, params):\n",
    "    print(\"%f (%f) with: %r\" % (mean, stdev, param))"
   ],
   "metadata": {
    "collapsed": false,
    "pycharm": {
     "name": "#%%\n"
    }
   }
  },
  {
   "cell_type": "code",
   "execution_count": 52,
   "outputs": [
    {
     "data": {
      "text/plain": "RandomForestClassifier(max_depth=18, min_samples_leaf=5)",
      "text/html": "<style>#sk-container-id-6 {color: black;background-color: white;}#sk-container-id-6 pre{padding: 0;}#sk-container-id-6 div.sk-toggleable {background-color: white;}#sk-container-id-6 label.sk-toggleable__label {cursor: pointer;display: block;width: 100%;margin-bottom: 0;padding: 0.3em;box-sizing: border-box;text-align: center;}#sk-container-id-6 label.sk-toggleable__label-arrow:before {content: \"▸\";float: left;margin-right: 0.25em;color: #696969;}#sk-container-id-6 label.sk-toggleable__label-arrow:hover:before {color: black;}#sk-container-id-6 div.sk-estimator:hover label.sk-toggleable__label-arrow:before {color: black;}#sk-container-id-6 div.sk-toggleable__content {max-height: 0;max-width: 0;overflow: hidden;text-align: left;background-color: #f0f8ff;}#sk-container-id-6 div.sk-toggleable__content pre {margin: 0.2em;color: black;border-radius: 0.25em;background-color: #f0f8ff;}#sk-container-id-6 input.sk-toggleable__control:checked~div.sk-toggleable__content {max-height: 200px;max-width: 100%;overflow: auto;}#sk-container-id-6 input.sk-toggleable__control:checked~label.sk-toggleable__label-arrow:before {content: \"▾\";}#sk-container-id-6 div.sk-estimator input.sk-toggleable__control:checked~label.sk-toggleable__label {background-color: #d4ebff;}#sk-container-id-6 div.sk-label input.sk-toggleable__control:checked~label.sk-toggleable__label {background-color: #d4ebff;}#sk-container-id-6 input.sk-hidden--visually {border: 0;clip: rect(1px 1px 1px 1px);clip: rect(1px, 1px, 1px, 1px);height: 1px;margin: -1px;overflow: hidden;padding: 0;position: absolute;width: 1px;}#sk-container-id-6 div.sk-estimator {font-family: monospace;background-color: #f0f8ff;border: 1px dotted black;border-radius: 0.25em;box-sizing: border-box;margin-bottom: 0.5em;}#sk-container-id-6 div.sk-estimator:hover {background-color: #d4ebff;}#sk-container-id-6 div.sk-parallel-item::after {content: \"\";width: 100%;border-bottom: 1px solid gray;flex-grow: 1;}#sk-container-id-6 div.sk-label:hover label.sk-toggleable__label {background-color: #d4ebff;}#sk-container-id-6 div.sk-serial::before {content: \"\";position: absolute;border-left: 1px solid gray;box-sizing: border-box;top: 0;bottom: 0;left: 50%;z-index: 0;}#sk-container-id-6 div.sk-serial {display: flex;flex-direction: column;align-items: center;background-color: white;padding-right: 0.2em;padding-left: 0.2em;position: relative;}#sk-container-id-6 div.sk-item {position: relative;z-index: 1;}#sk-container-id-6 div.sk-parallel {display: flex;align-items: stretch;justify-content: center;background-color: white;position: relative;}#sk-container-id-6 div.sk-item::before, #sk-container-id-6 div.sk-parallel-item::before {content: \"\";position: absolute;border-left: 1px solid gray;box-sizing: border-box;top: 0;bottom: 0;left: 50%;z-index: -1;}#sk-container-id-6 div.sk-parallel-item {display: flex;flex-direction: column;z-index: 1;position: relative;background-color: white;}#sk-container-id-6 div.sk-parallel-item:first-child::after {align-self: flex-end;width: 50%;}#sk-container-id-6 div.sk-parallel-item:last-child::after {align-self: flex-start;width: 50%;}#sk-container-id-6 div.sk-parallel-item:only-child::after {width: 0;}#sk-container-id-6 div.sk-dashed-wrapped {border: 1px dashed gray;margin: 0 0.4em 0.5em 0.4em;box-sizing: border-box;padding-bottom: 0.4em;background-color: white;}#sk-container-id-6 div.sk-label label {font-family: monospace;font-weight: bold;display: inline-block;line-height: 1.2em;}#sk-container-id-6 div.sk-label-container {text-align: center;}#sk-container-id-6 div.sk-container {/* jupyter's `normalize.less` sets `[hidden] { display: none; }` but bootstrap.min.css set `[hidden] { display: none !important; }` so we also need the `!important` here to be able to override the default hidden behavior on the sphinx rendered scikit-learn.org. See: https://github.com/scikit-learn/scikit-learn/issues/21755 */display: inline-block !important;position: relative;}#sk-container-id-6 div.sk-text-repr-fallback {display: none;}</style><div id=\"sk-container-id-6\" class=\"sk-top-container\"><div class=\"sk-text-repr-fallback\"><pre>RandomForestClassifier(max_depth=18, min_samples_leaf=5)</pre><b>In a Jupyter environment, please rerun this cell to show the HTML representation or trust the notebook. <br />On GitHub, the HTML representation is unable to render, please try loading this page with nbviewer.org.</b></div><div class=\"sk-container\" hidden><div class=\"sk-item\"><div class=\"sk-estimator sk-toggleable\"><input class=\"sk-toggleable__control sk-hidden--visually\" id=\"sk-estimator-id-6\" type=\"checkbox\" checked><label for=\"sk-estimator-id-6\" class=\"sk-toggleable__label sk-toggleable__label-arrow\">RandomForestClassifier</label><div class=\"sk-toggleable__content\"><pre>RandomForestClassifier(max_depth=18, min_samples_leaf=5)</pre></div></div></div></div></div>"
     },
     "execution_count": 52,
     "metadata": {},
     "output_type": "execute_result"
    }
   ],
   "source": [
    "RF_classifier = RandomForestClassifier(max_depth=18,min_samples_leaf=5)\n",
    "RF_classifier.fit(x_train, y_train)"
   ],
   "metadata": {
    "collapsed": false,
    "pycharm": {
     "name": "#%%\n"
    }
   }
  },
  {
   "cell_type": "code",
   "source": [
    "y_predict_train = RF_classifier.predict(x_train)\n",
    "y_predict_train\n",
    "cm = confusion_matrix(y_train, y_predict_train)\n",
    "conf_matrix(cm)"
   ],
   "metadata": {
    "collapsed": false,
    "pycharm": {
     "name": "#%%\n"
    }
   },
   "execution_count": 53,
   "outputs": [
    {
     "data": {
      "text/plain": "<Figure size 648x648 with 1 Axes>",
      "image/png": "[encoded data removed]"
     },
     "metadata": {
      "needs_background": "light"
     },
     "output_type": "display_data"
    }
   ]
  },
  {
   "cell_type": "code",
   "source": [
    "# Predicting the Val set results\n",
    "y_predict_val = RF_classifier.predict(x_val)\n",
    "cm = confusion_matrix(y_val, y_predict_val)\n",
    "conf_matrix(cm)"
   ],
   "metadata": {
    "collapsed": false,
    "pycharm": {
     "name": "#%%\n"
    }
   },
   "execution_count": 54,
   "outputs": [
    {
     "data": {
      "text/plain": "<Figure size 648x648 with 1 Axes>",
      "image/png": "[encoded data removed]"
     },
     "metadata": {
      "needs_background": "light"
     },
     "output_type": "display_data"
    }
   ]
  },
  {
   "cell_type": "code",
   "execution_count": 55,
   "outputs": [
    {
     "name": "stdout",
     "output_type": "stream",
     "text": [
      "              precision    recall  f1-score   support\n",
      "\n",
      "           1       0.47      0.70      0.56       633\n",
      "           2       0.42      0.26      0.32       702\n",
      "           3       0.40      0.28      0.33       674\n",
      "           4       0.38      0.41      0.39       639\n",
      "           5       0.51      0.60      0.55       654\n",
      "\n",
      "    accuracy                           0.44      3302\n",
      "   macro avg       0.44      0.45      0.43      3302\n",
      "weighted avg       0.44      0.44      0.43      3302\n",
      "\n"
     ]
    }
   ],
   "source": [
    "print(classification_report(y_val, y_predict_val))"
   ],
   "metadata": {
    "collapsed": false,
    "pycharm": {
     "name": "#%%\n"
    }
   }
  },
  {
   "cell_type": "code",
   "execution_count": 56,
   "outputs": [
    {
     "data": {
      "text/plain": "<Figure size 648x648 with 1 Axes>",
      "image/png": "[encoded data removed]"
     },
     "metadata": {
      "needs_background": "light"
     },
     "output_type": "display_data"
    }
   ],
   "source": [
    "y_predict_test = NB_classifier.predict(x_test)\n",
    "cm = confusion_matrix(y_test, y_predict_test)\n",
    "conf_matrix(cm)"
   ],
   "metadata": {
    "collapsed": false,
    "pycharm": {
     "name": "#%%\n"
    }
   }
  },
  {
   "cell_type": "code",
   "execution_count": 57,
   "outputs": [
    {
     "name": "stdout",
     "output_type": "stream",
     "text": [
      "              precision    recall  f1-score   support\n",
      "\n",
      "           1       0.57      0.68      0.62       668\n",
      "           2       0.40      0.35      0.37       662\n",
      "           3       0.42      0.38      0.40       670\n",
      "           4       0.44      0.44      0.44       635\n",
      "           5       0.60      0.63      0.62       668\n",
      "\n",
      "    accuracy                           0.50      3303\n",
      "   macro avg       0.49      0.50      0.49      3303\n",
      "weighted avg       0.49      0.50      0.49      3303\n",
      "\n"
     ]
    }
   ],
   "source": [
    "print(classification_report(y_test, y_predict_test))"
   ],
   "metadata": {
    "collapsed": false,
    "pycharm": {
     "name": "#%%\n"
    }
   }
  },
  {
   "cell_type": "code",
   "execution_count": 58,
   "outputs": [
    {
     "data": {
      "text/plain": "      Model Name  Train Accuracy  Validation Accuracy  Test Accuracy\n0  Random Forest         0.75318             0.444882       0.496216",
      "text/html": "<div>\n<style scoped>\n    .dataframe tbody tr th:only-of-type {\n        vertical-align: middle;\n    }\n\n    .dataframe tbody tr th {\n        vertical-align: top;\n    }\n\n    .dataframe thead th {\n        text-align: right;\n    }\n</style>\n<table border=\"1\" class=\"dataframe\">\n  <thead>\n    <tr style=\"text-align: right;\">\n      <th></th>\n      <th>Model Name</th>\n      <th>Train Accuracy</th>\n      <th>Validation Accuracy</th>\n      <th>Test Accuracy</th>\n    </tr>\n  </thead>\n  <tbody>\n    <tr>\n      <th>0</th>\n      <td>Random Forest</td>\n      <td>0.75318</td>\n      <td>0.444882</td>\n      <td>0.496216</td>\n    </tr>\n  </tbody>\n</table>\n</div>"
     },
     "execution_count": 58,
     "metadata": {},
     "output_type": "execute_result"
    }
   ],
   "source": [
    "a = 'Random Forest'\n",
    "d = {'Model Name': [a],\n",
    "             'Train Accuracy': [metrics.accuracy_score(y_train, y_predict_train)],\n",
    "             'Validation Accuracy': [metrics.accuracy_score(y_val, y_predict_val)],\n",
    "             'Test Accuracy':[metrics.accuracy_score(y_test, y_predict_test)]}\n",
    "RF_scores_table = pd.DataFrame(data=d)\n",
    "RF_scores_table"
   ],
   "metadata": {
    "collapsed": false,
    "pycharm": {
     "name": "#%%\n"
    }
   }
  },
  {
   "cell_type": "markdown",
   "source": [
    "# Bagged Decision Trees"
   ],
   "metadata": {
    "collapsed": false,
    "pycharm": {
     "name": "#%% md\n"
    }
   }
  },
  {
   "cell_type": "code",
   "execution_count": 60,
   "outputs": [
    {
     "name": "stdout",
     "output_type": "stream",
     "text": [
      "Best: 0.369909 using {'max_depth': 15, 'min_samples_leaf': 5}\n",
      "0.299447 (0.011442) with: {'max_depth': 3, 'min_samples_leaf': 3}\n",
      "0.299447 (0.011442) with: {'max_depth': 3, 'min_samples_leaf': 4}\n",
      "0.299447 (0.011442) with: {'max_depth': 3, 'min_samples_leaf': 5}\n",
      "0.299447 (0.011442) with: {'max_depth': 3, 'min_samples_leaf': 6}\n",
      "0.299447 (0.011442) with: {'max_depth': 3, 'min_samples_leaf': 7}\n",
      "0.299447 (0.011442) with: {'max_depth': 3, 'min_samples_leaf': 8}\n",
      "0.299447 (0.011442) with: {'max_depth': 3, 'min_samples_leaf': 9}\n",
      "0.350326 (0.014288) with: {'max_depth': 5, 'min_samples_leaf': 3}\n",
      "0.350258 (0.014320) with: {'max_depth': 5, 'min_samples_leaf': 4}\n",
      "0.350225 (0.014330) with: {'max_depth': 5, 'min_samples_leaf': 5}\n",
      "0.350191 (0.014124) with: {'max_depth': 5, 'min_samples_leaf': 6}\n",
      "0.349686 (0.014005) with: {'max_depth': 5, 'min_samples_leaf': 7}\n",
      "0.349787 (0.014246) with: {'max_depth': 5, 'min_samples_leaf': 8}\n",
      "0.349888 (0.014226) with: {'max_depth': 5, 'min_samples_leaf': 9}\n",
      "0.366041 (0.012394) with: {'max_depth': 10, 'min_samples_leaf': 3}\n",
      "0.366243 (0.012211) with: {'max_depth': 10, 'min_samples_leaf': 4}\n",
      "0.366512 (0.011498) with: {'max_depth': 10, 'min_samples_leaf': 5}\n",
      "0.365233 (0.011649) with: {'max_depth': 10, 'min_samples_leaf': 6}\n",
      "0.366208 (0.012342) with: {'max_depth': 10, 'min_samples_leaf': 7}\n",
      "0.365703 (0.011537) with: {'max_depth': 10, 'min_samples_leaf': 8}\n",
      "0.366040 (0.013479) with: {'max_depth': 10, 'min_samples_leaf': 9}\n",
      "0.367150 (0.013378) with: {'max_depth': 15, 'min_samples_leaf': 3}\n",
      "0.368967 (0.013176) with: {'max_depth': 15, 'min_samples_leaf': 4}\n",
      "0.369909 (0.014884) with: {'max_depth': 15, 'min_samples_leaf': 5}\n",
      "0.367992 (0.012931) with: {'max_depth': 15, 'min_samples_leaf': 6}\n",
      "0.365804 (0.011430) with: {'max_depth': 15, 'min_samples_leaf': 7}\n",
      "0.366207 (0.013983) with: {'max_depth': 15, 'min_samples_leaf': 8}\n",
      "0.368093 (0.015346) with: {'max_depth': 15, 'min_samples_leaf': 9}\n",
      "0.350058 (0.011085) with: {'max_depth': 30, 'min_samples_leaf': 3}\n",
      "0.355577 (0.011344) with: {'max_depth': 30, 'min_samples_leaf': 4}\n",
      "0.355880 (0.014523) with: {'max_depth': 30, 'min_samples_leaf': 5}\n",
      "0.357934 (0.012521) with: {'max_depth': 30, 'min_samples_leaf': 6}\n",
      "0.358101 (0.018200) with: {'max_depth': 30, 'min_samples_leaf': 7}\n",
      "0.360893 (0.014910) with: {'max_depth': 30, 'min_samples_leaf': 8}\n",
      "0.361633 (0.017436) with: {'max_depth': 30, 'min_samples_leaf': 9}\n",
      "0.344775 (0.010774) with: {'max_depth': 50, 'min_samples_leaf': 3}\n",
      "0.349654 (0.012164) with: {'max_depth': 50, 'min_samples_leaf': 4}\n",
      "0.352683 (0.015734) with: {'max_depth': 50, 'min_samples_leaf': 5}\n",
      "0.355545 (0.013171) with: {'max_depth': 50, 'min_samples_leaf': 6}\n",
      "0.356115 (0.014990) with: {'max_depth': 50, 'min_samples_leaf': 7}\n",
      "0.359413 (0.015581) with: {'max_depth': 50, 'min_samples_leaf': 8}\n",
      "0.359379 (0.017095) with: {'max_depth': 50, 'min_samples_leaf': 9}\n",
      "0.344303 (0.012649) with: {'max_depth': 100, 'min_samples_leaf': 3}\n",
      "0.349486 (0.012270) with: {'max_depth': 100, 'min_samples_leaf': 4}\n",
      "0.352077 (0.015963) with: {'max_depth': 100, 'min_samples_leaf': 5}\n",
      "0.354569 (0.013949) with: {'max_depth': 100, 'min_samples_leaf': 6}\n",
      "0.354870 (0.014669) with: {'max_depth': 100, 'min_samples_leaf': 7}\n",
      "0.358269 (0.015419) with: {'max_depth': 100, 'min_samples_leaf': 8}\n",
      "0.359345 (0.017954) with: {'max_depth': 100, 'min_samples_leaf': 9}\n"
     ]
    }
   ],
   "source": [
    "from sklearn.tree import DecisionTreeClassifier\n",
    "model = DecisionTreeClassifier()\n",
    "max_depth = [3,5,10,15,30,50,100]\n",
    "min_samples_leaf = [3,4,5,6,7,8,9]\n",
    "# define grid search\n",
    "grid = dict(min_samples_leaf=min_samples_leaf,max_depth=max_depth)\n",
    "cv = RepeatedStratifiedKFold(n_splits=10, n_repeats=3, random_state=1)\n",
    "grid_search = GridSearchCV(estimator=model, param_grid=grid, n_jobs=-1, cv=cv, scoring='accuracy',error_score=0)\n",
    "grid_result = grid_search.fit(x_train, y_train)\n",
    "# summarize results\n",
    "print(\"Best: %f using %s\" % (grid_result.best_score_, grid_result.best_params_))\n",
    "means = grid_result.cv_results_['mean_test_score']\n",
    "stds = grid_result.cv_results_['std_test_score']\n",
    "params = grid_result.cv_results_['params']\n",
    "for mean, stdev, param in zip(means, stds, params):\n",
    "    print(\"%f (%f) with: %r\" % (mean, stdev, param))"
   ],
   "metadata": {
    "collapsed": false,
    "pycharm": {
     "name": "#%%\n"
    }
   }
  },
  {
   "cell_type": "code",
   "execution_count": 75,
   "outputs": [
    {
     "data": {
      "text/plain": "               Model Name  Train Accuracy  Validation Accuracy  Test Accuracy\n0  DecisionTreeClassifier        0.585302             0.360388       0.374811",
      "text/html": "<div>\n<style scoped>\n    .dataframe tbody tr th:only-of-type {\n        vertical-align: middle;\n    }\n\n    .dataframe tbody tr th {\n        vertical-align: top;\n    }\n\n    .dataframe thead th {\n        text-align: right;\n    }\n</style>\n<table border=\"1\" class=\"dataframe\">\n  <thead>\n    <tr style=\"text-align: right;\">\n      <th></th>\n      <th>Model Name</th>\n      <th>Train Accuracy</th>\n      <th>Validation Accuracy</th>\n      <th>Test Accuracy</th>\n    </tr>\n  </thead>\n  <tbody>\n    <tr>\n      <th>0</th>\n      <td>DecisionTreeClassifier</td>\n      <td>0.585302</td>\n      <td>0.360388</td>\n      <td>0.374811</td>\n    </tr>\n  </tbody>\n</table>\n</div>"
     },
     "execution_count": 75,
     "metadata": {},
     "output_type": "execute_result"
    }
   ],
   "source": [
    "#DTC_scores_table -- Best: 0.369909 using {'max_depth': 15, 'min_samples_leaf': 5}"
   ],
   "metadata": {
    "collapsed": false,
    "pycharm": {
     "name": "#%%\n"
    }
   }
  },
  {
   "cell_type": "code",
   "execution_count": null,
   "outputs": [],
   "source": [
    "#2 nd Attempt"
   ],
   "metadata": {
    "collapsed": false,
    "pycharm": {
     "name": "#%%\n"
    }
   }
  },
  {
   "cell_type": "code",
   "execution_count": null,
   "outputs": [],
   "source": [
    "from sklearn.tree import DecisionTreeClassifier\n",
    "model = DecisionTreeClassifier()\n",
    "max_depth = [12,13,14,15,16,17,18]\n",
    "min_samples_leaf = [2,3,4,5,6,7,8]\n",
    "# define grid search\n",
    "grid = dict(min_samples_leaf=min_samples_leaf,max_depth=max_depth)\n",
    "cv = RepeatedStratifiedKFold(n_splits=10, n_repeats=3, random_state=1)\n",
    "grid_search = GridSearchCV(estimator=model, param_grid=grid, n_jobs=-1, cv=cv, scoring='accuracy',error_score=0)\n",
    "grid_result = grid_search.fit(x_train, y_train)\n",
    "# summarize results\n",
    "print(\"Best: %f using %s\" % (grid_result.best_score_, grid_result.best_params_))\n",
    "means = grid_result.cv_results_['mean_test_score']\n",
    "stds = grid_result.cv_results_['std_test_score']\n",
    "params = grid_result.cv_results_['params']\n",
    "for mean, stdev, param in zip(means, stds, params):\n",
    "    print(\"%f (%f) with: %r\" % (mean, stdev, param))"
   ],
   "metadata": {
    "collapsed": false,
    "pycharm": {
     "name": "#%%\n"
    }
   }
  },
  {
   "cell_type": "code",
   "execution_count": 68,
   "outputs": [
    {
     "data": {
      "text/plain": "DecisionTreeClassifier(max_depth=18, min_samples_leaf=5)",
      "text/html": "<style>#sk-container-id-8 {color: black;background-color: white;}#sk-container-id-8 pre{padding: 0;}#sk-container-id-8 div.sk-toggleable {background-color: white;}#sk-container-id-8 label.sk-toggleable__label {cursor: pointer;display: block;width: 100%;margin-bottom: 0;padding: 0.3em;box-sizing: border-box;text-align: center;}#sk-container-id-8 label.sk-toggleable__label-arrow:before {content: \"▸\";float: left;margin-right: 0.25em;color: #696969;}#sk-container-id-8 label.sk-toggleable__label-arrow:hover:before {color: black;}#sk-container-id-8 div.sk-estimator:hover label.sk-toggleable__label-arrow:before {color: black;}#sk-container-id-8 div.sk-toggleable__content {max-height: 0;max-width: 0;overflow: hidden;text-align: left;background-color: #f0f8ff;}#sk-container-id-8 div.sk-toggleable__content pre {margin: 0.2em;color: black;border-radius: 0.25em;background-color: #f0f8ff;}#sk-container-id-8 input.sk-toggleable__control:checked~div.sk-toggleable__content {max-height: 200px;max-width: 100%;overflow: auto;}#sk-container-id-8 input.sk-toggleable__control:checked~label.sk-toggleable__label-arrow:before {content: \"▾\";}#sk-container-id-8 div.sk-estimator input.sk-toggleable__control:checked~label.sk-toggleable__label {background-color: #d4ebff;}#sk-container-id-8 div.sk-label input.sk-toggleable__control:checked~label.sk-toggleable__label {background-color: #d4ebff;}#sk-container-id-8 input.sk-hidden--visually {border: 0;clip: rect(1px 1px 1px 1px);clip: rect(1px, 1px, 1px, 1px);height: 1px;margin: -1px;overflow: hidden;padding: 0;position: absolute;width: 1px;}#sk-container-id-8 div.sk-estimator {font-family: monospace;background-color: #f0f8ff;border: 1px dotted black;border-radius: 0.25em;box-sizing: border-box;margin-bottom: 0.5em;}#sk-container-id-8 div.sk-estimator:hover {background-color: #d4ebff;}#sk-container-id-8 div.sk-parallel-item::after {content: \"\";width: 100%;border-bottom: 1px solid gray;flex-grow: 1;}#sk-container-id-8 div.sk-label:hover label.sk-toggleable__label {background-color: #d4ebff;}#sk-container-id-8 div.sk-serial::before {content: \"\";position: absolute;border-left: 1px solid gray;box-sizing: border-box;top: 0;bottom: 0;left: 50%;z-index: 0;}#sk-container-id-8 div.sk-serial {display: flex;flex-direction: column;align-items: center;background-color: white;padding-right: 0.2em;padding-left: 0.2em;position: relative;}#sk-container-id-8 div.sk-item {position: relative;z-index: 1;}#sk-container-id-8 div.sk-parallel {display: flex;align-items: stretch;justify-content: center;background-color: white;position: relative;}#sk-container-id-8 div.sk-item::before, #sk-container-id-8 div.sk-parallel-item::before {content: \"\";position: absolute;border-left: 1px solid gray;box-sizing: border-box;top: 0;bottom: 0;left: 50%;z-index: -1;}#sk-container-id-8 div.sk-parallel-item {display: flex;flex-direction: column;z-index: 1;position: relative;background-color: white;}#sk-container-id-8 div.sk-parallel-item:first-child::after {align-self: flex-end;width: 50%;}#sk-container-id-8 div.sk-parallel-item:last-child::after {align-self: flex-start;width: 50%;}#sk-container-id-8 div.sk-parallel-item:only-child::after {width: 0;}#sk-container-id-8 div.sk-dashed-wrapped {border: 1px dashed gray;margin: 0 0.4em 0.5em 0.4em;box-sizing: border-box;padding-bottom: 0.4em;background-color: white;}#sk-container-id-8 div.sk-label label {font-family: monospace;font-weight: bold;display: inline-block;line-height: 1.2em;}#sk-container-id-8 div.sk-label-container {text-align: center;}#sk-container-id-8 div.sk-container {/* jupyter's `normalize.less` sets `[hidden] { display: none; }` but bootstrap.min.css set `[hidden] { display: none !important; }` so we also need the `!important` here to be able to override the default hidden behavior on the sphinx rendered scikit-learn.org. See: https://github.com/scikit-learn/scikit-learn/issues/21755 */display: inline-block !important;position: relative;}#sk-container-id-8 div.sk-text-repr-fallback {display: none;}</style><div id=\"sk-container-id-8\" class=\"sk-top-container\"><div class=\"sk-text-repr-fallback\"><pre>DecisionTreeClassifier(max_depth=18, min_samples_leaf=5)</pre><b>In a Jupyter environment, please rerun this cell to show the HTML representation or trust the notebook. <br />On GitHub, the HTML representation is unable to render, please try loading this page with nbviewer.org.</b></div><div class=\"sk-container\" hidden><div class=\"sk-item\"><div class=\"sk-estimator sk-toggleable\"><input class=\"sk-toggleable__control sk-hidden--visually\" id=\"sk-estimator-id-8\" type=\"checkbox\" checked><label for=\"sk-estimator-id-8\" class=\"sk-toggleable__label sk-toggleable__label-arrow\">DecisionTreeClassifier</label><div class=\"sk-toggleable__content\"><pre>DecisionTreeClassifier(max_depth=18, min_samples_leaf=5)</pre></div></div></div></div></div>"
     },
     "execution_count": 68,
     "metadata": {},
     "output_type": "execute_result"
    }
   ],
   "source": [
    "DTC_classifier = DecisionTreeClassifier(max_depth=18,min_samples_leaf=5)\n",
    "DTC_classifier.fit(x_train, y_train)"
   ],
   "metadata": {
    "collapsed": false,
    "pycharm": {
     "name": "#%%\n"
    }
   }
  },
  {
   "cell_type": "code",
   "execution_count": 69,
   "outputs": [
    {
     "data": {
      "text/plain": "<Figure size 648x648 with 1 Axes>",
      "image/png": "[encoded data removed]"
     },
     "metadata": {
      "needs_background": "light"
     },
     "output_type": "display_data"
    }
   ],
   "source": [
    "y_predict_train = DTC_classifier.predict(x_train)\n",
    "y_predict_train\n",
    "cm = confusion_matrix(y_train, y_predict_train)\n",
    "conf_matrix(cm)"
   ],
   "metadata": {
    "collapsed": false,
    "pycharm": {
     "name": "#%%\n"
    }
   }
  },
  {
   "cell_type": "code",
   "execution_count": 70,
   "outputs": [
    {
     "data": {
      "text/plain": "<Figure size 648x648 with 1 Axes>",
      "image/png": "[encoded data removed]"
     },
     "metadata": {
      "needs_background": "light"
     },
     "output_type": "display_data"
    }
   ],
   "source": [
    "# Predicting the Val set results\n",
    "y_predict_val = DTC_classifier.predict(x_val)\n",
    "cm = confusion_matrix(y_val, y_predict_val)\n",
    "conf_matrix(cm)"
   ],
   "metadata": {
    "collapsed": false,
    "pycharm": {
     "name": "#%%\n"
    }
   }
  },
  {
   "cell_type": "code",
   "execution_count": 71,
   "outputs": [
    {
     "name": "stdout",
     "output_type": "stream",
     "text": [
      "              precision    recall  f1-score   support\n",
      "\n",
      "           1       0.43      0.53      0.47       633\n",
      "           2       0.28      0.29      0.29       702\n",
      "           3       0.30      0.24      0.26       674\n",
      "           4       0.34      0.38      0.36       639\n",
      "           5       0.45      0.37      0.41       654\n",
      "\n",
      "    accuracy                           0.36      3302\n",
      "   macro avg       0.36      0.36      0.36      3302\n",
      "weighted avg       0.36      0.36      0.36      3302\n",
      "\n"
     ]
    }
   ],
   "source": [
    "print(classification_report(y_val, y_predict_val))"
   ],
   "metadata": {
    "collapsed": false,
    "pycharm": {
     "name": "#%%\n"
    }
   }
  },
  {
   "cell_type": "code",
   "execution_count": 72,
   "outputs": [
    {
     "data": {
      "text/plain": "<Figure size 648x648 with 1 Axes>",
      "image/png": "[encoded data removed]"
     },
     "metadata": {
      "needs_background": "light"
     },
     "output_type": "display_data"
    }
   ],
   "source": [
    "y_predict_test = DTC_classifier.predict(x_test)\n",
    "cm = confusion_matrix(y_test, y_predict_test)\n",
    "conf_matrix(cm)"
   ],
   "metadata": {
    "collapsed": false,
    "pycharm": {
     "name": "#%%\n"
    }
   }
  },
  {
   "cell_type": "code",
   "execution_count": 73,
   "outputs": [
    {
     "name": "stdout",
     "output_type": "stream",
     "text": [
      "              precision    recall  f1-score   support\n",
      "\n",
      "           1       0.45      0.54      0.49       668\n",
      "           2       0.30      0.34      0.32       662\n",
      "           3       0.34      0.26      0.29       670\n",
      "           4       0.34      0.38      0.36       635\n",
      "           5       0.47      0.36      0.40       668\n",
      "\n",
      "    accuracy                           0.37      3303\n",
      "   macro avg       0.38      0.37      0.37      3303\n",
      "weighted avg       0.38      0.37      0.37      3303\n",
      "\n"
     ]
    }
   ],
   "source": [
    "print(classification_report(y_test, y_predict_test))"
   ],
   "metadata": {
    "collapsed": false,
    "pycharm": {
     "name": "#%%\n"
    }
   }
  },
  {
   "cell_type": "code",
   "execution_count": 74,
   "outputs": [
    {
     "data": {
      "text/plain": "               Model Name  Train Accuracy  Validation Accuracy  Test Accuracy\n0  DecisionTreeClassifier        0.585302             0.360388       0.374811",
      "text/html": "<div>\n<style scoped>\n    .dataframe tbody tr th:only-of-type {\n        vertical-align: middle;\n    }\n\n    .dataframe tbody tr th {\n        vertical-align: top;\n    }\n\n    .dataframe thead th {\n        text-align: right;\n    }\n</style>\n<table border=\"1\" class=\"dataframe\">\n  <thead>\n    <tr style=\"text-align: right;\">\n      <th></th>\n      <th>Model Name</th>\n      <th>Train Accuracy</th>\n      <th>Validation Accuracy</th>\n      <th>Test Accuracy</th>\n    </tr>\n  </thead>\n  <tbody>\n    <tr>\n      <th>0</th>\n      <td>DecisionTreeClassifier</td>\n      <td>0.585302</td>\n      <td>0.360388</td>\n      <td>0.374811</td>\n    </tr>\n  </tbody>\n</table>\n</div>"
     },
     "execution_count": 74,
     "metadata": {},
     "output_type": "execute_result"
    }
   ],
   "source": [
    "a = 'DecisionTreeClassifier'\n",
    "d = {'Model Name': [a],\n",
    "             'Train Accuracy': [metrics.accuracy_score(y_train, y_predict_train)],\n",
    "             'Validation Accuracy': [metrics.accuracy_score(y_val, y_predict_val)],\n",
    "             'Test Accuracy':[metrics.accuracy_score(y_test, y_predict_test)]}\n",
    "DTC_scores_table = pd.DataFrame(data=d)\n",
    "DTC_scores_table"
   ],
   "metadata": {
    "collapsed": false,
    "pycharm": {
     "name": "#%%\n"
    }
   }
  },
  {
   "cell_type": "markdown",
   "source": [
    "# Ridge Classifier"
   ],
   "metadata": {
    "collapsed": false,
    "pycharm": {
     "name": "#%% md\n"
    }
   }
  },
  {
   "cell_type": "code",
   "execution_count": null,
   "outputs": [],
   "source": [
    "from sklearn.linear_model import RidgeClassifier\n",
    "# define dataset\n",
    "X, y = make_blobs(n_samples=1000, centers=2, n_features=100, cluster_std=20)\n",
    "# define models and parameters\n",
    "model = RidgeClassifier()\n",
    "alpha = [0.1, 0.2, 0.3, 0.4, 0.5, 0.6, 0.7, 0.8, 0.9, 1.0]\n",
    "# define grid search\n",
    "grid = dict(alpha=alpha)\n",
    "cv = RepeatedStratifiedKFold(n_splits=10, n_repeats=3, random_state=1)\n",
    "grid_search = GridSearchCV(estimator=model, param_grid=grid, n_jobs=-1, cv=cv, scoring='accuracy',error_score=0)\n",
    "grid_result = grid_search.fit(X, y)\n",
    "# summarize results\n",
    "print(\"Best: %f using %s\" % (grid_result.best_score_, grid_result.best_params_))\n",
    "means = grid_result.cv_results_['mean_test_score']\n",
    "stds = grid_result.cv_results_['std_test_score']\n",
    "params = grid_result.cv_results_['params']\n",
    "for mean, stdev, param in zip(means, stds, params):\n",
    "    print(\"%f (%f) with: %r\" % (mean, stdev, param))"
   ],
   "metadata": {
    "collapsed": false,
    "pycharm": {
     "name": "#%%\n"
    }
   }
  },
  {
   "cell_type": "markdown",
   "source": [
    "# Stochastic Gradient Boosting"
   ],
   "metadata": {
    "collapsed": false,
    "pycharm": {
     "name": "#%% md\n"
    }
   }
  },
  {
   "cell_type": "code",
   "execution_count": null,
   "outputs": [],
   "source": [
    "from sklearn.ensemble import GradientBoostingClassifier\n",
    "# define dataset\n",
    "X, y = make_blobs(n_samples=1000, centers=2, n_features=100, cluster_std=20)\n",
    "# define models and parameters\n",
    "model = GradientBoostingClassifier()\n",
    "n_estimators = [10, 100, 1000]\n",
    "learning_rate = [0.001, 0.01, 0.1]\n",
    "subsample = [0.5, 0.7, 1.0]\n",
    "max_depth = [3, 7, 9]\n",
    "# define grid search\n",
    "grid = dict(learning_rate=learning_rate, n_estimators=n_estimators, subsample=subsample, max_depth=max_depth)\n",
    "cv = RepeatedStratifiedKFold(n_splits=10, n_repeats=3, random_state=1)\n",
    "grid_search = GridSearchCV(estimator=model, param_grid=grid, n_jobs=-1, cv=cv, scoring='accuracy',error_score=0)\n",
    "grid_result = grid_search.fit(X, y)\n",
    "# summarize results\n",
    "print(\"Best: %f using %s\" % (grid_result.best_score_, grid_result.best_params_))\n",
    "means = grid_result.cv_results_['mean_test_score']\n",
    "stds = grid_result.cv_results_['std_test_score']\n",
    "params = grid_result.cv_results_['params']\n",
    "for mean, stdev, param in zip(means, stds, params):\n",
    "    print(\"%f (%f) with: %r\" % (mean, stdev, param))"
   ],
   "metadata": {
    "collapsed": false,
    "pycharm": {
     "name": "#%%\n"
    }
   }
  },
  {
   "cell_type": "markdown",
   "source": [
    "# Bring all model one DataFrame"
   ],
   "metadata": {
    "collapsed": false
   }
  },
  {
   "cell_type": "code",
   "execution_count": 90,
   "outputs": [
    {
     "ename": "NameError",
     "evalue": "name 'KNN_scores_table' is not defined",
     "output_type": "error",
     "traceback": [
      "\u001B[1;31m---------------------------------------------------------------------------\u001B[0m",
      "\u001B[1;31mNameError\u001B[0m                                 Traceback (most recent call last)",
      "Input \u001B[1;32mIn [90]\u001B[0m, in \u001B[0;36m<cell line: 1>\u001B[1;34m()\u001B[0m\n\u001B[1;32m----> 1\u001B[0m all_models \u001B[38;5;241m=\u001B[39m pd\u001B[38;5;241m.\u001B[39mconcat([\u001B[43mKNN_scores_table\u001B[49m,\n\u001B[0;32m      2\u001B[0m                         NB_scores_table,\n\u001B[0;32m      3\u001B[0m                         LG_scores_table,\n\u001B[0;32m      4\u001B[0m                         SVM_scores_table,\n\u001B[0;32m      5\u001B[0m                         RF_scores_table,\n\u001B[0;32m      6\u001B[0m                         DTC_scores_table,\n\u001B[0;32m      7\u001B[0m                         ],\n\u001B[0;32m      8\u001B[0m                         axis\u001B[38;5;241m=\u001B[39m\u001B[38;5;241m0\u001B[39m)\n\u001B[0;32m      9\u001B[0m all_models\n",
      "\u001B[1;31mNameError\u001B[0m: name 'KNN_scores_table' is not defined"
     ]
    }
   ],
   "source": [
    "all_models = pd.concat([KNN_scores_table,\n",
    "                        NB_scores_table,\n",
    "                        LG_scores_table,\n",
    "                        SVM_scores_table,\n",
    "                        RF_scores_table,\n",
    "                        DTC_scores_table,\n",
    "                        ],\n",
    "                        axis=0)\n",
    "all_models"
   ],
   "metadata": {
    "collapsed": false,
    "pycharm": {
     "name": "#%%\n"
    }
   }
  },
  {
   "cell_type": "code",
   "execution_count": null,
   "outputs": [],
   "source": [],
   "metadata": {
    "collapsed": false,
    "pycharm": {
     "name": "#%%\n"
    }
   }
  }
 ],
 "metadata": {
  "kernelspec": {
   "display_name": "Python 3",
   "language": "python",
   "name": "python3"
  },
  "language_info": {
   "codemirror_mode": {
    "name": "ipython",
    "version": 2
   },
   "file_extension": ".py",
   "mimetype": "text/x-python",
   "name": "python",
   "nbconvert_exporter": "python",
   "pygments_lexer": "ipython2",
   "version": "2.7.6"
  }
 },
 "nbformat": 4,
 "nbformat_minor": 0
}