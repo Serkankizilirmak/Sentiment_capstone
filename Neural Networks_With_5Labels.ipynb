{
 "nbformat": 4,
 "nbformat_minor": 0,
 "metadata": {
  "colab": {
   "name": "Neural Networks.ipynb",
   "provenance": [],
   "collapsed_sections": [],
   "authorship_tag": "ABX9TyMab7fd6D2sqa/20snMhJx9"
  },
  "kernelspec": {
   "name": "python3",
   "language": "python",
   "display_name": "Python 3 (ipykernel)"
  },
  "language_info": {
   "name": "python"
  }
 },
 "cells": [
  {
   "cell_type": "markdown",
   "source": [
    "# Imports\n"
   ],
   "metadata": {
    "id": "gjTPdCjJxLH6"
   }
  },
  {
   "cell_type": "code",
   "execution_count": 294,
   "metadata": {
    "id": "522vZmHYouCY",
    "executionInfo": {
     "status": "ok",
     "timestamp": 1660504512605,
     "user_tz": -180,
     "elapsed": 1,
     "user": {
      "displayName": "Serkan",
      "userId": "13266514479312701423"
     }
    }
   },
   "outputs": [],
   "source": [
    "import pandas as pd\n",
    "import numpy as np\n",
    "import seaborn as sns\n",
    "import matplotlib.pyplot as plt\n",
    "\n",
    "from sklearn.model_selection import train_test_split\n",
    "from sklearn.preprocessing import OneHotEncoder\n",
    "from sklearn.metrics import confusion_matrix\n",
    "\n",
    "from tensorflow import keras\n",
    "from keras.preprocessing import sequence\n",
    "from tensorflow.python.keras import Sequential\n",
    "from keras.models import load_model\n",
    "from tensorflow.python.keras.layers import Dense, Embedding, GlobalAveragePooling1D\n",
    "\n",
    "import pickle"
   ]
  },
  {
   "cell_type": "code",
   "source": [
    "df = pd.read_csv(r'C:\\Users\\lenovo\\PycharmProjects\\pythonProject2\\Data\\neural_network_data_5labels.csv')"
   ],
   "metadata": {
    "id": "c2ytC6ELsLpG",
    "executionInfo": {
     "status": "ok",
     "timestamp": 1660506510515,
     "user_tz": -180,
     "elapsed": 849,
     "user": {
      "displayName": "Serkan",
      "userId": "13266514479312701423"
     }
    }
   },
   "execution_count": 295,
   "outputs": []
  },
  {
   "cell_type": "code",
   "execution_count": 296,
   "outputs": [
    {
     "data": {
      "text/plain": "<AxesSubplot:>"
     },
     "execution_count": 296,
     "metadata": {},
     "output_type": "execute_result"
    },
    {
     "data": {
      "text/plain": "<Figure size 432x288 with 1 Axes>",
      "image/png": "[encoded data removed]"
     },
     "metadata": {
      "needs_background": "light"
     },
     "output_type": "display_data"
    }
   ],
   "source": [
    "df['rating'].hist()"
   ],
   "metadata": {
    "collapsed": false,
    "pycharm": {
     "name": "#%%\n"
    }
   }
  },
  {
   "cell_type": "code",
   "source": [
    "df['rating'] = df['rating'].fillna((df['rating'].mean()))"
   ],
   "metadata": {
    "id": "Isdr3GVry8oy",
    "executionInfo": {
     "status": "ok",
     "timestamp": 1660506517627,
     "user_tz": -180,
     "elapsed": 418,
     "user": {
      "displayName": "Serkan",
      "userId": "13266514479312701423"
     }
    }
   },
   "execution_count": 297,
   "outputs": []
  },
  {
   "cell_type": "code",
   "source": [
    "df['rating'] = df['rating'].astype(np.int64)"
   ],
   "metadata": {
    "id": "gaKX4RpoyW5M",
    "executionInfo": {
     "status": "ok",
     "timestamp": 1660506519262,
     "user_tz": -180,
     "elapsed": 1,
     "user": {
      "displayName": "Serkan",
      "userId": "13266514479312701423"
     }
    }
   },
   "execution_count": 298,
   "outputs": []
  },
  {
   "cell_type": "code",
   "source": [
    "df['review'] = df['review'].astype(str)"
   ],
   "metadata": {
    "id": "RTcAjNYl57JG",
    "executionInfo": {
     "status": "ok",
     "timestamp": 1660506602470,
     "user_tz": -180,
     "elapsed": 422,
     "user": {
      "displayName": "Serkan",
      "userId": "13266514479312701423"
     }
    }
   },
   "execution_count": 299,
   "outputs": []
  },
  {
   "cell_type": "code",
   "source": [
    "df.info()"
   ],
   "metadata": {
    "colab": {
     "base_uri": "https://localhost:8080/"
    },
    "id": "XgU4GhAV6AGO",
    "executionInfo": {
     "status": "ok",
     "timestamp": 1660506606600,
     "user_tz": -180,
     "elapsed": 2,
     "user": {
      "displayName": "Serkan",
      "userId": "13266514479312701423"
     }
    },
    "outputId": "2d6cdf5d-f736-4065-fe6d-460064e685c5"
   },
   "execution_count": 300,
   "outputs": [
    {
     "name": "stdout",
     "output_type": "stream",
     "text": [
      "<class 'pandas.core.frame.DataFrame'>\n",
      "RangeIndex: 16511 entries, 0 to 16510\n",
      "Data columns (total 2 columns):\n",
      " #   Column  Non-Null Count  Dtype \n",
      "---  ------  --------------  ----- \n",
      " 0   rating  16511 non-null  int64 \n",
      " 1   review  16511 non-null  object\n",
      "dtypes: int64(1), object(1)\n",
      "memory usage: 258.1+ KB\n"
     ]
    }
   ]
  },
  {
   "cell_type": "markdown",
   "source": [
    "# One Hot Encoding Scores Column"
   ],
   "metadata": {
    "id": "pNW5-lFAxWEi"
   }
  },
  {
   "cell_type": "raw",
   "source": [
    "Veri setimiz model kurmaya uygun olmadığından ve 1 ila 5 arasında puan çıktısına sahip olmak açısından one hot encoding uygulamak istedim."
   ],
   "metadata": {
    "collapsed": false,
    "pycharm": {
     "name": "#%% raw\n"
    }
   }
  },
  {
   "cell_type": "code",
   "execution_count": 301,
   "outputs": [
    {
     "data": {
      "text/plain": "count    16511.000000\nmean         3.000121\nstd          1.414128\nmin          1.000000\n25%          2.000000\n50%          3.000000\n75%          4.000000\nmax          5.000000\nName: rating, dtype: float64"
     },
     "execution_count": 301,
     "metadata": {},
     "output_type": "execute_result"
    }
   ],
   "source": [
    "df['rating'].describe()"
   ],
   "metadata": {
    "collapsed": false,
    "pycharm": {
     "name": "#%%\n"
    }
   }
  },
  {
   "cell_type": "code",
   "source": [
    "enc = OneHotEncoder(handle_unknown='ignore')\n",
    "\n",
    "enc_df = pd.DataFrame(enc.fit_transform(df[['rating']]).toarray())\n",
    "\n",
    "df = df.join(enc_df)\n",
    "df = df.rename(columns={0: \"rating_1\", 1:'rating_2',2:'rating_3',3:'rating_4',4:'rating_5'})\n",
    "df.head()"
   ],
   "metadata": {
    "colab": {
     "base_uri": "https://localhost:8080/",
     "height": 206
    },
    "id": "cMMY1kf2xKbF",
    "executionInfo": {
     "status": "ok",
     "timestamp": 1660506613545,
     "user_tz": -180,
     "elapsed": 429,
     "user": {
      "displayName": "Serkan",
      "userId": "13266514479312701423"
     }
    },
    "outputId": "d06737b2-dcf4-4293-e377-2c2fdb0b7fa7"
   },
   "execution_count": 302,
   "outputs": [
    {
     "data": {
      "text/plain": "   rating                                             review  rating_1  \\\n0       1  Its hard to find words that can describe this ...       1.0   \n1       1  Absolutely terrible. Cracked ceiling, tiny roo...       1.0   \n2       1  Very disappointed firstly i checked in online ...       1.0   \n3       1  First of all we arrived wanting to park at the...       1.0   \n4       1  Hello,  I currently staying @ Hilton Metropole...       1.0   \n\n   rating_2  rating_3  rating_4  rating_5  \n0       0.0       0.0       0.0       0.0  \n1       0.0       0.0       0.0       0.0  \n2       0.0       0.0       0.0       0.0  \n3       0.0       0.0       0.0       0.0  \n4       0.0       0.0       0.0       0.0  ",
      "text/html": "<div>\n<style scoped>\n    .dataframe tbody tr th:only-of-type {\n        vertical-align: middle;\n    }\n\n    .dataframe tbody tr th {\n        vertical-align: top;\n    }\n\n    .dataframe thead th {\n        text-align: right;\n    }\n</style>\n<table border=\"1\" class=\"dataframe\">\n  <thead>\n    <tr style=\"text-align: right;\">\n      <th></th>\n      <th>rating</th>\n      <th>review</th>\n      <th>rating_1</th>\n      <th>rating_2</th>\n      <th>rating_3</th>\n      <th>rating_4</th>\n      <th>rating_5</th>\n    </tr>\n  </thead>\n  <tbody>\n    <tr>\n      <th>0</th>\n      <td>1</td>\n      <td>Its hard to find words that can describe this ...</td>\n      <td>1.0</td>\n      <td>0.0</td>\n      <td>0.0</td>\n      <td>0.0</td>\n      <td>0.0</td>\n    </tr>\n    <tr>\n      <th>1</th>\n      <td>1</td>\n      <td>Absolutely terrible. Cracked ceiling, tiny roo...</td>\n      <td>1.0</td>\n      <td>0.0</td>\n      <td>0.0</td>\n      <td>0.0</td>\n      <td>0.0</td>\n    </tr>\n    <tr>\n      <th>2</th>\n      <td>1</td>\n      <td>Very disappointed firstly i checked in online ...</td>\n      <td>1.0</td>\n      <td>0.0</td>\n      <td>0.0</td>\n      <td>0.0</td>\n      <td>0.0</td>\n    </tr>\n    <tr>\n      <th>3</th>\n      <td>1</td>\n      <td>First of all we arrived wanting to park at the...</td>\n      <td>1.0</td>\n      <td>0.0</td>\n      <td>0.0</td>\n      <td>0.0</td>\n      <td>0.0</td>\n    </tr>\n    <tr>\n      <th>4</th>\n      <td>1</td>\n      <td>Hello,  I currently staying @ Hilton Metropole...</td>\n      <td>1.0</td>\n      <td>0.0</td>\n      <td>0.0</td>\n      <td>0.0</td>\n      <td>0.0</td>\n    </tr>\n  </tbody>\n</table>\n</div>"
     },
     "execution_count": 302,
     "metadata": {},
     "output_type": "execute_result"
    }
   ]
  },
  {
   "cell_type": "markdown",
   "source": [
    "Train - Test Split"
   ],
   "metadata": {
    "id": "N_yzTznxxx8b"
   }
  },
  {
   "cell_type": "code",
   "source": [
    "x_train, x_test, y_train, y_test = train_test_split(df[['review']], \n",
    "                                                    df[['rating_1','rating_2','rating_3','rating_4','rating_5']],\n",
    "                                                    test_size=.2, \n",
    "                                                    random_state=42)"
   ],
   "metadata": {
    "id": "Bn50aunSxzVC",
    "executionInfo": {
     "status": "ok",
     "timestamp": 1660506619052,
     "user_tz": -180,
     "elapsed": 2,
     "user": {
      "displayName": "Serkan",
      "userId": "13266514479312701423"
     }
    }
   },
   "execution_count": 303,
   "outputs": []
  },
  {
   "cell_type": "raw",
   "source": [
    "Başka modeller deneyebilmek için yaptığım train test splitini ayrıyetten kaydetmek istedim."
   ],
   "metadata": {
    "collapsed": false,
    "pycharm": {
     "name": "#%% raw\n"
    }
   }
  },
  {
   "cell_type": "code",
   "source": [
    "y_test.to_csv(r'C:\\Users\\lenovo\\PycharmProjects\\pythonProject2\\Data\\Neural_Networks\\y_test_neural.csv',index=False)"
   ],
   "metadata": {
    "id": "1Tb92hQVxzXS",
    "executionInfo": {
     "status": "ok",
     "timestamp": 1660504883188,
     "user_tz": -180,
     "elapsed": 406,
     "user": {
      "displayName": "Serkan",
      "userId": "13266514479312701423"
     }
    }
   },
   "execution_count": 304,
   "outputs": []
  },
  {
   "cell_type": "code",
   "source": [
    "x_test.to_csv(r'C:\\Users\\lenovo\\PycharmProjects\\pythonProject2\\Data\\Neural_Networks\\x_test_neural.csv')"
   ],
   "metadata": {
    "id": "p9bHIx-gzipy",
    "executionInfo": {
     "status": "ok",
     "timestamp": 1660504943165,
     "user_tz": -180,
     "elapsed": 422,
     "user": {
      "displayName": "Serkan",
      "userId": "13266514479312701423"
     }
    }
   },
   "execution_count": 305,
   "outputs": []
  },
  {
   "cell_type": "code",
   "source": [
    "y_train.to_csv(r'C:\\Users\\lenovo\\PycharmProjects\\pythonProject2\\Data\\Neural_Networks\\y_train_neural.csv')\n",
    "x_train.to_csv(r'C:\\Users\\lenovo\\PycharmProjects\\pythonProject2\\Data\\Neural_Networks\\x_train_neural.csv')"
   ],
   "metadata": {
    "id": "JTkof1YkzuL4",
    "executionInfo": {
     "status": "ok",
     "timestamp": 1660505020875,
     "user_tz": -180,
     "elapsed": 1045,
     "user": {
      "displayName": "Serkan",
      "userId": "13266514479312701423"
     }
    }
   },
   "execution_count": 306,
   "outputs": []
  },
  {
   "cell_type": "markdown",
   "source": [
    "#   Noktalama işaretlerini Kaldırılması ve Tokanization Yapılması"
   ],
   "metadata": {
    "id": "Bvu_heQc6LLf"
   }
  },
  {
   "cell_type": "code",
   "execution_count": 307,
   "outputs": [],
   "source": [
    "from nltk.tokenize import RegexpTokenizer\n",
    "tokenizer = RegexpTokenizer(r'[a-zA-Z]+')\n",
    "\n",
    "def text_cleanup(text):\n",
    "\n",
    "    token_list = tokenizer.tokenize(text.lower())\n",
    "    new_text = ''\n",
    "    for word in token_list:\n",
    "        new_text += word + ' '\n",
    "\n",
    "    return new_text"
   ],
   "metadata": {
    "collapsed": false,
    "pycharm": {
     "name": "#%%\n"
    }
   }
  },
  {
   "cell_type": "code",
   "source": [
    "x_train['review_cleaned'] = x_train['review'].apply(text_cleanup)\n",
    "x_test['review_cleaned'] = x_test['review'].apply(text_cleanup)"
   ],
   "metadata": {
    "id": "53z2KkPJ6MzV",
    "executionInfo": {
     "status": "ok",
     "timestamp": 1660506679148,
     "user_tz": -180,
     "elapsed": 1703,
     "user": {
      "displayName": "Serkan",
      "userId": "13266514479312701423"
     }
    }
   },
   "execution_count": 308,
   "outputs": []
  },
  {
   "cell_type": "code",
   "source": [
    "review_index = 2000\n",
    "print('REVİEW:', x_train['review'].iloc[review_index],)\n",
    "print('REVİEW_CLEANED', x_train['review_cleaned'].iloc[review_index])"
   ],
   "metadata": {
    "colab": {
     "base_uri": "https://localhost:8080/",
     "height": 206
    },
    "id": "8YKHpqVS6M1m",
    "executionInfo": {
     "status": "ok",
     "timestamp": 1660506685752,
     "user_tz": -180,
     "elapsed": 686,
     "user": {
      "displayName": "Serkan",
      "userId": "13266514479312701423"
     }
    },
    "outputId": "d0657400-2517-406f-cd58-c63b9935fa7a"
   },
   "execution_count": 309,
   "outputs": [
    {
     "name": "stdout",
     "output_type": "stream",
     "text": [
      "REVİEW: booking did not happen booked hotel trip advisor suggestion, sent visa number confirmation arrived did not booking alternative accom arrived home deducted visa account sent email far not reply, currently trying recover funds bank, definatly not advise using hotel, went hotel colon fantastic, cheryl wilsmore,  \n",
      "REVİEW_CLEANED booking did not happen booked hotel trip advisor suggestion sent visa number confirmation arrived did not booking alternative accom arrived home deducted visa account sent email far not reply currently trying recover funds bank definatly not advise using hotel went hotel colon fantastic cheryl wilsmore \n"
     ]
    }
   ]
  },
  {
   "cell_type": "code",
   "execution_count": 310,
   "outputs": [
    {
     "data": {
      "text/plain": "                                                  review  \\\n13105  honeymoon dominican looking reasonably priced ...   \n5714   I was lucky to be upgraded on check -in , bein...   \n16385  home away home staying hotel trip paris 1981 p...   \n5028   This Hilton hotel has a good location in the h...   \n7132   A great place to stay if visiting Maida Vale, ...   \n...                                                  ...   \n11284  not great stayed san juan beach hotel 7/31 til...   \n11964  nothing exciting stayed night moving phoenicia...   \n5390   We stayed just one night in readiness for a mo...   \n860    A very disappointing first stay, issues with t...   \n15795  excellent excellent, hotel services location p...   \n\n                                          review_cleaned  \n13105  honeymoon dominican looking reasonably priced ...  \n5714   i was lucky to be upgraded on check in being a...  \n16385  home away home staying hotel trip paris prior ...  \n5028   this hilton hotel has a good location in the h...  \n7132   a great place to stay if visiting maida vale s...  \n...                                                  ...  \n11284  not great stayed san juan beach hotel till we ...  \n11964  nothing exciting stayed night moving phoenicia...  \n5390   we stayed just one night in readiness for a mo...  \n860    a very disappointing first stay issues with th...  \n15795  excellent excellent hotel services location pl...  \n\n[13208 rows x 2 columns]",
      "text/html": "<div>\n<style scoped>\n    .dataframe tbody tr th:only-of-type {\n        vertical-align: middle;\n    }\n\n    .dataframe tbody tr th {\n        vertical-align: top;\n    }\n\n    .dataframe thead th {\n        text-align: right;\n    }\n</style>\n<table border=\"1\" class=\"dataframe\">\n  <thead>\n    <tr style=\"text-align: right;\">\n      <th></th>\n      <th>review</th>\n      <th>review_cleaned</th>\n    </tr>\n  </thead>\n  <tbody>\n    <tr>\n      <th>13105</th>\n      <td>honeymoon dominican looking reasonably priced ...</td>\n      <td>honeymoon dominican looking reasonably priced ...</td>\n    </tr>\n    <tr>\n      <th>5714</th>\n      <td>I was lucky to be upgraded on check -in , bein...</td>\n      <td>i was lucky to be upgraded on check in being a...</td>\n    </tr>\n    <tr>\n      <th>16385</th>\n      <td>home away home staying hotel trip paris 1981 p...</td>\n      <td>home away home staying hotel trip paris prior ...</td>\n    </tr>\n    <tr>\n      <th>5028</th>\n      <td>This Hilton hotel has a good location in the h...</td>\n      <td>this hilton hotel has a good location in the h...</td>\n    </tr>\n    <tr>\n      <th>7132</th>\n      <td>A great place to stay if visiting Maida Vale, ...</td>\n      <td>a great place to stay if visiting maida vale s...</td>\n    </tr>\n    <tr>\n      <th>...</th>\n      <td>...</td>\n      <td>...</td>\n    </tr>\n    <tr>\n      <th>11284</th>\n      <td>not great stayed san juan beach hotel 7/31 til...</td>\n      <td>not great stayed san juan beach hotel till we ...</td>\n    </tr>\n    <tr>\n      <th>11964</th>\n      <td>nothing exciting stayed night moving phoenicia...</td>\n      <td>nothing exciting stayed night moving phoenicia...</td>\n    </tr>\n    <tr>\n      <th>5390</th>\n      <td>We stayed just one night in readiness for a mo...</td>\n      <td>we stayed just one night in readiness for a mo...</td>\n    </tr>\n    <tr>\n      <th>860</th>\n      <td>A very disappointing first stay, issues with t...</td>\n      <td>a very disappointing first stay issues with th...</td>\n    </tr>\n    <tr>\n      <th>15795</th>\n      <td>excellent excellent, hotel services location p...</td>\n      <td>excellent excellent hotel services location pl...</td>\n    </tr>\n  </tbody>\n</table>\n<p>13208 rows × 2 columns</p>\n</div>"
     },
     "execution_count": 310,
     "metadata": {},
     "output_type": "execute_result"
    }
   ],
   "source": [
    "x_train"
   ],
   "metadata": {
    "collapsed": false,
    "pycharm": {
     "name": "#%%\n"
    }
   }
  },
  {
   "cell_type": "markdown",
   "source": [
    "# Her bir kelimenin flat şekilde ayrılması"
   ],
   "metadata": {
    "id": "QbGtI8oO6UPV"
   }
  },
  {
   "cell_type": "code",
   "source": [
    "flat_review = \" \".join(x_train['review_cleaned'].values)\n",
    "flat_review = flat_review.lower().split()"
   ],
   "metadata": {
    "id": "hp4S1XLi6W_d",
    "executionInfo": {
     "status": "ok",
     "timestamp": 1660506718727,
     "user_tz": -180,
     "elapsed": 442,
     "user": {
      "displayName": "Serkan",
      "userId": "13266514479312701423"
     }
    }
   },
   "execution_count": 311,
   "outputs": []
  },
  {
   "cell_type": "code",
   "execution_count": 312,
   "outputs": [
    {
     "data": {
      "text/plain": "['honeymoon',\n 'dominican',\n 'looking',\n 'reasonably',\n 'priced',\n 'vacation',\n 'n',\n 't',\n 'extravagant',\n 'fun',\n 'iberostar',\n 'good',\n 'choice',\n 'we',\n 'honeymoon',\n 'punta',\n 'cana',\n 'september',\n 'sponsored',\n 'apple',\n 'vacations',\n 'inclusive',\n 'deal',\n 'apple',\n 'great',\n 'accomodation',\n 'plan',\n 'includes',\n 'tips',\n 'expect',\n 'area',\n 'terms',\n 'people',\n 'things',\n 'staff',\n 'friendly',\n 'extremely',\n 'helpful',\n 'i',\n 'bit',\n 'disappointed',\n 'room',\n 'iberostar',\n 'got',\n 'season',\n 'gave',\n 'room',\n 'w',\n 'a',\n 'view',\n 'nothing',\n 'set',\n 'nice',\n 'room',\n 'pool',\n 'day',\n 'w',\n 'out',\n 'hassles',\n 'i',\n 'mexico',\n 'noticeable',\n 'difference',\n 'people',\n 'dominican',\n 'people',\n 'friendly',\n 'grateful',\n 'tourism',\n 'tried',\n 'communicate',\n 'enjoyable',\n 'mexico',\n 'not',\n 'friendly',\n 'resort',\n 'stayed',\n 'language',\n 'barrier',\n 'bad',\n 'n',\n 't',\n 'speaking',\n 'english',\n 'help',\n 'despite',\n 'travel',\n 'agents',\n 'right',\n 'site',\n 'my',\n 'husband',\n 'loved',\n 'dominican',\n 'food',\n 'iberostar',\n 'resorts',\n 'great',\n 'restaurants',\n 'went',\n 'horsebackriding',\n 'right',\n 'beach',\n 'despite',\n 'warning',\n 'apple',\n 'vaca',\n 'awesome',\n 'went',\n 'kayaking',\n 'swam',\n 'w',\n 'the',\n 'nurse',\n 'sharks',\n 'great',\n 'tour',\n 'snorkel',\n 'cruise',\n 'etc',\n 'tried',\n 'tour',\n 'road',\n 'blocked',\n 'political',\n 'unrest',\n 'quite',\n 'experience',\n 'we',\n 'told',\n 'february',\n 'march',\n 'best',\n 'time',\n 'not',\n 'humid',\n 'we',\n 'probably',\n 'stay',\n 'iberostar',\n 'bavaro',\n 'caters',\n 'couples',\n 'honeymooners',\n 'i',\n 'was',\n 'lucky',\n 'to',\n 'be',\n 'upgraded',\n 'on',\n 'check',\n 'in',\n 'being',\n 'a',\n 'hh',\n 'member',\n 'to',\n 'one',\n 'of',\n 'the',\n 'newer',\n 'rooms',\n 'it',\n 'was',\n 'very',\n 'spacious',\n 'and',\n 'exceptionally',\n 'clean',\n 'i',\n 'had',\n 'to',\n 'call',\n 'housekeeping',\n 'as',\n 'there',\n 'was',\n 'no',\n 'soap',\n 'in',\n 'the',\n 'bathroom',\n 'and',\n 'that',\n 'was',\n 'dealt',\n 'with',\n 'quickly',\n 'i',\n 'decided',\n 'to',\n 'grab',\n 'a',\n 'bite',\n 'to',\n 'eat',\n 'in',\n 'the',\n 'bar',\n 'area',\n 'as',\n 'it',\n 'was',\n 'a',\n 'saturday',\n 'night',\n 'it',\n 'was',\n 'very',\n 'busy',\n 'and',\n 'i',\n 'waited',\n 'about',\n 'minutes',\n 'to',\n 'be',\n 'served',\n 'before',\n 'giving',\n 'up',\n 'i',\n 'couldn',\n 't',\n 'alter',\n 'the',\n 'heating',\n 'settings',\n 'in',\n 'the',\n 'room',\n 'it',\n 'was',\n 'too',\n 'cold',\n 'so',\n 'an',\n 'engineer',\n 'was',\n 'called',\n 'mr',\n 'fernandes',\n 'who',\n 'made',\n 'some',\n 'adjustments',\n 'but',\n 'also',\n 'arranged',\n 'for',\n 'a',\n 'heater',\n 'to',\n 'be',\n 'brought',\n 'to',\n 'the',\n 'room',\n 'during',\n 'our',\n 'conversation',\n 'i',\n 'mentioned',\n 'that',\n 'i',\n 'had',\n 'not',\n 'been',\n 'served',\n 'in',\n 'the',\n 'bar',\n 'area',\n 'and',\n 'he',\n 'kindly',\n 'arranged',\n 'for',\n 'me',\n 'to',\n 'have',\n 'a',\n 'complimentary',\n 'sandwich',\n 'from',\n 'room',\n 'service',\n 'the',\n 'bed',\n 'and',\n 'pilows',\n 'were',\n 'super',\n 'comfortable',\n 'and',\n 'the',\n 'home',\n 'away',\n 'home',\n 'staying',\n 'hotel',\n 'trip',\n 'paris',\n 'prior',\n 'renovation',\n 'restoration',\n 'lovely',\n 'place',\n 'warmest',\n 'staff',\n 'great',\n 'location',\n 'quite',\n 'street',\n 'lively',\n 'central',\n 'area',\n 'walk',\n 'corner',\n 'beautiful',\n 'view',\n 'notre',\n 'dame',\n 'sit',\n 'litle',\n 'park',\n 'blocks',\n 'away',\n 'st',\n 'julien',\n 'le',\n 'pauvre',\n 'mme',\n 'odillard',\n 'daughter',\n 'in',\n 'law',\n 'run',\n 'place',\n 'efficiently',\n 'spotless',\n 'charming',\n 'bit',\n 'pricey',\n 'stayed',\n 'places',\n 'paris',\n 'nice',\n 'welcome',\n 'like',\n 'expect',\n 'old',\n 'friend',\n 'this',\n 'hilton',\n 'hotel',\n 'has',\n 'a',\n 'good',\n 'location',\n 'in',\n 'the',\n 'heart',\n 'of',\n 'london',\n 'but',\n 'otherwise',\n 'little',\n 'to',\n 'distinguish',\n 'it',\n 'from',\n 'similar',\n 'hotels',\n 'checking',\n 'in',\n 'took',\n 'a',\n 'while',\n 'as',\n 'the',\n 'queues',\n 'were',\n 'long',\n 'the',\n 'room',\n 'itself',\n 'had',\n 'a',\n 'comfortable',\n 'bed',\n 'and',\n 'nice',\n 'bathroom',\n 'with',\n 'tea',\n 'and',\n 'coffee',\n 'making',\n 'facilities',\n 'there',\n 'were',\n 'no',\n 'fancy',\n 'toiletries',\n 'other',\n 'than',\n 'soap',\n 'shampoo',\n 'and',\n 'conditioner',\n 'e',\n 'g',\n 'no',\n 'shower',\n 'cap',\n 'or',\n 'moisturiser',\n 'the',\n 'decor',\n 'and',\n 'feel',\n 'of',\n 'the',\n 'room',\n 'felt',\n 'a',\n 'bit',\n 'dated',\n 'with',\n 'the',\n 'color',\n 'scheme',\n 'the',\n 'lack',\n 'of',\n 'helpful',\n 'power',\n 'sockets',\n 'also',\n 'indicated',\n 'that',\n 'the',\n 'room',\n 'had',\n 'been',\n 'designed',\n 'in',\n 'a',\n 'past',\n 'era',\n 'wifi',\n 'is',\n 'only',\n 'available',\n 'for',\n 'free',\n 'to',\n 'hilton',\n 'honours',\n 'members',\n 'though',\n 'i',\n 'was',\n 'able',\n 'to',\n 'access',\n 'it',\n 'using',\n 'bt',\n 'openzone',\n 'i',\n 'had',\n 'a',\n 'room',\n 'on',\n 'the',\n 'th',\n 'floor',\n 'of',\n 'the',\n 'tower',\n 'the',\n 'view',\n 'was',\n 'not',\n 'very',\n 'exciting',\n 'but',\n 'it',\n 'was',\n 'quiet',\n 'except',\n 'when',\n 'other',\n 'guests',\n 'would',\n 'walk',\n 'past',\n 'a',\n 'great',\n 'place',\n 'to',\n 'stay',\n 'if',\n 'visiting',\n 'maida',\n 'vale',\n 'st',\n 'john',\n 's',\n 'wood',\n 'regent',\n 's',\n 'park',\n 'lord',\n 's',\n 'etc',\n 'have',\n 'stayed',\n 'on',\n 'numerous',\n 'occasions',\n 'and',\n 'despite',\n 'the',\n 'seemingly',\n 'enormous',\n 'size',\n 'of',\n 'this',\n 'hotel',\n 'still',\n 'manages',\n 'to',\n 'have',\n 'personal',\n 'touches',\n 'and',\n 'deliver',\n 'good',\n 'customer',\n 'service',\n 'on',\n 'this',\n 'occasion',\n 'the',\n 'room',\n 'had',\n 'a',\n 'defective',\n 'light',\n 'which',\n 'was',\n 'fixed',\n 'within',\n 'ten',\n 'minutes',\n 'of',\n 'a',\n 'call',\n 'to',\n 'reception',\n 'and',\n 'the',\n 'welcome',\n 'and',\n 'beyond',\n 'the',\n 'call',\n 'of',\n 'duty',\n 'work',\n 'by',\n 'receptionist',\n 'arianna',\n 'to',\n 'fine',\n 'the',\n 'ideal',\n 'room',\n 'was',\n 'exceptional',\n 'great',\n 'location',\n 'customer',\n 'service',\n 'and',\n 'staffing',\n 'excellent',\n 'breakfast',\n 'is',\n 'a',\n 'great',\n 'choice',\n 'and',\n 'warm',\n 'welcome',\n 'plenty',\n 'parking',\n 'spaces',\n 'i',\n 'couldn',\n 't',\n 'see',\n 'any',\n 'porter',\n 'to',\n 'help',\n 'out',\n 'with',\n 'your',\n 'luggage',\n 'i',\n 'will',\n 'revisit',\n 'again',\n 'we',\n 'have',\n 'early',\n 'morning',\n 'flight',\n 'so',\n 'we',\n 'book',\n 'hilton',\n 'for',\n 'night',\n 'the',\n 'room',\n 'is',\n 'good',\n 'size',\n 'also',\n 'big',\n 'bathroom',\n 'down',\n 'stair',\n 'have',\n 'a',\n 'nice',\n 'bar',\n 'for',\n 'drink',\n 'couple',\n 'restaurant',\n 'and',\n 'coffee',\n 'shop',\n 'i',\n 'like',\n 'big',\n 'bed',\n 'but',\n 'the',\n 'pillow',\n 'is',\n 'not',\n 'my',\n 'favourite',\n 'the',\n 'staff',\n 'really',\n 'helpful',\n 'and',\n 'the',\n 'bar',\n 'quit',\n 'nice',\n 'for',\n 'grab',\n 'a',\n 'drink',\n 'only',\n 'mins',\n 'walk',\n 'from',\n 'gatwick',\n 'airport',\n 'so',\n 'i',\n 'would',\n 'recommend',\n 'to',\n 'anyone',\n 'that',\n 'have',\n 'early',\n 'flight',\n 'to',\n 'stop',\n 'here',\n 'i',\n 'visit',\n 'this',\n 'hotel',\n 'due',\n 'convenience',\n 'time',\n 'and',\n 'time',\n 'again',\n 'it',\n 'leaves',\n 'me',\n 'with',\n 'my',\n 'skin',\n 'crawling',\n 'hilton',\n 'should',\n 'be',\n 'ashamed',\n 'to',\n 'have',\n 'this',\n 'under',\n 'their',\n 'umbrella',\n 'when',\n 'asked',\n 'if',\n 'the',\n 'room',\n 'was',\n 'ok',\n 'or',\n 'just',\n 'more',\n 'stains',\n 'how',\n 'can',\n 'you',\n 'detect',\n 'cleanliness',\n 'horrible',\n 'nice',\n 'hotel',\n 'wife',\n 'stayed',\n 'barcelona',\n 'city',\n 'break',\n 'nights',\n 'hotel',\n 'looked',\n 'small',\n 'outside',\n 'arrival',\n 'impressed',\n 'room',\n 'size',\n 'staff',\n 'helpful',\n 'checked',\n 'given',\n 'room',\n 'single',\n 'beds',\n 'asking',\n 'desk',\n 'clerk',\n 'moved',\n 'double',\n 'room',\n 'hotel',\n 'great',\n 'location',\n 'just',\n 'placa',\n 'catalunya',\n 'famous',\n 'rambla',\n 'quite',\n 'night',\n 'room',\n 'looking',\n 'street',\n 'enjoyed',\n 'stay',\n 'staff',\n 'friendly',\n 'exceeded',\n 'expectations',\n 'pan',\n 'pacific',\n 'far',\n 'exceeded',\n 'expectations',\n 'room',\n 'spacious',\n 'clean',\n 'great',\n 'bed',\n 'large',\n 'balcony',\n 'lovely',\n 'view',\n 'fullerton',\n 'down',\n 'town',\n 'singapore',\n 'room',\n 'flat',\n 'screen',\n 'tv',\n 'free',\n 'internet',\n 'access',\n 'bonuses',\n 'select',\n 'booking',\n 'on',\n 'line',\n 'bathroom',\n 'large',\n 'separate',\n 'bath',\n 'walk',\n 'in',\n 'shower',\n 'appeared',\n 'relatively',\n 'new',\n 'clean',\n 'staff',\n 'polite',\n 'considerate',\n 'breakfast',\n 'buffet',\n 'extensive',\n 'swimming',\n 'pool',\n 'tennis',\n 'courts',\n 'nice',\n 'great',\n 'place',\n 'stay',\n 'going',\n 'overnight',\n 'stay',\n 'for',\n 'an',\n 'early',\n 'flight',\n 'near',\n 'the',\n 'terminal',\n 'but',\n 'not',\n 'as',\n 'near',\n 'as',\n 'bloc',\n 'two',\n 'big',\n 'issues',\n 'room',\n 'bed',\n 'i',\n 'asked',\n 'for',\n 'a',\n 'room',\n 'that',\n 'wasnt',\n 'sub',\n 'standard',\n 'looked',\n 'like',\n 'a',\n 'room',\n 'from',\n 'old',\n 'and',\n 'far',\n 'below',\n 'any',\n 'standards',\n 'really',\n 'the',\n 'bed',\n 'was',\n 'that',\n 'hard',\n 'we',\n 'moved',\n 'rooms',\n 'only',\n 'to',\n 'sleep',\n 'on',\n 'the',\n 'floor',\n 'well',\n 'no',\n 'sleep',\n 'at',\n 'all',\n 'plus',\n 'filthy',\n 'stained',\n 'carpets',\n 'hard',\n 'solid',\n 'mattress',\n 'with',\n 'no',\n 'mattress',\n 'cover',\n 'creaked',\n 'on',\n 'every',\n 'move',\n 'and',\n 'every',\n 'spring',\n 'was',\n 'felt',\n 'and',\n 'heard',\n 'then',\n 'a',\n 'bed',\n 'with',\n 'a',\n 'mattress',\n 'cover',\n 'but',\n 'still',\n 'solid',\n 'noisy',\n 'creamed',\n 'and',\n 'every',\n 'spring',\n 'felt',\n 'we',\n 'ended',\n 'up',\n 'trying',\n 'to',\n 'sleep',\n 'on',\n 'the',\n 'floor',\n 'i',\n 'll',\n 'avoid',\n 'the',\n 'hilton',\n 'and',\n 'go',\n 'to',\n 'bloc',\n 'or',\n 'premier',\n 'inn',\n 'the',\n 'hotel',\n 'is',\n 'alright',\n 'it',\n 'looks',\n 'a',\n 'bit',\n 'dated',\n 'but',\n 'it',\n 'covered',\n 'everything',\n 'i',\n 'needed',\n 'and',\n 'the',\n 'wifi',\n 'in',\n 'the',\n 'rooms',\n 'is',\n 'quite',\n 'decent',\n 'the',\n 'staff',\n 'is',\n 'amazing',\n 'specially',\n 'the',\n 'staff',\n 'members',\n 'at',\n 'breakfast',\n 'this',\n 'lady',\n 'juana',\n 'simarro',\n 'was',\n 'very',\n ...]"
     },
     "execution_count": 312,
     "metadata": {},
     "output_type": "execute_result"
    }
   ],
   "source": [
    "#flat_review"
   ],
   "metadata": {
    "collapsed": false,
    "pycharm": {
     "name": "#%%\n"
    }
   }
  },
  {
   "cell_type": "code",
   "source": [
    "len(flat_review)"
   ],
   "metadata": {
    "colab": {
     "base_uri": "https://localhost:8080/"
    },
    "id": "7pEBEDxT6XBm",
    "executionInfo": {
     "status": "ok",
     "timestamp": 1660506721346,
     "user_tz": -180,
     "elapsed": 462,
     "user": {
      "displayName": "Serkan",
      "userId": "13266514479312701423"
     }
    },
    "outputId": "47f95ad8-a544-4dc5-9e05-cbacbf3dd3db"
   },
   "execution_count": 313,
   "outputs": [
    {
     "data": {
      "text/plain": "1375224"
     },
     "execution_count": 313,
     "metadata": {},
     "output_type": "execute_result"
    }
   ]
  },
  {
   "cell_type": "raw",
   "source": [
    "Aynı kelimelerin tamamen kaldırıp uniqe bir veri oluşturulması"
   ],
   "metadata": {
    "collapsed": false,
    "pycharm": {
     "name": "#%% raw\n"
    }
   }
  },
  {
   "cell_type": "code",
   "source": [
    "unique_list = []\n",
    "for word in flat_review:\n",
    "    if word not in unique_list:\n",
    "        unique_list.append(word)"
   ],
   "metadata": {
    "id": "JUfhdZJj6emN",
    "executionInfo": {
     "status": "ok",
     "timestamp": 1660507340671,
     "user_tz": -180,
     "elapsed": 189790,
     "user": {
      "displayName": "Serkan",
      "userId": "13266514479312701423"
     }
    }
   },
   "execution_count": 314,
   "outputs": []
  },
  {
   "cell_type": "code",
   "source": [
    "len(unique_list)"
   ],
   "metadata": {
    "id": "VGPcKEhj6q3M",
    "executionInfo": {
     "status": "aborted",
     "timestamp": 1660507131135,
     "user_tz": -180,
     "elapsed": 16,
     "user": {
      "displayName": "Serkan",
      "userId": "13266514479312701423"
     }
    }
   },
   "execution_count": 315,
   "outputs": [
    {
     "data": {
      "text/plain": "30894"
     },
     "execution_count": 315,
     "metadata": {},
     "output_type": "execute_result"
    }
   ]
  },
  {
   "cell_type": "code",
   "source": [
    "word_index_dict = {}\n",
    "for i in range(0,len(unique_list)):\n",
    "    word_index_dict[unique_list[i]] = i"
   ],
   "metadata": {
    "id": "OKl368nK6sO-",
    "executionInfo": {
     "status": "aborted",
     "timestamp": 1660507131138,
     "user_tz": -180,
     "elapsed": 18,
     "user": {
      "displayName": "Serkan",
      "userId": "13266514479312701423"
     }
    }
   },
   "execution_count": 316,
   "outputs": []
  },
  {
   "cell_type": "code",
   "execution_count": 317,
   "outputs": [],
   "source": [
    " #word_index_dict"
   ],
   "metadata": {
    "collapsed": false,
    "pycharm": {
     "name": "#%%\n"
    }
   }
  },
  {
   "cell_type": "code",
   "execution_count": 318,
   "outputs": [],
   "source": [
    "#word_index_dict.items()"
   ],
   "metadata": {
    "collapsed": false,
    "pycharm": {
     "name": "#%%\n"
    }
   }
  },
  {
   "cell_type": "code",
   "source": [
    "word_index_dict = {k:(v+4) for k,v in word_index_dict.items()}\n",
    "word_index_dict['<PAD>'] = 0\n",
    "word_index_dict['<START>'] = 1\n",
    "word_index_dict['<UNK>'] = 2  #Unkown Words\n",
    "word_index_dict['<UNUSED>'] = 3"
   ],
   "metadata": {
    "id": "XJ8H-xjU6teU",
    "executionInfo": {
     "status": "aborted",
     "timestamp": 1660507131139,
     "user_tz": -180,
     "elapsed": 19,
     "user": {
      "displayName": "Serkan",
      "userId": "13266514479312701423"
     }
    }
   },
   "execution_count": 319,
   "outputs": []
  },
  {
   "cell_type": "code",
   "execution_count": 320,
   "outputs": [],
   "source": [
    "#word_index_dict.items()"
   ],
   "metadata": {
    "collapsed": false,
    "pycharm": {
     "name": "#%%\n"
    }
   }
  },
  {
   "cell_type": "code",
   "execution_count": 321,
   "outputs": [
    {
     "data": {
      "text/plain": "30898"
     },
     "execution_count": 321,
     "metadata": {},
     "output_type": "execute_result"
    }
   ],
   "source": [
    "len(word_index_dict)"
   ],
   "metadata": {
    "collapsed": false,
    "pycharm": {
     "name": "#%%\n"
    }
   }
  },
  {
   "cell_type": "markdown",
   "source": [
    "# Indexing Words in Reviews Using Dictionary"
   ],
   "metadata": {
    "id": "Ul5ocJMi6wv-"
   }
  },
  {
   "cell_type": "code",
   "source": [
    "def index_review_words(text):\n",
    "    review_word_list = []\n",
    "    for word in text.lower().split():\n",
    "        if word in word_index_dict.keys():\n",
    "            review_word_list.append(word_index_dict[word])\n",
    "        else:\n",
    "            review_word_list.append(word_index_dict['<UNK>'])\n",
    "\n",
    "    return review_word_list"
   ],
   "metadata": {
    "id": "8i7YBBmJ6yUl",
    "executionInfo": {
     "status": "aborted",
     "timestamp": 1660507131140,
     "user_tz": -180,
     "elapsed": 17,
     "user": {
      "displayName": "Serkan",
      "userId": "13266514479312701423"
     }
    }
   },
   "execution_count": 322,
   "outputs": []
  },
  {
   "cell_type": "code",
   "execution_count": 323,
   "outputs": [],
   "source": [
    "x_train['preprocessed_review'] = x_train['review_cleaned'].apply(index_review_words)\n",
    "x_test['preprocessed_review'] = x_test['review_cleaned'].apply(index_review_words)"
   ],
   "metadata": {
    "collapsed": false,
    "pycharm": {
     "name": "#%%\n"
    }
   }
  },
  {
   "cell_type": "code",
   "source": [
    "x_train.head()"
   ],
   "metadata": {
    "id": "I3QAoUWV7IfO"
   },
   "execution_count": 324,
   "outputs": [
    {
     "data": {
      "text/plain": "                                                  review  \\\n13105  honeymoon dominican looking reasonably priced ...   \n5714   I was lucky to be upgraded on check -in , bein...   \n16385  home away home staying hotel trip paris 1981 p...   \n5028   This Hilton hotel has a good location in the h...   \n7132   A great place to stay if visiting Maida Vale, ...   \n\n                                          review_cleaned  \\\n13105  honeymoon dominican looking reasonably priced ...   \n5714   i was lucky to be upgraded on check in being a...   \n16385  home away home staying hotel trip paris prior ...   \n5028   this hilton hotel has a good location in the h...   \n7132   a great place to stay if visiting maida vale s...   \n\n                                     preprocessed_review  \n13105  [4, 5, 6, 7, 8, 9, 10, 11, 12, 13, 14, 15, 16,...  \n5714   [40, 118, 119, 120, 121, 122, 123, 124, 125, 1...  \n16385  [206, 207, 206, 208, 209, 210, 211, 212, 213, ...  \n5028   [249, 250, 209, 251, 48, 15, 218, 125, 93, 252...  \n7132   [48, 26, 216, 120, 113, 316, 317, 318, 319, 23...  ",
      "text/html": "<div>\n<style scoped>\n    .dataframe tbody tr th:only-of-type {\n        vertical-align: middle;\n    }\n\n    .dataframe tbody tr th {\n        vertical-align: top;\n    }\n\n    .dataframe thead th {\n        text-align: right;\n    }\n</style>\n<table border=\"1\" class=\"dataframe\">\n  <thead>\n    <tr style=\"text-align: right;\">\n      <th></th>\n      <th>review</th>\n      <th>review_cleaned</th>\n      <th>preprocessed_review</th>\n    </tr>\n  </thead>\n  <tbody>\n    <tr>\n      <th>13105</th>\n      <td>honeymoon dominican looking reasonably priced ...</td>\n      <td>honeymoon dominican looking reasonably priced ...</td>\n      <td>[4, 5, 6, 7, 8, 9, 10, 11, 12, 13, 14, 15, 16,...</td>\n    </tr>\n    <tr>\n      <th>5714</th>\n      <td>I was lucky to be upgraded on check -in , bein...</td>\n      <td>i was lucky to be upgraded on check in being a...</td>\n      <td>[40, 118, 119, 120, 121, 122, 123, 124, 125, 1...</td>\n    </tr>\n    <tr>\n      <th>16385</th>\n      <td>home away home staying hotel trip paris 1981 p...</td>\n      <td>home away home staying hotel trip paris prior ...</td>\n      <td>[206, 207, 206, 208, 209, 210, 211, 212, 213, ...</td>\n    </tr>\n    <tr>\n      <th>5028</th>\n      <td>This Hilton hotel has a good location in the h...</td>\n      <td>this hilton hotel has a good location in the h...</td>\n      <td>[249, 250, 209, 251, 48, 15, 218, 125, 93, 252...</td>\n    </tr>\n    <tr>\n      <th>7132</th>\n      <td>A great place to stay if visiting Maida Vale, ...</td>\n      <td>a great place to stay if visiting maida vale s...</td>\n      <td>[48, 26, 216, 120, 113, 316, 317, 318, 319, 23...</td>\n    </tr>\n  </tbody>\n</table>\n</div>"
     },
     "execution_count": 324,
     "metadata": {},
     "output_type": "execute_result"
    }
   ]
  },
  {
   "cell_type": "code",
   "execution_count": 325,
   "outputs": [
    {
     "data": {
      "text/plain": "count       13208\nunique      13207\ntop       [23127]\nfreq            2\nName: preprocessed_review, dtype: object"
     },
     "execution_count": 325,
     "metadata": {},
     "output_type": "execute_result"
    }
   ],
   "source": [
    "x_train['preprocessed_review'].describe()"
   ],
   "metadata": {
    "collapsed": false,
    "pycharm": {
     "name": "#%%\n"
    }
   }
  },
  {
   "cell_type": "code",
   "execution_count": 326,
   "outputs": [
    {
     "data": {
      "text/plain": "(13208,)"
     },
     "execution_count": 326,
     "metadata": {},
     "output_type": "execute_result"
    }
   ],
   "source": [
    "x_train['preprocessed_review'].shape"
   ],
   "metadata": {
    "collapsed": false,
    "pycharm": {
     "name": "#%%\n"
    }
   }
  },
  {
   "cell_type": "raw",
   "source": [
    "# 5.9 Modelling"
   ],
   "metadata": {
    "collapsed": false,
    "pycharm": {
     "name": "#%% raw\n"
    }
   }
  },
  {
   "cell_type": "code",
   "execution_count": 327,
   "outputs": [],
   "source": [
    "from keras import preprocessing\n",
    "import keras\n",
    "from keras.utils import pad_sequences"
   ],
   "metadata": {
    "collapsed": false,
    "pycharm": {
     "name": "#%%\n"
    }
   }
  },
  {
   "cell_type": "code",
   "execution_count": 328,
   "outputs": [],
   "source": [
    "from keras_preprocessing.sequence import pad_sequences\n",
    "\n",
    "x_train = pad_sequences(x_train['preprocessed_review'],value=word_index_dict['<PAD>'],padding='post',maxlen=250)  #value=0\n",
    "x_test = pad_sequences(x_test['preprocessed_review'],value=word_index_dict['<PAD>'],padding='post',maxlen=250)"
   ],
   "metadata": {
    "collapsed": false,
    "pycharm": {
     "name": "#%%\n"
    }
   }
  },
  {
   "cell_type": "code",
   "execution_count": 329,
   "outputs": [
    {
     "data": {
      "text/plain": "(13208, 250)"
     },
     "execution_count": 329,
     "metadata": {},
     "output_type": "execute_result"
    }
   ],
   "source": [
    "x_train.shape"
   ],
   "metadata": {
    "collapsed": false,
    "pycharm": {
     "name": "#%%\n"
    }
   }
  },
  {
   "cell_type": "raw",
   "source": [
    "# 5.10"
   ],
   "metadata": {
    "collapsed": false,
    "pycharm": {
     "name": "#%% raw\n"
    }
   }
  },
  {
   "cell_type": "code",
   "execution_count": 330,
   "outputs": [],
   "source": [
    "np.save(r'C:\\Users\\lenovo\\PycharmProjects\\pythonProject2\\Data\\Neural_Networks\\/x_test',x_test)"
   ],
   "metadata": {
    "collapsed": false,
    "pycharm": {
     "name": "#%%\n"
    }
   }
  },
  {
   "cell_type": "raw",
   "source": [
    "5.9.3 Creating and Training Neural Network Model"
   ],
   "metadata": {
    "collapsed": false,
    "pycharm": {
     "name": "#%% raw\n"
    }
   }
  },
  {
   "cell_type": "code",
   "execution_count": 331,
   "outputs": [
    {
     "data": {
      "text/plain": "(13208, 5)"
     },
     "execution_count": 331,
     "metadata": {},
     "output_type": "execute_result"
    }
   ],
   "source": [
    "y_train.shape"
   ],
   "metadata": {
    "collapsed": false,
    "pycharm": {
     "name": "#%%\n"
    }
   }
  },
  {
   "cell_type": "code",
   "execution_count": 332,
   "outputs": [
    {
     "data": {
      "text/plain": "(3303, 250)"
     },
     "execution_count": 332,
     "metadata": {},
     "output_type": "execute_result"
    }
   ],
   "source": [
    "x_test.shape"
   ],
   "metadata": {
    "collapsed": false,
    "pycharm": {
     "name": "#%%\n"
    }
   }
  },
  {
   "cell_type": "code",
   "execution_count": 333,
   "outputs": [
    {
     "data": {
      "text/plain": "(3303, 5)"
     },
     "execution_count": 333,
     "metadata": {},
     "output_type": "execute_result"
    }
   ],
   "source": [
    "y_test.shape"
   ],
   "metadata": {
    "collapsed": false,
    "pycharm": {
     "name": "#%%\n"
    }
   }
  },
  {
   "cell_type": "code",
   "execution_count": 334,
   "outputs": [],
   "source": [
    "x_train, x_val, y_train, y_val = train_test_split(x_train,y_train,test_size=.2,random_state=42)"
   ],
   "metadata": {
    "collapsed": false,
    "pycharm": {
     "name": "#%%\n"
    }
   }
  },
  {
   "cell_type": "code",
   "execution_count": 338,
   "outputs": [
    {
     "name": "stdout",
     "output_type": "stream",
     "text": [
      "Epoch 1/20\n",
      "43/43 [==============================] - 2s 30ms/step - loss: 1.6044 - accuracy: 0.2351 - val_loss: 1.6000 - val_accuracy: 0.2562\n",
      "Epoch 2/20\n",
      "43/43 [==============================] - 1s 26ms/step - loss: 1.5905 - accuracy: 0.2997 - val_loss: 1.5851 - val_accuracy: 0.2937\n",
      "Epoch 3/20\n",
      "43/43 [==============================] - 1s 26ms/step - loss: 1.5683 - accuracy: 0.3203 - val_loss: 1.5611 - val_accuracy: 0.3111\n",
      "Epoch 4/20\n",
      "43/43 [==============================] - 1s 25ms/step - loss: 1.5368 - accuracy: 0.3525 - val_loss: 1.5295 - val_accuracy: 0.3319\n",
      "Epoch 5/20\n",
      "43/43 [==============================] - 1s 27ms/step - loss: 1.4980 - accuracy: 0.3700 - val_loss: 1.4919 - val_accuracy: 0.3641\n",
      "Epoch 6/20\n",
      "43/43 [==============================] - 1s 32ms/step - loss: 1.4539 - accuracy: 0.4204 - val_loss: 1.4508 - val_accuracy: 0.3936\n",
      "Epoch 7/20\n",
      "43/43 [==============================] - 1s 29ms/step - loss: 1.4061 - accuracy: 0.4435 - val_loss: 1.4083 - val_accuracy: 0.4311\n",
      "Epoch 8/20\n",
      "43/43 [==============================] - 1s 29ms/step - loss: 1.3579 - accuracy: 0.4680 - val_loss: 1.3667 - val_accuracy: 0.4493\n",
      "Epoch 9/20\n",
      "43/43 [==============================] - 1s 28ms/step - loss: 1.3116 - accuracy: 0.5007 - val_loss: 1.3281 - val_accuracy: 0.4614\n",
      "Epoch 10/20\n",
      "43/43 [==============================] - 1s 27ms/step - loss: 1.2690 - accuracy: 0.5076 - val_loss: 1.2940 - val_accuracy: 0.4678\n",
      "Epoch 11/20\n",
      "43/43 [==============================] - 1s 26ms/step - loss: 1.2298 - accuracy: 0.5262 - val_loss: 1.2635 - val_accuracy: 0.4924\n",
      "Epoch 12/20\n",
      "43/43 [==============================] - 1s 28ms/step - loss: 1.1937 - accuracy: 0.5427 - val_loss: 1.2355 - val_accuracy: 0.5076\n",
      "Epoch 13/20\n",
      "43/43 [==============================] - 1s 29ms/step - loss: 1.1609 - accuracy: 0.5604 - val_loss: 1.2109 - val_accuracy: 0.5026\n",
      "Epoch 14/20\n",
      "43/43 [==============================] - 1s 28ms/step - loss: 1.1303 - accuracy: 0.5721 - val_loss: 1.1883 - val_accuracy: 0.5151\n",
      "Epoch 15/20\n",
      "43/43 [==============================] - 1s 30ms/step - loss: 1.1015 - accuracy: 0.5851 - val_loss: 1.1679 - val_accuracy: 0.5189\n",
      "Epoch 16/20\n",
      "43/43 [==============================] - 1s 29ms/step - loss: 1.0747 - accuracy: 0.5930 - val_loss: 1.1508 - val_accuracy: 0.5344\n",
      "Epoch 17/20\n",
      "43/43 [==============================] - 1s 29ms/step - loss: 1.0496 - accuracy: 0.6118 - val_loss: 1.1348 - val_accuracy: 0.5318\n",
      "Epoch 18/20\n",
      "43/43 [==============================] - 1s 29ms/step - loss: 1.0256 - accuracy: 0.6147 - val_loss: 1.1190 - val_accuracy: 0.5386\n",
      "Epoch 19/20\n",
      "43/43 [==============================] - 1s 29ms/step - loss: 1.0030 - accuracy: 0.6280 - val_loss: 1.1059 - val_accuracy: 0.5341\n",
      "Epoch 20/20\n",
      "43/43 [==============================] - 1s 28ms/step - loss: 0.9817 - accuracy: 0.6405 - val_loss: 1.0936 - val_accuracy: 0.5488\n"
     ]
    }
   ],
   "source": [
    "from tensorflow import keras\n",
    "from tensorflow.keras import layers\n",
    "\n",
    "unique_list_len = len(word_index_dict)\n",
    "##\n",
    "model = Sequential()\n",
    "model.add(Embedding(unique_list_len,64))\n",
    "model.add(GlobalAveragePooling1D())\n",
    "model.add(Dense(5,activation='sigmoid'))\n",
    "\n",
    "\n",
    "##\n",
    "model.compile(optimizer=\"adam\",\n",
    "              loss=\"categorical_crossentropy\",\n",
    "              metrics=[\"accuracy\"])\n",
    "###\n",
    "history = model.fit(\n",
    "    x_train, y_train,\n",
    "    epochs=20,\n",
    "    batch_size=250,\n",
    "    validation_data=(x_val,y_val),)\n",
    "###\n"
   ],
   "metadata": {
    "collapsed": false,
    "pycharm": {
     "name": "#%%\n"
    }
   }
  },
  {
   "cell_type": "code",
   "execution_count": 341,
   "outputs": [
    {
     "data": {
      "text/plain": "<Figure size 432x288 with 1 Axes>",
      "image/png": "[encoded data removed]"
     },
     "metadata": {
      "needs_background": "light"
     },
     "output_type": "display_data"
    }
   ],
   "source": [
    "history_dict = history.history\n",
    "history_dict.keys()\n",
    "\n",
    "import matplotlib.pyplot as plt\n",
    "history_dict = history.history\n",
    "\n",
    "loss_values = history_dict[\"loss\"]\n",
    "val_loss_values = history_dict[\"val_loss\"]\n",
    "epochs = range(1, len(loss_values) + 1)\n",
    "plt.plot(epochs, loss_values, \"bo\", label=\"Training loss\")\n",
    "plt.plot(epochs, val_loss_values, \"b\", label=\"Validation loss\")\n",
    "plt.title(\"Training and validation loss\")\n",
    "plt.xlabel(\"Epochs\")\n",
    "plt.ylabel(\"Loss\")\n",
    "plt.legend()\n",
    "plt.show()"
   ],
   "metadata": {
    "collapsed": false,
    "pycharm": {
     "name": "#%%\n"
    }
   }
  },
  {
   "cell_type": "code",
   "execution_count": 342,
   "outputs": [
    {
     "data": {
      "text/plain": "<Figure size 432x288 with 1 Axes>",
      "image/png": "[encoded data removed]"
     },
     "metadata": {
      "needs_background": "light"
     },
     "output_type": "display_data"
    }
   ],
   "source": [
    "plt.clf()\n",
    "acc = history.history[\"accuracy\"]\n",
    "val_acc = history.history[\"val_accuracy\"]\n",
    "plt.plot(epochs, acc, \"bo\", label=\"Training accuracy\")\n",
    "plt.plot(epochs, val_acc, \"b\", label=\"Validation accuracy\")\n",
    "plt.title(\"Training and validation accuracy\")\n",
    "plt.xlabel(\"Epochs\")\n",
    "plt.ylabel(\"Accuracy\")\n",
    "plt.legend()\n",
    "plt.show()"
   ],
   "metadata": {
    "collapsed": false,
    "pycharm": {
     "name": "#%%\n"
    }
   }
  },
  {
   "cell_type": "raw",
   "source": [
    "Test Confusion Matrix"
   ],
   "metadata": {
    "collapsed": false,
    "pycharm": {
     "name": "#%% raw\n"
    }
   }
  },
  {
   "cell_type": "raw",
   "source": [
    "5.11.1 Reverse Encode Target Into One Column for Confusion Matrix"
   ],
   "metadata": {
    "collapsed": false,
    "pycharm": {
     "name": "#%% raw\n"
    }
   }
  },
  {
   "cell_type": "code",
   "execution_count": 343,
   "outputs": [],
   "source": [
    "def reverse_encode(y_df):\n",
    "\n",
    "    y_df['score'] = (y_df.iloc[:, 0:] == 1).idxmax(1)['score'] = (y_df.iloc[:, 0:] == 1).idxmax(1)\n",
    "    for i in range(0,len(y_df)):\n",
    "        if y_df.iloc[i,-1] == 'score_1':\n",
    "            y_df.iloc[i,-1] = 1\n",
    "        elif y_df.iloc[i,-1] == 'score_2':\n",
    "            y_df.iloc[i,-1] = 2\n",
    "        elif y_df.iloc[i,-1]== 'score_3':\n",
    "            y_df.iloc[i,-1] = 3\n",
    "        elif y_df.iloc[i,-1]== 'score_4':\n",
    "            y_df.iloc[i,-1] = 4\n",
    "        elif y_df.iloc[i,-1] == 'score_5':\n",
    "            y_df.iloc[i,-1]= 5"
   ],
   "metadata": {
    "collapsed": false,
    "pycharm": {
     "name": "#%%\n"
    }
   }
  },
  {
   "cell_type": "raw",
   "source": [],
   "metadata": {
    "collapsed": false,
    "pycharm": {
     "name": "#%% raw\n"
    }
   }
  },
  {
   "cell_type": "code",
   "execution_count": 344,
   "outputs": [],
   "source": [
    "yy_test = y_test\n",
    "yy_val = y_val\n",
    "\n",
    "reverse_encode(yy_test)\n",
    "reverse_encode(yy_val)"
   ],
   "metadata": {
    "collapsed": false,
    "pycharm": {
     "name": "#%%\n"
    }
   }
  },
  {
   "cell_type": "code",
   "execution_count": 345,
   "outputs": [],
   "source": [
    "def add_one_argmax_score(x):\n",
    "\n",
    "    x = x+1\n",
    "\n",
    "    return x"
   ],
   "metadata": {
    "collapsed": false,
    "pycharm": {
     "name": "#%%\n"
    }
   }
  },
  {
   "cell_type": "code",
   "execution_count": 346,
   "outputs": [],
   "source": [
    "yy_test_predicted = add_one_argmax_score(np.argmax(model.predict(x_test),axis=1))"
   ],
   "metadata": {
    "collapsed": false,
    "pycharm": {
     "name": "#%%\n"
    }
   }
  },
  {
   "cell_type": "raw",
   "source": [
    " Saving Neural Network Preprocessed y Data"
   ],
   "metadata": {
    "collapsed": false,
    "pycharm": {
     "name": "#%% raw\n"
    }
   }
  },
  {
   "cell_type": "code",
   "execution_count": 347,
   "outputs": [],
   "source": [
    "yy_test.to_csv(r'C:\\Users\\lenovo\\PycharmProjects\\pythonProject2\\Data\\Neural_Networks/y_test_nn_df_5labels.csv',index=False)\n",
    "np.save(r'C:\\Users\\lenovo\\PycharmProjects\\pythonProject2\\Data\\Neural_Networks/y_test_predicted_array_5labels',yy_test_predicted)"
   ],
   "metadata": {
    "collapsed": false,
    "pycharm": {
     "name": "#%%\n"
    }
   }
  },
  {
   "cell_type": "code",
   "execution_count": 351,
   "outputs": [],
   "source": [
    "yy_test['score'] = yy_test['score'].replace(['rating_1'],1)\n",
    "yy_test['score'] = yy_test['score'].replace(['rating_2'],2)\n",
    "yy_test['score'] = yy_test['score'].replace(['rating_3'],3)\n",
    "yy_test['score'] = yy_test['score'].replace(['rating_4'],4)\n",
    "yy_test['score'] = yy_test['score'].replace(['rating_5'],5)"
   ],
   "metadata": {
    "collapsed": false,
    "pycharm": {
     "name": "#%%\n"
    }
   }
  },
  {
   "cell_type": "code",
   "execution_count": 352,
   "outputs": [],
   "source": [
    "yy_test['score'] = yy_test['score'].astype(np.int64)"
   ],
   "metadata": {
    "collapsed": false,
    "pycharm": {
     "name": "#%%\n"
    }
   }
  },
  {
   "cell_type": "raw",
   "source": [],
   "metadata": {
    "collapsed": false,
    "pycharm": {
     "name": "#%% raw\n"
    }
   }
  },
  {
   "cell_type": "code",
   "execution_count": 353,
   "outputs": [],
   "source": [
    "def conf_matrix(cm):\n",
    "\n",
    "    plt.figure(figsize=(9,9))\n",
    "    ax = sns.heatmap(cm,\n",
    "                     annot= True,\n",
    "                     fmt = '.4g',\n",
    "                     cbar=0,\n",
    "                     xticklabels=[1,2,3],\n",
    "                     yticklabels=[1,2,3])\n",
    "\n",
    "    plt.show()"
   ],
   "metadata": {
    "collapsed": false,
    "pycharm": {
     "name": "#%%\n"
    }
   }
  },
  {
   "cell_type": "code",
   "execution_count": 354,
   "outputs": [
    {
     "data": {
      "text/plain": "<Figure size 648x648 with 1 Axes>",
      "image/png": "[encoded data removed]"
     },
     "metadata": {
      "needs_background": "light"
     },
     "output_type": "display_data"
    }
   ],
   "source": [
    "test_cm = confusion_matrix(yy_test['score'], yy_test_predicted)\n",
    "conf_matrix(test_cm)"
   ],
   "metadata": {
    "collapsed": false,
    "pycharm": {
     "name": "#%%\n"
    }
   }
  },
  {
   "cell_type": "code",
   "execution_count": null,
   "outputs": [],
   "source": [
    "from sklearn.metrics import classification_report\n",
    "\n",
    "print(classification_report(yy_test_predicted, yy_test['score']))"
   ],
   "metadata": {
    "collapsed": false,
    "pycharm": {
     "name": "#%%\n"
    }
   }
  },
  {
   "cell_type": "raw",
   "source": [
    "Saving Model"
   ],
   "metadata": {
    "collapsed": false,
    "pycharm": {
     "name": "#%% raw\n"
    }
   }
  },
  {
   "cell_type": "code",
   "execution_count": 355,
   "outputs": [],
   "source": [
    "model.save(r'C:\\Users\\lenovo\\PycharmProjects\\pythonProject2\\Data\\Neural_Networks/Models/Neural_Network_5labels.h5')"
   ],
   "metadata": {
    "collapsed": false,
    "pycharm": {
     "name": "#%%\n"
    }
   }
  },
  {
   "cell_type": "code",
   "execution_count": null,
   "outputs": [],
   "source": [
    "#pickle.dump(word_index_dict,open(r'C:\\Users\\lenovo\\PycharmProjects\\pythonProject2\\Data\\Neural_Networks/word_index_dict.pkl','wb'))"
   ],
   "metadata": {
    "collapsed": false,
    "pycharm": {
     "name": "#%%\n"
    }
   }
  }
 ]
}