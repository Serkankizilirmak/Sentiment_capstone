{
 "cells": [
  {
   "cell_type": "markdown",
   "metadata": {
    "collapsed": true,
    "pycharm": {
     "name": "#%% md\n"
    }
   },
   "source": [
    "# Imports"
   ]
  },
  {
   "cell_type": "code",
   "execution_count": 63,
   "outputs": [
    {
     "name": "stderr",
     "output_type": "stream",
     "text": [
      "[nltk_data] Downloading package stopwords to\n",
      "[nltk_data]     C:\\Users\\lenovo\\AppData\\Roaming\\nltk_data...\n",
      "[nltk_data]   Package stopwords is already up-to-date!\n",
      "[nltk_data] Downloading package stopwords to\n",
      "[nltk_data]     C:\\Users\\lenovo\\AppData\\Roaming\\nltk_data...\n",
      "[nltk_data]   Package stopwords is already up-to-date!\n",
      "[nltk_data] Downloading package stopwords to\n",
      "[nltk_data]     C:\\Users\\lenovo\\AppData\\Roaming\\nltk_data...\n",
      "[nltk_data]   Package stopwords is already up-to-date!\n",
      "[nltk_data] Downloading package wordnet to\n",
      "[nltk_data]     C:\\Users\\lenovo\\AppData\\Roaming\\nltk_data...\n",
      "[nltk_data]   Package wordnet is already up-to-date!\n",
      "[nltk_data] Downloading package omw-1.4 to\n",
      "[nltk_data]     C:\\Users\\lenovo\\AppData\\Roaming\\nltk_data...\n",
      "[nltk_data]   Package omw-1.4 is already up-to-date!\n"
     ]
    }
   ],
   "source": [
    "import pandas as pd\n",
    "import matplotlib.pyplot as plt\n",
    "import numpy as np\n",
    "import seaborn as sns\n",
    "\n",
    "import nltk\n",
    "nltk.download('stopwords')\n",
    "from nltk.probability import FreqDist\n",
    "from nltk.tokenize import RegexpTokenizer\n",
    "from nltk.tokenize import word_tokenize\n",
    "from nltk.stem import PorterStemmer, WordNetLemmatizer\n",
    "from nltk.corpus import stopwords\n",
    "\n",
    "from sklearn.model_selection import train_test_split\n",
    "from sklearn.feature_extraction.text import TfidfVectorizer\n",
    "\n",
    "from wordcloud import WordCloud\n",
    "##\n",
    "\n",
    "import pandas as pd\n",
    "from wordcloud import WordCloud\n",
    "import seaborn as sns\n",
    "import re\n",
    "import string\n",
    "from collections import Counter, defaultdict\n",
    "\n",
    "from sklearn.feature_extraction.text import CountVectorizer, TfidfVectorizer\n",
    "\n",
    "import plotly.express as px\n",
    "from plotly.subplots import make_subplots\n",
    "import plotly.graph_objects as go\n",
    "from plotly.offline import plot\n",
    "\n",
    "import matplotlib.gridspec as gridspec\n",
    "from matplotlib.ticker import MaxNLocator\n",
    "import matplotlib.patches as mpatches\n",
    "import matplotlib.pyplot as plt\n",
    "\n",
    "import warnings\n",
    "warnings.filterwarnings('ignore')\n",
    "\n",
    "import nltk\n",
    "nltk.download('stopwords')\n",
    "from nltk.corpus import stopwords\n",
    "stopWords_nltk = set(stopwords.words('english'))\n",
    "##\n",
    "from plotly.subplots import make_subplots\n",
    "from collections import Counter, defaultdict\n",
    "import plotly.express as px\n",
    "import plotly.graph_objects as go\n",
    "#\n",
    "\n",
    "import nltk\n",
    "nltk.download('stopwords')\n",
    "from nltk.corpus import stopwords\n",
    "#\n",
    "import nltk\n",
    "nltk.download('wordnet')\n",
    "nltk.download('omw-1.4')\n",
    "#\n",
    "stopWords_nltk = set(stopwords.words('english'))\n",
    "#\n",
    "import re\n",
    "#\n",
    "from matplotlib.ticker import MaxNLocator\n",
    "import matplotlib.gridspec as gridspec\n"
   ],
   "metadata": {
    "collapsed": false,
    "pycharm": {
     "name": "#%%\n"
    }
   }
  },
  {
   "cell_type": "markdown",
   "source": [
    "# Helpers"
   ],
   "metadata": {
    "collapsed": false,
    "pycharm": {
     "name": "#%% md\n"
    }
   }
  },
  {
   "cell_type": "code",
   "execution_count": 2,
   "outputs": [],
   "source": [
    "import re\n",
    "from typing import Union, List\n",
    "\n",
    "class CleanText():\n",
    "    \"\"\" clearing text except digits () . , word character \"\"\"\n",
    "\n",
    "    def __init__(self, clean_pattern = r\"[^A-ZĞÜŞİÖÇIa-zğüı'şöç0-9.\\\"',()]\"):\n",
    "        self.clean_pattern =clean_pattern\n",
    "\n",
    "    def __call__(self, text: Union[str, list]) -> List[List[str]]:\n",
    "\n",
    "        if isinstance(text, str):\n",
    "            docs = [[text]]\n",
    "\n",
    "        if isinstance(text, list):\n",
    "            docs = text\n",
    "\n",
    "        text = [[re.sub(self.clean_pattern, \" \", sent) for sent in sents] for sents in docs]\n",
    "\n",
    "        return text\n",
    "\n",
    "def remove_emoji(data):\n",
    "    emoj = re.compile(\"[\"\n",
    "        u\"\\U0001F600-\\U0001F64F\"  # emoticons\n",
    "        u\"\\U0001F300-\\U0001F5FF\"  # symbols & pictographs\n",
    "        u\"\\U0001F680-\\U0001F6FF\"  # transport & map symbols\n",
    "        u\"\\U0001F1E0-\\U0001F1FF\"  # flags (iOS)\n",
    "        u\"\\U00002500-\\U00002BEF\"\n",
    "        u\"\\U00002702-\\U000027B0\"\n",
    "        u\"\\U00002702-\\U000027B0\"\n",
    "        u\"\\U000024C2-\\U0001F251\"\n",
    "        u\"\\U0001f926-\\U0001f937\"\n",
    "        u\"\\U00010000-\\U0010ffff\"\n",
    "        u\"\\u2640-\\u2642\"\n",
    "        u\"\\u2600-\\u2B55\"\n",
    "        u\"\\u200d\"\n",
    "        u\"\\u23cf\"\n",
    "        u\"\\u23e9\"\n",
    "        u\"\\u231a\"\n",
    "        u\"\\ufe0f\"  # dingbats\n",
    "        u\"\\u3030\"\n",
    "                      \"]+\", re.UNICODE)\n",
    "    return re.sub(emoj, '', data)\n",
    "\n",
    "def tokenize(text):\n",
    "    \"\"\" basic tokenize method with word character, non word character and digits \"\"\"\n",
    "    text = re.sub(r\" +\", \" \", str(text))\n",
    "    text = re.split(r\"(\\d+|[a-zA-ZğüşıöçĞÜŞİÖÇ]+|\\W)\", text)\n",
    "    text = list(filter(lambda x: x != '' and x != ' ', text))\n",
    "    sent_tokenized = ' '.join(text)\n",
    "    return sent_tokenized\n",
    "\n",
    "regex = re.compile('[%s]' % re.escape(string.punctuation))\n",
    "\n",
    "def remove_punct(text):\n",
    "    text = regex.sub(\" \", text)\n",
    "    return text\n",
    "\n",
    "clean = CleanText()\n",
    "\n",
    "sns.set_context('poster')"
   ],
   "metadata": {
    "collapsed": false,
    "pycharm": {
     "name": "#%%\n"
    }
   }
  },
  {
   "cell_type": "code",
   "execution_count": null,
   "outputs": [],
   "source": [
    "df['Character Count'] = df['review'].apply(lambda x: len(str(x)))\n",
    "##\n",
    "def plot_dist3(df, feature, title):\n",
    "    # Creating a customized chart. and giving in figsize and everything.\n",
    "    fig = plt.figure(constrained_layout=True, figsize=(24, 12))\n",
    "    # Creating a grid of 3 cols and 3 rows.\n",
    "    grid = gridspec.GridSpec(ncols=3, nrows=3, figure=fig)\n",
    "\n",
    "    # Customizing the histogram grid.\n",
    "    ax1 = fig.add_subplot(grid[0, :2])\n",
    "    # Set the title.\n",
    "    ax1.set_title('Histogram')\n",
    "    # plot the histogram.\n",
    "    sns.distplot(df.loc[:, feature],\n",
    "                 hist=True,\n",
    "                 kde=True,\n",
    "                 ax=ax1,\n",
    "                 color='#e74c3c')\n",
    "    ax1.set(ylabel='Frequency')\n",
    "    ax1.xaxis.set_major_locator(MaxNLocator(nbins=20))\n",
    "\n",
    "    # Customizing the ecdf_plot.\n",
    "    ax2 = fig.add_subplot(grid[1, :2])\n",
    "    # Set the title.\n",
    "    ax2.set_title('Empirical CDF')\n",
    "    # Plotting the ecdf_Plot.\n",
    "    sns.distplot(df.loc[:, feature],\n",
    "                 ax=ax2,\n",
    "                 kde_kws={'cumulative': True},\n",
    "                 hist_kws={'cumulative': True},\n",
    "                 color='#e74c3c')\n",
    "    ax2.xaxis.set_major_locator(MaxNLocator(nbins=20))\n",
    "    ax2.set(ylabel='Cumulative Probability')\n",
    "\n",
    "    plt.suptitle(f'{title}', fontsize=24)\n"
   ],
   "metadata": {
    "collapsed": false,
    "pycharm": {
     "name": "#%%\n"
    }
   }
  },
  {
   "cell_type": "code",
   "execution_count": 3,
   "outputs": [],
   "source": [
    "df1 = pd.read_csv(r'C:\\Users\\lenovo\\PycharmProjects\\pythonProject2\\Data\\Hotel_Reviews_Trip_Advisor.csv')\n",
    "df2 = pd.read_csv(r'C:\\Users\\lenovo\\PycharmProjects\\pythonProject2\\Data\\tripadvisor_hotel_reviews_structured.csv')"
   ],
   "metadata": {
    "collapsed": false,
    "pycharm": {
     "name": "#%%\n"
    }
   }
  },
  {
   "cell_type": "code",
   "execution_count": 4,
   "outputs": [
    {
     "data": {
      "text/plain": "        rating                                             review\n0.0        1.0  Its hard to find words that can describe this ...\n1.0        1.0  Absolutely terrible. Cracked ceiling, tiny roo...\n2.0        1.0  Very disappointed firstly i checked in online ...\n3.0        1.0  First of all we arrived wanting to park at the...\n4.0        1.0  Hello,  I currently staying @ Hilton Metropole...\n...        ...                                                ...\n7100.0     5.0  great hotel 12 females visited hotel hotel exc...\n7101.0     5.0  excellent hotel, hotel great bargain, staff fr...\n7102.0     5.0  great hotel staff excellent rooms clean nicely...\n7103.0     5.0  hotel madrid hotel perfect, location tiny quie...\n7104.0     5.0  fantastic believe read best hotels stayed in.f...\n\n[16511 rows x 2 columns]",
      "text/html": "<div>\n<style scoped>\n    .dataframe tbody tr th:only-of-type {\n        vertical-align: middle;\n    }\n\n    .dataframe tbody tr th {\n        vertical-align: top;\n    }\n\n    .dataframe thead th {\n        text-align: right;\n    }\n</style>\n<table border=\"1\" class=\"dataframe\">\n  <thead>\n    <tr style=\"text-align: right;\">\n      <th></th>\n      <th>rating</th>\n      <th>review</th>\n    </tr>\n  </thead>\n  <tbody>\n    <tr>\n      <th>0.0</th>\n      <td>1.0</td>\n      <td>Its hard to find words that can describe this ...</td>\n    </tr>\n    <tr>\n      <th>1.0</th>\n      <td>1.0</td>\n      <td>Absolutely terrible. Cracked ceiling, tiny roo...</td>\n    </tr>\n    <tr>\n      <th>2.0</th>\n      <td>1.0</td>\n      <td>Very disappointed firstly i checked in online ...</td>\n    </tr>\n    <tr>\n      <th>3.0</th>\n      <td>1.0</td>\n      <td>First of all we arrived wanting to park at the...</td>\n    </tr>\n    <tr>\n      <th>4.0</th>\n      <td>1.0</td>\n      <td>Hello,  I currently staying @ Hilton Metropole...</td>\n    </tr>\n    <tr>\n      <th>...</th>\n      <td>...</td>\n      <td>...</td>\n    </tr>\n    <tr>\n      <th>7100.0</th>\n      <td>5.0</td>\n      <td>great hotel 12 females visited hotel hotel exc...</td>\n    </tr>\n    <tr>\n      <th>7101.0</th>\n      <td>5.0</td>\n      <td>excellent hotel, hotel great bargain, staff fr...</td>\n    </tr>\n    <tr>\n      <th>7102.0</th>\n      <td>5.0</td>\n      <td>great hotel staff excellent rooms clean nicely...</td>\n    </tr>\n    <tr>\n      <th>7103.0</th>\n      <td>5.0</td>\n      <td>hotel madrid hotel perfect, location tiny quie...</td>\n    </tr>\n    <tr>\n      <th>7104.0</th>\n      <td>5.0</td>\n      <td>fantastic believe read best hotels stayed in.f...</td>\n    </tr>\n  </tbody>\n</table>\n<p>16511 rows × 2 columns</p>\n</div>"
     },
     "metadata": {},
     "output_type": "display_data"
    }
   ],
   "source": [
    "df2_new = df2.rename(columns={'Review': 'review', 'Rating': 'rating'} )\n",
    "df1_new = df1.rename(columns={'score': 'rating'})\n",
    "##\n",
    "df1_new = df1_new.drop(['hotel_name', 'review_summary'], axis=1 )\n",
    "df1_new = df1_new.set_index('Unnamed: 0')\n",
    "##\n",
    "df2_new['rating'] = df2_new['rating'].astype(float)\n",
    "##\n",
    "frames = [df1_new, df2_new]\n",
    "df = pd.concat(frames)\n",
    "display(df)"
   ],
   "metadata": {
    "collapsed": false,
    "pycharm": {
     "name": "#%%\n"
    }
   }
  },
  {
   "cell_type": "code",
   "execution_count": 5,
   "outputs": [],
   "source": [
    "df['rating'] = df['rating'].fillna((df['rating'].mean()))\n",
    "df['rating'] = df['rating'].astype(int)\n",
    "#\n",
    "df['review'] = df['review'].astype(str)"
   ],
   "metadata": {
    "collapsed": false,
    "pycharm": {
     "name": "#%%\n"
    }
   }
  },
  {
   "cell_type": "markdown",
   "source": [
    "# Saving For Neural Network"
   ],
   "metadata": {
    "collapsed": false,
    "pycharm": {
     "name": "#%% md\n"
    }
   }
  },
  {
   "cell_type": "code",
   "execution_count": 6,
   "outputs": [],
   "source": [
    "df.to_csv(r'C:\\Users\\lenovo\\PycharmProjects\\pythonProject2\\Data\\neural_network_data.csv',index=False)"
   ],
   "metadata": {
    "collapsed": false,
    "pycharm": {
     "name": "#%%\n"
    }
   }
  },
  {
   "cell_type": "markdown",
   "source": [
    "# Preprocessing"
   ],
   "metadata": {
    "collapsed": false,
    "pycharm": {
     "name": "#%% md\n"
    }
   }
  },
  {
   "cell_type": "code",
   "execution_count": 7,
   "outputs": [],
   "source": [
    "df[\"tokenized_review\"] = df.review.apply(lambda x: tokenize(x))\n",
    "# calculate token count for any sent\n",
    "df[\"sent_token_length\"] = df[\"tokenized_review\"].apply(lambda x: len(x.split()))\n",
    "##\n",
    "import string\n",
    "regex = re.compile('[%s]' % re.escape(string.punctuation))\n",
    "\n",
    "def remove_punct(text):\n",
    "    text = regex.sub(\" \", text)\n",
    "    return text\n",
    "\n",
    "df[\"review\"] = df[\"review\"].apply(lambda x: remove_punct(clean(remove_emoji(x).lower())[0][0]))\n",
    "\n",
    "df['tokenized_review'] = df['tokenized_review'].apply(lambda x: remove_punct(x))\n",
    "###"
   ],
   "metadata": {
    "collapsed": false,
    "pycharm": {
     "name": "#%%\n"
    }
   }
  },
  {
   "cell_type": "markdown",
   "source": [
    "# Visulations"
   ],
   "metadata": {
    "collapsed": false,
    "pycharm": {
     "name": "#%% md\n"
    }
   }
  },
  {
   "cell_type": "code",
   "execution_count": 51,
   "outputs": [
    {
     "data": {
      "text/plain": "<Figure size 1728x864 with 2 Axes>",
      "image/png": "[encoded data removed]"
     },
     "metadata": {
      "needs_background": "light"
     },
     "output_type": "display_data"
    }
   ],
   "source": [
    "plot_dist3(df[df['rating'] == 1], 'Character Count',\n",
    "           'Characters Count \"Negative\" Review')"
   ],
   "metadata": {
    "collapsed": false,
    "pycharm": {
     "name": "#%%\n"
    }
   }
  },
  {
   "cell_type": "code",
   "execution_count": 52,
   "outputs": [
    {
     "data": {
      "text/plain": "<Figure size 1728x864 with 2 Axes>",
      "image/png": "[encoded data removed]"
     },
     "metadata": {
      "needs_background": "light"
     },
     "output_type": "display_data"
    }
   ],
   "source": [
    "plot_dist3(df[df['rating'] == 5], 'Character Count',\n",
    "           'Characters Count \"Positive_5\" Review')"
   ],
   "metadata": {
    "collapsed": false,
    "pycharm": {
     "name": "#%%\n"
    }
   }
  },
  {
   "cell_type": "code",
   "execution_count": 53,
   "outputs": [
    {
     "data": {
      "text/plain": "<Figure size 1296x864 with 5 Axes>",
      "image/png": "[encoded data removed]"
     },
     "metadata": {
      "needs_background": "light"
     },
     "output_type": "display_data"
    }
   ],
   "source": [
    "def plot_word_number_histogram(textno, textye, textz,textc, textv):\n",
    "\n",
    "    \"\"\"A function for comparing word counts\"\"\"\n",
    "\n",
    "    fig, axes = plt.subplots(ncols=1, nrows=5, figsize=(18, 12), sharey=True)\n",
    "    sns.distplot(textno.str.split().map(lambda x: len(x)), ax=axes[0], color='#e74c3c')\n",
    "    sns.distplot(textye.str.split().map(lambda x: len(x)), ax=axes[1], color='#e74c3c')\n",
    "    sns.distplot(textz.str.split().map(lambda x: len(x)), ax=axes[2], color='#e74c3c')\n",
    "    sns.distplot(textc.str.split().map(lambda x: len(x)), ax=axes[3], color='#e74c3c')\n",
    "    sns.distplot(textv.str.split().map(lambda x: len(x)), ax=axes[4], color='#e74c3c')\n",
    "\n",
    "    fig.suptitle('Words Per Review', fontsize=24, va='baseline')\n",
    "\n",
    "    fig.tight_layout()\n",
    "##\n",
    "\n",
    "###\n",
    "plot_word_number_histogram(df[df['rating'] == 1]['review'],\n",
    "                           df[df['rating'] == 2]['review'],\n",
    "                           df[df['rating'] == 3]['review'],\n",
    "                           df[df['rating'] == 4]['review'],\n",
    "                           df[df['rating'] == 5]['review']\n",
    "                          )\n",
    "plt.show()"
   ],
   "metadata": {
    "collapsed": false,
    "pycharm": {
     "name": "#%%\n"
    }
   }
  },
  {
   "cell_type": "markdown",
   "source": [
    "# Most Common Words"
   ],
   "metadata": {
    "collapsed": false,
    "pycharm": {
     "name": "#%% md\n"
    }
   }
  },
  {
   "cell_type": "code",
   "source": [
    "from collections import Counter, defaultdict\n",
    "\n",
    "texts = df['tokenized_review']\n",
    "new = texts.str.split()\n",
    "new = new.values.tolist()\n",
    "corpus = [word for i in new for word in i]\n",
    "counter = Counter(corpus)\n",
    "most = counter.most_common()\n",
    "x, y = [], []\n",
    "\n",
    "for word, count in most[:30]:\n",
    "    if word not in stopWords_nltk:\n",
    "        x.append(word)\n",
    "        y.append(count)\n",
    "\n",
    "fig = go.Figure(go.Bar(\n",
    "            x=y,\n",
    "            y=x,\n",
    "            orientation='h',  marker=dict(\n",
    "        color='rgba(50, 171, 96, 0.6)',\n",
    "        line=dict(\n",
    "            color='rgba(50, 171, 96, 1.0)',\n",
    "            width=1),\n",
    "    ),\n",
    "    name='Most common Word',))\n",
    "\n",
    "fig.update_layout( title={\n",
    "        'text': \"Most Common Words\",\n",
    "        'y':0.9,\n",
    "        'x':0.5,\n",
    "        'xanchor': 'center',\n",
    "        'yanchor': 'top'}, font=dict(\n",
    "        family=\"Courier New, monospace\",\n",
    "        size=20,\n",
    "        color=\"RebeccaPurple\"\n",
    "    ))\n",
    "fig.show()"
   ],
   "metadata": {
    "collapsed": false,
    "pycharm": {
     "name": "#%%\n"
    }
   },
   "execution_count": 54,
   "outputs": [
    {
     "data": {
      "application/vnd.plotly.v1+json": {
       "data": [
        {
         "marker": {
          "color": "rgba(50, 171, 96, 0.6)",
          "line": {
           "color": "rgba(50, 171, 96, 1.0)",
           "width": 1
          }
         },
         "name": "Most common Word",
         "orientation": "h",
         "x": [
          26971,
          26340,
          14897,
          9944,
          9786,
          9310,
          9203,
          7905,
          7719,
          7657,
          6958
         ],
         "y": [
          "hotel",
          "room",
          "I",
          "good",
          "The",
          "stay",
          "staff",
          "rooms",
          "n",
          "great",
          "night"
         ],
         "type": "bar"
        }
       ],
       "layout": {
        "template": {
         "data": {
          "histogram2dcontour": [
           {
            "type": "histogram2dcontour",
            "colorbar": {
             "outlinewidth": 0,
             "ticks": ""
            },
            "colorscale": [
             [
              0.0,
              "#0d0887"
             ],
             [
              0.1111111111111111,
              "#46039f"
             ],
             [
              0.2222222222222222,
              "#7201a8"
             ],
             [
              0.3333333333333333,
              "#9c179e"
             ],
             [
              0.4444444444444444,
              "#bd3786"
             ],
             [
              0.5555555555555556,
              "#d8576b"
             ],
             [
              0.6666666666666666,
              "#ed7953"
             ],
             [
              0.7777777777777778,
              "#fb9f3a"
             ],
             [
              0.8888888888888888,
              "#fdca26"
             ],
             [
              1.0,
              "#f0f921"
             ]
            ]
           }
          ],
          "choropleth": [
           {
            "type": "choropleth",
            "colorbar": {
             "outlinewidth": 0,
             "ticks": ""
            }
           }
          ],
          "histogram2d": [
           {
            "type": "histogram2d",
            "colorbar": {
             "outlinewidth": 0,
             "ticks": ""
            },
            "colorscale": [
             [
              0.0,
              "#0d0887"
             ],
             [
              0.1111111111111111,
              "#46039f"
             ],
             [
              0.2222222222222222,
              "#7201a8"
             ],
             [
              0.3333333333333333,
              "#9c179e"
             ],
             [
              0.4444444444444444,
              "#bd3786"
             ],
             [
              0.5555555555555556,
              "#d8576b"
             ],
             [
              0.6666666666666666,
              "#ed7953"
             ],
             [
              0.7777777777777778,
              "#fb9f3a"
             ],
             [
              0.8888888888888888,
              "#fdca26"
             ],
             [
              1.0,
              "#f0f921"
             ]
            ]
           }
          ],
          "heatmap": [
           {
            "type": "heatmap",
            "colorbar": {
             "outlinewidth": 0,
             "ticks": ""
            },
            "colorscale": [
             [
              0.0,
              "#0d0887"
             ],
             [
              0.1111111111111111,
              "#46039f"
             ],
             [
              0.2222222222222222,
              "#7201a8"
             ],
             [
              0.3333333333333333,
              "#9c179e"
             ],
             [
              0.4444444444444444,
              "#bd3786"
             ],
             [
              0.5555555555555556,
              "#d8576b"
             ],
             [
              0.6666666666666666,
              "#ed7953"
             ],
             [
              0.7777777777777778,
              "#fb9f3a"
             ],
             [
              0.8888888888888888,
              "#fdca26"
             ],
             [
              1.0,
              "#f0f921"
             ]
            ]
           }
          ],
          "heatmapgl": [
           {
            "type": "heatmapgl",
            "colorbar": {
             "outlinewidth": 0,
             "ticks": ""
            },
            "colorscale": [
             [
              0.0,
              "#0d0887"
             ],
             [
              0.1111111111111111,
              "#46039f"
             ],
             [
              0.2222222222222222,
              "#7201a8"
             ],
             [
              0.3333333333333333,
              "#9c179e"
             ],
             [
              0.4444444444444444,
              "#bd3786"
             ],
             [
              0.5555555555555556,
              "#d8576b"
             ],
             [
              0.6666666666666666,
              "#ed7953"
             ],
             [
              0.7777777777777778,
              "#fb9f3a"
             ],
             [
              0.8888888888888888,
              "#fdca26"
             ],
             [
              1.0,
              "#f0f921"
             ]
            ]
           }
          ],
          "contourcarpet": [
           {
            "type": "contourcarpet",
            "colorbar": {
             "outlinewidth": 0,
             "ticks": ""
            }
           }
          ],
          "contour": [
           {
            "type": "contour",
            "colorbar": {
             "outlinewidth": 0,
             "ticks": ""
            },
            "colorscale": [
             [
              0.0,
              "#0d0887"
             ],
             [
              0.1111111111111111,
              "#46039f"
             ],
             [
              0.2222222222222222,
              "#7201a8"
             ],
             [
              0.3333333333333333,
              "#9c179e"
             ],
             [
              0.4444444444444444,
              "#bd3786"
             ],
             [
              0.5555555555555556,
              "#d8576b"
             ],
             [
              0.6666666666666666,
              "#ed7953"
             ],
             [
              0.7777777777777778,
              "#fb9f3a"
             ],
             [
              0.8888888888888888,
              "#fdca26"
             ],
             [
              1.0,
              "#f0f921"
             ]
            ]
           }
          ],
          "surface": [
           {
            "type": "surface",
            "colorbar": {
             "outlinewidth": 0,
             "ticks": ""
            },
            "colorscale": [
             [
              0.0,
              "#0d0887"
             ],
             [
              0.1111111111111111,
              "#46039f"
             ],
             [
              0.2222222222222222,
              "#7201a8"
             ],
             [
              0.3333333333333333,
              "#9c179e"
             ],
             [
              0.4444444444444444,
              "#bd3786"
             ],
             [
              0.5555555555555556,
              "#d8576b"
             ],
             [
              0.6666666666666666,
              "#ed7953"
             ],
             [
              0.7777777777777778,
              "#fb9f3a"
             ],
             [
              0.8888888888888888,
              "#fdca26"
             ],
             [
              1.0,
              "#f0f921"
             ]
            ]
           }
          ],
          "mesh3d": [
           {
            "type": "mesh3d",
            "colorbar": {
             "outlinewidth": 0,
             "ticks": ""
            }
           }
          ],
          "scatter": [
           {
            "fillpattern": {
             "fillmode": "overlay",
             "size": 10,
             "solidity": 0.2
            },
            "type": "scatter"
           }
          ],
          "parcoords": [
           {
            "type": "parcoords",
            "line": {
             "colorbar": {
              "outlinewidth": 0,
              "ticks": ""
             }
            }
           }
          ],
          "scatterpolargl": [
           {
            "type": "scatterpolargl",
            "marker": {
             "colorbar": {
              "outlinewidth": 0,
              "ticks": ""
             }
            }
           }
          ],
          "bar": [
           {
            "error_x": {
             "color": "#2a3f5f"
            },
            "error_y": {
             "color": "#2a3f5f"
            },
            "marker": {
             "line": {
              "color": "#E5ECF6",
              "width": 0.5
             },
             "pattern": {
              "fillmode": "overlay",
              "size": 10,
              "solidity": 0.2
             }
            },
            "type": "bar"
           }
          ],
          "scattergeo": [
           {
            "type": "scattergeo",
            "marker": {
             "colorbar": {
              "outlinewidth": 0,
              "ticks": ""
             }
            }
           }
          ],
          "scatterpolar": [
           {
            "type": "scatterpolar",
            "marker": {
             "colorbar": {
              "outlinewidth": 0,
              "ticks": ""
             }
            }
           }
          ],
          "histogram": [
           {
            "marker": {
             "pattern": {
              "fillmode": "overlay",
              "size": 10,
              "solidity": 0.2
             }
            },
            "type": "histogram"
           }
          ],
          "scattergl": [
           {
            "type": "scattergl",
            "marker": {
             "colorbar": {
              "outlinewidth": 0,
              "ticks": ""
             }
            }
           }
          ],
          "scatter3d": [
           {
            "type": "scatter3d",
            "line": {
             "colorbar": {
              "outlinewidth": 0,
              "ticks": ""
             }
            },
            "marker": {
             "colorbar": {
              "outlinewidth": 0,
              "ticks": ""
             }
            }
           }
          ],
          "scattermapbox": [
           {
            "type": "scattermapbox",
            "marker": {
             "colorbar": {
              "outlinewidth": 0,
              "ticks": ""
             }
            }
           }
          ],
          "scatterternary": [
           {
            "type": "scatterternary",
            "marker": {
             "colorbar": {
              "outlinewidth": 0,
              "ticks": ""
             }
            }
           }
          ],
          "scattercarpet": [
           {
            "type": "scattercarpet",
            "marker": {
             "colorbar": {
              "outlinewidth": 0,
              "ticks": ""
             }
            }
           }
          ],
          "carpet": [
           {
            "aaxis": {
             "endlinecolor": "#2a3f5f",
             "gridcolor": "white",
             "linecolor": "white",
             "minorgridcolor": "white",
             "startlinecolor": "#2a3f5f"
            },
            "baxis": {
             "endlinecolor": "#2a3f5f",
             "gridcolor": "white",
             "linecolor": "white",
             "minorgridcolor": "white",
             "startlinecolor": "#2a3f5f"
            },
            "type": "carpet"
           }
          ],
          "table": [
           {
            "cells": {
             "fill": {
              "color": "#EBF0F8"
             },
             "line": {
              "color": "white"
             }
            },
            "header": {
             "fill": {
              "color": "#C8D4E3"
             },
             "line": {
              "color": "white"
             }
            },
            "type": "table"
           }
          ],
          "barpolar": [
           {
            "marker": {
             "line": {
              "color": "#E5ECF6",
              "width": 0.5
             },
             "pattern": {
              "fillmode": "overlay",
              "size": 10,
              "solidity": 0.2
             }
            },
            "type": "barpolar"
           }
          ],
          "pie": [
           {
            "automargin": true,
            "type": "pie"
           }
          ]
         },
         "layout": {
          "autotypenumbers": "strict",
          "colorway": [
           "#636efa",
           "#EF553B",
           "#00cc96",
           "#ab63fa",
           "#FFA15A",
           "#19d3f3",
           "#FF6692",
           "#B6E880",
           "#FF97FF",
           "#FECB52"
          ],
          "font": {
           "color": "#2a3f5f"
          },
          "hovermode": "closest",
          "hoverlabel": {
           "align": "left"
          },
          "paper_bgcolor": "white",
          "plot_bgcolor": "#E5ECF6",
          "polar": {
           "bgcolor": "#E5ECF6",
           "angularaxis": {
            "gridcolor": "white",
            "linecolor": "white",
            "ticks": ""
           },
           "radialaxis": {
            "gridcolor": "white",
            "linecolor": "white",
            "ticks": ""
           }
          },
          "ternary": {
           "bgcolor": "#E5ECF6",
           "aaxis": {
            "gridcolor": "white",
            "linecolor": "white",
            "ticks": ""
           },
           "baxis": {
            "gridcolor": "white",
            "linecolor": "white",
            "ticks": ""
           },
           "caxis": {
            "gridcolor": "white",
            "linecolor": "white",
            "ticks": ""
           }
          },
          "coloraxis": {
           "colorbar": {
            "outlinewidth": 0,
            "ticks": ""
           }
          },
          "colorscale": {
           "sequential": [
            [
             0.0,
             "#0d0887"
            ],
            [
             0.1111111111111111,
             "#46039f"
            ],
            [
             0.2222222222222222,
             "#7201a8"
            ],
            [
             0.3333333333333333,
             "#9c179e"
            ],
            [
             0.4444444444444444,
             "#bd3786"
            ],
            [
             0.5555555555555556,
             "#d8576b"
            ],
            [
             0.6666666666666666,
             "#ed7953"
            ],
            [
             0.7777777777777778,
             "#fb9f3a"
            ],
            [
             0.8888888888888888,
             "#fdca26"
            ],
            [
             1.0,
             "#f0f921"
            ]
           ],
           "sequentialminus": [
            [
             0.0,
             "#0d0887"
            ],
            [
             0.1111111111111111,
             "#46039f"
            ],
            [
             0.2222222222222222,
             "#7201a8"
            ],
            [
             0.3333333333333333,
             "#9c179e"
            ],
            [
             0.4444444444444444,
             "#bd3786"
            ],
            [
             0.5555555555555556,
             "#d8576b"
            ],
            [
             0.6666666666666666,
             "#ed7953"
            ],
            [
             0.7777777777777778,
             "#fb9f3a"
            ],
            [
             0.8888888888888888,
             "#fdca26"
            ],
            [
             1.0,
             "#f0f921"
            ]
           ],
           "diverging": [
            [
             0,
             "#8e0152"
            ],
            [
             0.1,
             "#c51b7d"
            ],
            [
             0.2,
             "#de77ae"
            ],
            [
             0.3,
             "#f1b6da"
            ],
            [
             0.4,
             "#fde0ef"
            ],
            [
             0.5,
             "#f7f7f7"
            ],
            [
             0.6,
             "#e6f5d0"
            ],
            [
             0.7,
             "#b8e186"
            ],
            [
             0.8,
             "#7fbc41"
            ],
            [
             0.9,
             "#4d9221"
            ],
            [
             1,
             "#276419"
            ]
           ]
          },
          "xaxis": {
           "gridcolor": "white",
           "linecolor": "white",
           "ticks": "",
           "title": {
            "standoff": 15
           },
           "zerolinecolor": "white",
           "automargin": true,
           "zerolinewidth": 2
          },
          "yaxis": {
           "gridcolor": "white",
           "linecolor": "white",
           "ticks": "",
           "title": {
            "standoff": 15
           },
           "zerolinecolor": "white",
           "automargin": true,
           "zerolinewidth": 2
          },
          "scene": {
           "xaxis": {
            "backgroundcolor": "#E5ECF6",
            "gridcolor": "white",
            "linecolor": "white",
            "showbackground": true,
            "ticks": "",
            "zerolinecolor": "white",
            "gridwidth": 2
           },
           "yaxis": {
            "backgroundcolor": "#E5ECF6",
            "gridcolor": "white",
            "linecolor": "white",
            "showbackground": true,
            "ticks": "",
            "zerolinecolor": "white",
            "gridwidth": 2
           },
           "zaxis": {
            "backgroundcolor": "#E5ECF6",
            "gridcolor": "white",
            "linecolor": "white",
            "showbackground": true,
            "ticks": "",
            "zerolinecolor": "white",
            "gridwidth": 2
           }
          },
          "shapedefaults": {
           "line": {
            "color": "#2a3f5f"
           }
          },
          "annotationdefaults": {
           "arrowcolor": "#2a3f5f",
           "arrowhead": 0,
           "arrowwidth": 1
          },
          "geo": {
           "bgcolor": "white",
           "landcolor": "#E5ECF6",
           "subunitcolor": "white",
           "showland": true,
           "showlakes": true,
           "lakecolor": "white"
          },
          "title": {
           "x": 0.05
          },
          "mapbox": {
           "style": "light"
          }
         }
        },
        "title": {
         "text": "Most Common Words",
         "y": 0.9,
         "x": 0.5,
         "xanchor": "center",
         "yanchor": "top"
        },
        "font": {
         "family": "Courier New, monospace",
         "size": 20,
         "color": "RebeccaPurple"
        }
       },
       "config": {
        "plotlyServerURL": "https://plot.ly"
       }
      },
      "text/html": "<div>                            <div id=\"4d3a222f-a1fa-4f29-929d-15eea8555e4e\" class=\"plotly-graph-div\" style=\"height:525px; width:100%;\"></div>            <script type=\"text/javascript\">                require([\"plotly\"], function(Plotly) {                    window.PLOTLYENV=window.PLOTLYENV || {};                                    if (document.getElementById(\"4d3a222f-a1fa-4f29-929d-15eea8555e4e\")) {                    Plotly.newPlot(                        \"4d3a222f-a1fa-4f29-929d-15eea8555e4e\",                        [{\"marker\":{\"color\":\"rgba(50, 171, 96, 0.6)\",\"line\":{\"color\":\"rgba(50, 171, 96, 1.0)\",\"width\":1}},\"name\":\"Most common Word\",\"orientation\":\"h\",\"x\":[26971,26340,14897,9944,9786,9310,9203,7905,7719,7657,6958],\"y\":[\"hotel\",\"room\",\"I\",\"good\",\"The\",\"stay\",\"staff\",\"rooms\",\"n\",\"great\",\"night\"],\"type\":\"bar\"}],                        {\"template\":{\"data\":{\"histogram2dcontour\":[{\"type\":\"histogram2dcontour\",\"colorbar\":{\"outlinewidth\":0,\"ticks\":\"\"},\"colorscale\":[[0.0,\"#0d0887\"],[0.1111111111111111,\"#46039f\"],[0.2222222222222222,\"#7201a8\"],[0.3333333333333333,\"#9c179e\"],[0.4444444444444444,\"#bd3786\"],[0.5555555555555556,\"#d8576b\"],[0.6666666666666666,\"#ed7953\"],[0.7777777777777778,\"#fb9f3a\"],[0.8888888888888888,\"#fdca26\"],[1.0,\"#f0f921\"]]}],\"choropleth\":[{\"type\":\"choropleth\",\"colorbar\":{\"outlinewidth\":0,\"ticks\":\"\"}}],\"histogram2d\":[{\"type\":\"histogram2d\",\"colorbar\":{\"outlinewidth\":0,\"ticks\":\"\"},\"colorscale\":[[0.0,\"#0d0887\"],[0.1111111111111111,\"#46039f\"],[0.2222222222222222,\"#7201a8\"],[0.3333333333333333,\"#9c179e\"],[0.4444444444444444,\"#bd3786\"],[0.5555555555555556,\"#d8576b\"],[0.6666666666666666,\"#ed7953\"],[0.7777777777777778,\"#fb9f3a\"],[0.8888888888888888,\"#fdca26\"],[1.0,\"#f0f921\"]]}],\"heatmap\":[{\"type\":\"heatmap\",\"colorbar\":{\"outlinewidth\":0,\"ticks\":\"\"},\"colorscale\":[[0.0,\"#0d0887\"],[0.1111111111111111,\"#46039f\"],[0.2222222222222222,\"#7201a8\"],[0.3333333333333333,\"#9c179e\"],[0.4444444444444444,\"#bd3786\"],[0.5555555555555556,\"#d8576b\"],[0.6666666666666666,\"#ed7953\"],[0.7777777777777778,\"#fb9f3a\"],[0.8888888888888888,\"#fdca26\"],[1.0,\"#f0f921\"]]}],\"heatmapgl\":[{\"type\":\"heatmapgl\",\"colorbar\":{\"outlinewidth\":0,\"ticks\":\"\"},\"colorscale\":[[0.0,\"#0d0887\"],[0.1111111111111111,\"#46039f\"],[0.2222222222222222,\"#7201a8\"],[0.3333333333333333,\"#9c179e\"],[0.4444444444444444,\"#bd3786\"],[0.5555555555555556,\"#d8576b\"],[0.6666666666666666,\"#ed7953\"],[0.7777777777777778,\"#fb9f3a\"],[0.8888888888888888,\"#fdca26\"],[1.0,\"#f0f921\"]]}],\"contourcarpet\":[{\"type\":\"contourcarpet\",\"colorbar\":{\"outlinewidth\":0,\"ticks\":\"\"}}],\"contour\":[{\"type\":\"contour\",\"colorbar\":{\"outlinewidth\":0,\"ticks\":\"\"},\"colorscale\":[[0.0,\"#0d0887\"],[0.1111111111111111,\"#46039f\"],[0.2222222222222222,\"#7201a8\"],[0.3333333333333333,\"#9c179e\"],[0.4444444444444444,\"#bd3786\"],[0.5555555555555556,\"#d8576b\"],[0.6666666666666666,\"#ed7953\"],[0.7777777777777778,\"#fb9f3a\"],[0.8888888888888888,\"#fdca26\"],[1.0,\"#f0f921\"]]}],\"surface\":[{\"type\":\"surface\",\"colorbar\":{\"outlinewidth\":0,\"ticks\":\"\"},\"colorscale\":[[0.0,\"#0d0887\"],[0.1111111111111111,\"#46039f\"],[0.2222222222222222,\"#7201a8\"],[0.3333333333333333,\"#9c179e\"],[0.4444444444444444,\"#bd3786\"],[0.5555555555555556,\"#d8576b\"],[0.6666666666666666,\"#ed7953\"],[0.7777777777777778,\"#fb9f3a\"],[0.8888888888888888,\"#fdca26\"],[1.0,\"#f0f921\"]]}],\"mesh3d\":[{\"type\":\"mesh3d\",\"colorbar\":{\"outlinewidth\":0,\"ticks\":\"\"}}],\"scatter\":[{\"fillpattern\":{\"fillmode\":\"overlay\",\"size\":10,\"solidity\":0.2},\"type\":\"scatter\"}],\"parcoords\":[{\"type\":\"parcoords\",\"line\":{\"colorbar\":{\"outlinewidth\":0,\"ticks\":\"\"}}}],\"scatterpolargl\":[{\"type\":\"scatterpolargl\",\"marker\":{\"colorbar\":{\"outlinewidth\":0,\"ticks\":\"\"}}}],\"bar\":[{\"error_x\":{\"color\":\"#2a3f5f\"},\"error_y\":{\"color\":\"#2a3f5f\"},\"marker\":{\"line\":{\"color\":\"#E5ECF6\",\"width\":0.5},\"pattern\":{\"fillmode\":\"overlay\",\"size\":10,\"solidity\":0.2}},\"type\":\"bar\"}],\"scattergeo\":[{\"type\":\"scattergeo\",\"marker\":{\"colorbar\":{\"outlinewidth\":0,\"ticks\":\"\"}}}],\"scatterpolar\":[{\"type\":\"scatterpolar\",\"marker\":{\"colorbar\":{\"outlinewidth\":0,\"ticks\":\"\"}}}],\"histogram\":[{\"marker\":{\"pattern\":{\"fillmode\":\"overlay\",\"size\":10,\"solidity\":0.2}},\"type\":\"histogram\"}],\"scattergl\":[{\"type\":\"scattergl\",\"marker\":{\"colorbar\":{\"outlinewidth\":0,\"ticks\":\"\"}}}],\"scatter3d\":[{\"type\":\"scatter3d\",\"line\":{\"colorbar\":{\"outlinewidth\":0,\"ticks\":\"\"}},\"marker\":{\"colorbar\":{\"outlinewidth\":0,\"ticks\":\"\"}}}],\"scattermapbox\":[{\"type\":\"scattermapbox\",\"marker\":{\"colorbar\":{\"outlinewidth\":0,\"ticks\":\"\"}}}],\"scatterternary\":[{\"type\":\"scatterternary\",\"marker\":{\"colorbar\":{\"outlinewidth\":0,\"ticks\":\"\"}}}],\"scattercarpet\":[{\"type\":\"scattercarpet\",\"marker\":{\"colorbar\":{\"outlinewidth\":0,\"ticks\":\"\"}}}],\"carpet\":[{\"aaxis\":{\"endlinecolor\":\"#2a3f5f\",\"gridcolor\":\"white\",\"linecolor\":\"white\",\"minorgridcolor\":\"white\",\"startlinecolor\":\"#2a3f5f\"},\"baxis\":{\"endlinecolor\":\"#2a3f5f\",\"gridcolor\":\"white\",\"linecolor\":\"white\",\"minorgridcolor\":\"white\",\"startlinecolor\":\"#2a3f5f\"},\"type\":\"carpet\"}],\"table\":[{\"cells\":{\"fill\":{\"color\":\"#EBF0F8\"},\"line\":{\"color\":\"white\"}},\"header\":{\"fill\":{\"color\":\"#C8D4E3\"},\"line\":{\"color\":\"white\"}},\"type\":\"table\"}],\"barpolar\":[{\"marker\":{\"line\":{\"color\":\"#E5ECF6\",\"width\":0.5},\"pattern\":{\"fillmode\":\"overlay\",\"size\":10,\"solidity\":0.2}},\"type\":\"barpolar\"}],\"pie\":[{\"automargin\":true,\"type\":\"pie\"}]},\"layout\":{\"autotypenumbers\":\"strict\",\"colorway\":[\"#636efa\",\"#EF553B\",\"#00cc96\",\"#ab63fa\",\"#FFA15A\",\"#19d3f3\",\"#FF6692\",\"#B6E880\",\"#FF97FF\",\"#FECB52\"],\"font\":{\"color\":\"#2a3f5f\"},\"hovermode\":\"closest\",\"hoverlabel\":{\"align\":\"left\"},\"paper_bgcolor\":\"white\",\"plot_bgcolor\":\"#E5ECF6\",\"polar\":{\"bgcolor\":\"#E5ECF6\",\"angularaxis\":{\"gridcolor\":\"white\",\"linecolor\":\"white\",\"ticks\":\"\"},\"radialaxis\":{\"gridcolor\":\"white\",\"linecolor\":\"white\",\"ticks\":\"\"}},\"ternary\":{\"bgcolor\":\"#E5ECF6\",\"aaxis\":{\"gridcolor\":\"white\",\"linecolor\":\"white\",\"ticks\":\"\"},\"baxis\":{\"gridcolor\":\"white\",\"linecolor\":\"white\",\"ticks\":\"\"},\"caxis\":{\"gridcolor\":\"white\",\"linecolor\":\"white\",\"ticks\":\"\"}},\"coloraxis\":{\"colorbar\":{\"outlinewidth\":0,\"ticks\":\"\"}},\"colorscale\":{\"sequential\":[[0.0,\"#0d0887\"],[0.1111111111111111,\"#46039f\"],[0.2222222222222222,\"#7201a8\"],[0.3333333333333333,\"#9c179e\"],[0.4444444444444444,\"#bd3786\"],[0.5555555555555556,\"#d8576b\"],[0.6666666666666666,\"#ed7953\"],[0.7777777777777778,\"#fb9f3a\"],[0.8888888888888888,\"#fdca26\"],[1.0,\"#f0f921\"]],\"sequentialminus\":[[0.0,\"#0d0887\"],[0.1111111111111111,\"#46039f\"],[0.2222222222222222,\"#7201a8\"],[0.3333333333333333,\"#9c179e\"],[0.4444444444444444,\"#bd3786\"],[0.5555555555555556,\"#d8576b\"],[0.6666666666666666,\"#ed7953\"],[0.7777777777777778,\"#fb9f3a\"],[0.8888888888888888,\"#fdca26\"],[1.0,\"#f0f921\"]],\"diverging\":[[0,\"#8e0152\"],[0.1,\"#c51b7d\"],[0.2,\"#de77ae\"],[0.3,\"#f1b6da\"],[0.4,\"#fde0ef\"],[0.5,\"#f7f7f7\"],[0.6,\"#e6f5d0\"],[0.7,\"#b8e186\"],[0.8,\"#7fbc41\"],[0.9,\"#4d9221\"],[1,\"#276419\"]]},\"xaxis\":{\"gridcolor\":\"white\",\"linecolor\":\"white\",\"ticks\":\"\",\"title\":{\"standoff\":15},\"zerolinecolor\":\"white\",\"automargin\":true,\"zerolinewidth\":2},\"yaxis\":{\"gridcolor\":\"white\",\"linecolor\":\"white\",\"ticks\":\"\",\"title\":{\"standoff\":15},\"zerolinecolor\":\"white\",\"automargin\":true,\"zerolinewidth\":2},\"scene\":{\"xaxis\":{\"backgroundcolor\":\"#E5ECF6\",\"gridcolor\":\"white\",\"linecolor\":\"white\",\"showbackground\":true,\"ticks\":\"\",\"zerolinecolor\":\"white\",\"gridwidth\":2},\"yaxis\":{\"backgroundcolor\":\"#E5ECF6\",\"gridcolor\":\"white\",\"linecolor\":\"white\",\"showbackground\":true,\"ticks\":\"\",\"zerolinecolor\":\"white\",\"gridwidth\":2},\"zaxis\":{\"backgroundcolor\":\"#E5ECF6\",\"gridcolor\":\"white\",\"linecolor\":\"white\",\"showbackground\":true,\"ticks\":\"\",\"zerolinecolor\":\"white\",\"gridwidth\":2}},\"shapedefaults\":{\"line\":{\"color\":\"#2a3f5f\"}},\"annotationdefaults\":{\"arrowcolor\":\"#2a3f5f\",\"arrowhead\":0,\"arrowwidth\":1},\"geo\":{\"bgcolor\":\"white\",\"landcolor\":\"#E5ECF6\",\"subunitcolor\":\"white\",\"showland\":true,\"showlakes\":true,\"lakecolor\":\"white\"},\"title\":{\"x\":0.05},\"mapbox\":{\"style\":\"light\"}}},\"title\":{\"text\":\"Most Common Words\",\"y\":0.9,\"x\":0.5,\"xanchor\":\"center\",\"yanchor\":\"top\"},\"font\":{\"family\":\"Courier New, monospace\",\"size\":20,\"color\":\"RebeccaPurple\"}},                        {\"responsive\": true}                    ).then(function(){\n                            \nvar gd = document.getElementById('4d3a222f-a1fa-4f29-929d-15eea8555e4e');\nvar x = new MutationObserver(function (mutations, observer) {{\n        var display = window.getComputedStyle(gd).display;\n        if (!display || display === 'none') {{\n            console.log([gd, 'removed!']);\n            Plotly.purge(gd);\n            observer.disconnect();\n        }}\n}});\n\n// Listen for the removal of the full notebook cells\nvar notebookContainer = gd.closest('#notebook-container');\nif (notebookContainer) {{\n    x.observe(notebookContainer, {childList: true});\n}}\n\n// Listen for the clearing of the current output cell\nvar outputEl = gd.closest('.output');\nif (outputEl) {{\n    x.observe(outputEl, {childList: true});\n}}\n\n                        })                };                });            </script>        </div>"
     },
     "metadata": {},
     "output_type": "display_data"
    }
   ]
  },
  {
   "cell_type": "code",
   "execution_count": 55,
   "outputs": [
    {
     "data": {
      "text/plain": "<Figure size 720x576 with 1 Axes>",
      "image/png": "[encoded data removed]"
     },
     "metadata": {
      "needs_background": "light"
     },
     "output_type": "display_data"
    }
   ],
   "source": [
    "flat_review_summary = \" \".join(df['review'].values)\n",
    "##\n",
    "flat_list_review_summaries = []\n",
    "tokenizer = RegexpTokenizer(r'[a-zA-Z]+')\n",
    "tokenized_reviews = tokenizer.tokenize(flat_review_summary)\n",
    "##\n",
    "for review in tokenized_reviews:\n",
    "    flat_list_review_summaries.append(review.lower())\n",
    "##\n",
    "stop_words = stopwords.words(\"english\")\n",
    "\n",
    "flat_list_review_summaries_no_stop = [word for word in flat_list_review_summaries if word not in stop_words]\n",
    "##\n",
    "for word in ['hotel','room','staff','stay','location','rooms','service','room','n','time','food','day','beach', 'stayed','night','breakfast','really','place','resort','pool','walk','people','bar','got','bed','area','check','restaurant','bathroom','best','floor','water','went','restaurants','booked','recommend','hilton','trip','desk','nights','night','view','hotels','free','way','away','bit','airport','minutes','price','make','morning','city','buffet','say','experience','lobby','shower','street','reviews','reception','days','close','need','going','arrived','definitely','told','beds','bed','th','took','use','one','station','times','think','us','flight','get']:\n",
    "    stop_words.append(word)\n",
    "##\n",
    "flat_list_review_summaries_no_stop_2 =  [word for word in flat_list_review_summaries_no_stop if word not in stop_words]\n",
    "#\n",
    "plt.figure(figsize=(10,8))\n",
    "FreqDist(flat_list_review_summaries_no_stop_2).plot(17)\n",
    "plt.show()"
   ],
   "metadata": {
    "collapsed": false,
    "pycharm": {
     "name": "#%%\n"
    }
   }
  },
  {
   "cell_type": "code",
   "execution_count": 56,
   "outputs": [
    {
     "data": {
      "text/plain": "<Figure size 720x720 with 1 Axes>",
      "image/png": "[encoded data removed]"
     },
     "metadata": {},
     "output_type": "display_data"
    }
   ],
   "source": [
    "flat_clean_sum_str = \" \".join(flat_list_review_summaries_no_stop_2)\n",
    "##\n",
    "wordcloud = WordCloud(width = 3000,\n",
    "                      height = 2000,\n",
    "                      background_color = 'black',\n",
    "                      stopwords = stop_words)\n",
    "\n",
    "wordcloud.generate(flat_clean_sum_str)\n",
    "\n",
    "plt.figure(figsize = (10,10),\n",
    "           facecolor = 'k',\n",
    "           edgecolor = 'k')\n",
    "\n",
    "plt.imshow(wordcloud, interpolation = 'bilinear')\n",
    "plt.axis('off')\n",
    "plt.tight_layout(pad=0)\n",
    "plt.show()"
   ],
   "metadata": {
    "collapsed": false,
    "pycharm": {
     "name": "#%%\n"
    }
   }
  },
  {
   "cell_type": "markdown",
   "source": [
    "# Most Common Words at Each Class"
   ],
   "metadata": {
    "collapsed": false,
    "pycharm": {
     "name": "#%% md\n"
    }
   }
  },
  {
   "cell_type": "code",
   "execution_count": 57,
   "outputs": [
    {
     "data": {
      "application/vnd.plotly.v1+json": {
       "data": [
        {
         "marker": {
          "color": "mediumturquoise"
         },
         "orientation": "h",
         "x": [
          6483,
          5511,
          4305,
          1933,
          1863,
          1700,
          1663,
          1612,
          1536,
          1271,
          1155,
          1153,
          1137,
          1129,
          1118,
          1110,
          1019,
          974,
          946,
          938,
          938,
          898,
          863,
          863,
          846,
          844,
          800,
          778,
          747,
          747,
          740,
          722,
          711,
          693,
          671,
          671,
          664,
          663,
          647,
          646,
          638,
          634,
          620,
          611,
          607,
          603,
          597,
          592,
          576,
          559,
          558,
          557,
          551,
          546,
          535,
          522
         ],
         "y": [
          "room",
          "hotel",
          "I",
          "stay",
          "The",
          "n",
          "rooms",
          "staff",
          "night",
          "service",
          "told",
          "stayed",
          "Hilton",
          "like",
          "day",
          "time",
          "2",
          "bed",
          "check",
          "We",
          "good",
          "got",
          "food",
          "desk",
          "3",
          "booked",
          "place",
          "went",
          "bathroom",
          "…",
          "people",
          "one",
          "5",
          "’",
          "asked",
          "would",
          "reception",
          "4",
          "said",
          "bad",
          "water",
          "resort",
          "old",
          "breakfast",
          "floor",
          "dirty",
          "better",
          "experience",
          "really",
          "arrived",
          "1",
          "worst",
          "hotels",
          "small",
          "door",
          "work"
         ],
         "type": "bar",
         "xaxis": "x",
         "yaxis": "y"
        },
        {
         "marker": {
          "color": "lightgreen"
         },
         "orientation": "h",
         "x": [
          6336,
          5286,
          3752,
          2178,
          1894,
          1881,
          1803,
          1769,
          1710,
          1652,
          1423,
          1336,
          1327,
          1213,
          1201,
          1174,
          1124,
          1118,
          1103,
          1007,
          959,
          952,
          932,
          931,
          905,
          894,
          890,
          884,
          866,
          841,
          840,
          812,
          811,
          791,
          769,
          762,
          753,
          751,
          751,
          739,
          738,
          737,
          722,
          697,
          696,
          682,
          678,
          677,
          643,
          612,
          601,
          596,
          593,
          581,
          577,
          565,
          560,
          548
         ],
         "y": [
          "room",
          "hotel",
          "I",
          "The",
          "rooms",
          "n",
          "good",
          "staff",
          "stay",
          "night",
          "service",
          "time",
          "stayed",
          "like",
          "food",
          "day",
          "2",
          "Hilton",
          "nice",
          "bed",
          "great",
          "3",
          "We",
          "got",
          "breakfast",
          "check",
          "really",
          "people",
          "beach",
          "told",
          "location",
          "bathroom",
          "resort",
          "small",
          "desk",
          "water",
          "clean",
          "5",
          "better",
          "bar",
          "booked",
          "…",
          "floor",
          "one",
          "would",
          "4",
          "place",
          "went",
          "pool",
          "reception",
          "old",
          "area",
          "restaurant",
          "1",
          "work",
          "bad",
          "shower",
          "Ç"
         ],
         "type": "bar",
         "xaxis": "x2",
         "yaxis": "y2"
        },
        {
         "marker": {
          "color": "red"
         },
         "orientation": "h",
         "x": [
          5608,
          5415,
          2906,
          2625,
          2193,
          1794,
          1698,
          1676,
          1665,
          1555,
          1550,
          1538,
          1366,
          1249,
          1237,
          1236,
          1183,
          1169,
          1168,
          1073,
          979,
          938,
          897,
          896,
          891,
          877,
          859,
          839,
          832,
          826,
          806,
          786,
          784,
          783,
          782,
          767,
          760,
          757,
          735,
          724,
          708,
          707,
          704,
          680,
          678,
          669,
          655,
          625,
          623,
          601,
          590,
          583,
          578,
          577,
          557,
          550,
          547,
          532,
          524,
          524
         ],
         "y": [
          "room",
          "hotel",
          "I",
          "good",
          "The",
          "n",
          "staff",
          "rooms",
          "stay",
          "nice",
          "great",
          "night",
          "location",
          "stayed",
          "time",
          "clean",
          "breakfast",
          "food",
          "service",
          "like",
          "day",
          "2",
          "really",
          "small",
          "We",
          "beach",
          "bed",
          "bar",
          "Hilton",
          "check",
          "little",
          "walk",
          "area",
          "people",
          "bathroom",
          "resort",
          "3",
          "got",
          "restaurant",
          "pool",
          "place",
          "5",
          "one",
          "better",
          "bit",
          "floor",
          "friendly",
          "quite",
          "ok",
          "price",
          "would",
          "4",
          "…",
          "airport",
          "need",
          "water",
          "booked",
          "desk",
          "comfortable",
          "went"
         ],
         "type": "bar",
         "xaxis": "x3",
         "yaxis": "y3"
        },
        {
         "marker": {
          "color": "yellow"
         },
         "orientation": "h",
         "x": [
          5370,
          4392,
          2862,
          2306,
          2049,
          1954,
          1945,
          1897,
          1696,
          1451,
          1437,
          1391,
          1378,
          1372,
          1285,
          1196,
          1085,
          1050,
          1046,
          1026,
          1016,
          930,
          904,
          875,
          858,
          832,
          801,
          790,
          787,
          783,
          771,
          731,
          731,
          709,
          708,
          708,
          698,
          677,
          670,
          669,
          654,
          629,
          627,
          590,
          583,
          581,
          580,
          573,
          562,
          559,
          553,
          552,
          549,
          529,
          523,
          516,
          501,
          497,
          495,
          491
         ],
         "y": [
          "hotel",
          "room",
          "good",
          "great",
          "I",
          "stay",
          "The",
          "staff",
          "nice",
          "rooms",
          "n",
          "breakfast",
          "clean",
          "location",
          "night",
          "stayed",
          "service",
          "food",
          "We",
          "walk",
          "time",
          "day",
          "friendly",
          "comfortable",
          "really",
          "helpful",
          "little",
          "2",
          "small",
          "beach",
          "bar",
          "like",
          "check",
          "area",
          "bed",
          "restaurant",
          "airport",
          "excellent",
          "5",
          "Hilton",
          "place",
          "bit",
          "got",
          "people",
          "pool",
          "bathroom",
          "3",
          "morning",
          "restaurants",
          "early",
          "one",
          "floor",
          "resort",
          "large",
          "quite",
          "flight",
          "recommend",
          "would",
          "price",
          "well"
         ],
         "type": "bar",
         "xaxis": "x4",
         "yaxis": "y4"
        },
        {
         "marker": {
          "color": "blue"
         },
         "orientation": "h",
         "x": [
          5389,
          3521,
          2397,
          2227,
          2048,
          1885,
          1716,
          1607,
          1291,
          1254,
          1221,
          1182,
          1163,
          1121,
          1119,
          1085,
          1009,
          954,
          947,
          911,
          910,
          907,
          849,
          826,
          819,
          807,
          779,
          702,
          643,
          637,
          619,
          617,
          613,
          612,
          581,
          567,
          550,
          528,
          524,
          523,
          513,
          508,
          494,
          494,
          491,
          483,
          480,
          478,
          475,
          474,
          472,
          456,
          455,
          453,
          450,
          448,
          447,
          445,
          434
         ],
         "y": [
          "hotel",
          "room",
          "great",
          "staff",
          "stay",
          "I",
          "good",
          "The",
          "breakfast",
          "stayed",
          "rooms",
          "clean",
          "service",
          "We",
          "location",
          "nice",
          "friendly",
          "excellent",
          "night",
          "time",
          "helpful",
          "n",
          "food",
          "walk",
          "day",
          "really",
          "comfortable",
          "Hilton",
          "recommend",
          "bar",
          "like",
          "place",
          "check",
          "best",
          "2",
          "bed",
          "lovely",
          "restaurant",
          "area",
          "5",
          "wonderful",
          "beach",
          "free",
          "airport",
          "London",
          "pool",
          "trip",
          "little",
          "definitely",
          "morning",
          "flight",
          "people",
          "us",
          "bathroom",
          "small",
          "large",
          "well",
          "would",
          "got"
         ],
         "type": "bar",
         "xaxis": "x5",
         "yaxis": "y5"
        }
       ],
       "layout": {
        "template": {
         "data": {
          "histogram2dcontour": [
           {
            "type": "histogram2dcontour",
            "colorbar": {
             "outlinewidth": 0,
             "ticks": ""
            },
            "colorscale": [
             [
              0.0,
              "#0d0887"
             ],
             [
              0.1111111111111111,
              "#46039f"
             ],
             [
              0.2222222222222222,
              "#7201a8"
             ],
             [
              0.3333333333333333,
              "#9c179e"
             ],
             [
              0.4444444444444444,
              "#bd3786"
             ],
             [
              0.5555555555555556,
              "#d8576b"
             ],
             [
              0.6666666666666666,
              "#ed7953"
             ],
             [
              0.7777777777777778,
              "#fb9f3a"
             ],
             [
              0.8888888888888888,
              "#fdca26"
             ],
             [
              1.0,
              "#f0f921"
             ]
            ]
           }
          ],
          "choropleth": [
           {
            "type": "choropleth",
            "colorbar": {
             "outlinewidth": 0,
             "ticks": ""
            }
           }
          ],
          "histogram2d": [
           {
            "type": "histogram2d",
            "colorbar": {
             "outlinewidth": 0,
             "ticks": ""
            },
            "colorscale": [
             [
              0.0,
              "#0d0887"
             ],
             [
              0.1111111111111111,
              "#46039f"
             ],
             [
              0.2222222222222222,
              "#7201a8"
             ],
             [
              0.3333333333333333,
              "#9c179e"
             ],
             [
              0.4444444444444444,
              "#bd3786"
             ],
             [
              0.5555555555555556,
              "#d8576b"
             ],
             [
              0.6666666666666666,
              "#ed7953"
             ],
             [
              0.7777777777777778,
              "#fb9f3a"
             ],
             [
              0.8888888888888888,
              "#fdca26"
             ],
             [
              1.0,
              "#f0f921"
             ]
            ]
           }
          ],
          "heatmap": [
           {
            "type": "heatmap",
            "colorbar": {
             "outlinewidth": 0,
             "ticks": ""
            },
            "colorscale": [
             [
              0.0,
              "#0d0887"
             ],
             [
              0.1111111111111111,
              "#46039f"
             ],
             [
              0.2222222222222222,
              "#7201a8"
             ],
             [
              0.3333333333333333,
              "#9c179e"
             ],
             [
              0.4444444444444444,
              "#bd3786"
             ],
             [
              0.5555555555555556,
              "#d8576b"
             ],
             [
              0.6666666666666666,
              "#ed7953"
             ],
             [
              0.7777777777777778,
              "#fb9f3a"
             ],
             [
              0.8888888888888888,
              "#fdca26"
             ],
             [
              1.0,
              "#f0f921"
             ]
            ]
           }
          ],
          "heatmapgl": [
           {
            "type": "heatmapgl",
            "colorbar": {
             "outlinewidth": 0,
             "ticks": ""
            },
            "colorscale": [
             [
              0.0,
              "#0d0887"
             ],
             [
              0.1111111111111111,
              "#46039f"
             ],
             [
              0.2222222222222222,
              "#7201a8"
             ],
             [
              0.3333333333333333,
              "#9c179e"
             ],
             [
              0.4444444444444444,
              "#bd3786"
             ],
             [
              0.5555555555555556,
              "#d8576b"
             ],
             [
              0.6666666666666666,
              "#ed7953"
             ],
             [
              0.7777777777777778,
              "#fb9f3a"
             ],
             [
              0.8888888888888888,
              "#fdca26"
             ],
             [
              1.0,
              "#f0f921"
             ]
            ]
           }
          ],
          "contourcarpet": [
           {
            "type": "contourcarpet",
            "colorbar": {
             "outlinewidth": 0,
             "ticks": ""
            }
           }
          ],
          "contour": [
           {
            "type": "contour",
            "colorbar": {
             "outlinewidth": 0,
             "ticks": ""
            },
            "colorscale": [
             [
              0.0,
              "#0d0887"
             ],
             [
              0.1111111111111111,
              "#46039f"
             ],
             [
              0.2222222222222222,
              "#7201a8"
             ],
             [
              0.3333333333333333,
              "#9c179e"
             ],
             [
              0.4444444444444444,
              "#bd3786"
             ],
             [
              0.5555555555555556,
              "#d8576b"
             ],
             [
              0.6666666666666666,
              "#ed7953"
             ],
             [
              0.7777777777777778,
              "#fb9f3a"
             ],
             [
              0.8888888888888888,
              "#fdca26"
             ],
             [
              1.0,
              "#f0f921"
             ]
            ]
           }
          ],
          "surface": [
           {
            "type": "surface",
            "colorbar": {
             "outlinewidth": 0,
             "ticks": ""
            },
            "colorscale": [
             [
              0.0,
              "#0d0887"
             ],
             [
              0.1111111111111111,
              "#46039f"
             ],
             [
              0.2222222222222222,
              "#7201a8"
             ],
             [
              0.3333333333333333,
              "#9c179e"
             ],
             [
              0.4444444444444444,
              "#bd3786"
             ],
             [
              0.5555555555555556,
              "#d8576b"
             ],
             [
              0.6666666666666666,
              "#ed7953"
             ],
             [
              0.7777777777777778,
              "#fb9f3a"
             ],
             [
              0.8888888888888888,
              "#fdca26"
             ],
             [
              1.0,
              "#f0f921"
             ]
            ]
           }
          ],
          "mesh3d": [
           {
            "type": "mesh3d",
            "colorbar": {
             "outlinewidth": 0,
             "ticks": ""
            }
           }
          ],
          "scatter": [
           {
            "fillpattern": {
             "fillmode": "overlay",
             "size": 10,
             "solidity": 0.2
            },
            "type": "scatter"
           }
          ],
          "parcoords": [
           {
            "type": "parcoords",
            "line": {
             "colorbar": {
              "outlinewidth": 0,
              "ticks": ""
             }
            }
           }
          ],
          "scatterpolargl": [
           {
            "type": "scatterpolargl",
            "marker": {
             "colorbar": {
              "outlinewidth": 0,
              "ticks": ""
             }
            }
           }
          ],
          "bar": [
           {
            "error_x": {
             "color": "#2a3f5f"
            },
            "error_y": {
             "color": "#2a3f5f"
            },
            "marker": {
             "line": {
              "color": "#E5ECF6",
              "width": 0.5
             },
             "pattern": {
              "fillmode": "overlay",
              "size": 10,
              "solidity": 0.2
             }
            },
            "type": "bar"
           }
          ],
          "scattergeo": [
           {
            "type": "scattergeo",
            "marker": {
             "colorbar": {
              "outlinewidth": 0,
              "ticks": ""
             }
            }
           }
          ],
          "scatterpolar": [
           {
            "type": "scatterpolar",
            "marker": {
             "colorbar": {
              "outlinewidth": 0,
              "ticks": ""
             }
            }
           }
          ],
          "histogram": [
           {
            "marker": {
             "pattern": {
              "fillmode": "overlay",
              "size": 10,
              "solidity": 0.2
             }
            },
            "type": "histogram"
           }
          ],
          "scattergl": [
           {
            "type": "scattergl",
            "marker": {
             "colorbar": {
              "outlinewidth": 0,
              "ticks": ""
             }
            }
           }
          ],
          "scatter3d": [
           {
            "type": "scatter3d",
            "line": {
             "colorbar": {
              "outlinewidth": 0,
              "ticks": ""
             }
            },
            "marker": {
             "colorbar": {
              "outlinewidth": 0,
              "ticks": ""
             }
            }
           }
          ],
          "scattermapbox": [
           {
            "type": "scattermapbox",
            "marker": {
             "colorbar": {
              "outlinewidth": 0,
              "ticks": ""
             }
            }
           }
          ],
          "scatterternary": [
           {
            "type": "scatterternary",
            "marker": {
             "colorbar": {
              "outlinewidth": 0,
              "ticks": ""
             }
            }
           }
          ],
          "scattercarpet": [
           {
            "type": "scattercarpet",
            "marker": {
             "colorbar": {
              "outlinewidth": 0,
              "ticks": ""
             }
            }
           }
          ],
          "carpet": [
           {
            "aaxis": {
             "endlinecolor": "#2a3f5f",
             "gridcolor": "white",
             "linecolor": "white",
             "minorgridcolor": "white",
             "startlinecolor": "#2a3f5f"
            },
            "baxis": {
             "endlinecolor": "#2a3f5f",
             "gridcolor": "white",
             "linecolor": "white",
             "minorgridcolor": "white",
             "startlinecolor": "#2a3f5f"
            },
            "type": "carpet"
           }
          ],
          "table": [
           {
            "cells": {
             "fill": {
              "color": "#EBF0F8"
             },
             "line": {
              "color": "white"
             }
            },
            "header": {
             "fill": {
              "color": "#C8D4E3"
             },
             "line": {
              "color": "white"
             }
            },
            "type": "table"
           }
          ],
          "barpolar": [
           {
            "marker": {
             "line": {
              "color": "#E5ECF6",
              "width": 0.5
             },
             "pattern": {
              "fillmode": "overlay",
              "size": 10,
              "solidity": 0.2
             }
            },
            "type": "barpolar"
           }
          ],
          "pie": [
           {
            "automargin": true,
            "type": "pie"
           }
          ]
         },
         "layout": {
          "autotypenumbers": "strict",
          "colorway": [
           "#636efa",
           "#EF553B",
           "#00cc96",
           "#ab63fa",
           "#FFA15A",
           "#19d3f3",
           "#FF6692",
           "#B6E880",
           "#FF97FF",
           "#FECB52"
          ],
          "font": {
           "color": "#2a3f5f"
          },
          "hovermode": "closest",
          "hoverlabel": {
           "align": "left"
          },
          "paper_bgcolor": "white",
          "plot_bgcolor": "#E5ECF6",
          "polar": {
           "bgcolor": "#E5ECF6",
           "angularaxis": {
            "gridcolor": "white",
            "linecolor": "white",
            "ticks": ""
           },
           "radialaxis": {
            "gridcolor": "white",
            "linecolor": "white",
            "ticks": ""
           }
          },
          "ternary": {
           "bgcolor": "#E5ECF6",
           "aaxis": {
            "gridcolor": "white",
            "linecolor": "white",
            "ticks": ""
           },
           "baxis": {
            "gridcolor": "white",
            "linecolor": "white",
            "ticks": ""
           },
           "caxis": {
            "gridcolor": "white",
            "linecolor": "white",
            "ticks": ""
           }
          },
          "coloraxis": {
           "colorbar": {
            "outlinewidth": 0,
            "ticks": ""
           }
          },
          "colorscale": {
           "sequential": [
            [
             0.0,
             "#0d0887"
            ],
            [
             0.1111111111111111,
             "#46039f"
            ],
            [
             0.2222222222222222,
             "#7201a8"
            ],
            [
             0.3333333333333333,
             "#9c179e"
            ],
            [
             0.4444444444444444,
             "#bd3786"
            ],
            [
             0.5555555555555556,
             "#d8576b"
            ],
            [
             0.6666666666666666,
             "#ed7953"
            ],
            [
             0.7777777777777778,
             "#fb9f3a"
            ],
            [
             0.8888888888888888,
             "#fdca26"
            ],
            [
             1.0,
             "#f0f921"
            ]
           ],
           "sequentialminus": [
            [
             0.0,
             "#0d0887"
            ],
            [
             0.1111111111111111,
             "#46039f"
            ],
            [
             0.2222222222222222,
             "#7201a8"
            ],
            [
             0.3333333333333333,
             "#9c179e"
            ],
            [
             0.4444444444444444,
             "#bd3786"
            ],
            [
             0.5555555555555556,
             "#d8576b"
            ],
            [
             0.6666666666666666,
             "#ed7953"
            ],
            [
             0.7777777777777778,
             "#fb9f3a"
            ],
            [
             0.8888888888888888,
             "#fdca26"
            ],
            [
             1.0,
             "#f0f921"
            ]
           ],
           "diverging": [
            [
             0,
             "#8e0152"
            ],
            [
             0.1,
             "#c51b7d"
            ],
            [
             0.2,
             "#de77ae"
            ],
            [
             0.3,
             "#f1b6da"
            ],
            [
             0.4,
             "#fde0ef"
            ],
            [
             0.5,
             "#f7f7f7"
            ],
            [
             0.6,
             "#e6f5d0"
            ],
            [
             0.7,
             "#b8e186"
            ],
            [
             0.8,
             "#7fbc41"
            ],
            [
             0.9,
             "#4d9221"
            ],
            [
             1,
             "#276419"
            ]
           ]
          },
          "xaxis": {
           "gridcolor": "white",
           "linecolor": "white",
           "ticks": "",
           "title": {
            "standoff": 15
           },
           "zerolinecolor": "white",
           "automargin": true,
           "zerolinewidth": 2
          },
          "yaxis": {
           "gridcolor": "white",
           "linecolor": "white",
           "ticks": "",
           "title": {
            "standoff": 15
           },
           "zerolinecolor": "white",
           "automargin": true,
           "zerolinewidth": 2
          },
          "scene": {
           "xaxis": {
            "backgroundcolor": "#E5ECF6",
            "gridcolor": "white",
            "linecolor": "white",
            "showbackground": true,
            "ticks": "",
            "zerolinecolor": "white",
            "gridwidth": 2
           },
           "yaxis": {
            "backgroundcolor": "#E5ECF6",
            "gridcolor": "white",
            "linecolor": "white",
            "showbackground": true,
            "ticks": "",
            "zerolinecolor": "white",
            "gridwidth": 2
           },
           "zaxis": {
            "backgroundcolor": "#E5ECF6",
            "gridcolor": "white",
            "linecolor": "white",
            "showbackground": true,
            "ticks": "",
            "zerolinecolor": "white",
            "gridwidth": 2
           }
          },
          "shapedefaults": {
           "line": {
            "color": "#2a3f5f"
           }
          },
          "annotationdefaults": {
           "arrowcolor": "#2a3f5f",
           "arrowhead": 0,
           "arrowwidth": 1
          },
          "geo": {
           "bgcolor": "white",
           "landcolor": "#E5ECF6",
           "subunitcolor": "white",
           "showland": true,
           "showlakes": true,
           "lakecolor": "white"
          },
          "title": {
           "x": 0.05
          },
          "mapbox": {
           "style": "light"
          }
         }
        },
        "xaxis": {
         "anchor": "y",
         "domain": [
          0.0,
          0.16799999999999998
         ]
        },
        "yaxis": {
         "anchor": "x",
         "domain": [
          0.0,
          1.0
         ]
        },
        "xaxis2": {
         "anchor": "y2",
         "domain": [
          0.208,
          0.376
         ]
        },
        "yaxis2": {
         "anchor": "x2",
         "domain": [
          0.0,
          1.0
         ]
        },
        "xaxis3": {
         "anchor": "y3",
         "domain": [
          0.416,
          0.584
         ]
        },
        "yaxis3": {
         "anchor": "x3",
         "domain": [
          0.0,
          1.0
         ]
        },
        "xaxis4": {
         "anchor": "y4",
         "domain": [
          0.624,
          0.792
         ]
        },
        "yaxis4": {
         "anchor": "x4",
         "domain": [
          0.0,
          1.0
         ]
        },
        "xaxis5": {
         "anchor": "y5",
         "domain": [
          0.832,
          1.0
         ]
        },
        "yaxis5": {
         "anchor": "x5",
         "domain": [
          0.0,
          1.0
         ]
        },
        "title": {
         "font": {
          "family": "Courier New, monospace",
          "size": 20,
          "color": "RebeccaPurple"
         },
         "text": "<b>Most Common ngrams per Classes</b>",
         "x": 0.5,
         "y": 0.95
        },
        "autosize": false,
        "width": 1500,
        "height": 600
       },
       "config": {
        "plotlyServerURL": "https://plot.ly"
       }
      },
      "text/html": "<div>                            <div id=\"6854be48-ab7a-4f94-9c01-5696dd088d9f\" class=\"plotly-graph-div\" style=\"height:600px; width:1500px;\"></div>            <script type=\"text/javascript\">                require([\"plotly\"], function(Plotly) {                    window.PLOTLYENV=window.PLOTLYENV || {};                                    if (document.getElementById(\"6854be48-ab7a-4f94-9c01-5696dd088d9f\")) {                    Plotly.newPlot(                        \"6854be48-ab7a-4f94-9c01-5696dd088d9f\",                        [{\"marker\":{\"color\":\"mediumturquoise\"},\"orientation\":\"h\",\"x\":[6483,5511,4305,1933,1863,1700,1663,1612,1536,1271,1155,1153,1137,1129,1118,1110,1019,974,946,938,938,898,863,863,846,844,800,778,747,747,740,722,711,693,671,671,664,663,647,646,638,634,620,611,607,603,597,592,576,559,558,557,551,546,535,522],\"y\":[\"room\",\"hotel\",\"I\",\"stay\",\"The\",\"n\",\"rooms\",\"staff\",\"night\",\"service\",\"told\",\"stayed\",\"Hilton\",\"like\",\"day\",\"time\",\"2\",\"bed\",\"check\",\"We\",\"good\",\"got\",\"food\",\"desk\",\"3\",\"booked\",\"place\",\"went\",\"bathroom\",\"\\u2026\",\"people\",\"one\",\"5\",\"\\u2019\",\"asked\",\"would\",\"reception\",\"4\",\"said\",\"bad\",\"water\",\"resort\",\"old\",\"breakfast\",\"floor\",\"dirty\",\"better\",\"experience\",\"really\",\"arrived\",\"1\",\"worst\",\"hotels\",\"small\",\"door\",\"work\"],\"type\":\"bar\",\"xaxis\":\"x\",\"yaxis\":\"y\"},{\"marker\":{\"color\":\"lightgreen\"},\"orientation\":\"h\",\"x\":[6336,5286,3752,2178,1894,1881,1803,1769,1710,1652,1423,1336,1327,1213,1201,1174,1124,1118,1103,1007,959,952,932,931,905,894,890,884,866,841,840,812,811,791,769,762,753,751,751,739,738,737,722,697,696,682,678,677,643,612,601,596,593,581,577,565,560,548],\"y\":[\"room\",\"hotel\",\"I\",\"The\",\"rooms\",\"n\",\"good\",\"staff\",\"stay\",\"night\",\"service\",\"time\",\"stayed\",\"like\",\"food\",\"day\",\"2\",\"Hilton\",\"nice\",\"bed\",\"great\",\"3\",\"We\",\"got\",\"breakfast\",\"check\",\"really\",\"people\",\"beach\",\"told\",\"location\",\"bathroom\",\"resort\",\"small\",\"desk\",\"water\",\"clean\",\"5\",\"better\",\"bar\",\"booked\",\"\\u2026\",\"floor\",\"one\",\"would\",\"4\",\"place\",\"went\",\"pool\",\"reception\",\"old\",\"area\",\"restaurant\",\"1\",\"work\",\"bad\",\"shower\",\"\\u00c7\"],\"type\":\"bar\",\"xaxis\":\"x2\",\"yaxis\":\"y2\"},{\"marker\":{\"color\":\"red\"},\"orientation\":\"h\",\"x\":[5608,5415,2906,2625,2193,1794,1698,1676,1665,1555,1550,1538,1366,1249,1237,1236,1183,1169,1168,1073,979,938,897,896,891,877,859,839,832,826,806,786,784,783,782,767,760,757,735,724,708,707,704,680,678,669,655,625,623,601,590,583,578,577,557,550,547,532,524,524],\"y\":[\"room\",\"hotel\",\"I\",\"good\",\"The\",\"n\",\"staff\",\"rooms\",\"stay\",\"nice\",\"great\",\"night\",\"location\",\"stayed\",\"time\",\"clean\",\"breakfast\",\"food\",\"service\",\"like\",\"day\",\"2\",\"really\",\"small\",\"We\",\"beach\",\"bed\",\"bar\",\"Hilton\",\"check\",\"little\",\"walk\",\"area\",\"people\",\"bathroom\",\"resort\",\"3\",\"got\",\"restaurant\",\"pool\",\"place\",\"5\",\"one\",\"better\",\"bit\",\"floor\",\"friendly\",\"quite\",\"ok\",\"price\",\"would\",\"4\",\"\\u2026\",\"airport\",\"need\",\"water\",\"booked\",\"desk\",\"comfortable\",\"went\"],\"type\":\"bar\",\"xaxis\":\"x3\",\"yaxis\":\"y3\"},{\"marker\":{\"color\":\"yellow\"},\"orientation\":\"h\",\"x\":[5370,4392,2862,2306,2049,1954,1945,1897,1696,1451,1437,1391,1378,1372,1285,1196,1085,1050,1046,1026,1016,930,904,875,858,832,801,790,787,783,771,731,731,709,708,708,698,677,670,669,654,629,627,590,583,581,580,573,562,559,553,552,549,529,523,516,501,497,495,491],\"y\":[\"hotel\",\"room\",\"good\",\"great\",\"I\",\"stay\",\"The\",\"staff\",\"nice\",\"rooms\",\"n\",\"breakfast\",\"clean\",\"location\",\"night\",\"stayed\",\"service\",\"food\",\"We\",\"walk\",\"time\",\"day\",\"friendly\",\"comfortable\",\"really\",\"helpful\",\"little\",\"2\",\"small\",\"beach\",\"bar\",\"like\",\"check\",\"area\",\"bed\",\"restaurant\",\"airport\",\"excellent\",\"5\",\"Hilton\",\"place\",\"bit\",\"got\",\"people\",\"pool\",\"bathroom\",\"3\",\"morning\",\"restaurants\",\"early\",\"one\",\"floor\",\"resort\",\"large\",\"quite\",\"flight\",\"recommend\",\"would\",\"price\",\"well\"],\"type\":\"bar\",\"xaxis\":\"x4\",\"yaxis\":\"y4\"},{\"marker\":{\"color\":\"blue\"},\"orientation\":\"h\",\"x\":[5389,3521,2397,2227,2048,1885,1716,1607,1291,1254,1221,1182,1163,1121,1119,1085,1009,954,947,911,910,907,849,826,819,807,779,702,643,637,619,617,613,612,581,567,550,528,524,523,513,508,494,494,491,483,480,478,475,474,472,456,455,453,450,448,447,445,434],\"y\":[\"hotel\",\"room\",\"great\",\"staff\",\"stay\",\"I\",\"good\",\"The\",\"breakfast\",\"stayed\",\"rooms\",\"clean\",\"service\",\"We\",\"location\",\"nice\",\"friendly\",\"excellent\",\"night\",\"time\",\"helpful\",\"n\",\"food\",\"walk\",\"day\",\"really\",\"comfortable\",\"Hilton\",\"recommend\",\"bar\",\"like\",\"place\",\"check\",\"best\",\"2\",\"bed\",\"lovely\",\"restaurant\",\"area\",\"5\",\"wonderful\",\"beach\",\"free\",\"airport\",\"London\",\"pool\",\"trip\",\"little\",\"definitely\",\"morning\",\"flight\",\"people\",\"us\",\"bathroom\",\"small\",\"large\",\"well\",\"would\",\"got\"],\"type\":\"bar\",\"xaxis\":\"x5\",\"yaxis\":\"y5\"}],                        {\"template\":{\"data\":{\"histogram2dcontour\":[{\"type\":\"histogram2dcontour\",\"colorbar\":{\"outlinewidth\":0,\"ticks\":\"\"},\"colorscale\":[[0.0,\"#0d0887\"],[0.1111111111111111,\"#46039f\"],[0.2222222222222222,\"#7201a8\"],[0.3333333333333333,\"#9c179e\"],[0.4444444444444444,\"#bd3786\"],[0.5555555555555556,\"#d8576b\"],[0.6666666666666666,\"#ed7953\"],[0.7777777777777778,\"#fb9f3a\"],[0.8888888888888888,\"#fdca26\"],[1.0,\"#f0f921\"]]}],\"choropleth\":[{\"type\":\"choropleth\",\"colorbar\":{\"outlinewidth\":0,\"ticks\":\"\"}}],\"histogram2d\":[{\"type\":\"histogram2d\",\"colorbar\":{\"outlinewidth\":0,\"ticks\":\"\"},\"colorscale\":[[0.0,\"#0d0887\"],[0.1111111111111111,\"#46039f\"],[0.2222222222222222,\"#7201a8\"],[0.3333333333333333,\"#9c179e\"],[0.4444444444444444,\"#bd3786\"],[0.5555555555555556,\"#d8576b\"],[0.6666666666666666,\"#ed7953\"],[0.7777777777777778,\"#fb9f3a\"],[0.8888888888888888,\"#fdca26\"],[1.0,\"#f0f921\"]]}],\"heatmap\":[{\"type\":\"heatmap\",\"colorbar\":{\"outlinewidth\":0,\"ticks\":\"\"},\"colorscale\":[[0.0,\"#0d0887\"],[0.1111111111111111,\"#46039f\"],[0.2222222222222222,\"#7201a8\"],[0.3333333333333333,\"#9c179e\"],[0.4444444444444444,\"#bd3786\"],[0.5555555555555556,\"#d8576b\"],[0.6666666666666666,\"#ed7953\"],[0.7777777777777778,\"#fb9f3a\"],[0.8888888888888888,\"#fdca26\"],[1.0,\"#f0f921\"]]}],\"heatmapgl\":[{\"type\":\"heatmapgl\",\"colorbar\":{\"outlinewidth\":0,\"ticks\":\"\"},\"colorscale\":[[0.0,\"#0d0887\"],[0.1111111111111111,\"#46039f\"],[0.2222222222222222,\"#7201a8\"],[0.3333333333333333,\"#9c179e\"],[0.4444444444444444,\"#bd3786\"],[0.5555555555555556,\"#d8576b\"],[0.6666666666666666,\"#ed7953\"],[0.7777777777777778,\"#fb9f3a\"],[0.8888888888888888,\"#fdca26\"],[1.0,\"#f0f921\"]]}],\"contourcarpet\":[{\"type\":\"contourcarpet\",\"colorbar\":{\"outlinewidth\":0,\"ticks\":\"\"}}],\"contour\":[{\"type\":\"contour\",\"colorbar\":{\"outlinewidth\":0,\"ticks\":\"\"},\"colorscale\":[[0.0,\"#0d0887\"],[0.1111111111111111,\"#46039f\"],[0.2222222222222222,\"#7201a8\"],[0.3333333333333333,\"#9c179e\"],[0.4444444444444444,\"#bd3786\"],[0.5555555555555556,\"#d8576b\"],[0.6666666666666666,\"#ed7953\"],[0.7777777777777778,\"#fb9f3a\"],[0.8888888888888888,\"#fdca26\"],[1.0,\"#f0f921\"]]}],\"surface\":[{\"type\":\"surface\",\"colorbar\":{\"outlinewidth\":0,\"ticks\":\"\"},\"colorscale\":[[0.0,\"#0d0887\"],[0.1111111111111111,\"#46039f\"],[0.2222222222222222,\"#7201a8\"],[0.3333333333333333,\"#9c179e\"],[0.4444444444444444,\"#bd3786\"],[0.5555555555555556,\"#d8576b\"],[0.6666666666666666,\"#ed7953\"],[0.7777777777777778,\"#fb9f3a\"],[0.8888888888888888,\"#fdca26\"],[1.0,\"#f0f921\"]]}],\"mesh3d\":[{\"type\":\"mesh3d\",\"colorbar\":{\"outlinewidth\":0,\"ticks\":\"\"}}],\"scatter\":[{\"fillpattern\":{\"fillmode\":\"overlay\",\"size\":10,\"solidity\":0.2},\"type\":\"scatter\"}],\"parcoords\":[{\"type\":\"parcoords\",\"line\":{\"colorbar\":{\"outlinewidth\":0,\"ticks\":\"\"}}}],\"scatterpolargl\":[{\"type\":\"scatterpolargl\",\"marker\":{\"colorbar\":{\"outlinewidth\":0,\"ticks\":\"\"}}}],\"bar\":[{\"error_x\":{\"color\":\"#2a3f5f\"},\"error_y\":{\"color\":\"#2a3f5f\"},\"marker\":{\"line\":{\"color\":\"#E5ECF6\",\"width\":0.5},\"pattern\":{\"fillmode\":\"overlay\",\"size\":10,\"solidity\":0.2}},\"type\":\"bar\"}],\"scattergeo\":[{\"type\":\"scattergeo\",\"marker\":{\"colorbar\":{\"outlinewidth\":0,\"ticks\":\"\"}}}],\"scatterpolar\":[{\"type\":\"scatterpolar\",\"marker\":{\"colorbar\":{\"outlinewidth\":0,\"ticks\":\"\"}}}],\"histogram\":[{\"marker\":{\"pattern\":{\"fillmode\":\"overlay\",\"size\":10,\"solidity\":0.2}},\"type\":\"histogram\"}],\"scattergl\":[{\"type\":\"scattergl\",\"marker\":{\"colorbar\":{\"outlinewidth\":0,\"ticks\":\"\"}}}],\"scatter3d\":[{\"type\":\"scatter3d\",\"line\":{\"colorbar\":{\"outlinewidth\":0,\"ticks\":\"\"}},\"marker\":{\"colorbar\":{\"outlinewidth\":0,\"ticks\":\"\"}}}],\"scattermapbox\":[{\"type\":\"scattermapbox\",\"marker\":{\"colorbar\":{\"outlinewidth\":0,\"ticks\":\"\"}}}],\"scatterternary\":[{\"type\":\"scatterternary\",\"marker\":{\"colorbar\":{\"outlinewidth\":0,\"ticks\":\"\"}}}],\"scattercarpet\":[{\"type\":\"scattercarpet\",\"marker\":{\"colorbar\":{\"outlinewidth\":0,\"ticks\":\"\"}}}],\"carpet\":[{\"aaxis\":{\"endlinecolor\":\"#2a3f5f\",\"gridcolor\":\"white\",\"linecolor\":\"white\",\"minorgridcolor\":\"white\",\"startlinecolor\":\"#2a3f5f\"},\"baxis\":{\"endlinecolor\":\"#2a3f5f\",\"gridcolor\":\"white\",\"linecolor\":\"white\",\"minorgridcolor\":\"white\",\"startlinecolor\":\"#2a3f5f\"},\"type\":\"carpet\"}],\"table\":[{\"cells\":{\"fill\":{\"color\":\"#EBF0F8\"},\"line\":{\"color\":\"white\"}},\"header\":{\"fill\":{\"color\":\"#C8D4E3\"},\"line\":{\"color\":\"white\"}},\"type\":\"table\"}],\"barpolar\":[{\"marker\":{\"line\":{\"color\":\"#E5ECF6\",\"width\":0.5},\"pattern\":{\"fillmode\":\"overlay\",\"size\":10,\"solidity\":0.2}},\"type\":\"barpolar\"}],\"pie\":[{\"automargin\":true,\"type\":\"pie\"}]},\"layout\":{\"autotypenumbers\":\"strict\",\"colorway\":[\"#636efa\",\"#EF553B\",\"#00cc96\",\"#ab63fa\",\"#FFA15A\",\"#19d3f3\",\"#FF6692\",\"#B6E880\",\"#FF97FF\",\"#FECB52\"],\"font\":{\"color\":\"#2a3f5f\"},\"hovermode\":\"closest\",\"hoverlabel\":{\"align\":\"left\"},\"paper_bgcolor\":\"white\",\"plot_bgcolor\":\"#E5ECF6\",\"polar\":{\"bgcolor\":\"#E5ECF6\",\"angularaxis\":{\"gridcolor\":\"white\",\"linecolor\":\"white\",\"ticks\":\"\"},\"radialaxis\":{\"gridcolor\":\"white\",\"linecolor\":\"white\",\"ticks\":\"\"}},\"ternary\":{\"bgcolor\":\"#E5ECF6\",\"aaxis\":{\"gridcolor\":\"white\",\"linecolor\":\"white\",\"ticks\":\"\"},\"baxis\":{\"gridcolor\":\"white\",\"linecolor\":\"white\",\"ticks\":\"\"},\"caxis\":{\"gridcolor\":\"white\",\"linecolor\":\"white\",\"ticks\":\"\"}},\"coloraxis\":{\"colorbar\":{\"outlinewidth\":0,\"ticks\":\"\"}},\"colorscale\":{\"sequential\":[[0.0,\"#0d0887\"],[0.1111111111111111,\"#46039f\"],[0.2222222222222222,\"#7201a8\"],[0.3333333333333333,\"#9c179e\"],[0.4444444444444444,\"#bd3786\"],[0.5555555555555556,\"#d8576b\"],[0.6666666666666666,\"#ed7953\"],[0.7777777777777778,\"#fb9f3a\"],[0.8888888888888888,\"#fdca26\"],[1.0,\"#f0f921\"]],\"sequentialminus\":[[0.0,\"#0d0887\"],[0.1111111111111111,\"#46039f\"],[0.2222222222222222,\"#7201a8\"],[0.3333333333333333,\"#9c179e\"],[0.4444444444444444,\"#bd3786\"],[0.5555555555555556,\"#d8576b\"],[0.6666666666666666,\"#ed7953\"],[0.7777777777777778,\"#fb9f3a\"],[0.8888888888888888,\"#fdca26\"],[1.0,\"#f0f921\"]],\"diverging\":[[0,\"#8e0152\"],[0.1,\"#c51b7d\"],[0.2,\"#de77ae\"],[0.3,\"#f1b6da\"],[0.4,\"#fde0ef\"],[0.5,\"#f7f7f7\"],[0.6,\"#e6f5d0\"],[0.7,\"#b8e186\"],[0.8,\"#7fbc41\"],[0.9,\"#4d9221\"],[1,\"#276419\"]]},\"xaxis\":{\"gridcolor\":\"white\",\"linecolor\":\"white\",\"ticks\":\"\",\"title\":{\"standoff\":15},\"zerolinecolor\":\"white\",\"automargin\":true,\"zerolinewidth\":2},\"yaxis\":{\"gridcolor\":\"white\",\"linecolor\":\"white\",\"ticks\":\"\",\"title\":{\"standoff\":15},\"zerolinecolor\":\"white\",\"automargin\":true,\"zerolinewidth\":2},\"scene\":{\"xaxis\":{\"backgroundcolor\":\"#E5ECF6\",\"gridcolor\":\"white\",\"linecolor\":\"white\",\"showbackground\":true,\"ticks\":\"\",\"zerolinecolor\":\"white\",\"gridwidth\":2},\"yaxis\":{\"backgroundcolor\":\"#E5ECF6\",\"gridcolor\":\"white\",\"linecolor\":\"white\",\"showbackground\":true,\"ticks\":\"\",\"zerolinecolor\":\"white\",\"gridwidth\":2},\"zaxis\":{\"backgroundcolor\":\"#E5ECF6\",\"gridcolor\":\"white\",\"linecolor\":\"white\",\"showbackground\":true,\"ticks\":\"\",\"zerolinecolor\":\"white\",\"gridwidth\":2}},\"shapedefaults\":{\"line\":{\"color\":\"#2a3f5f\"}},\"annotationdefaults\":{\"arrowcolor\":\"#2a3f5f\",\"arrowhead\":0,\"arrowwidth\":1},\"geo\":{\"bgcolor\":\"white\",\"landcolor\":\"#E5ECF6\",\"subunitcolor\":\"white\",\"showland\":true,\"showlakes\":true,\"lakecolor\":\"white\"},\"title\":{\"x\":0.05},\"mapbox\":{\"style\":\"light\"}}},\"xaxis\":{\"anchor\":\"y\",\"domain\":[0.0,0.16799999999999998]},\"yaxis\":{\"anchor\":\"x\",\"domain\":[0.0,1.0]},\"xaxis2\":{\"anchor\":\"y2\",\"domain\":[0.208,0.376]},\"yaxis2\":{\"anchor\":\"x2\",\"domain\":[0.0,1.0]},\"xaxis3\":{\"anchor\":\"y3\",\"domain\":[0.416,0.584]},\"yaxis3\":{\"anchor\":\"x3\",\"domain\":[0.0,1.0]},\"xaxis4\":{\"anchor\":\"y4\",\"domain\":[0.624,0.792]},\"yaxis4\":{\"anchor\":\"x4\",\"domain\":[0.0,1.0]},\"xaxis5\":{\"anchor\":\"y5\",\"domain\":[0.832,1.0]},\"yaxis5\":{\"anchor\":\"x5\",\"domain\":[0.0,1.0]},\"title\":{\"font\":{\"family\":\"Courier New, monospace\",\"size\":20,\"color\":\"RebeccaPurple\"},\"text\":\"<b>Most Common ngrams per Classes</b>\",\"x\":0.5,\"y\":0.95},\"autosize\":false,\"width\":1500,\"height\":600},                        {\"responsive\": true}                    ).then(function(){\n                            \nvar gd = document.getElementById('6854be48-ab7a-4f94-9c01-5696dd088d9f');\nvar x = new MutationObserver(function (mutations, observer) {{\n        var display = window.getComputedStyle(gd).display;\n        if (!display || display === 'none') {{\n            console.log([gd, 'removed!']);\n            Plotly.purge(gd);\n            observer.disconnect();\n        }}\n}});\n\n// Listen for the removal of the full notebook cells\nvar notebookContainer = gd.closest('#notebook-container');\nif (notebookContainer) {{\n    x.observe(notebookContainer, {childList: true});\n}}\n\n// Listen for the clearing of the current output cell\nvar outputEl = gd.closest('.output');\nif (outputEl) {{\n    x.observe(outputEl, {childList: true});\n}}\n\n                        })                };                });            </script>        </div>"
     },
     "metadata": {},
     "output_type": "display_data"
    }
   ],
   "source": [
    "colors = ['gold', 'mediumturquoise', 'lightgreen','red','yellow','blue']\n",
    "\n",
    "fig = make_subplots(rows=1, cols=5)\n",
    "title_ = [\"1\", \"2\", \"3\",'4','5']\n",
    "\n",
    "for i in range(1,6):\n",
    "    texts = df[df[\"rating\"] == i]['tokenized_review']\n",
    "\n",
    "    new = texts.str.split()\n",
    "    new = new.values.tolist()\n",
    "    corpus = [word for i in new for word in i]\n",
    "    counter = Counter(corpus)\n",
    "    most = counter.most_common()\n",
    "    x, y = [], []\n",
    "\n",
    "    for word, count in most[:100]:\n",
    "        if word not in stopWords_nltk:\n",
    "            x.append(word)\n",
    "            y.append(count)\n",
    "\n",
    "    fig.add_trace(go.Bar(\n",
    "                x=y,\n",
    "                y=x,\n",
    "                orientation='h', type=\"bar\",\n",
    "    marker=dict(color=colors[i])), 1, i)\n",
    "\n",
    "fig.update_layout(\n",
    "    autosize=False,\n",
    "    width=1500,\n",
    "    height=600,title=dict(\n",
    "        text='<b>Most Common ngrams per Classes</b>',\n",
    "        x=0.5,\n",
    "        y=0.95,\n",
    "        font=dict(\n",
    "        family=\"Courier New, monospace\",\n",
    "        size=20,\n",
    "        color=\"RebeccaPurple\"\n",
    "        )\n",
    "    ),)\n",
    "\n",
    "\n",
    "fig.show()"
   ],
   "metadata": {
    "collapsed": false,
    "pycharm": {
     "name": "#%%\n"
    }
   }
  },
  {
   "cell_type": "code",
   "execution_count": 59,
   "outputs": [
    {
     "data": {
      "application/vnd.plotly.v1+json": {
       "data": [
        {
         "marker": {
          "color": "mediumturquoise"
         },
         "orientation": "h",
         "x": [
          6483,
          5511,
          4305,
          1933,
          1863,
          1700,
          1663,
          1612,
          1536,
          1271,
          1155,
          1153,
          1137,
          1129,
          1118,
          1110,
          1019,
          974,
          946,
          938,
          938,
          898,
          863,
          863,
          846,
          844,
          800,
          778,
          747,
          747,
          740,
          722,
          711,
          693,
          671,
          671,
          664,
          663,
          647,
          646,
          638,
          634,
          620,
          611,
          607,
          603,
          597,
          592,
          576,
          559,
          558,
          557,
          551,
          546,
          535,
          522
         ],
         "y": [
          "room",
          "hotel",
          "I",
          "stay",
          "The",
          "n",
          "rooms",
          "staff",
          "night",
          "service",
          "told",
          "stayed",
          "Hilton",
          "like",
          "day",
          "time",
          "2",
          "bed",
          "check",
          "We",
          "good",
          "got",
          "food",
          "desk",
          "3",
          "booked",
          "place",
          "went",
          "bathroom",
          "…",
          "people",
          "one",
          "5",
          "’",
          "asked",
          "would",
          "reception",
          "4",
          "said",
          "bad",
          "water",
          "resort",
          "old",
          "breakfast",
          "floor",
          "dirty",
          "better",
          "experience",
          "really",
          "arrived",
          "1",
          "worst",
          "hotels",
          "small",
          "door",
          "work"
         ],
         "type": "bar",
         "xaxis": "x",
         "yaxis": "y"
        },
        {
         "marker": {
          "color": "lightgreen"
         },
         "orientation": "h",
         "x": [
          6336,
          5286,
          3752,
          2178,
          1894,
          1881,
          1803,
          1769,
          1710,
          1652,
          1423,
          1336,
          1327,
          1213,
          1201,
          1174,
          1124,
          1118,
          1103,
          1007,
          959,
          952,
          932,
          931,
          905,
          894,
          890,
          884,
          866,
          841,
          840,
          812,
          811,
          791,
          769,
          762,
          753,
          751,
          751,
          739,
          738,
          737,
          722,
          697,
          696,
          682,
          678,
          677,
          643,
          612,
          601,
          596,
          593,
          581,
          577,
          565,
          560,
          548
         ],
         "y": [
          "room",
          "hotel",
          "I",
          "The",
          "rooms",
          "n",
          "good",
          "staff",
          "stay",
          "night",
          "service",
          "time",
          "stayed",
          "like",
          "food",
          "day",
          "2",
          "Hilton",
          "nice",
          "bed",
          "great",
          "3",
          "We",
          "got",
          "breakfast",
          "check",
          "really",
          "people",
          "beach",
          "told",
          "location",
          "bathroom",
          "resort",
          "small",
          "desk",
          "water",
          "clean",
          "5",
          "better",
          "bar",
          "booked",
          "…",
          "floor",
          "one",
          "would",
          "4",
          "place",
          "went",
          "pool",
          "reception",
          "old",
          "area",
          "restaurant",
          "1",
          "work",
          "bad",
          "shower",
          "Ç"
         ],
         "type": "bar",
         "xaxis": "x2",
         "yaxis": "y2"
        },
        {
         "marker": {
          "color": "red"
         },
         "orientation": "h",
         "x": [
          5608,
          5415,
          2906,
          2625,
          2193,
          1794,
          1698,
          1676,
          1665,
          1555,
          1550,
          1538,
          1366,
          1249,
          1237,
          1236,
          1183,
          1169,
          1168,
          1073,
          979,
          938,
          897,
          896,
          891,
          877,
          859,
          839,
          832,
          826,
          806,
          786,
          784,
          783,
          782,
          767,
          760,
          757,
          735,
          724,
          708,
          707,
          704,
          680,
          678,
          669,
          655,
          625,
          623,
          601,
          590,
          583,
          578,
          577,
          557,
          550,
          547,
          532,
          524,
          524
         ],
         "y": [
          "room",
          "hotel",
          "I",
          "good",
          "The",
          "n",
          "staff",
          "rooms",
          "stay",
          "nice",
          "great",
          "night",
          "location",
          "stayed",
          "time",
          "clean",
          "breakfast",
          "food",
          "service",
          "like",
          "day",
          "2",
          "really",
          "small",
          "We",
          "beach",
          "bed",
          "bar",
          "Hilton",
          "check",
          "little",
          "walk",
          "area",
          "people",
          "bathroom",
          "resort",
          "3",
          "got",
          "restaurant",
          "pool",
          "place",
          "5",
          "one",
          "better",
          "bit",
          "floor",
          "friendly",
          "quite",
          "ok",
          "price",
          "would",
          "4",
          "…",
          "airport",
          "need",
          "water",
          "booked",
          "desk",
          "comfortable",
          "went"
         ],
         "type": "bar",
         "xaxis": "x3",
         "yaxis": "y3"
        },
        {
         "marker": {
          "color": "yellow"
         },
         "orientation": "h",
         "x": [
          5370,
          4392,
          2862,
          2306,
          2049,
          1954,
          1945,
          1897,
          1696,
          1451,
          1437,
          1391,
          1378,
          1372,
          1285,
          1196,
          1085,
          1050,
          1046,
          1026,
          1016,
          930,
          904,
          875,
          858,
          832,
          801,
          790,
          787,
          783,
          771,
          731,
          731,
          709,
          708,
          708,
          698,
          677,
          670,
          669,
          654,
          629,
          627,
          590,
          583,
          581,
          580,
          573,
          562,
          559,
          553,
          552,
          549,
          529,
          523,
          516,
          501,
          497,
          495,
          491
         ],
         "y": [
          "hotel",
          "room",
          "good",
          "great",
          "I",
          "stay",
          "The",
          "staff",
          "nice",
          "rooms",
          "n",
          "breakfast",
          "clean",
          "location",
          "night",
          "stayed",
          "service",
          "food",
          "We",
          "walk",
          "time",
          "day",
          "friendly",
          "comfortable",
          "really",
          "helpful",
          "little",
          "2",
          "small",
          "beach",
          "bar",
          "like",
          "check",
          "area",
          "bed",
          "restaurant",
          "airport",
          "excellent",
          "5",
          "Hilton",
          "place",
          "bit",
          "got",
          "people",
          "pool",
          "bathroom",
          "3",
          "morning",
          "restaurants",
          "early",
          "one",
          "floor",
          "resort",
          "large",
          "quite",
          "flight",
          "recommend",
          "would",
          "price",
          "well"
         ],
         "type": "bar",
         "xaxis": "x4",
         "yaxis": "y4"
        },
        {
         "marker": {
          "color": "blue"
         },
         "orientation": "h",
         "x": [
          5389,
          3521,
          2397,
          2227,
          2048,
          1885,
          1716,
          1607,
          1291,
          1254,
          1221,
          1182,
          1163,
          1121,
          1119,
          1085,
          1009,
          954,
          947,
          911,
          910,
          907,
          849,
          826,
          819,
          807,
          779,
          702,
          643,
          637,
          619,
          617,
          613,
          612,
          581,
          567,
          550,
          528,
          524,
          523,
          513,
          508,
          494,
          494,
          491,
          483,
          480,
          478,
          475,
          474,
          472,
          456,
          455,
          453,
          450,
          448,
          447,
          445,
          434
         ],
         "y": [
          "hotel",
          "room",
          "great",
          "staff",
          "stay",
          "I",
          "good",
          "The",
          "breakfast",
          "stayed",
          "rooms",
          "clean",
          "service",
          "We",
          "location",
          "nice",
          "friendly",
          "excellent",
          "night",
          "time",
          "helpful",
          "n",
          "food",
          "walk",
          "day",
          "really",
          "comfortable",
          "Hilton",
          "recommend",
          "bar",
          "like",
          "place",
          "check",
          "best",
          "2",
          "bed",
          "lovely",
          "restaurant",
          "area",
          "5",
          "wonderful",
          "beach",
          "free",
          "airport",
          "London",
          "pool",
          "trip",
          "little",
          "definitely",
          "morning",
          "flight",
          "people",
          "us",
          "bathroom",
          "small",
          "large",
          "well",
          "would",
          "got"
         ],
         "type": "bar",
         "xaxis": "x5",
         "yaxis": "y5"
        },
        {
         "marker": {
          "color": "mediumturquoise"
         },
         "orientation": "h",
         "x": [
          259,
          197,
          116,
          110,
          98,
          94,
          92,
          84,
          82,
          81,
          81,
          76,
          73,
          71,
          71
         ],
         "y": [
          "the room was",
          "in the room",
          "did not work",
          "at this hotel",
          "we had to",
          "this hotel is",
          "at the hilton",
          "the hotel is",
          "one of the",
          "the rooms are",
          "to check in",
          "there was no",
          "the bed was",
          "in the bathroom",
          "in this hotel"
         ],
         "type": "bar",
         "xaxis": "x",
         "yaxis": "y"
        },
        {
         "marker": {
          "color": "lightgreen"
         },
         "orientation": "h",
         "x": [
          351,
          183,
          126,
          123,
          110,
          101,
          101,
          100,
          99,
          98,
          95,
          95,
          82,
          76,
          74
         ],
         "y": [
          "the room was",
          "in the room",
          "the hotel is",
          "the rooms are",
          "this hotel is",
          "of the hotel",
          "at this hotel",
          "the bed was",
          "to check in",
          "at the hilton",
          "for one night",
          "did not work",
          "check in was",
          "at the hotel",
          "the hotel was"
         ],
         "type": "bar",
         "xaxis": "x2",
         "yaxis": "y2"
        },
        {
         "marker": {
          "color": "red"
         },
         "orientation": "h",
         "x": [
          357,
          210,
          140,
          140,
          115,
          113,
          110,
          104,
          95,
          95,
          90,
          87,
          87,
          86,
          84
         ],
         "y": [
          "the room was",
          "the hotel is",
          "the south terminal",
          "of the hotel",
          "in the room",
          "for one night",
          "this hotel is",
          "check in was",
          "at the hilton",
          "the rooms are",
          "the hotel was",
          "our room was",
          "the staff were",
          "the bed was",
          "one of the"
         ],
         "type": "bar",
         "xaxis": "x3",
         "yaxis": "y3"
        },
        {
         "marker": {
          "color": "yellow"
         },
         "orientation": "h",
         "x": [
          312,
          226,
          163,
          123,
          113,
          112,
          108,
          97,
          97,
          92,
          90,
          88,
          87,
          87,
          85
         ],
         "y": [
          "the room was",
          "the hotel is",
          "the south terminal",
          "check in was",
          "at the hilton",
          "for one night",
          "of the hotel",
          "the staff were",
          "this hotel is",
          "the rooms are",
          "the executive lounge",
          "was clean and",
          "was very good",
          "the night before",
          "to the airport"
         ],
         "type": "bar",
         "xaxis": "x4",
         "yaxis": "y4"
        },
        {
         "marker": {
          "color": "blue"
         },
         "orientation": "h",
         "x": [
          256,
          159,
          137,
          134,
          121,
          112,
          102,
          99,
          90,
          90,
          85,
          83,
          82,
          82,
          80
         ],
         "y": [
          "the room was",
          "the hotel is",
          "at the hilton",
          "the executive lounge",
          "the staff were",
          "the south terminal",
          "check in was",
          "at this hotel",
          "the night before",
          "recommend this hotel",
          "the rooms are",
          "of the hotel",
          "to the airport",
          "one of the",
          "stay here again"
         ],
         "type": "bar",
         "xaxis": "x5",
         "yaxis": "y5"
        },
        {
         "marker": {
          "color": "mediumturquoise"
         },
         "orientation": "h",
         "x": [
          259,
          197,
          116,
          110,
          98,
          94,
          92,
          84,
          82,
          81,
          81,
          76,
          73,
          71,
          71
         ],
         "y": [
          "the room was",
          "in the room",
          "did not work",
          "at this hotel",
          "we had to",
          "this hotel is",
          "at the hilton",
          "the hotel is",
          "one of the",
          "the rooms are",
          "to check in",
          "there was no",
          "the bed was",
          "in the bathroom",
          "in this hotel"
         ],
         "type": "bar",
         "xaxis": "x",
         "yaxis": "y"
        },
        {
         "marker": {
          "color": "lightgreen"
         },
         "orientation": "h",
         "x": [
          351,
          183,
          126,
          123,
          110,
          101,
          101,
          100,
          99,
          98,
          95,
          95,
          82,
          76,
          74
         ],
         "y": [
          "the room was",
          "in the room",
          "the hotel is",
          "the rooms are",
          "this hotel is",
          "of the hotel",
          "at this hotel",
          "the bed was",
          "to check in",
          "at the hilton",
          "for one night",
          "did not work",
          "check in was",
          "at the hotel",
          "the hotel was"
         ],
         "type": "bar",
         "xaxis": "x2",
         "yaxis": "y2"
        },
        {
         "marker": {
          "color": "red"
         },
         "orientation": "h",
         "x": [
          357,
          210,
          140,
          140,
          115,
          113,
          110,
          104,
          95,
          95,
          90,
          87,
          87,
          86,
          84
         ],
         "y": [
          "the room was",
          "the hotel is",
          "the south terminal",
          "of the hotel",
          "in the room",
          "for one night",
          "this hotel is",
          "check in was",
          "at the hilton",
          "the rooms are",
          "the hotel was",
          "our room was",
          "the staff were",
          "the bed was",
          "one of the"
         ],
         "type": "bar",
         "xaxis": "x3",
         "yaxis": "y3"
        },
        {
         "marker": {
          "color": "yellow"
         },
         "orientation": "h",
         "x": [
          312,
          226,
          163,
          123,
          113,
          112,
          108,
          97,
          97,
          92,
          90,
          88,
          87,
          87,
          85
         ],
         "y": [
          "the room was",
          "the hotel is",
          "the south terminal",
          "check in was",
          "at the hilton",
          "for one night",
          "of the hotel",
          "the staff were",
          "this hotel is",
          "the rooms are",
          "the executive lounge",
          "was clean and",
          "was very good",
          "the night before",
          "to the airport"
         ],
         "type": "bar",
         "xaxis": "x4",
         "yaxis": "y4"
        },
        {
         "marker": {
          "color": "blue"
         },
         "orientation": "h",
         "x": [
          256,
          159,
          137,
          134,
          121,
          112,
          102,
          99,
          90,
          90,
          85,
          83,
          82,
          82,
          80
         ],
         "y": [
          "the room was",
          "the hotel is",
          "at the hilton",
          "the executive lounge",
          "the staff were",
          "the south terminal",
          "check in was",
          "at this hotel",
          "the night before",
          "recommend this hotel",
          "the rooms are",
          "of the hotel",
          "to the airport",
          "one of the",
          "stay here again"
         ],
         "type": "bar",
         "xaxis": "x5",
         "yaxis": "y5"
        }
       ],
       "layout": {
        "template": {
         "data": {
          "histogram2dcontour": [
           {
            "type": "histogram2dcontour",
            "colorbar": {
             "outlinewidth": 0,
             "ticks": ""
            },
            "colorscale": [
             [
              0.0,
              "#0d0887"
             ],
             [
              0.1111111111111111,
              "#46039f"
             ],
             [
              0.2222222222222222,
              "#7201a8"
             ],
             [
              0.3333333333333333,
              "#9c179e"
             ],
             [
              0.4444444444444444,
              "#bd3786"
             ],
             [
              0.5555555555555556,
              "#d8576b"
             ],
             [
              0.6666666666666666,
              "#ed7953"
             ],
             [
              0.7777777777777778,
              "#fb9f3a"
             ],
             [
              0.8888888888888888,
              "#fdca26"
             ],
             [
              1.0,
              "#f0f921"
             ]
            ]
           }
          ],
          "choropleth": [
           {
            "type": "choropleth",
            "colorbar": {
             "outlinewidth": 0,
             "ticks": ""
            }
           }
          ],
          "histogram2d": [
           {
            "type": "histogram2d",
            "colorbar": {
             "outlinewidth": 0,
             "ticks": ""
            },
            "colorscale": [
             [
              0.0,
              "#0d0887"
             ],
             [
              0.1111111111111111,
              "#46039f"
             ],
             [
              0.2222222222222222,
              "#7201a8"
             ],
             [
              0.3333333333333333,
              "#9c179e"
             ],
             [
              0.4444444444444444,
              "#bd3786"
             ],
             [
              0.5555555555555556,
              "#d8576b"
             ],
             [
              0.6666666666666666,
              "#ed7953"
             ],
             [
              0.7777777777777778,
              "#fb9f3a"
             ],
             [
              0.8888888888888888,
              "#fdca26"
             ],
             [
              1.0,
              "#f0f921"
             ]
            ]
           }
          ],
          "heatmap": [
           {
            "type": "heatmap",
            "colorbar": {
             "outlinewidth": 0,
             "ticks": ""
            },
            "colorscale": [
             [
              0.0,
              "#0d0887"
             ],
             [
              0.1111111111111111,
              "#46039f"
             ],
             [
              0.2222222222222222,
              "#7201a8"
             ],
             [
              0.3333333333333333,
              "#9c179e"
             ],
             [
              0.4444444444444444,
              "#bd3786"
             ],
             [
              0.5555555555555556,
              "#d8576b"
             ],
             [
              0.6666666666666666,
              "#ed7953"
             ],
             [
              0.7777777777777778,
              "#fb9f3a"
             ],
             [
              0.8888888888888888,
              "#fdca26"
             ],
             [
              1.0,
              "#f0f921"
             ]
            ]
           }
          ],
          "heatmapgl": [
           {
            "type": "heatmapgl",
            "colorbar": {
             "outlinewidth": 0,
             "ticks": ""
            },
            "colorscale": [
             [
              0.0,
              "#0d0887"
             ],
             [
              0.1111111111111111,
              "#46039f"
             ],
             [
              0.2222222222222222,
              "#7201a8"
             ],
             [
              0.3333333333333333,
              "#9c179e"
             ],
             [
              0.4444444444444444,
              "#bd3786"
             ],
             [
              0.5555555555555556,
              "#d8576b"
             ],
             [
              0.6666666666666666,
              "#ed7953"
             ],
             [
              0.7777777777777778,
              "#fb9f3a"
             ],
             [
              0.8888888888888888,
              "#fdca26"
             ],
             [
              1.0,
              "#f0f921"
             ]
            ]
           }
          ],
          "contourcarpet": [
           {
            "type": "contourcarpet",
            "colorbar": {
             "outlinewidth": 0,
             "ticks": ""
            }
           }
          ],
          "contour": [
           {
            "type": "contour",
            "colorbar": {
             "outlinewidth": 0,
             "ticks": ""
            },
            "colorscale": [
             [
              0.0,
              "#0d0887"
             ],
             [
              0.1111111111111111,
              "#46039f"
             ],
             [
              0.2222222222222222,
              "#7201a8"
             ],
             [
              0.3333333333333333,
              "#9c179e"
             ],
             [
              0.4444444444444444,
              "#bd3786"
             ],
             [
              0.5555555555555556,
              "#d8576b"
             ],
             [
              0.6666666666666666,
              "#ed7953"
             ],
             [
              0.7777777777777778,
              "#fb9f3a"
             ],
             [
              0.8888888888888888,
              "#fdca26"
             ],
             [
              1.0,
              "#f0f921"
             ]
            ]
           }
          ],
          "surface": [
           {
            "type": "surface",
            "colorbar": {
             "outlinewidth": 0,
             "ticks": ""
            },
            "colorscale": [
             [
              0.0,
              "#0d0887"
             ],
             [
              0.1111111111111111,
              "#46039f"
             ],
             [
              0.2222222222222222,
              "#7201a8"
             ],
             [
              0.3333333333333333,
              "#9c179e"
             ],
             [
              0.4444444444444444,
              "#bd3786"
             ],
             [
              0.5555555555555556,
              "#d8576b"
             ],
             [
              0.6666666666666666,
              "#ed7953"
             ],
             [
              0.7777777777777778,
              "#fb9f3a"
             ],
             [
              0.8888888888888888,
              "#fdca26"
             ],
             [
              1.0,
              "#f0f921"
             ]
            ]
           }
          ],
          "mesh3d": [
           {
            "type": "mesh3d",
            "colorbar": {
             "outlinewidth": 0,
             "ticks": ""
            }
           }
          ],
          "scatter": [
           {
            "fillpattern": {
             "fillmode": "overlay",
             "size": 10,
             "solidity": 0.2
            },
            "type": "scatter"
           }
          ],
          "parcoords": [
           {
            "type": "parcoords",
            "line": {
             "colorbar": {
              "outlinewidth": 0,
              "ticks": ""
             }
            }
           }
          ],
          "scatterpolargl": [
           {
            "type": "scatterpolargl",
            "marker": {
             "colorbar": {
              "outlinewidth": 0,
              "ticks": ""
             }
            }
           }
          ],
          "bar": [
           {
            "error_x": {
             "color": "#2a3f5f"
            },
            "error_y": {
             "color": "#2a3f5f"
            },
            "marker": {
             "line": {
              "color": "#E5ECF6",
              "width": 0.5
             },
             "pattern": {
              "fillmode": "overlay",
              "size": 10,
              "solidity": 0.2
             }
            },
            "type": "bar"
           }
          ],
          "scattergeo": [
           {
            "type": "scattergeo",
            "marker": {
             "colorbar": {
              "outlinewidth": 0,
              "ticks": ""
             }
            }
           }
          ],
          "scatterpolar": [
           {
            "type": "scatterpolar",
            "marker": {
             "colorbar": {
              "outlinewidth": 0,
              "ticks": ""
             }
            }
           }
          ],
          "histogram": [
           {
            "marker": {
             "pattern": {
              "fillmode": "overlay",
              "size": 10,
              "solidity": 0.2
             }
            },
            "type": "histogram"
           }
          ],
          "scattergl": [
           {
            "type": "scattergl",
            "marker": {
             "colorbar": {
              "outlinewidth": 0,
              "ticks": ""
             }
            }
           }
          ],
          "scatter3d": [
           {
            "type": "scatter3d",
            "line": {
             "colorbar": {
              "outlinewidth": 0,
              "ticks": ""
             }
            },
            "marker": {
             "colorbar": {
              "outlinewidth": 0,
              "ticks": ""
             }
            }
           }
          ],
          "scattermapbox": [
           {
            "type": "scattermapbox",
            "marker": {
             "colorbar": {
              "outlinewidth": 0,
              "ticks": ""
             }
            }
           }
          ],
          "scatterternary": [
           {
            "type": "scatterternary",
            "marker": {
             "colorbar": {
              "outlinewidth": 0,
              "ticks": ""
             }
            }
           }
          ],
          "scattercarpet": [
           {
            "type": "scattercarpet",
            "marker": {
             "colorbar": {
              "outlinewidth": 0,
              "ticks": ""
             }
            }
           }
          ],
          "carpet": [
           {
            "aaxis": {
             "endlinecolor": "#2a3f5f",
             "gridcolor": "white",
             "linecolor": "white",
             "minorgridcolor": "white",
             "startlinecolor": "#2a3f5f"
            },
            "baxis": {
             "endlinecolor": "#2a3f5f",
             "gridcolor": "white",
             "linecolor": "white",
             "minorgridcolor": "white",
             "startlinecolor": "#2a3f5f"
            },
            "type": "carpet"
           }
          ],
          "table": [
           {
            "cells": {
             "fill": {
              "color": "#EBF0F8"
             },
             "line": {
              "color": "white"
             }
            },
            "header": {
             "fill": {
              "color": "#C8D4E3"
             },
             "line": {
              "color": "white"
             }
            },
            "type": "table"
           }
          ],
          "barpolar": [
           {
            "marker": {
             "line": {
              "color": "#E5ECF6",
              "width": 0.5
             },
             "pattern": {
              "fillmode": "overlay",
              "size": 10,
              "solidity": 0.2
             }
            },
            "type": "barpolar"
           }
          ],
          "pie": [
           {
            "automargin": true,
            "type": "pie"
           }
          ]
         },
         "layout": {
          "autotypenumbers": "strict",
          "colorway": [
           "#636efa",
           "#EF553B",
           "#00cc96",
           "#ab63fa",
           "#FFA15A",
           "#19d3f3",
           "#FF6692",
           "#B6E880",
           "#FF97FF",
           "#FECB52"
          ],
          "font": {
           "color": "#2a3f5f"
          },
          "hovermode": "closest",
          "hoverlabel": {
           "align": "left"
          },
          "paper_bgcolor": "white",
          "plot_bgcolor": "#E5ECF6",
          "polar": {
           "bgcolor": "#E5ECF6",
           "angularaxis": {
            "gridcolor": "white",
            "linecolor": "white",
            "ticks": ""
           },
           "radialaxis": {
            "gridcolor": "white",
            "linecolor": "white",
            "ticks": ""
           }
          },
          "ternary": {
           "bgcolor": "#E5ECF6",
           "aaxis": {
            "gridcolor": "white",
            "linecolor": "white",
            "ticks": ""
           },
           "baxis": {
            "gridcolor": "white",
            "linecolor": "white",
            "ticks": ""
           },
           "caxis": {
            "gridcolor": "white",
            "linecolor": "white",
            "ticks": ""
           }
          },
          "coloraxis": {
           "colorbar": {
            "outlinewidth": 0,
            "ticks": ""
           }
          },
          "colorscale": {
           "sequential": [
            [
             0.0,
             "#0d0887"
            ],
            [
             0.1111111111111111,
             "#46039f"
            ],
            [
             0.2222222222222222,
             "#7201a8"
            ],
            [
             0.3333333333333333,
             "#9c179e"
            ],
            [
             0.4444444444444444,
             "#bd3786"
            ],
            [
             0.5555555555555556,
             "#d8576b"
            ],
            [
             0.6666666666666666,
             "#ed7953"
            ],
            [
             0.7777777777777778,
             "#fb9f3a"
            ],
            [
             0.8888888888888888,
             "#fdca26"
            ],
            [
             1.0,
             "#f0f921"
            ]
           ],
           "sequentialminus": [
            [
             0.0,
             "#0d0887"
            ],
            [
             0.1111111111111111,
             "#46039f"
            ],
            [
             0.2222222222222222,
             "#7201a8"
            ],
            [
             0.3333333333333333,
             "#9c179e"
            ],
            [
             0.4444444444444444,
             "#bd3786"
            ],
            [
             0.5555555555555556,
             "#d8576b"
            ],
            [
             0.6666666666666666,
             "#ed7953"
            ],
            [
             0.7777777777777778,
             "#fb9f3a"
            ],
            [
             0.8888888888888888,
             "#fdca26"
            ],
            [
             1.0,
             "#f0f921"
            ]
           ],
           "diverging": [
            [
             0,
             "#8e0152"
            ],
            [
             0.1,
             "#c51b7d"
            ],
            [
             0.2,
             "#de77ae"
            ],
            [
             0.3,
             "#f1b6da"
            ],
            [
             0.4,
             "#fde0ef"
            ],
            [
             0.5,
             "#f7f7f7"
            ],
            [
             0.6,
             "#e6f5d0"
            ],
            [
             0.7,
             "#b8e186"
            ],
            [
             0.8,
             "#7fbc41"
            ],
            [
             0.9,
             "#4d9221"
            ],
            [
             1,
             "#276419"
            ]
           ]
          },
          "xaxis": {
           "gridcolor": "white",
           "linecolor": "white",
           "ticks": "",
           "title": {
            "standoff": 15
           },
           "zerolinecolor": "white",
           "automargin": true,
           "zerolinewidth": 2
          },
          "yaxis": {
           "gridcolor": "white",
           "linecolor": "white",
           "ticks": "",
           "title": {
            "standoff": 15
           },
           "zerolinecolor": "white",
           "automargin": true,
           "zerolinewidth": 2
          },
          "scene": {
           "xaxis": {
            "backgroundcolor": "#E5ECF6",
            "gridcolor": "white",
            "linecolor": "white",
            "showbackground": true,
            "ticks": "",
            "zerolinecolor": "white",
            "gridwidth": 2
           },
           "yaxis": {
            "backgroundcolor": "#E5ECF6",
            "gridcolor": "white",
            "linecolor": "white",
            "showbackground": true,
            "ticks": "",
            "zerolinecolor": "white",
            "gridwidth": 2
           },
           "zaxis": {
            "backgroundcolor": "#E5ECF6",
            "gridcolor": "white",
            "linecolor": "white",
            "showbackground": true,
            "ticks": "",
            "zerolinecolor": "white",
            "gridwidth": 2
           }
          },
          "shapedefaults": {
           "line": {
            "color": "#2a3f5f"
           }
          },
          "annotationdefaults": {
           "arrowcolor": "#2a3f5f",
           "arrowhead": 0,
           "arrowwidth": 1
          },
          "geo": {
           "bgcolor": "white",
           "landcolor": "#E5ECF6",
           "subunitcolor": "white",
           "showland": true,
           "showlakes": true,
           "lakecolor": "white"
          },
          "title": {
           "x": 0.05
          },
          "mapbox": {
           "style": "light"
          }
         }
        },
        "xaxis": {
         "anchor": "y",
         "domain": [
          0.0,
          0.16799999999999998
         ]
        },
        "yaxis": {
         "anchor": "x",
         "domain": [
          0.0,
          1.0
         ]
        },
        "xaxis2": {
         "anchor": "y2",
         "domain": [
          0.208,
          0.376
         ]
        },
        "yaxis2": {
         "anchor": "x2",
         "domain": [
          0.0,
          1.0
         ]
        },
        "xaxis3": {
         "anchor": "y3",
         "domain": [
          0.416,
          0.584
         ]
        },
        "yaxis3": {
         "anchor": "x3",
         "domain": [
          0.0,
          1.0
         ]
        },
        "xaxis4": {
         "anchor": "y4",
         "domain": [
          0.624,
          0.792
         ]
        },
        "yaxis4": {
         "anchor": "x4",
         "domain": [
          0.0,
          1.0
         ]
        },
        "xaxis5": {
         "anchor": "y5",
         "domain": [
          0.832,
          1.0
         ]
        },
        "yaxis5": {
         "anchor": "x5",
         "domain": [
          0.0,
          1.0
         ]
        },
        "title": {
         "font": {
          "family": "Courier New, monospace",
          "size": 20,
          "color": "RebeccaPurple"
         },
         "text": "<b>Most Common trigrams per Classes</b>",
         "x": 0.5,
         "y": 0.95
        },
        "autosize": false,
        "width": 1200,
        "height": 600
       },
       "config": {
        "plotlyServerURL": "https://plot.ly"
       }
      },
      "text/html": "<div>                            <div id=\"a5ffc030-216f-46d4-a138-30ab9da62760\" class=\"plotly-graph-div\" style=\"height:600px; width:1200px;\"></div>            <script type=\"text/javascript\">                require([\"plotly\"], function(Plotly) {                    window.PLOTLYENV=window.PLOTLYENV || {};                                    if (document.getElementById(\"a5ffc030-216f-46d4-a138-30ab9da62760\")) {                    Plotly.newPlot(                        \"a5ffc030-216f-46d4-a138-30ab9da62760\",                        [{\"marker\":{\"color\":\"mediumturquoise\"},\"orientation\":\"h\",\"x\":[6483,5511,4305,1933,1863,1700,1663,1612,1536,1271,1155,1153,1137,1129,1118,1110,1019,974,946,938,938,898,863,863,846,844,800,778,747,747,740,722,711,693,671,671,664,663,647,646,638,634,620,611,607,603,597,592,576,559,558,557,551,546,535,522],\"y\":[\"room\",\"hotel\",\"I\",\"stay\",\"The\",\"n\",\"rooms\",\"staff\",\"night\",\"service\",\"told\",\"stayed\",\"Hilton\",\"like\",\"day\",\"time\",\"2\",\"bed\",\"check\",\"We\",\"good\",\"got\",\"food\",\"desk\",\"3\",\"booked\",\"place\",\"went\",\"bathroom\",\"\\u2026\",\"people\",\"one\",\"5\",\"\\u2019\",\"asked\",\"would\",\"reception\",\"4\",\"said\",\"bad\",\"water\",\"resort\",\"old\",\"breakfast\",\"floor\",\"dirty\",\"better\",\"experience\",\"really\",\"arrived\",\"1\",\"worst\",\"hotels\",\"small\",\"door\",\"work\"],\"type\":\"bar\",\"xaxis\":\"x\",\"yaxis\":\"y\"},{\"marker\":{\"color\":\"lightgreen\"},\"orientation\":\"h\",\"x\":[6336,5286,3752,2178,1894,1881,1803,1769,1710,1652,1423,1336,1327,1213,1201,1174,1124,1118,1103,1007,959,952,932,931,905,894,890,884,866,841,840,812,811,791,769,762,753,751,751,739,738,737,722,697,696,682,678,677,643,612,601,596,593,581,577,565,560,548],\"y\":[\"room\",\"hotel\",\"I\",\"The\",\"rooms\",\"n\",\"good\",\"staff\",\"stay\",\"night\",\"service\",\"time\",\"stayed\",\"like\",\"food\",\"day\",\"2\",\"Hilton\",\"nice\",\"bed\",\"great\",\"3\",\"We\",\"got\",\"breakfast\",\"check\",\"really\",\"people\",\"beach\",\"told\",\"location\",\"bathroom\",\"resort\",\"small\",\"desk\",\"water\",\"clean\",\"5\",\"better\",\"bar\",\"booked\",\"\\u2026\",\"floor\",\"one\",\"would\",\"4\",\"place\",\"went\",\"pool\",\"reception\",\"old\",\"area\",\"restaurant\",\"1\",\"work\",\"bad\",\"shower\",\"\\u00c7\"],\"type\":\"bar\",\"xaxis\":\"x2\",\"yaxis\":\"y2\"},{\"marker\":{\"color\":\"red\"},\"orientation\":\"h\",\"x\":[5608,5415,2906,2625,2193,1794,1698,1676,1665,1555,1550,1538,1366,1249,1237,1236,1183,1169,1168,1073,979,938,897,896,891,877,859,839,832,826,806,786,784,783,782,767,760,757,735,724,708,707,704,680,678,669,655,625,623,601,590,583,578,577,557,550,547,532,524,524],\"y\":[\"room\",\"hotel\",\"I\",\"good\",\"The\",\"n\",\"staff\",\"rooms\",\"stay\",\"nice\",\"great\",\"night\",\"location\",\"stayed\",\"time\",\"clean\",\"breakfast\",\"food\",\"service\",\"like\",\"day\",\"2\",\"really\",\"small\",\"We\",\"beach\",\"bed\",\"bar\",\"Hilton\",\"check\",\"little\",\"walk\",\"area\",\"people\",\"bathroom\",\"resort\",\"3\",\"got\",\"restaurant\",\"pool\",\"place\",\"5\",\"one\",\"better\",\"bit\",\"floor\",\"friendly\",\"quite\",\"ok\",\"price\",\"would\",\"4\",\"\\u2026\",\"airport\",\"need\",\"water\",\"booked\",\"desk\",\"comfortable\",\"went\"],\"type\":\"bar\",\"xaxis\":\"x3\",\"yaxis\":\"y3\"},{\"marker\":{\"color\":\"yellow\"},\"orientation\":\"h\",\"x\":[5370,4392,2862,2306,2049,1954,1945,1897,1696,1451,1437,1391,1378,1372,1285,1196,1085,1050,1046,1026,1016,930,904,875,858,832,801,790,787,783,771,731,731,709,708,708,698,677,670,669,654,629,627,590,583,581,580,573,562,559,553,552,549,529,523,516,501,497,495,491],\"y\":[\"hotel\",\"room\",\"good\",\"great\",\"I\",\"stay\",\"The\",\"staff\",\"nice\",\"rooms\",\"n\",\"breakfast\",\"clean\",\"location\",\"night\",\"stayed\",\"service\",\"food\",\"We\",\"walk\",\"time\",\"day\",\"friendly\",\"comfortable\",\"really\",\"helpful\",\"little\",\"2\",\"small\",\"beach\",\"bar\",\"like\",\"check\",\"area\",\"bed\",\"restaurant\",\"airport\",\"excellent\",\"5\",\"Hilton\",\"place\",\"bit\",\"got\",\"people\",\"pool\",\"bathroom\",\"3\",\"morning\",\"restaurants\",\"early\",\"one\",\"floor\",\"resort\",\"large\",\"quite\",\"flight\",\"recommend\",\"would\",\"price\",\"well\"],\"type\":\"bar\",\"xaxis\":\"x4\",\"yaxis\":\"y4\"},{\"marker\":{\"color\":\"blue\"},\"orientation\":\"h\",\"x\":[5389,3521,2397,2227,2048,1885,1716,1607,1291,1254,1221,1182,1163,1121,1119,1085,1009,954,947,911,910,907,849,826,819,807,779,702,643,637,619,617,613,612,581,567,550,528,524,523,513,508,494,494,491,483,480,478,475,474,472,456,455,453,450,448,447,445,434],\"y\":[\"hotel\",\"room\",\"great\",\"staff\",\"stay\",\"I\",\"good\",\"The\",\"breakfast\",\"stayed\",\"rooms\",\"clean\",\"service\",\"We\",\"location\",\"nice\",\"friendly\",\"excellent\",\"night\",\"time\",\"helpful\",\"n\",\"food\",\"walk\",\"day\",\"really\",\"comfortable\",\"Hilton\",\"recommend\",\"bar\",\"like\",\"place\",\"check\",\"best\",\"2\",\"bed\",\"lovely\",\"restaurant\",\"area\",\"5\",\"wonderful\",\"beach\",\"free\",\"airport\",\"London\",\"pool\",\"trip\",\"little\",\"definitely\",\"morning\",\"flight\",\"people\",\"us\",\"bathroom\",\"small\",\"large\",\"well\",\"would\",\"got\"],\"type\":\"bar\",\"xaxis\":\"x5\",\"yaxis\":\"y5\"},{\"marker\":{\"color\":\"mediumturquoise\"},\"orientation\":\"h\",\"x\":[259,197,116,110,98,94,92,84,82,81,81,76,73,71,71],\"y\":[\"the room was\",\"in the room\",\"did not work\",\"at this hotel\",\"we had to\",\"this hotel is\",\"at the hilton\",\"the hotel is\",\"one of the\",\"the rooms are\",\"to check in\",\"there was no\",\"the bed was\",\"in the bathroom\",\"in this hotel\"],\"type\":\"bar\",\"xaxis\":\"x\",\"yaxis\":\"y\"},{\"marker\":{\"color\":\"lightgreen\"},\"orientation\":\"h\",\"x\":[351,183,126,123,110,101,101,100,99,98,95,95,82,76,74],\"y\":[\"the room was\",\"in the room\",\"the hotel is\",\"the rooms are\",\"this hotel is\",\"of the hotel\",\"at this hotel\",\"the bed was\",\"to check in\",\"at the hilton\",\"for one night\",\"did not work\",\"check in was\",\"at the hotel\",\"the hotel was\"],\"type\":\"bar\",\"xaxis\":\"x2\",\"yaxis\":\"y2\"},{\"marker\":{\"color\":\"red\"},\"orientation\":\"h\",\"x\":[357,210,140,140,115,113,110,104,95,95,90,87,87,86,84],\"y\":[\"the room was\",\"the hotel is\",\"the south terminal\",\"of the hotel\",\"in the room\",\"for one night\",\"this hotel is\",\"check in was\",\"at the hilton\",\"the rooms are\",\"the hotel was\",\"our room was\",\"the staff were\",\"the bed was\",\"one of the\"],\"type\":\"bar\",\"xaxis\":\"x3\",\"yaxis\":\"y3\"},{\"marker\":{\"color\":\"yellow\"},\"orientation\":\"h\",\"x\":[312,226,163,123,113,112,108,97,97,92,90,88,87,87,85],\"y\":[\"the room was\",\"the hotel is\",\"the south terminal\",\"check in was\",\"at the hilton\",\"for one night\",\"of the hotel\",\"the staff were\",\"this hotel is\",\"the rooms are\",\"the executive lounge\",\"was clean and\",\"was very good\",\"the night before\",\"to the airport\"],\"type\":\"bar\",\"xaxis\":\"x4\",\"yaxis\":\"y4\"},{\"marker\":{\"color\":\"blue\"},\"orientation\":\"h\",\"x\":[256,159,137,134,121,112,102,99,90,90,85,83,82,82,80],\"y\":[\"the room was\",\"the hotel is\",\"at the hilton\",\"the executive lounge\",\"the staff were\",\"the south terminal\",\"check in was\",\"at this hotel\",\"the night before\",\"recommend this hotel\",\"the rooms are\",\"of the hotel\",\"to the airport\",\"one of the\",\"stay here again\"],\"type\":\"bar\",\"xaxis\":\"x5\",\"yaxis\":\"y5\"},{\"marker\":{\"color\":\"mediumturquoise\"},\"orientation\":\"h\",\"x\":[259,197,116,110,98,94,92,84,82,81,81,76,73,71,71],\"y\":[\"the room was\",\"in the room\",\"did not work\",\"at this hotel\",\"we had to\",\"this hotel is\",\"at the hilton\",\"the hotel is\",\"one of the\",\"the rooms are\",\"to check in\",\"there was no\",\"the bed was\",\"in the bathroom\",\"in this hotel\"],\"type\":\"bar\",\"xaxis\":\"x\",\"yaxis\":\"y\"},{\"marker\":{\"color\":\"lightgreen\"},\"orientation\":\"h\",\"x\":[351,183,126,123,110,101,101,100,99,98,95,95,82,76,74],\"y\":[\"the room was\",\"in the room\",\"the hotel is\",\"the rooms are\",\"this hotel is\",\"of the hotel\",\"at this hotel\",\"the bed was\",\"to check in\",\"at the hilton\",\"for one night\",\"did not work\",\"check in was\",\"at the hotel\",\"the hotel was\"],\"type\":\"bar\",\"xaxis\":\"x2\",\"yaxis\":\"y2\"},{\"marker\":{\"color\":\"red\"},\"orientation\":\"h\",\"x\":[357,210,140,140,115,113,110,104,95,95,90,87,87,86,84],\"y\":[\"the room was\",\"the hotel is\",\"the south terminal\",\"of the hotel\",\"in the room\",\"for one night\",\"this hotel is\",\"check in was\",\"at the hilton\",\"the rooms are\",\"the hotel was\",\"our room was\",\"the staff were\",\"the bed was\",\"one of the\"],\"type\":\"bar\",\"xaxis\":\"x3\",\"yaxis\":\"y3\"},{\"marker\":{\"color\":\"yellow\"},\"orientation\":\"h\",\"x\":[312,226,163,123,113,112,108,97,97,92,90,88,87,87,85],\"y\":[\"the room was\",\"the hotel is\",\"the south terminal\",\"check in was\",\"at the hilton\",\"for one night\",\"of the hotel\",\"the staff were\",\"this hotel is\",\"the rooms are\",\"the executive lounge\",\"was clean and\",\"was very good\",\"the night before\",\"to the airport\"],\"type\":\"bar\",\"xaxis\":\"x4\",\"yaxis\":\"y4\"},{\"marker\":{\"color\":\"blue\"},\"orientation\":\"h\",\"x\":[256,159,137,134,121,112,102,99,90,90,85,83,82,82,80],\"y\":[\"the room was\",\"the hotel is\",\"at the hilton\",\"the executive lounge\",\"the staff were\",\"the south terminal\",\"check in was\",\"at this hotel\",\"the night before\",\"recommend this hotel\",\"the rooms are\",\"of the hotel\",\"to the airport\",\"one of the\",\"stay here again\"],\"type\":\"bar\",\"xaxis\":\"x5\",\"yaxis\":\"y5\"}],                        {\"template\":{\"data\":{\"histogram2dcontour\":[{\"type\":\"histogram2dcontour\",\"colorbar\":{\"outlinewidth\":0,\"ticks\":\"\"},\"colorscale\":[[0.0,\"#0d0887\"],[0.1111111111111111,\"#46039f\"],[0.2222222222222222,\"#7201a8\"],[0.3333333333333333,\"#9c179e\"],[0.4444444444444444,\"#bd3786\"],[0.5555555555555556,\"#d8576b\"],[0.6666666666666666,\"#ed7953\"],[0.7777777777777778,\"#fb9f3a\"],[0.8888888888888888,\"#fdca26\"],[1.0,\"#f0f921\"]]}],\"choropleth\":[{\"type\":\"choropleth\",\"colorbar\":{\"outlinewidth\":0,\"ticks\":\"\"}}],\"histogram2d\":[{\"type\":\"histogram2d\",\"colorbar\":{\"outlinewidth\":0,\"ticks\":\"\"},\"colorscale\":[[0.0,\"#0d0887\"],[0.1111111111111111,\"#46039f\"],[0.2222222222222222,\"#7201a8\"],[0.3333333333333333,\"#9c179e\"],[0.4444444444444444,\"#bd3786\"],[0.5555555555555556,\"#d8576b\"],[0.6666666666666666,\"#ed7953\"],[0.7777777777777778,\"#fb9f3a\"],[0.8888888888888888,\"#fdca26\"],[1.0,\"#f0f921\"]]}],\"heatmap\":[{\"type\":\"heatmap\",\"colorbar\":{\"outlinewidth\":0,\"ticks\":\"\"},\"colorscale\":[[0.0,\"#0d0887\"],[0.1111111111111111,\"#46039f\"],[0.2222222222222222,\"#7201a8\"],[0.3333333333333333,\"#9c179e\"],[0.4444444444444444,\"#bd3786\"],[0.5555555555555556,\"#d8576b\"],[0.6666666666666666,\"#ed7953\"],[0.7777777777777778,\"#fb9f3a\"],[0.8888888888888888,\"#fdca26\"],[1.0,\"#f0f921\"]]}],\"heatmapgl\":[{\"type\":\"heatmapgl\",\"colorbar\":{\"outlinewidth\":0,\"ticks\":\"\"},\"colorscale\":[[0.0,\"#0d0887\"],[0.1111111111111111,\"#46039f\"],[0.2222222222222222,\"#7201a8\"],[0.3333333333333333,\"#9c179e\"],[0.4444444444444444,\"#bd3786\"],[0.5555555555555556,\"#d8576b\"],[0.6666666666666666,\"#ed7953\"],[0.7777777777777778,\"#fb9f3a\"],[0.8888888888888888,\"#fdca26\"],[1.0,\"#f0f921\"]]}],\"contourcarpet\":[{\"type\":\"contourcarpet\",\"colorbar\":{\"outlinewidth\":0,\"ticks\":\"\"}}],\"contour\":[{\"type\":\"contour\",\"colorbar\":{\"outlinewidth\":0,\"ticks\":\"\"},\"colorscale\":[[0.0,\"#0d0887\"],[0.1111111111111111,\"#46039f\"],[0.2222222222222222,\"#7201a8\"],[0.3333333333333333,\"#9c179e\"],[0.4444444444444444,\"#bd3786\"],[0.5555555555555556,\"#d8576b\"],[0.6666666666666666,\"#ed7953\"],[0.7777777777777778,\"#fb9f3a\"],[0.8888888888888888,\"#fdca26\"],[1.0,\"#f0f921\"]]}],\"surface\":[{\"type\":\"surface\",\"colorbar\":{\"outlinewidth\":0,\"ticks\":\"\"},\"colorscale\":[[0.0,\"#0d0887\"],[0.1111111111111111,\"#46039f\"],[0.2222222222222222,\"#7201a8\"],[0.3333333333333333,\"#9c179e\"],[0.4444444444444444,\"#bd3786\"],[0.5555555555555556,\"#d8576b\"],[0.6666666666666666,\"#ed7953\"],[0.7777777777777778,\"#fb9f3a\"],[0.8888888888888888,\"#fdca26\"],[1.0,\"#f0f921\"]]}],\"mesh3d\":[{\"type\":\"mesh3d\",\"colorbar\":{\"outlinewidth\":0,\"ticks\":\"\"}}],\"scatter\":[{\"fillpattern\":{\"fillmode\":\"overlay\",\"size\":10,\"solidity\":0.2},\"type\":\"scatter\"}],\"parcoords\":[{\"type\":\"parcoords\",\"line\":{\"colorbar\":{\"outlinewidth\":0,\"ticks\":\"\"}}}],\"scatterpolargl\":[{\"type\":\"scatterpolargl\",\"marker\":{\"colorbar\":{\"outlinewidth\":0,\"ticks\":\"\"}}}],\"bar\":[{\"error_x\":{\"color\":\"#2a3f5f\"},\"error_y\":{\"color\":\"#2a3f5f\"},\"marker\":{\"line\":{\"color\":\"#E5ECF6\",\"width\":0.5},\"pattern\":{\"fillmode\":\"overlay\",\"size\":10,\"solidity\":0.2}},\"type\":\"bar\"}],\"scattergeo\":[{\"type\":\"scattergeo\",\"marker\":{\"colorbar\":{\"outlinewidth\":0,\"ticks\":\"\"}}}],\"scatterpolar\":[{\"type\":\"scatterpolar\",\"marker\":{\"colorbar\":{\"outlinewidth\":0,\"ticks\":\"\"}}}],\"histogram\":[{\"marker\":{\"pattern\":{\"fillmode\":\"overlay\",\"size\":10,\"solidity\":0.2}},\"type\":\"histogram\"}],\"scattergl\":[{\"type\":\"scattergl\",\"marker\":{\"colorbar\":{\"outlinewidth\":0,\"ticks\":\"\"}}}],\"scatter3d\":[{\"type\":\"scatter3d\",\"line\":{\"colorbar\":{\"outlinewidth\":0,\"ticks\":\"\"}},\"marker\":{\"colorbar\":{\"outlinewidth\":0,\"ticks\":\"\"}}}],\"scattermapbox\":[{\"type\":\"scattermapbox\",\"marker\":{\"colorbar\":{\"outlinewidth\":0,\"ticks\":\"\"}}}],\"scatterternary\":[{\"type\":\"scatterternary\",\"marker\":{\"colorbar\":{\"outlinewidth\":0,\"ticks\":\"\"}}}],\"scattercarpet\":[{\"type\":\"scattercarpet\",\"marker\":{\"colorbar\":{\"outlinewidth\":0,\"ticks\":\"\"}}}],\"carpet\":[{\"aaxis\":{\"endlinecolor\":\"#2a3f5f\",\"gridcolor\":\"white\",\"linecolor\":\"white\",\"minorgridcolor\":\"white\",\"startlinecolor\":\"#2a3f5f\"},\"baxis\":{\"endlinecolor\":\"#2a3f5f\",\"gridcolor\":\"white\",\"linecolor\":\"white\",\"minorgridcolor\":\"white\",\"startlinecolor\":\"#2a3f5f\"},\"type\":\"carpet\"}],\"table\":[{\"cells\":{\"fill\":{\"color\":\"#EBF0F8\"},\"line\":{\"color\":\"white\"}},\"header\":{\"fill\":{\"color\":\"#C8D4E3\"},\"line\":{\"color\":\"white\"}},\"type\":\"table\"}],\"barpolar\":[{\"marker\":{\"line\":{\"color\":\"#E5ECF6\",\"width\":0.5},\"pattern\":{\"fillmode\":\"overlay\",\"size\":10,\"solidity\":0.2}},\"type\":\"barpolar\"}],\"pie\":[{\"automargin\":true,\"type\":\"pie\"}]},\"layout\":{\"autotypenumbers\":\"strict\",\"colorway\":[\"#636efa\",\"#EF553B\",\"#00cc96\",\"#ab63fa\",\"#FFA15A\",\"#19d3f3\",\"#FF6692\",\"#B6E880\",\"#FF97FF\",\"#FECB52\"],\"font\":{\"color\":\"#2a3f5f\"},\"hovermode\":\"closest\",\"hoverlabel\":{\"align\":\"left\"},\"paper_bgcolor\":\"white\",\"plot_bgcolor\":\"#E5ECF6\",\"polar\":{\"bgcolor\":\"#E5ECF6\",\"angularaxis\":{\"gridcolor\":\"white\",\"linecolor\":\"white\",\"ticks\":\"\"},\"radialaxis\":{\"gridcolor\":\"white\",\"linecolor\":\"white\",\"ticks\":\"\"}},\"ternary\":{\"bgcolor\":\"#E5ECF6\",\"aaxis\":{\"gridcolor\":\"white\",\"linecolor\":\"white\",\"ticks\":\"\"},\"baxis\":{\"gridcolor\":\"white\",\"linecolor\":\"white\",\"ticks\":\"\"},\"caxis\":{\"gridcolor\":\"white\",\"linecolor\":\"white\",\"ticks\":\"\"}},\"coloraxis\":{\"colorbar\":{\"outlinewidth\":0,\"ticks\":\"\"}},\"colorscale\":{\"sequential\":[[0.0,\"#0d0887\"],[0.1111111111111111,\"#46039f\"],[0.2222222222222222,\"#7201a8\"],[0.3333333333333333,\"#9c179e\"],[0.4444444444444444,\"#bd3786\"],[0.5555555555555556,\"#d8576b\"],[0.6666666666666666,\"#ed7953\"],[0.7777777777777778,\"#fb9f3a\"],[0.8888888888888888,\"#fdca26\"],[1.0,\"#f0f921\"]],\"sequentialminus\":[[0.0,\"#0d0887\"],[0.1111111111111111,\"#46039f\"],[0.2222222222222222,\"#7201a8\"],[0.3333333333333333,\"#9c179e\"],[0.4444444444444444,\"#bd3786\"],[0.5555555555555556,\"#d8576b\"],[0.6666666666666666,\"#ed7953\"],[0.7777777777777778,\"#fb9f3a\"],[0.8888888888888888,\"#fdca26\"],[1.0,\"#f0f921\"]],\"diverging\":[[0,\"#8e0152\"],[0.1,\"#c51b7d\"],[0.2,\"#de77ae\"],[0.3,\"#f1b6da\"],[0.4,\"#fde0ef\"],[0.5,\"#f7f7f7\"],[0.6,\"#e6f5d0\"],[0.7,\"#b8e186\"],[0.8,\"#7fbc41\"],[0.9,\"#4d9221\"],[1,\"#276419\"]]},\"xaxis\":{\"gridcolor\":\"white\",\"linecolor\":\"white\",\"ticks\":\"\",\"title\":{\"standoff\":15},\"zerolinecolor\":\"white\",\"automargin\":true,\"zerolinewidth\":2},\"yaxis\":{\"gridcolor\":\"white\",\"linecolor\":\"white\",\"ticks\":\"\",\"title\":{\"standoff\":15},\"zerolinecolor\":\"white\",\"automargin\":true,\"zerolinewidth\":2},\"scene\":{\"xaxis\":{\"backgroundcolor\":\"#E5ECF6\",\"gridcolor\":\"white\",\"linecolor\":\"white\",\"showbackground\":true,\"ticks\":\"\",\"zerolinecolor\":\"white\",\"gridwidth\":2},\"yaxis\":{\"backgroundcolor\":\"#E5ECF6\",\"gridcolor\":\"white\",\"linecolor\":\"white\",\"showbackground\":true,\"ticks\":\"\",\"zerolinecolor\":\"white\",\"gridwidth\":2},\"zaxis\":{\"backgroundcolor\":\"#E5ECF6\",\"gridcolor\":\"white\",\"linecolor\":\"white\",\"showbackground\":true,\"ticks\":\"\",\"zerolinecolor\":\"white\",\"gridwidth\":2}},\"shapedefaults\":{\"line\":{\"color\":\"#2a3f5f\"}},\"annotationdefaults\":{\"arrowcolor\":\"#2a3f5f\",\"arrowhead\":0,\"arrowwidth\":1},\"geo\":{\"bgcolor\":\"white\",\"landcolor\":\"#E5ECF6\",\"subunitcolor\":\"white\",\"showland\":true,\"showlakes\":true,\"lakecolor\":\"white\"},\"title\":{\"x\":0.05},\"mapbox\":{\"style\":\"light\"}}},\"xaxis\":{\"anchor\":\"y\",\"domain\":[0.0,0.16799999999999998]},\"yaxis\":{\"anchor\":\"x\",\"domain\":[0.0,1.0]},\"xaxis2\":{\"anchor\":\"y2\",\"domain\":[0.208,0.376]},\"yaxis2\":{\"anchor\":\"x2\",\"domain\":[0.0,1.0]},\"xaxis3\":{\"anchor\":\"y3\",\"domain\":[0.416,0.584]},\"yaxis3\":{\"anchor\":\"x3\",\"domain\":[0.0,1.0]},\"xaxis4\":{\"anchor\":\"y4\",\"domain\":[0.624,0.792]},\"yaxis4\":{\"anchor\":\"x4\",\"domain\":[0.0,1.0]},\"xaxis5\":{\"anchor\":\"y5\",\"domain\":[0.832,1.0]},\"yaxis5\":{\"anchor\":\"x5\",\"domain\":[0.0,1.0]},\"title\":{\"font\":{\"family\":\"Courier New, monospace\",\"size\":20,\"color\":\"RebeccaPurple\"},\"text\":\"<b>Most Common trigrams per Classes</b>\",\"x\":0.5,\"y\":0.95},\"autosize\":false,\"width\":1200,\"height\":600},                        {\"responsive\": true}                    ).then(function(){\n                            \nvar gd = document.getElementById('a5ffc030-216f-46d4-a138-30ab9da62760');\nvar x = new MutationObserver(function (mutations, observer) {{\n        var display = window.getComputedStyle(gd).display;\n        if (!display || display === 'none') {{\n            console.log([gd, 'removed!']);\n            Plotly.purge(gd);\n            observer.disconnect();\n        }}\n}});\n\n// Listen for the removal of the full notebook cells\nvar notebookContainer = gd.closest('#notebook-container');\nif (notebookContainer) {{\n    x.observe(notebookContainer, {childList: true});\n}}\n\n// Listen for the clearing of the current output cell\nvar outputEl = gd.closest('.output');\nif (outputEl) {{\n    x.observe(outputEl, {childList: true});\n}}\n\n                        })                };                });            </script>        </div>"
     },
     "metadata": {},
     "output_type": "display_data"
    }
   ],
   "source": [
    "from sklearn.feature_extraction.text import CountVectorizer, TfidfVectorizer\n",
    "\n",
    "##\n",
    "def _get_top_ngram(corpus, n=None):\n",
    "    #getting top ngrams\n",
    "    vec = CountVectorizer(ngram_range=(n, n),\n",
    "                          max_df=0.9,\n",
    "                          ).fit(corpus)\n",
    "    bag_of_words = vec.transform(corpus)\n",
    "    sum_words = bag_of_words.sum(axis=0)\n",
    "    words_freq = [(word, sum_words[0, idx])\n",
    "                  for word, idx in vec.vocabulary_.items()]\n",
    "    words_freq = sorted(words_freq, key=lambda x: x[1], reverse=True)\n",
    "    return words_freq[:15]\n",
    "##\n",
    "for i in range(1,6):\n",
    "    texts = df[df[\"rating\"] == i]['tokenized_review']\n",
    "\n",
    "    new = texts.str.split()\n",
    "    new = new.values.tolist()\n",
    "    corpus = [word for i in new for word in i]\n",
    "\n",
    "    top_n_bigrams = _get_top_ngram(texts, 3)[:15]\n",
    "    x, y = map(list, zip(*top_n_bigrams))\n",
    "\n",
    "    fig.add_trace(go.Bar(\n",
    "                x=y,\n",
    "                y=x,\n",
    "                orientation='h', type=\"bar\",\n",
    "    marker=dict(color=colors[i])), 1, i),\n",
    "\n",
    "fig.update_layout(\n",
    "    autosize=False,\n",
    "    width=1200,\n",
    "    height=600,title=dict(\n",
    "        text='<b>Most Common trigrams per Classes</b>',\n",
    "        x=0.5,\n",
    "        y=0.95,\n",
    "        font=dict(\n",
    "        family=\"Courier New, monospace\",\n",
    "        size=20,\n",
    "        color=\"RebeccaPurple\"\n",
    "        )\n",
    "    ))\n",
    "\n",
    "fig.show()\n",
    "\n",
    "## in- the benzeri kelimeleri silmelisin"
   ],
   "metadata": {
    "collapsed": false,
    "pycharm": {
     "name": "#%%\n"
    }
   }
  },
  {
   "cell_type": "code",
   "execution_count": 61,
   "outputs": [
    {
     "data": {
      "text/plain": "     rating                                             review  \\\n0.0       1  its hard to find words that can describe this ...   \n1.0       1  absolutely terrible  cracked ceiling  tiny roo...   \n2.0       1  very disappointed firstly i checked in online ...   \n3.0       1  first of all we arrived wanting to park at the...   \n4.0       1  hello   i currently staying   hilton metropole...   \n\n                                      tokenized_review  sent_token_length  \\\n0.0  Its hard to find words that can describe this ...                216   \n1.0  Absolutely terrible   Cracked ceiling   tiny r...                 94   \n2.0  Very disappointed firstly i checked in online ...                139   \n3.0  First of all we arrived wanting to park at the...                169   \n4.0  Hello   I currently staying   Hilton Metropole...                175   \n\n     char_count  Character Count  \n0.0         931              931  \n1.0         446              446  \n2.0         679              679  \n3.0         782              782  \n4.0         789              789  ",
      "text/html": "<div>\n<style scoped>\n    .dataframe tbody tr th:only-of-type {\n        vertical-align: middle;\n    }\n\n    .dataframe tbody tr th {\n        vertical-align: top;\n    }\n\n    .dataframe thead th {\n        text-align: right;\n    }\n</style>\n<table border=\"1\" class=\"dataframe\">\n  <thead>\n    <tr style=\"text-align: right;\">\n      <th></th>\n      <th>rating</th>\n      <th>review</th>\n      <th>tokenized_review</th>\n      <th>sent_token_length</th>\n      <th>char_count</th>\n      <th>Character Count</th>\n    </tr>\n  </thead>\n  <tbody>\n    <tr>\n      <th>0.0</th>\n      <td>1</td>\n      <td>its hard to find words that can describe this ...</td>\n      <td>Its hard to find words that can describe this ...</td>\n      <td>216</td>\n      <td>931</td>\n      <td>931</td>\n    </tr>\n    <tr>\n      <th>1.0</th>\n      <td>1</td>\n      <td>absolutely terrible  cracked ceiling  tiny roo...</td>\n      <td>Absolutely terrible   Cracked ceiling   tiny r...</td>\n      <td>94</td>\n      <td>446</td>\n      <td>446</td>\n    </tr>\n    <tr>\n      <th>2.0</th>\n      <td>1</td>\n      <td>very disappointed firstly i checked in online ...</td>\n      <td>Very disappointed firstly i checked in online ...</td>\n      <td>139</td>\n      <td>679</td>\n      <td>679</td>\n    </tr>\n    <tr>\n      <th>3.0</th>\n      <td>1</td>\n      <td>first of all we arrived wanting to park at the...</td>\n      <td>First of all we arrived wanting to park at the...</td>\n      <td>169</td>\n      <td>782</td>\n      <td>782</td>\n    </tr>\n    <tr>\n      <th>4.0</th>\n      <td>1</td>\n      <td>hello   i currently staying   hilton metropole...</td>\n      <td>Hello   I currently staying   Hilton Metropole...</td>\n      <td>175</td>\n      <td>789</td>\n      <td>789</td>\n    </tr>\n  </tbody>\n</table>\n</div>"
     },
     "execution_count": 61,
     "metadata": {},
     "output_type": "execute_result"
    }
   ],
   "source": [
    "df.head()"
   ],
   "metadata": {
    "collapsed": false,
    "pycharm": {
     "name": "#%%\n"
    }
   }
  },
  {
   "cell_type": "markdown",
   "source": [
    "# Preprocessing_2"
   ],
   "metadata": {
    "collapsed": false,
    "pycharm": {
     "name": "#%% md\n"
    }
   }
  },
  {
   "cell_type": "markdown",
   "source": [
    "# Helpers"
   ],
   "metadata": {
    "collapsed": false
   }
  },
  {
   "cell_type": "code",
   "execution_count": 64,
   "outputs": [],
   "source": [
    "stemmer = PorterStemmer()\n",
    "lemmy = WordNetLemmatizer()"
   ],
   "metadata": {
    "collapsed": false,
    "pycharm": {
     "name": "#%%\n"
    }
   }
  },
  {
   "cell_type": "code",
   "execution_count": 65,
   "outputs": [],
   "source": [
    "def apply_stem(doc):\n",
    "\n",
    "    doc_split = doc.split(' ')\n",
    "    stem_doc = ''\n",
    "    for word in doc_split:\n",
    "        stem_doc += stemmer.stem(word) + ' '\n",
    "\n",
    "    return stem_doc\n",
    "\n",
    "\n",
    "\n",
    "def apply_lem(doc):\n",
    "\n",
    "    doc_split = doc.split(' ')\n",
    "    lem_v_doc = ''\n",
    "    for word in doc_split:\n",
    "        lem_v_doc += lemmy.lemmatize(word, pos='v') + ' '\n",
    "\n",
    "    doc_split = lem_v_doc.split(' ')\n",
    "    lem_doc = ''\n",
    "    for word in doc_split:\n",
    "        lem_doc += lemmy.lemmatize(word, pos='a') + ' '\n",
    "\n",
    "    return lem_doc"
   ],
   "metadata": {
    "collapsed": false,
    "pycharm": {
     "name": "#%%\n"
    }
   }
  },
  {
   "cell_type": "markdown",
   "source": [
    "# Stemming vs Lemmatization"
   ],
   "metadata": {
    "collapsed": false
   }
  },
  {
   "cell_type": "code",
   "execution_count": 66,
   "outputs": [],
   "source": [
    "df['review_stemmed'] = df['review'].apply(apply_stem)\n",
    "df['review_lemmed'] = df['review'].apply(apply_lem)"
   ],
   "metadata": {
    "collapsed": false,
    "pycharm": {
     "name": "#%%\n"
    }
   }
  },
  {
   "cell_type": "code",
   "execution_count": 67,
   "outputs": [
    {
     "name": "stdout",
     "output_type": "stream",
     "text": [
      "ORIGINAL REVIEW: \n",
      " i have finally decided not to stay at the london hilton metropole ever again  i have been staying there for many years now because of its central location   walking distance to oxford  regent streets  however over the past year the check in service has become surprisingly bizarre  i don t think this has anything to do with the on going renovations  i am an hiltonhonors card holder   gold who consistently books a king deluxe or executive room  on three occasions  upon check in  i was told  we are completely booked but we are pleased to upgrade you to a much better room  only to open the door and walk into a box with 2 single beds  once is an error but three times appears to be a strategy  how does a king upgrade to a single bed     on each occasion  after complaining i was moved  \n",
      "\n",
      "STEMMED REIVEW: \n",
      " i have final decid not to stay at the london hilton metropol ever again  i have been stay there for mani year now becaus of it central locat   walk distanc to oxford  regent street  howev over the past year the check in servic ha becom surprisingli bizarr  i don t think thi ha anyth to do with the on go renov  i am an hiltonhonor card holder   gold who consist book a king delux or execut room  on three occas  upon check in  i wa told  we are complet book but we are pleas to upgrad you to a much better room  onli to open the door and walk into a box with 2 singl bed  onc is an error but three time appear to be a strategi  how doe a king upgrad to a singl bed     on each occas  after complain i wa move   \n",
      "\n",
      "LEMMED REVIEW: \n",
      " i have finally decide not to stay at the london hilton metropole ever again  i have be stay there for many years now because of its central location   walk distance to oxford  regent streets  however over the past year the check in service have become surprisingly bizarre  i don t think this have anything to do with the on go renovations  i be an hiltonhonors card holder   gold who consistently book a king deluxe or executive room  on three occasion  upon check in  i be tell  we be completely book but we be please to upgrade you to a much good room  only to open the door and walk into a box with 2 single bed  once be an error but three time appear to be a strategy  how do a king upgrade to a single bed     on each occasion  after complain i be move    \n",
      "\n"
     ]
    }
   ],
   "source": [
    "review_index_to_check = 3000\n",
    "print(\"ORIGINAL REVIEW:\",'\\n',df['review'].iloc[review_index_to_check],'\\n')\n",
    "print(\"STEMMED REIVEW:\",'\\n',df['review_stemmed'].iloc[review_index_to_check],'\\n')\n",
    "print(\"LEMMED REVIEW:\",'\\n',df['review_lemmed'].iloc[review_index_to_check],'\\n')"
   ],
   "metadata": {
    "collapsed": false,
    "pycharm": {
     "name": "#%%\n"
    }
   }
  },
  {
   "cell_type": "code",
   "execution_count": 68,
   "outputs": [
    {
     "data": {
      "text/plain": "     rating                                             review  \\\n0.0       1  its hard to find words that can describe this ...   \n1.0       1  absolutely terrible  cracked ceiling  tiny roo...   \n2.0       1  very disappointed firstly i checked in online ...   \n3.0       1  first of all we arrived wanting to park at the...   \n4.0       1  hello   i currently staying   hilton metropole...   \n\n                                      tokenized_review  sent_token_length  \\\n0.0  Its hard to find words that can describe this ...                216   \n1.0  Absolutely terrible   Cracked ceiling   tiny r...                 94   \n2.0  Very disappointed firstly i checked in online ...                139   \n3.0  First of all we arrived wanting to park at the...                169   \n4.0  Hello   I currently staying   Hilton Metropole...                175   \n\n     char_count  Character Count  \\\n0.0         931              931   \n1.0         446              446   \n2.0         679              679   \n3.0         782              782   \n4.0         789              789   \n\n                                        review_stemmed  \\\n0.0  it hard to find word that can describ thi expe...   \n1.0  absolut terribl  crack ceil  tini room  bad qu...   \n2.0  veri disappoint firstli i check in onlin but h...   \n3.0  first of all we arriv want to park at the hote...   \n4.0  hello   i current stay   hilton metropol in lo...   \n\n                                         review_lemmed  \n0.0  its hard to find word that can describe this e...  \n1.0  absolutely terrible  crack ceiling  tiny room ...  \n2.0  very disappoint firstly i check in online but ...  \n3.0  first of all we arrive want to park at the hot...  \n4.0  hello   i currently stay   hilton metropole in...  ",
      "text/html": "<div>\n<style scoped>\n    .dataframe tbody tr th:only-of-type {\n        vertical-align: middle;\n    }\n\n    .dataframe tbody tr th {\n        vertical-align: top;\n    }\n\n    .dataframe thead th {\n        text-align: right;\n    }\n</style>\n<table border=\"1\" class=\"dataframe\">\n  <thead>\n    <tr style=\"text-align: right;\">\n      <th></th>\n      <th>rating</th>\n      <th>review</th>\n      <th>tokenized_review</th>\n      <th>sent_token_length</th>\n      <th>char_count</th>\n      <th>Character Count</th>\n      <th>review_stemmed</th>\n      <th>review_lemmed</th>\n    </tr>\n  </thead>\n  <tbody>\n    <tr>\n      <th>0.0</th>\n      <td>1</td>\n      <td>its hard to find words that can describe this ...</td>\n      <td>Its hard to find words that can describe this ...</td>\n      <td>216</td>\n      <td>931</td>\n      <td>931</td>\n      <td>it hard to find word that can describ thi expe...</td>\n      <td>its hard to find word that can describe this e...</td>\n    </tr>\n    <tr>\n      <th>1.0</th>\n      <td>1</td>\n      <td>absolutely terrible  cracked ceiling  tiny roo...</td>\n      <td>Absolutely terrible   Cracked ceiling   tiny r...</td>\n      <td>94</td>\n      <td>446</td>\n      <td>446</td>\n      <td>absolut terribl  crack ceil  tini room  bad qu...</td>\n      <td>absolutely terrible  crack ceiling  tiny room ...</td>\n    </tr>\n    <tr>\n      <th>2.0</th>\n      <td>1</td>\n      <td>very disappointed firstly i checked in online ...</td>\n      <td>Very disappointed firstly i checked in online ...</td>\n      <td>139</td>\n      <td>679</td>\n      <td>679</td>\n      <td>veri disappoint firstli i check in onlin but h...</td>\n      <td>very disappoint firstly i check in online but ...</td>\n    </tr>\n    <tr>\n      <th>3.0</th>\n      <td>1</td>\n      <td>first of all we arrived wanting to park at the...</td>\n      <td>First of all we arrived wanting to park at the...</td>\n      <td>169</td>\n      <td>782</td>\n      <td>782</td>\n      <td>first of all we arriv want to park at the hote...</td>\n      <td>first of all we arrive want to park at the hot...</td>\n    </tr>\n    <tr>\n      <th>4.0</th>\n      <td>1</td>\n      <td>hello   i currently staying   hilton metropole...</td>\n      <td>Hello   I currently staying   Hilton Metropole...</td>\n      <td>175</td>\n      <td>789</td>\n      <td>789</td>\n      <td>hello   i current stay   hilton metropol in lo...</td>\n      <td>hello   i currently stay   hilton metropole in...</td>\n    </tr>\n  </tbody>\n</table>\n</div>"
     },
     "execution_count": 68,
     "metadata": {},
     "output_type": "execute_result"
    }
   ],
   "source": [
    "df.head()"
   ],
   "metadata": {
    "collapsed": false,
    "pycharm": {
     "name": "#%%\n"
    }
   }
  },
  {
   "cell_type": "markdown",
   "source": [
    "# Train- Test Split"
   ],
   "metadata": {
    "collapsed": false,
    "pycharm": {
     "name": "#%% md\n"
    }
   }
  },
  {
   "cell_type": "code",
   "execution_count": 70,
   "outputs": [],
   "source": [
    "x_train, x_test, y_train, y_test = train_test_split(df.drop(columns=['rating']),\n",
    "                                                    df['rating'],\n",
    "                                                    test_size=.2,\n",
    "                                                    random_state=42)"
   ],
   "metadata": {
    "collapsed": false,
    "pycharm": {
     "name": "#%%\n"
    }
   }
  },
  {
   "cell_type": "code",
   "execution_count": 73,
   "outputs": [
    {
     "name": "stdout",
     "output_type": "stream",
     "text": [
      "(13208, 7)\n",
      "(3303, 7)\n",
      "(13208,)\n",
      "(3303,)\n"
     ]
    }
   ],
   "source": [
    "print(x_train.shape)\n",
    "print(x_test.shape)\n",
    "print(y_train.shape)\n",
    "print(y_test.shape)"
   ],
   "metadata": {
    "collapsed": false,
    "pycharm": {
     "name": "#%%\n"
    }
   }
  },
  {
   "cell_type": "code",
   "execution_count": null,
   "outputs": [],
   "source": [
    "# TF-IDF Vectorisation for Reviews"
   ],
   "metadata": {
    "collapsed": false,
    "pycharm": {
     "name": "#%%\n"
    }
   }
  },
  {
   "cell_type": "code",
   "execution_count": 74,
   "outputs": [
    {
     "data": {
      "text/plain": "     access  air      also  arrival  arrive  ask  available  back       bad  \\\n0  0.000000  0.0  0.000000      0.0     0.0  0.0   0.000000   0.0  0.131088   \n1  0.000000  0.0  0.218531      0.0     0.0  0.0   0.000000   0.0  0.000000   \n2  0.000000  0.0  0.000000      0.0     0.0  0.0   0.000000   0.0  0.000000   \n3  0.264549  0.0  0.245403      0.0     0.0  0.0   0.256604   0.0  0.000000   \n4  0.000000  0.0  0.000000      0.0     0.0  0.0   0.000000   0.0  0.000000   \n\n   beautiful  ...    visit      wait  wall  want  week  well  wonderful  \\\n0   0.000000  ...  0.00000  0.000000   0.0   0.0   0.0   0.0        0.0   \n1   0.000000  ...  0.00000  0.202489   0.0   0.0   0.0   0.0        0.0   \n2   0.326799  ...  0.00000  0.000000   0.0   0.0   0.0   0.0        0.0   \n3   0.000000  ...  0.00000  0.000000   0.0   0.0   0.0   0.0        0.0   \n4   0.000000  ...  0.30836  0.000000   0.0   0.0   0.0   0.0        0.0   \n\n       work  worth     would  \n0  0.000000    0.0  0.000000  \n1  0.000000    0.0  0.000000  \n2  0.000000    0.0  0.000000  \n3  0.000000    0.0  0.196023  \n4  0.253633    0.0  0.000000  \n\n[5 rows x 182 columns]",
      "text/html": "<div>\n<style scoped>\n    .dataframe tbody tr th:only-of-type {\n        vertical-align: middle;\n    }\n\n    .dataframe tbody tr th {\n        vertical-align: top;\n    }\n\n    .dataframe thead th {\n        text-align: right;\n    }\n</style>\n<table border=\"1\" class=\"dataframe\">\n  <thead>\n    <tr style=\"text-align: right;\">\n      <th></th>\n      <th>access</th>\n      <th>air</th>\n      <th>also</th>\n      <th>arrival</th>\n      <th>arrive</th>\n      <th>ask</th>\n      <th>available</th>\n      <th>back</th>\n      <th>bad</th>\n      <th>beautiful</th>\n      <th>...</th>\n      <th>visit</th>\n      <th>wait</th>\n      <th>wall</th>\n      <th>want</th>\n      <th>week</th>\n      <th>well</th>\n      <th>wonderful</th>\n      <th>work</th>\n      <th>worth</th>\n      <th>would</th>\n    </tr>\n  </thead>\n  <tbody>\n    <tr>\n      <th>0</th>\n      <td>0.000000</td>\n      <td>0.0</td>\n      <td>0.000000</td>\n      <td>0.0</td>\n      <td>0.0</td>\n      <td>0.0</td>\n      <td>0.000000</td>\n      <td>0.0</td>\n      <td>0.131088</td>\n      <td>0.000000</td>\n      <td>...</td>\n      <td>0.00000</td>\n      <td>0.000000</td>\n      <td>0.0</td>\n      <td>0.0</td>\n      <td>0.0</td>\n      <td>0.0</td>\n      <td>0.0</td>\n      <td>0.000000</td>\n      <td>0.0</td>\n      <td>0.000000</td>\n    </tr>\n    <tr>\n      <th>1</th>\n      <td>0.000000</td>\n      <td>0.0</td>\n      <td>0.218531</td>\n      <td>0.0</td>\n      <td>0.0</td>\n      <td>0.0</td>\n      <td>0.000000</td>\n      <td>0.0</td>\n      <td>0.000000</td>\n      <td>0.000000</td>\n      <td>...</td>\n      <td>0.00000</td>\n      <td>0.202489</td>\n      <td>0.0</td>\n      <td>0.0</td>\n      <td>0.0</td>\n      <td>0.0</td>\n      <td>0.0</td>\n      <td>0.000000</td>\n      <td>0.0</td>\n      <td>0.000000</td>\n    </tr>\n    <tr>\n      <th>2</th>\n      <td>0.000000</td>\n      <td>0.0</td>\n      <td>0.000000</td>\n      <td>0.0</td>\n      <td>0.0</td>\n      <td>0.0</td>\n      <td>0.000000</td>\n      <td>0.0</td>\n      <td>0.000000</td>\n      <td>0.326799</td>\n      <td>...</td>\n      <td>0.00000</td>\n      <td>0.000000</td>\n      <td>0.0</td>\n      <td>0.0</td>\n      <td>0.0</td>\n      <td>0.0</td>\n      <td>0.0</td>\n      <td>0.000000</td>\n      <td>0.0</td>\n      <td>0.000000</td>\n    </tr>\n    <tr>\n      <th>3</th>\n      <td>0.264549</td>\n      <td>0.0</td>\n      <td>0.245403</td>\n      <td>0.0</td>\n      <td>0.0</td>\n      <td>0.0</td>\n      <td>0.256604</td>\n      <td>0.0</td>\n      <td>0.000000</td>\n      <td>0.000000</td>\n      <td>...</td>\n      <td>0.00000</td>\n      <td>0.000000</td>\n      <td>0.0</td>\n      <td>0.0</td>\n      <td>0.0</td>\n      <td>0.0</td>\n      <td>0.0</td>\n      <td>0.000000</td>\n      <td>0.0</td>\n      <td>0.196023</td>\n    </tr>\n    <tr>\n      <th>4</th>\n      <td>0.000000</td>\n      <td>0.0</td>\n      <td>0.000000</td>\n      <td>0.0</td>\n      <td>0.0</td>\n      <td>0.0</td>\n      <td>0.000000</td>\n      <td>0.0</td>\n      <td>0.000000</td>\n      <td>0.000000</td>\n      <td>...</td>\n      <td>0.30836</td>\n      <td>0.000000</td>\n      <td>0.0</td>\n      <td>0.0</td>\n      <td>0.0</td>\n      <td>0.0</td>\n      <td>0.0</td>\n      <td>0.253633</td>\n      <td>0.0</td>\n      <td>0.000000</td>\n    </tr>\n  </tbody>\n</table>\n<p>5 rows × 182 columns</p>\n</div>"
     },
     "execution_count": 74,
     "metadata": {},
     "output_type": "execute_result"
    }
   ],
   "source": [
    "tokenizer = RegexpTokenizer(r'[a-zA-Z]+')\n",
    "\n",
    "tf_idf_vect = TfidfVectorizer(lowercase=True,\n",
    "                              tokenizer = tokenizer.tokenize,\n",
    "                              stop_words=stop_words,\n",
    "                              ngram_range=(1,2),\n",
    "                              min_df = 0.05)\n",
    "\n",
    "x_lemm_train_tfidf_sparse = tf_idf_vect.fit_transform(x_train['review_lemmed'])\n",
    "\n",
    "x_lemm_test_tfidf_sparse = tf_idf_vect.transform(x_test['review_lemmed'])\n",
    "\n",
    "\n",
    "x_lemm_train_tfidf = pd.DataFrame(x_lemm_train_tfidf_sparse.toarray(),\n",
    "                                  columns=tf_idf_vect.get_feature_names())\n",
    "\n",
    "x_lemm_test_tfidf = pd.DataFrame(x_lemm_test_tfidf_sparse.toarray(),\n",
    "                                  columns=tf_idf_vect.get_feature_names())\n",
    "\n",
    "\n",
    "x_lemm_train_tfidf.head()"
   ],
   "metadata": {
    "collapsed": false,
    "pycharm": {
     "name": "#%%\n"
    }
   }
  },
  {
   "cell_type": "code",
   "execution_count": 75,
   "outputs": [
    {
     "data": {
      "text/plain": "   access       air      also  arrival    arrive  ask  available  back  bad  \\\n0     0.0  0.000000  0.146638      0.0  0.000000  0.0   0.000000   0.0  0.0   \n1     0.0  0.000000  0.000000      0.0  0.145177  0.0   0.000000   0.0  0.0   \n2     0.0  0.635324  0.000000      0.0  0.263895  0.0   0.000000   0.0  0.0   \n3     0.0  0.000000  0.000000      0.0  0.169293  0.0   0.000000   0.0  0.0   \n4     0.0  0.000000  0.000000      0.0  0.000000  0.0   0.366014   0.0  0.0   \n\n   beautiful  ...  visit      wait      wall  want  week  well  wonderful  \\\n0        0.0  ...    0.0  0.000000  0.000000   0.0   0.0   0.0        0.0   \n1        0.0  ...    0.0  0.000000  0.183712   0.0   0.0   0.0        0.0   \n2        0.0  ...    0.0  0.000000  0.000000   0.0   0.0   0.0        0.0   \n3        0.0  ...    0.0  0.184438  0.000000   0.0   0.0   0.0        0.0   \n4        0.0  ...    0.0  0.162171  0.000000   0.0   0.0   0.0        0.0   \n\n       work  worth     would  \n0  0.000000    0.0  0.117132  \n1  0.000000    0.0  0.000000  \n2  0.253384    0.0  0.000000  \n3  0.000000    0.0  0.000000  \n4  0.000000    0.0  0.000000  \n\n[5 rows x 182 columns]",
      "text/html": "<div>\n<style scoped>\n    .dataframe tbody tr th:only-of-type {\n        vertical-align: middle;\n    }\n\n    .dataframe tbody tr th {\n        vertical-align: top;\n    }\n\n    .dataframe thead th {\n        text-align: right;\n    }\n</style>\n<table border=\"1\" class=\"dataframe\">\n  <thead>\n    <tr style=\"text-align: right;\">\n      <th></th>\n      <th>access</th>\n      <th>air</th>\n      <th>also</th>\n      <th>arrival</th>\n      <th>arrive</th>\n      <th>ask</th>\n      <th>available</th>\n      <th>back</th>\n      <th>bad</th>\n      <th>beautiful</th>\n      <th>...</th>\n      <th>visit</th>\n      <th>wait</th>\n      <th>wall</th>\n      <th>want</th>\n      <th>week</th>\n      <th>well</th>\n      <th>wonderful</th>\n      <th>work</th>\n      <th>worth</th>\n      <th>would</th>\n    </tr>\n  </thead>\n  <tbody>\n    <tr>\n      <th>0</th>\n      <td>0.0</td>\n      <td>0.000000</td>\n      <td>0.146638</td>\n      <td>0.0</td>\n      <td>0.000000</td>\n      <td>0.0</td>\n      <td>0.000000</td>\n      <td>0.0</td>\n      <td>0.0</td>\n      <td>0.0</td>\n      <td>...</td>\n      <td>0.0</td>\n      <td>0.000000</td>\n      <td>0.000000</td>\n      <td>0.0</td>\n      <td>0.0</td>\n      <td>0.0</td>\n      <td>0.0</td>\n      <td>0.000000</td>\n      <td>0.0</td>\n      <td>0.117132</td>\n    </tr>\n    <tr>\n      <th>1</th>\n      <td>0.0</td>\n      <td>0.000000</td>\n      <td>0.000000</td>\n      <td>0.0</td>\n      <td>0.145177</td>\n      <td>0.0</td>\n      <td>0.000000</td>\n      <td>0.0</td>\n      <td>0.0</td>\n      <td>0.0</td>\n      <td>...</td>\n      <td>0.0</td>\n      <td>0.000000</td>\n      <td>0.183712</td>\n      <td>0.0</td>\n      <td>0.0</td>\n      <td>0.0</td>\n      <td>0.0</td>\n      <td>0.000000</td>\n      <td>0.0</td>\n      <td>0.000000</td>\n    </tr>\n    <tr>\n      <th>2</th>\n      <td>0.0</td>\n      <td>0.635324</td>\n      <td>0.000000</td>\n      <td>0.0</td>\n      <td>0.263895</td>\n      <td>0.0</td>\n      <td>0.000000</td>\n      <td>0.0</td>\n      <td>0.0</td>\n      <td>0.0</td>\n      <td>...</td>\n      <td>0.0</td>\n      <td>0.000000</td>\n      <td>0.000000</td>\n      <td>0.0</td>\n      <td>0.0</td>\n      <td>0.0</td>\n      <td>0.0</td>\n      <td>0.253384</td>\n      <td>0.0</td>\n      <td>0.000000</td>\n    </tr>\n    <tr>\n      <th>3</th>\n      <td>0.0</td>\n      <td>0.000000</td>\n      <td>0.000000</td>\n      <td>0.0</td>\n      <td>0.169293</td>\n      <td>0.0</td>\n      <td>0.000000</td>\n      <td>0.0</td>\n      <td>0.0</td>\n      <td>0.0</td>\n      <td>...</td>\n      <td>0.0</td>\n      <td>0.184438</td>\n      <td>0.000000</td>\n      <td>0.0</td>\n      <td>0.0</td>\n      <td>0.0</td>\n      <td>0.0</td>\n      <td>0.000000</td>\n      <td>0.0</td>\n      <td>0.000000</td>\n    </tr>\n    <tr>\n      <th>4</th>\n      <td>0.0</td>\n      <td>0.000000</td>\n      <td>0.000000</td>\n      <td>0.0</td>\n      <td>0.000000</td>\n      <td>0.0</td>\n      <td>0.366014</td>\n      <td>0.0</td>\n      <td>0.0</td>\n      <td>0.0</td>\n      <td>...</td>\n      <td>0.0</td>\n      <td>0.162171</td>\n      <td>0.000000</td>\n      <td>0.0</td>\n      <td>0.0</td>\n      <td>0.0</td>\n      <td>0.0</td>\n      <td>0.000000</td>\n      <td>0.0</td>\n      <td>0.000000</td>\n    </tr>\n  </tbody>\n</table>\n<p>5 rows × 182 columns</p>\n</div>"
     },
     "execution_count": 75,
     "metadata": {},
     "output_type": "execute_result"
    }
   ],
   "source": [
    "x_lemm_test_tfidf.head()"
   ],
   "metadata": {
    "collapsed": false,
    "pycharm": {
     "name": "#%%\n"
    }
   }
  },
  {
   "cell_type": "code",
   "execution_count": 76,
   "outputs": [
    {
     "name": "stdout",
     "output_type": "stream",
     "text": [
      "(13208, 182)\n",
      "(3303, 182)\n",
      "(13208,)\n",
      "(3303,)\n"
     ]
    }
   ],
   "source": [
    "print(x_lemm_train_tfidf.shape)\n",
    "print(x_lemm_test_tfidf.shape)\n",
    "print(y_train.shape)\n",
    "print(y_test.shape)"
   ],
   "metadata": {
    "collapsed": false,
    "pycharm": {
     "name": "#%%\n"
    }
   }
  },
  {
   "cell_type": "markdown",
   "source": [
    "# Saving Dataset For Modelling"
   ],
   "metadata": {
    "collapsed": false,
    "pycharm": {
     "name": "#%% md\n"
    }
   }
  },
  {
   "cell_type": "code",
   "execution_count": 78,
   "outputs": [],
   "source": [
    "x_lemm_train_tfidf.to_csv(r'C:\\Users\\lenovo\\PycharmProjects\\pythonProject2\\Data\\Trainn-Test\\x_train_data.csv',index=False)\n",
    "x_lemm_test_tfidf.to_csv(r'C:\\Users\\lenovo\\PycharmProjects\\pythonProject2\\Data\\Trainn-Test\\x_test_data.csv',index=False)\n",
    "y_train.to_csv(r'C:\\Users\\lenovo\\PycharmProjects\\pythonProject2\\Data\\Trainn-Test\\y_train_data.csv',index=False)\n",
    "y_test.to_csv(r'C:\\Users\\lenovo\\PycharmProjects\\pythonProject2\\Data\\Trainn-Test\\y_test_data.csv',index=False)"
   ],
   "metadata": {
    "collapsed": false,
    "pycharm": {
     "name": "#%%\n"
    }
   }
  }
 ],
 "metadata": {
  "kernelspec": {
   "display_name": "Python 3",
   "language": "python",
   "name": "python3"
  },
  "language_info": {
   "codemirror_mode": {
    "name": "ipython",
    "version": 2
   },
   "file_extension": ".py",
   "mimetype": "text/x-python",
   "name": "python",
   "nbconvert_exporter": "python",
   "pygments_lexer": "ipython2",
   "version": "2.7.6"
  }
 },
 "nbformat": 4,
 "nbformat_minor": 0
}