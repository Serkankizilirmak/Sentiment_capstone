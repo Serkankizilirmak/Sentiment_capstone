{
 "nbformat": 4,
 "nbformat_minor": 0,
 "metadata": {
  "colab": {
   "name": "Neural Networks.ipynb",
   "provenance": [],
   "collapsed_sections": [],
   "authorship_tag": "ABX9TyMab7fd6D2sqa/20snMhJx9"
  },
  "kernelspec": {
   "name": "python3",
   "language": "python",
   "display_name": "Python 3 (ipykernel)"
  },
  "language_info": {
   "name": "python"
  }
 },
 "cells": [
  {
   "cell_type": "markdown",
   "source": [
    "# Imports\n"
   ],
   "metadata": {
    "id": "gjTPdCjJxLH6"
   }
  },
  {
   "cell_type": "code",
   "execution_count": 134,
   "metadata": {
    "id": "522vZmHYouCY",
    "executionInfo": {
     "status": "ok",
     "timestamp": 1660504512605,
     "user_tz": -180,
     "elapsed": 1,
     "user": {
      "displayName": "Serkan",
      "userId": "13266514479312701423"
     }
    }
   },
   "outputs": [],
   "source": [
    "import pandas as pd\n",
    "import numpy as np\n",
    "import seaborn as sns\n",
    "import matplotlib.pyplot as plt\n",
    "\n",
    "from sklearn.model_selection import train_test_split\n",
    "from sklearn.preprocessing import OneHotEncoder\n",
    "from sklearn.metrics import confusion_matrix\n",
    "\n",
    "from tensorflow import keras\n",
    "from keras.preprocessing import sequence\n",
    "from tensorflow.python.keras import Sequential\n",
    "from keras.models import load_model\n",
    "from tensorflow.python.keras.layers import Dense, Embedding, GlobalAveragePooling1D\n",
    "\n",
    "import pickle\n",
    "\n",
    "##from Helpers_NN import add_sum_suffix, text_cleanup, reverse_encode, add_one_argmax_score, conf_matrix"
   ]
  },
  {
   "cell_type": "code",
   "source": [
    "df = pd.read_csv(r'C:\\Users\\lenovo\\PycharmProjects\\pythonProject2\\Data\\Neural_Networks\\neural_network_data.csv')"
   ],
   "metadata": {
    "id": "c2ytC6ELsLpG",
    "executionInfo": {
     "status": "ok",
     "timestamp": 1660506510515,
     "user_tz": -180,
     "elapsed": 849,
     "user": {
      "displayName": "Serkan",
      "userId": "13266514479312701423"
     }
    }
   },
   "execution_count": 135,
   "outputs": []
  },
  {
   "cell_type": "code",
   "source": [
    "df['rating'] = df['rating'].fillna((df['rating'].mean()))"
   ],
   "metadata": {
    "id": "Isdr3GVry8oy",
    "executionInfo": {
     "status": "ok",
     "timestamp": 1660506517627,
     "user_tz": -180,
     "elapsed": 418,
     "user": {
      "displayName": "Serkan",
      "userId": "13266514479312701423"
     }
    }
   },
   "execution_count": 136,
   "outputs": []
  },
  {
   "cell_type": "code",
   "source": [
    "df['rating'] = df['rating'].astype(np.int64)"
   ],
   "metadata": {
    "id": "gaKX4RpoyW5M",
    "executionInfo": {
     "status": "ok",
     "timestamp": 1660506519262,
     "user_tz": -180,
     "elapsed": 1,
     "user": {
      "displayName": "Serkan",
      "userId": "13266514479312701423"
     }
    }
   },
   "execution_count": 137,
   "outputs": []
  },
  {
   "cell_type": "code",
   "source": [
    "df['review'] = df['review'].astype(str)"
   ],
   "metadata": {
    "id": "RTcAjNYl57JG",
    "executionInfo": {
     "status": "ok",
     "timestamp": 1660506602470,
     "user_tz": -180,
     "elapsed": 422,
     "user": {
      "displayName": "Serkan",
      "userId": "13266514479312701423"
     }
    }
   },
   "execution_count": 138,
   "outputs": []
  },
  {
   "cell_type": "code",
   "source": [
    "df.info()"
   ],
   "metadata": {
    "colab": {
     "base_uri": "https://localhost:8080/"
    },
    "id": "XgU4GhAV6AGO",
    "executionInfo": {
     "status": "ok",
     "timestamp": 1660506606600,
     "user_tz": -180,
     "elapsed": 2,
     "user": {
      "displayName": "Serkan",
      "userId": "13266514479312701423"
     }
    },
    "outputId": "2d6cdf5d-f736-4065-fe6d-460064e685c5"
   },
   "execution_count": 139,
   "outputs": [
    {
     "name": "stdout",
     "output_type": "stream",
     "text": [
      "<class 'pandas.core.frame.DataFrame'>\n",
      "RangeIndex: 35563 entries, 0 to 35562\n",
      "Data columns (total 2 columns):\n",
      " #   Column  Non-Null Count  Dtype \n",
      "---  ------  --------------  ----- \n",
      " 0   rating  35563 non-null  int64 \n",
      " 1   review  35563 non-null  object\n",
      "dtypes: int64(1), object(1)\n",
      "memory usage: 555.8+ KB\n"
     ]
    }
   ]
  },
  {
   "cell_type": "markdown",
   "source": [
    "# One Hot Encoding Scores Column"
   ],
   "metadata": {
    "id": "pNW5-lFAxWEi"
   }
  },
  {
   "cell_type": "raw",
   "source": [
    "Veri setimiz model kurmaya uygun olmadığından ve 1 ila 5 arasında puan çıktısına sahip olmak açısından one hot encoding uygulamak istedim."
   ],
   "metadata": {
    "collapsed": false,
    "pycharm": {
     "name": "#%% raw\n"
    }
   }
  },
  {
   "cell_type": "code",
   "source": [
    "enc = OneHotEncoder(handle_unknown='ignore')\n",
    "\n",
    "enc_df = pd.DataFrame(enc.fit_transform(df[['rating']]).toarray())\n",
    "\n",
    "df = df.join(enc_df)\n",
    "df = df.rename(columns={0: \"rating_1\", 1:'rating_2',2:'rating_3',3:'rating_4',4:'rating_5'})\n",
    "df.head()"
   ],
   "metadata": {
    "colab": {
     "base_uri": "https://localhost:8080/",
     "height": 206
    },
    "id": "cMMY1kf2xKbF",
    "executionInfo": {
     "status": "ok",
     "timestamp": 1660506613545,
     "user_tz": -180,
     "elapsed": 429,
     "user": {
      "displayName": "Serkan",
      "userId": "13266514479312701423"
     }
    },
    "outputId": "d06737b2-dcf4-4293-e377-2c2fdb0b7fa7"
   },
   "execution_count": 140,
   "outputs": [
    {
     "data": {
      "text/plain": "   rating                                             review  rating_1  \\\n0       1  Its hard to find words that can describe this ...       1.0   \n1       1  Absolutely terrible. Cracked ceiling, tiny roo...       1.0   \n2       1  Very disappointed firstly i checked in online ...       1.0   \n3       1  First of all we arrived wanting to park at the...       1.0   \n4       1  Hello,  I currently staying @ Hilton Metropole...       1.0   \n\n   rating_2  rating_3  rating_4  rating_5  \n0       0.0       0.0       0.0       0.0  \n1       0.0       0.0       0.0       0.0  \n2       0.0       0.0       0.0       0.0  \n3       0.0       0.0       0.0       0.0  \n4       0.0       0.0       0.0       0.0  ",
      "text/html": "<div>\n<style scoped>\n    .dataframe tbody tr th:only-of-type {\n        vertical-align: middle;\n    }\n\n    .dataframe tbody tr th {\n        vertical-align: top;\n    }\n\n    .dataframe thead th {\n        text-align: right;\n    }\n</style>\n<table border=\"1\" class=\"dataframe\">\n  <thead>\n    <tr style=\"text-align: right;\">\n      <th></th>\n      <th>rating</th>\n      <th>review</th>\n      <th>rating_1</th>\n      <th>rating_2</th>\n      <th>rating_3</th>\n      <th>rating_4</th>\n      <th>rating_5</th>\n    </tr>\n  </thead>\n  <tbody>\n    <tr>\n      <th>0</th>\n      <td>1</td>\n      <td>Its hard to find words that can describe this ...</td>\n      <td>1.0</td>\n      <td>0.0</td>\n      <td>0.0</td>\n      <td>0.0</td>\n      <td>0.0</td>\n    </tr>\n    <tr>\n      <th>1</th>\n      <td>1</td>\n      <td>Absolutely terrible. Cracked ceiling, tiny roo...</td>\n      <td>1.0</td>\n      <td>0.0</td>\n      <td>0.0</td>\n      <td>0.0</td>\n      <td>0.0</td>\n    </tr>\n    <tr>\n      <th>2</th>\n      <td>1</td>\n      <td>Very disappointed firstly i checked in online ...</td>\n      <td>1.0</td>\n      <td>0.0</td>\n      <td>0.0</td>\n      <td>0.0</td>\n      <td>0.0</td>\n    </tr>\n    <tr>\n      <th>3</th>\n      <td>1</td>\n      <td>First of all we arrived wanting to park at the...</td>\n      <td>1.0</td>\n      <td>0.0</td>\n      <td>0.0</td>\n      <td>0.0</td>\n      <td>0.0</td>\n    </tr>\n    <tr>\n      <th>4</th>\n      <td>1</td>\n      <td>Hello,  I currently staying @ Hilton Metropole...</td>\n      <td>1.0</td>\n      <td>0.0</td>\n      <td>0.0</td>\n      <td>0.0</td>\n      <td>0.0</td>\n    </tr>\n  </tbody>\n</table>\n</div>"
     },
     "execution_count": 140,
     "metadata": {},
     "output_type": "execute_result"
    }
   ]
  },
  {
   "cell_type": "markdown",
   "source": [
    "Train - Test Split"
   ],
   "metadata": {
    "id": "N_yzTznxxx8b"
   }
  },
  {
   "cell_type": "code",
   "source": [
    "x_train, x_test, y_train, y_test = train_test_split(df[['review']], \n",
    "                                                    df[['rating_1','rating_2','rating_3','rating_4','rating_5']], \n",
    "                                                    test_size=.2, \n",
    "                                                    random_state=42)"
   ],
   "metadata": {
    "id": "Bn50aunSxzVC",
    "executionInfo": {
     "status": "ok",
     "timestamp": 1660506619052,
     "user_tz": -180,
     "elapsed": 2,
     "user": {
      "displayName": "Serkan",
      "userId": "13266514479312701423"
     }
    }
   },
   "execution_count": 141,
   "outputs": []
  },
  {
   "cell_type": "raw",
   "source": [
    "Başka modeller deneyebilmek için yaptığım train test splitini ayrıyetten kaydetmek istedim."
   ],
   "metadata": {
    "collapsed": false,
    "pycharm": {
     "name": "#%% raw\n"
    }
   }
  },
  {
   "cell_type": "code",
   "source": [
    "y_test.to_csv(r'C:\\Users\\lenovo\\PycharmProjects\\pythonProject2\\Data\\Neural_Networks\\y_test_neural.csv',index=False)"
   ],
   "metadata": {
    "id": "1Tb92hQVxzXS",
    "executionInfo": {
     "status": "ok",
     "timestamp": 1660504883188,
     "user_tz": -180,
     "elapsed": 406,
     "user": {
      "displayName": "Serkan",
      "userId": "13266514479312701423"
     }
    }
   },
   "execution_count": 142,
   "outputs": []
  },
  {
   "cell_type": "code",
   "source": [
    "x_test.to_csv(r'C:\\Users\\lenovo\\PycharmProjects\\pythonProject2\\Data\\Neural_Networks\\x_test_neural.csv')"
   ],
   "metadata": {
    "id": "p9bHIx-gzipy",
    "executionInfo": {
     "status": "ok",
     "timestamp": 1660504943165,
     "user_tz": -180,
     "elapsed": 422,
     "user": {
      "displayName": "Serkan",
      "userId": "13266514479312701423"
     }
    }
   },
   "execution_count": 143,
   "outputs": []
  },
  {
   "cell_type": "code",
   "source": [
    "y_train.to_csv(r'C:\\Users\\lenovo\\PycharmProjects\\pythonProject2\\Data\\Neural_Networks\\y_train_neural.csv')\n",
    "x_train.to_csv(r'C:\\Users\\lenovo\\PycharmProjects\\pythonProject2\\Data\\Neural_Networks\\x_train_neural.csv')"
   ],
   "metadata": {
    "id": "JTkof1YkzuL4",
    "executionInfo": {
     "status": "ok",
     "timestamp": 1660505020875,
     "user_tz": -180,
     "elapsed": 1045,
     "user": {
      "displayName": "Serkan",
      "userId": "13266514479312701423"
     }
    }
   },
   "execution_count": 144,
   "outputs": []
  },
  {
   "cell_type": "markdown",
   "source": [
    "#   Noktalama işaretlerini Kaldırılması ve Tokanization Yapılması"
   ],
   "metadata": {
    "id": "Bvu_heQc6LLf"
   }
  },
  {
   "cell_type": "code",
   "execution_count": 145,
   "outputs": [],
   "source": [
    "from nltk.tokenize import RegexpTokenizer\n",
    "tokenizer = RegexpTokenizer(r'[a-zA-Z]+')\n",
    "\n",
    "def text_cleanup(text):\n",
    "\n",
    "    token_list = tokenizer.tokenize(text.lower())\n",
    "    new_text = ''\n",
    "    for word in token_list:\n",
    "        new_text += word + ' '\n",
    "\n",
    "    return new_text"
   ],
   "metadata": {
    "collapsed": false,
    "pycharm": {
     "name": "#%%\n"
    }
   }
  },
  {
   "cell_type": "code",
   "source": [
    "x_train['review_cleaned'] = x_train['review'].apply(text_cleanup)\n",
    "x_test['review_cleaned'] = x_test['review'].apply(text_cleanup)"
   ],
   "metadata": {
    "id": "53z2KkPJ6MzV",
    "executionInfo": {
     "status": "ok",
     "timestamp": 1660506679148,
     "user_tz": -180,
     "elapsed": 1703,
     "user": {
      "displayName": "Serkan",
      "userId": "13266514479312701423"
     }
    }
   },
   "execution_count": 146,
   "outputs": []
  },
  {
   "cell_type": "code",
   "source": [
    "review_index = 2000\n",
    "print('REVİEW:', x_train['review'].iloc[review_index],)\n",
    "print('REVİEW_CLEANED', x_train['review_cleaned'].iloc[review_index])"
   ],
   "metadata": {
    "colab": {
     "base_uri": "https://localhost:8080/",
     "height": 206
    },
    "id": "8YKHpqVS6M1m",
    "executionInfo": {
     "status": "ok",
     "timestamp": 1660506685752,
     "user_tz": -180,
     "elapsed": 686,
     "user": {
      "displayName": "Serkan",
      "userId": "13266514479312701423"
     }
    },
    "outputId": "d0657400-2517-406f-cd58-c63b9935fa7a"
   },
   "execution_count": 147,
   "outputs": [
    {
     "name": "stdout",
     "output_type": "stream",
     "text": [
      "REVİEW: americans not, stayed resort july 31 august 7. return, open minded people n't complain lot things traveled punta cana mexico jamaica, realize n't states, resort large kids, trams rude people countries jump, no matter traveled great service, figyhting help, spoke spanish helped right away got better service, little bugs room, like ants think came fresh flowers leave room, did not bother, roaches did, bathroom little ones, called sprayed room, day roaches bedroom 1-2 inches long, wanted home, night left 2 suitcases, experience traveled, suitcases came house washed, closed, sewage smell coming bathroom, room broken towel rack mildew did n't bother, towels night 6 00, wet bar sink lifted no water connected, poured water bottle went floor, drain n't connected, felt like total outsider, not treated like, beach grounds awesome, working, sewer plant tram passes sick passed, glad home, 2 days counting days home, happened, food nothing brag, kids survived pasta noodles rice, salad time nachos, overall not book, tought ok saw mixed reviews, good deal, not 5 star resort,  \n",
      "REVİEW_CLEANED americans not stayed resort july august return open minded people n t complain lot things traveled punta cana mexico jamaica realize n t states resort large kids trams rude people countries jump no matter traveled great service figyhting help spoke spanish helped right away got better service little bugs room like ants think came fresh flowers leave room did not bother roaches did bathroom little ones called sprayed room day roaches bedroom inches long wanted home night left suitcases experience traveled suitcases came house washed closed sewage smell coming bathroom room broken towel rack mildew did n t bother towels night wet bar sink lifted no water connected poured water bottle went floor drain n t connected felt like total outsider not treated like beach grounds awesome working sewer plant tram passes sick passed glad home days counting days home happened food nothing brag kids survived pasta noodles rice salad time nachos overall not book tought ok saw mixed reviews good deal not star resort \n"
     ]
    }
   ]
  },
  {
   "cell_type": "markdown",
   "source": [
    "# Her bir kelimenin flat şekilde ayrılması"
   ],
   "metadata": {
    "id": "QbGtI8oO6UPV"
   }
  },
  {
   "cell_type": "code",
   "source": [
    "flat_review = \" \".join(x_train['review_cleaned'].values)\n",
    "flat_review = flat_review.lower().split()"
   ],
   "metadata": {
    "id": "hp4S1XLi6W_d",
    "executionInfo": {
     "status": "ok",
     "timestamp": 1660506718727,
     "user_tz": -180,
     "elapsed": 442,
     "user": {
      "displayName": "Serkan",
      "userId": "13266514479312701423"
     }
    }
   },
   "execution_count": 148,
   "outputs": []
  },
  {
   "cell_type": "code",
   "source": [
    "len(flat_review)"
   ],
   "metadata": {
    "colab": {
     "base_uri": "https://localhost:8080/"
    },
    "id": "7pEBEDxT6XBm",
    "executionInfo": {
     "status": "ok",
     "timestamp": 1660506721346,
     "user_tz": -180,
     "elapsed": 462,
     "user": {
      "displayName": "Serkan",
      "userId": "13266514479312701423"
     }
    },
    "outputId": "47f95ad8-a544-4dc5-9e05-cbacbf3dd3db"
   },
   "execution_count": 149,
   "outputs": [
    {
     "data": {
      "text/plain": "2985169"
     },
     "execution_count": 149,
     "metadata": {},
     "output_type": "execute_result"
    }
   ]
  },
  {
   "cell_type": "raw",
   "source": [
    "Aynı kelimelerin tamamen kaldırıp uniqe bir veri oluşturulması"
   ],
   "metadata": {
    "collapsed": false,
    "pycharm": {
     "name": "#%% raw\n"
    }
   }
  },
  {
   "cell_type": "code",
   "source": [
    "unique_list = []\n",
    "for word in flat_review:\n",
    "    if word not in unique_list:\n",
    "        unique_list.append(word)"
   ],
   "metadata": {
    "id": "JUfhdZJj6emN",
    "executionInfo": {
     "status": "ok",
     "timestamp": 1660507340671,
     "user_tz": -180,
     "elapsed": 189790,
     "user": {
      "displayName": "Serkan",
      "userId": "13266514479312701423"
     }
    }
   },
   "execution_count": 150,
   "outputs": []
  },
  {
   "cell_type": "code",
   "source": [
    "len(unique_list)"
   ],
   "metadata": {
    "id": "VGPcKEhj6q3M",
    "executionInfo": {
     "status": "aborted",
     "timestamp": 1660507131135,
     "user_tz": -180,
     "elapsed": 16,
     "user": {
      "displayName": "Serkan",
      "userId": "13266514479312701423"
     }
    }
   },
   "execution_count": 151,
   "outputs": [
    {
     "data": {
      "text/plain": "48179"
     },
     "execution_count": 151,
     "metadata": {},
     "output_type": "execute_result"
    }
   ]
  },
  {
   "cell_type": "code",
   "source": [
    "word_index_dict = {}\n",
    "for i in range(0,len(unique_list)):\n",
    "    word_index_dict[unique_list[i]] = i"
   ],
   "metadata": {
    "id": "OKl368nK6sO-",
    "executionInfo": {
     "status": "aborted",
     "timestamp": 1660507131138,
     "user_tz": -180,
     "elapsed": 18,
     "user": {
      "displayName": "Serkan",
      "userId": "13266514479312701423"
     }
    }
   },
   "execution_count": 152,
   "outputs": []
  },
  {
   "cell_type": "code",
   "source": [
    "word_index_dict = {k:(v+4) for k,v in word_index_dict.items()}\n",
    "word_index_dict['<PAD>'] = 0\n",
    "word_index_dict['<START>'] = 1\n",
    "word_index_dict['<UNK>'] = 2\n",
    "word_index_dict['<UNUSED>'] = 3"
   ],
   "metadata": {
    "id": "XJ8H-xjU6teU",
    "executionInfo": {
     "status": "aborted",
     "timestamp": 1660507131139,
     "user_tz": -180,
     "elapsed": 19,
     "user": {
      "displayName": "Serkan",
      "userId": "13266514479312701423"
     }
    }
   },
   "execution_count": 153,
   "outputs": []
  },
  {
   "cell_type": "markdown",
   "source": [
    "# Indexing Words in Reviews Using Dictionary"
   ],
   "metadata": {
    "id": "Ul5ocJMi6wv-"
   }
  },
  {
   "cell_type": "code",
   "source": [
    "def index_review_words(text):\n",
    "    review_word_list = []\n",
    "    for word in text.lower().split():\n",
    "        if word in word_index_dict.keys():\n",
    "            review_word_list.append(word_index_dict[word])\n",
    "        else:\n",
    "            review_word_list.append(word_index_dict['<UNK>'])\n",
    "\n",
    "    return review_word_list"
   ],
   "metadata": {
    "id": "8i7YBBmJ6yUl",
    "executionInfo": {
     "status": "aborted",
     "timestamp": 1660507131140,
     "user_tz": -180,
     "elapsed": 17,
     "user": {
      "displayName": "Serkan",
      "userId": "13266514479312701423"
     }
    }
   },
   "execution_count": 154,
   "outputs": []
  },
  {
   "cell_type": "code",
   "source": [
    "x_train['preprocessed_review'] = x_train['review_cleaned'].apply(index_review_words)\n",
    "x_test['preprocessed_review'] = x_test['review_cleaned'].apply(index_review_words)"
   ],
   "metadata": {
    "id": "KCfhjwiY6yW8"
   },
   "execution_count": 155,
   "outputs": []
  },
  {
   "cell_type": "code",
   "source": [
    "x_train.head()"
   ],
   "metadata": {
    "id": "I3QAoUWV7IfO"
   },
   "execution_count": 156,
   "outputs": [
    {
     "data": {
      "text/plain": "                                                  review  \\\n4851   Hotel is what it is. Clean and functional and ...   \n1087   Just checked in for a 4 day trip to London (Bu...   \n5865   We don’t usually report on major chain hotels ...   \n29083  money grabbing charge credit card checkin chec...   \n3954   OK hotel, but with the Hilton brand you would ...   \n\n                                          review_cleaned  \\\n4851   hotel is what it is clean and functional and f...   \n1087   just checked in for a day trip to london busin...   \n5865   we don t usually report on major chain hotels ...   \n29083  money grabbing charge credit card checkin chec...   \n3954   ok hotel but with the hilton brand you would e...   \n\n                                     preprocessed_review  \n4851   [4, 5, 6, 7, 5, 8, 9, 10, 9, 11, 12, 13, 14, 1...  \n1087   [81, 82, 83, 11, 19, 31, 84, 35, 73, 85, 86, 8...  \n5865   [33, 153, 111, 154, 155, 29, 156, 157, 93, 83,...  \n29083  [216, 217, 218, 219, 220, 221, 222, 39, 223, 2...  \n3954   [257, 4, 67, 59, 12, 88, 258, 140, 259, 149, 2...  ",
      "text/html": "<div>\n<style scoped>\n    .dataframe tbody tr th:only-of-type {\n        vertical-align: middle;\n    }\n\n    .dataframe tbody tr th {\n        vertical-align: top;\n    }\n\n    .dataframe thead th {\n        text-align: right;\n    }\n</style>\n<table border=\"1\" class=\"dataframe\">\n  <thead>\n    <tr style=\"text-align: right;\">\n      <th></th>\n      <th>review</th>\n      <th>review_cleaned</th>\n      <th>preprocessed_review</th>\n    </tr>\n  </thead>\n  <tbody>\n    <tr>\n      <th>4851</th>\n      <td>Hotel is what it is. Clean and functional and ...</td>\n      <td>hotel is what it is clean and functional and f...</td>\n      <td>[4, 5, 6, 7, 5, 8, 9, 10, 9, 11, 12, 13, 14, 1...</td>\n    </tr>\n    <tr>\n      <th>1087</th>\n      <td>Just checked in for a 4 day trip to London (Bu...</td>\n      <td>just checked in for a day trip to london busin...</td>\n      <td>[81, 82, 83, 11, 19, 31, 84, 35, 73, 85, 86, 8...</td>\n    </tr>\n    <tr>\n      <th>5865</th>\n      <td>We don’t usually report on major chain hotels ...</td>\n      <td>we don t usually report on major chain hotels ...</td>\n      <td>[33, 153, 111, 154, 155, 29, 156, 157, 93, 83,...</td>\n    </tr>\n    <tr>\n      <th>29083</th>\n      <td>money grabbing charge credit card checkin chec...</td>\n      <td>money grabbing charge credit card checkin chec...</td>\n      <td>[216, 217, 218, 219, 220, 221, 222, 39, 223, 2...</td>\n    </tr>\n    <tr>\n      <th>3954</th>\n      <td>OK hotel, but with the Hilton brand you would ...</td>\n      <td>ok hotel but with the hilton brand you would e...</td>\n      <td>[257, 4, 67, 59, 12, 88, 258, 140, 259, 149, 2...</td>\n    </tr>\n  </tbody>\n</table>\n</div>"
     },
     "execution_count": 156,
     "metadata": {},
     "output_type": "execute_result"
    }
   ]
  },
  {
   "cell_type": "raw",
   "source": [
    "# 5.9 Modelling"
   ],
   "metadata": {
    "collapsed": false,
    "pycharm": {
     "name": "#%% raw\n"
    }
   }
  },
  {
   "cell_type": "code",
   "execution_count": 119,
   "outputs": [],
   "source": [
    "from keras import preprocessing\n",
    "import keras\n",
    "from keras.utils import pad_sequences"
   ],
   "metadata": {
    "collapsed": false,
    "pycharm": {
     "name": "#%%\n"
    }
   }
  },
  {
   "cell_type": "code",
   "execution_count": 120,
   "outputs": [],
   "source": [
    "from keras_preprocessing.sequence import pad_sequences"
   ],
   "metadata": {
    "collapsed": false,
    "pycharm": {
     "name": "#%%\n"
    }
   }
  },
  {
   "cell_type": "code",
   "execution_count": 157,
   "outputs": [],
   "source": [
    "x_train = pad_sequences(x_train['preprocessed_review'],value=word_index_dict['<PAD>'],padding='post',maxlen=250)\n",
    "x_test = pad_sequences(x_test['preprocessed_review'],value=word_index_dict['<PAD>'],padding='post',maxlen=250)"
   ],
   "metadata": {
    "collapsed": false,
    "pycharm": {
     "name": "#%%\n"
    }
   }
  },
  {
   "cell_type": "raw",
   "source": [
    "# 5.10"
   ],
   "metadata": {
    "collapsed": false,
    "pycharm": {
     "name": "#%% raw\n"
    }
   }
  },
  {
   "cell_type": "code",
   "execution_count": 50,
   "outputs": [],
   "source": [
    "np.save(r'C:\\Users\\lenovo\\PycharmProjects\\pythonProject2\\Data\\Neural_Networks\\/x_test',x_test)"
   ],
   "metadata": {
    "collapsed": false,
    "pycharm": {
     "name": "#%%\n"
    }
   }
  },
  {
   "cell_type": "raw",
   "source": [
    "5.9.3 Creating and Training Neural Network Model"
   ],
   "metadata": {
    "collapsed": false,
    "pycharm": {
     "name": "#%% raw\n"
    }
   }
  },
  {
   "cell_type": "code",
   "execution_count": 158,
   "outputs": [
    {
     "data": {
      "text/plain": "(28450, 250)"
     },
     "execution_count": 158,
     "metadata": {},
     "output_type": "execute_result"
    }
   ],
   "source": [
    "x_train.shape"
   ],
   "metadata": {
    "collapsed": false,
    "pycharm": {
     "name": "#%%\n"
    }
   }
  },
  {
   "cell_type": "code",
   "execution_count": 159,
   "outputs": [
    {
     "data": {
      "text/plain": "(28450, 5)"
     },
     "execution_count": 159,
     "metadata": {},
     "output_type": "execute_result"
    }
   ],
   "source": [
    "y_train.shape"
   ],
   "metadata": {
    "collapsed": false,
    "pycharm": {
     "name": "#%%\n"
    }
   }
  },
  {
   "cell_type": "code",
   "execution_count": 160,
   "outputs": [
    {
     "data": {
      "text/plain": "(7113, 250)"
     },
     "execution_count": 160,
     "metadata": {},
     "output_type": "execute_result"
    }
   ],
   "source": [
    "x_test.shape"
   ],
   "metadata": {
    "collapsed": false,
    "pycharm": {
     "name": "#%%\n"
    }
   }
  },
  {
   "cell_type": "code",
   "execution_count": 161,
   "outputs": [
    {
     "data": {
      "text/plain": "(7113, 5)"
     },
     "execution_count": 161,
     "metadata": {},
     "output_type": "execute_result"
    }
   ],
   "source": [
    "y_test.shape\n"
   ],
   "metadata": {
    "collapsed": false,
    "pycharm": {
     "name": "#%%\n"
    }
   }
  },
  {
   "cell_type": "code",
   "execution_count": 193,
   "outputs": [],
   "source": [
    "unique_list_len = len(unique_list) +1\n",
    "\n",
    "\n",
    "model = Sequential()\n",
    "model.add(Embedding(unique_list_len,16, input_length= 250))\n",
    "model.add(GlobalAveragePooling1D())\n",
    "model.add(Dense(16,activation='relu'))\n",
    "model.add(Dense(5,activation='sigmoid'))"
   ],
   "metadata": {
    "collapsed": false,
    "pycharm": {
     "name": "#%%\n"
    }
   }
  },
  {
   "cell_type": "code",
   "execution_count": 194,
   "outputs": [],
   "source": [
    "model.compile(optimizer='adam',loss='categorical_crossentropy',metrics=['accuracy'])\n"
   ],
   "metadata": {
    "collapsed": false,
    "pycharm": {
     "name": "#%%\n"
    }
   }
  },
  {
   "cell_type": "code",
   "execution_count": 195,
   "outputs": [],
   "source": [
    "x_train, x_val, y_train, y_val = train_test_split(x_train,y_train,test_size=.2,random_state=42)"
   ],
   "metadata": {
    "collapsed": false,
    "pycharm": {
     "name": "#%%\n"
    }
   }
  },
  {
   "cell_type": "code",
   "execution_count": 196,
   "outputs": [],
   "source": [
    "fitModel = model.fit(x_train, y_train, epochs=60, batch_size=250, validation_data=(x_val,y_val), verbose=0)"
   ],
   "metadata": {
    "collapsed": false,
    "pycharm": {
     "name": "#%%\n"
    }
   }
  },
  {
   "cell_type": "raw",
   "source": [
    "Testing Model"
   ],
   "metadata": {
    "collapsed": false,
    "pycharm": {
     "name": "#%% raw\n"
    }
   }
  },
  {
   "cell_type": "code",
   "execution_count": 197,
   "outputs": [
    {
     "name": "stdout",
     "output_type": "stream",
     "text": [
      "92/92 [==============================] - 0s 953us/step - loss: 1.2717 - accuracy: 0.6136\n"
     ]
    },
    {
     "data": {
      "text/plain": "[1.2717100381851196, 0.6135895848274231]"
     },
     "execution_count": 197,
     "metadata": {},
     "output_type": "execute_result"
    }
   ],
   "source": [
    "model.evaluate(x_val,y_val)"
   ],
   "metadata": {
    "collapsed": false,
    "pycharm": {
     "name": "#%%\n"
    }
   }
  },
  {
   "cell_type": "code",
   "execution_count": 198,
   "outputs": [
    {
     "name": "stdout",
     "output_type": "stream",
     "text": [
      "223/223 [==============================] - 0s 906us/step - loss: 1.2442 - accuracy: 0.6092\n"
     ]
    },
    {
     "data": {
      "text/plain": "[1.2441569566726685, 0.6091663241386414]"
     },
     "execution_count": 198,
     "metadata": {},
     "output_type": "execute_result"
    }
   ],
   "source": [
    "model.evaluate(x_test,y_test)"
   ],
   "metadata": {
    "collapsed": false,
    "pycharm": {
     "name": "#%%\n"
    }
   }
  },
  {
   "cell_type": "raw",
   "source": [
    "Test Confusion Matrix"
   ],
   "metadata": {
    "collapsed": false,
    "pycharm": {
     "name": "#%% raw\n"
    }
   }
  },
  {
   "cell_type": "raw",
   "source": [
    "5.11.1 Reverse Encode Target Into One Column for Confusion Matrix"
   ],
   "metadata": {
    "collapsed": false,
    "pycharm": {
     "name": "#%% raw\n"
    }
   }
  },
  {
   "cell_type": "code",
   "execution_count": 199,
   "outputs": [],
   "source": [
    "def reverse_encode(y_df):\n",
    "\n",
    "    y_df['score'] = (y_df.iloc[:, 0:] == 1).idxmax(1)['score'] = (y_df.iloc[:, 0:] == 1).idxmax(1)\n",
    "    for i in range(0,len(y_df)):\n",
    "        if y_df.iloc[i,-1] == 'score_1':\n",
    "            y_df.iloc[i,-1] = 1\n",
    "        elif y_df.iloc[i,-1] == 'score_2':\n",
    "            y_df.iloc[i,-1] = 2\n",
    "        elif y_df.iloc[i,-1]== 'score_3':\n",
    "            y_df.iloc[i,-1] = 3\n",
    "        elif y_df.iloc[i,-1]== 'score_4':\n",
    "            y_df.iloc[i,-1] = 4\n",
    "        elif y_df.iloc[i,-1] == 'score_5':\n",
    "            y_df.iloc[i,-1]= 5"
   ],
   "metadata": {
    "collapsed": false,
    "pycharm": {
     "name": "#%%\n"
    }
   }
  },
  {
   "cell_type": "raw",
   "source": [],
   "metadata": {
    "collapsed": false,
    "pycharm": {
     "name": "#%% raw\n"
    }
   }
  },
  {
   "cell_type": "code",
   "execution_count": 200,
   "outputs": [],
   "source": [
    "reverse_encode(y_test)"
   ],
   "metadata": {
    "collapsed": false,
    "pycharm": {
     "name": "#%%\n"
    }
   }
  },
  {
   "cell_type": "code",
   "execution_count": 201,
   "outputs": [],
   "source": [
    "reverse_encode(y_val)"
   ],
   "metadata": {
    "collapsed": false,
    "pycharm": {
     "name": "#%%\n"
    }
   }
  },
  {
   "cell_type": "code",
   "execution_count": 202,
   "outputs": [],
   "source": [
    "def add_one_argmax_score(x):\n",
    "\n",
    "    x = x+1\n",
    "\n",
    "    return x"
   ],
   "metadata": {
    "collapsed": false,
    "pycharm": {
     "name": "#%%\n"
    }
   }
  },
  {
   "cell_type": "code",
   "execution_count": 203,
   "outputs": [],
   "source": [
    "y_test_predicted = add_one_argmax_score(np.argmax(model.predict(x_test),axis=1))"
   ],
   "metadata": {
    "collapsed": false,
    "pycharm": {
     "name": "#%%\n"
    }
   }
  },
  {
   "cell_type": "raw",
   "source": [
    " Saving Neural Network Preprocessed y Data"
   ],
   "metadata": {
    "collapsed": false,
    "pycharm": {
     "name": "#%% raw\n"
    }
   }
  },
  {
   "cell_type": "code",
   "execution_count": 70,
   "outputs": [],
   "source": [
    "y_test.to_csv(r'C:\\Users\\lenovo\\PycharmProjects\\pythonProject2\\Data\\Neural_Networks/y_test_nn_df.csv',index=False)\n",
    "np.save(r'C:\\Users\\lenovo\\PycharmProjects\\pythonProject2\\Data\\Neural_Networks/y_test_predicted_array',y_test_predicted)"
   ],
   "metadata": {
    "collapsed": false,
    "pycharm": {
     "name": "#%%\n"
    }
   }
  },
  {
   "cell_type": "code",
   "execution_count": 71,
   "outputs": [
    {
     "data": {
      "text/plain": "17346    rating_4\n8135     rating_5\n8904     rating_5\n14918    rating_5\n14265    rating_5\n           ...   \n18238    rating_5\n18699    rating_4\n18348    rating_4\n29677    rating_1\n4148     rating_3\nName: score, Length: 7113, dtype: object"
     },
     "execution_count": 71,
     "metadata": {},
     "output_type": "execute_result"
    }
   ],
   "source": [
    "y_test['score']"
   ],
   "metadata": {
    "collapsed": false,
    "pycharm": {
     "name": "#%%\n"
    }
   }
  },
  {
   "cell_type": "code",
   "execution_count": 205,
   "outputs": [],
   "source": [
    "yy_test =  y_test\n",
    "\n",
    "yy_test['score'] = yy_test['score'].replace(['rating_1'],1)\n",
    "yy_test['score'] = yy_test['score'].replace(['rating_2'],2)\n",
    "yy_test['score'] = yy_test['score'].replace(['rating_3'],3)\n",
    "yy_test['score'] = yy_test['score'].replace(['rating_4'],4)\n",
    "yy_test['score'] = yy_test['score'].replace(['rating_5'],5)"
   ],
   "metadata": {
    "collapsed": false,
    "pycharm": {
     "name": "#%%\n"
    }
   }
  },
  {
   "cell_type": "code",
   "execution_count": 206,
   "outputs": [],
   "source": [
    "yy_test['score'] = yy_test['score'].astype(np.int64)"
   ],
   "metadata": {
    "collapsed": false,
    "pycharm": {
     "name": "#%%\n"
    }
   }
  },
  {
   "cell_type": "raw",
   "source": [],
   "metadata": {
    "collapsed": false,
    "pycharm": {
     "name": "#%% raw\n"
    }
   }
  },
  {
   "cell_type": "code",
   "execution_count": 207,
   "outputs": [],
   "source": [
    "def conf_matrix(cm):\n",
    "\n",
    "    plt.figure(figsize=(9,9))\n",
    "    ax = sns.heatmap(cm,\n",
    "                     annot= True,\n",
    "                     fmt = '.4g',\n",
    "                     cbar=0,\n",
    "                     xticklabels=[1,2,3,4,5],\n",
    "                     yticklabels=[1,2,3,4,5])\n",
    "    ax.set(xlabel='Predicted', ylabel='True')\n",
    "    plt.show()"
   ],
   "metadata": {
    "collapsed": false,
    "pycharm": {
     "name": "#%%\n"
    }
   }
  },
  {
   "cell_type": "code",
   "execution_count": 208,
   "outputs": [
    {
     "data": {
      "text/plain": "<Figure size 648x648 with 1 Axes>",
      "image/png": "[encoded data removed]"
     },
     "metadata": {
      "needs_background": "light"
     },
     "output_type": "display_data"
    }
   ],
   "source": [
    "test_cm = confusion_matrix(yy_test['score'], y_test_predicted)\n",
    "conf_matrix(test_cm)"
   ],
   "metadata": {
    "collapsed": false,
    "pycharm": {
     "name": "#%%\n"
    }
   }
  },
  {
   "cell_type": "raw",
   "source": [
    "Saving Model"
   ],
   "metadata": {
    "collapsed": false,
    "pycharm": {
     "name": "#%% raw\n"
    }
   }
  },
  {
   "cell_type": "code",
   "execution_count": 76,
   "outputs": [],
   "source": [
    "model.save(r'C:\\Users\\lenovo\\PycharmProjects\\pythonProject2\\Data\\Neural_Networks/Models/Neural_Network.h5')"
   ],
   "metadata": {
    "collapsed": false,
    "pycharm": {
     "name": "#%%\n"
    }
   }
  },
  {
   "cell_type": "code",
   "execution_count": 77,
   "outputs": [],
   "source": [
    "pickle.dump(word_index_dict,open(r'C:\\Users\\lenovo\\PycharmProjects\\pythonProject2\\Data\\Neural_Networks/word_index_dict.pkl','wb'))"
   ],
   "metadata": {
    "collapsed": false,
    "pycharm": {
     "name": "#%%\n"
    }
   }
  }
 ]
}