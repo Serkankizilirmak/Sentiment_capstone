{
 "nbformat": 4,
 "nbformat_minor": 0,
 "metadata": {
  "colab": {
   "name": "Neural Networks.ipynb",
   "provenance": [],
   "collapsed_sections": [],
   "authorship_tag": "ABX9TyMab7fd6D2sqa/20snMhJx9"
  },
  "kernelspec": {
   "name": "python3",
   "language": "python",
   "display_name": "Python 3 (ipykernel)"
  },
  "language_info": {
   "name": "python"
  }
 },
 "cells": [
  {
   "cell_type": "markdown",
   "source": [
    "# Imports\n"
   ],
   "metadata": {
    "id": "gjTPdCjJxLH6"
   }
  },
  {
   "cell_type": "code",
   "execution_count": 1127,
   "metadata": {
    "id": "522vZmHYouCY",
    "executionInfo": {
     "status": "ok",
     "timestamp": 1660504512605,
     "user_tz": -180,
     "elapsed": 1,
     "user": {
      "displayName": "Serkan",
      "userId": "13266514479312701423"
     }
    }
   },
   "outputs": [],
   "source": [
    "import pandas as pd\n",
    "import numpy as np\n",
    "import seaborn as sns\n",
    "import matplotlib.pyplot as plt\n",
    "\n",
    "from sklearn.model_selection import train_test_split\n",
    "from sklearn.preprocessing import OneHotEncoder\n",
    "from sklearn.metrics import confusion_matrix\n",
    "\n",
    "from tensorflow import keras\n",
    "from keras.preprocessing import sequence\n",
    "from tensorflow.python.keras import Sequential\n",
    "from keras.models import load_model\n",
    "from tensorflow.python.keras.layers import Dense, Embedding, GlobalAveragePooling1D,GlobalAveragePooling2D,GlobalAveragePooling3D\n",
    "\n",
    "import pickle\n",
    "\n",
    "from keras import preprocessing\n",
    "import keras\n",
    "from keras.utils import pad_sequences\n",
    "\n",
    "from tensorflow import keras\n",
    "from tensorflow.keras import layers\n",
    "import tensorflow as tf"
   ]
  },
  {
   "cell_type": "code",
   "source": [
    "df = pd.read_csv(r'C:\\Users\\lenovo\\PycharmProjects\\pythonProject2\\Data\\neural_network_data.csv')"
   ],
   "metadata": {
    "id": "c2ytC6ELsLpG",
    "executionInfo": {
     "status": "ok",
     "timestamp": 1660506510515,
     "user_tz": -180,
     "elapsed": 849,
     "user": {
      "displayName": "Serkan",
      "userId": "13266514479312701423"
     }
    }
   },
   "execution_count": 1128,
   "outputs": []
  },
  {
   "cell_type": "code",
   "source": [
    "df['rating'] = df['rating'].fillna((df['rating'].mean()))\n",
    "df['rating'] = df['rating'].astype(np.int64)\n",
    "df['review'] = df['review'].astype(str)\n",
    "df.info()"
   ],
   "metadata": {
    "id": "Isdr3GVry8oy",
    "executionInfo": {
     "status": "ok",
     "timestamp": 1660506517627,
     "user_tz": -180,
     "elapsed": 418,
     "user": {
      "displayName": "Serkan",
      "userId": "13266514479312701423"
     }
    }
   },
   "execution_count": 1129,
   "outputs": [
    {
     "name": "stdout",
     "output_type": "stream",
     "text": [
      "<class 'pandas.core.frame.DataFrame'>\n",
      "RangeIndex: 16511 entries, 0 to 16510\n",
      "Data columns (total 2 columns):\n",
      " #   Column  Non-Null Count  Dtype \n",
      "---  ------  --------------  ----- \n",
      " 0   rating  16511 non-null  int64 \n",
      " 1   review  16511 non-null  object\n",
      "dtypes: int64(1), object(1)\n",
      "memory usage: 258.1+ KB\n"
     ]
    }
   ]
  },
  {
   "cell_type": "code",
   "execution_count": 1130,
   "outputs": [
    {
     "data": {
      "text/plain": "   rating                                             review\n0       1  Its hard to find words that can describe this ...\n1       1  Absolutely terrible. Cracked ceiling, tiny roo...\n2       1  Very disappointed firstly i checked in online ...\n3       1  First of all we arrived wanting to park at the...\n4       1  Hello,  I currently staying @ Hilton Metropole...",
      "text/html": "<div>\n<style scoped>\n    .dataframe tbody tr th:only-of-type {\n        vertical-align: middle;\n    }\n\n    .dataframe tbody tr th {\n        vertical-align: top;\n    }\n\n    .dataframe thead th {\n        text-align: right;\n    }\n</style>\n<table border=\"1\" class=\"dataframe\">\n  <thead>\n    <tr style=\"text-align: right;\">\n      <th></th>\n      <th>rating</th>\n      <th>review</th>\n    </tr>\n  </thead>\n  <tbody>\n    <tr>\n      <th>0</th>\n      <td>1</td>\n      <td>Its hard to find words that can describe this ...</td>\n    </tr>\n    <tr>\n      <th>1</th>\n      <td>1</td>\n      <td>Absolutely terrible. Cracked ceiling, tiny roo...</td>\n    </tr>\n    <tr>\n      <th>2</th>\n      <td>1</td>\n      <td>Very disappointed firstly i checked in online ...</td>\n    </tr>\n    <tr>\n      <th>3</th>\n      <td>1</td>\n      <td>First of all we arrived wanting to park at the...</td>\n    </tr>\n    <tr>\n      <th>4</th>\n      <td>1</td>\n      <td>Hello,  I currently staying @ Hilton Metropole...</td>\n    </tr>\n  </tbody>\n</table>\n</div>"
     },
     "execution_count": 1130,
     "metadata": {},
     "output_type": "execute_result"
    }
   ],
   "source": [
    "df.head()"
   ],
   "metadata": {
    "collapsed": false,
    "pycharm": {
     "name": "#%%\n"
    }
   }
  },
  {
   "cell_type": "markdown",
   "source": [
    "# One Hot Encoding Scores Column"
   ],
   "metadata": {
    "collapsed": false
   }
  },
  {
   "cell_type": "markdown",
   "source": [
    "Veri setimiz model kurmaya uygun olmadığından ve 1 ila 5 arasında puan çıktısına sahip olmak açısından one hot encoding uygulamak istedim."
   ],
   "metadata": {
    "collapsed": false,
    "pycharm": {
     "name": "#%% md\n"
    }
   }
  },
  {
   "cell_type": "code",
   "source": [
    "enc = OneHotEncoder(handle_unknown='ignore')\n",
    "\n",
    "enc_df = pd.DataFrame(enc.fit_transform(df[['rating']]).toarray())\n",
    "\n",
    "df = df.join(enc_df)\n",
    "df = df.rename(columns={0: \"rating_1\", 1:'rating_2',2:'rating_3',3:'rating_4',4:'rating_5'})\n",
    "df.head()"
   ],
   "metadata": {
    "colab": {
     "base_uri": "https://localhost:8080/",
     "height": 206
    },
    "id": "cMMY1kf2xKbF",
    "executionInfo": {
     "status": "ok",
     "timestamp": 1660506613545,
     "user_tz": -180,
     "elapsed": 429,
     "user": {
      "displayName": "Serkan",
      "userId": "13266514479312701423"
     }
    },
    "outputId": "d06737b2-dcf4-4293-e377-2c2fdb0b7fa7"
   },
   "execution_count": 1131,
   "outputs": [
    {
     "data": {
      "text/plain": "   rating                                             review  rating_1  \\\n0       1  Its hard to find words that can describe this ...       1.0   \n1       1  Absolutely terrible. Cracked ceiling, tiny roo...       1.0   \n2       1  Very disappointed firstly i checked in online ...       1.0   \n3       1  First of all we arrived wanting to park at the...       1.0   \n4       1  Hello,  I currently staying @ Hilton Metropole...       1.0   \n\n   rating_2  rating_3  rating_4  rating_5  \n0       0.0       0.0       0.0       0.0  \n1       0.0       0.0       0.0       0.0  \n2       0.0       0.0       0.0       0.0  \n3       0.0       0.0       0.0       0.0  \n4       0.0       0.0       0.0       0.0  ",
      "text/html": "<div>\n<style scoped>\n    .dataframe tbody tr th:only-of-type {\n        vertical-align: middle;\n    }\n\n    .dataframe tbody tr th {\n        vertical-align: top;\n    }\n\n    .dataframe thead th {\n        text-align: right;\n    }\n</style>\n<table border=\"1\" class=\"dataframe\">\n  <thead>\n    <tr style=\"text-align: right;\">\n      <th></th>\n      <th>rating</th>\n      <th>review</th>\n      <th>rating_1</th>\n      <th>rating_2</th>\n      <th>rating_3</th>\n      <th>rating_4</th>\n      <th>rating_5</th>\n    </tr>\n  </thead>\n  <tbody>\n    <tr>\n      <th>0</th>\n      <td>1</td>\n      <td>Its hard to find words that can describe this ...</td>\n      <td>1.0</td>\n      <td>0.0</td>\n      <td>0.0</td>\n      <td>0.0</td>\n      <td>0.0</td>\n    </tr>\n    <tr>\n      <th>1</th>\n      <td>1</td>\n      <td>Absolutely terrible. Cracked ceiling, tiny roo...</td>\n      <td>1.0</td>\n      <td>0.0</td>\n      <td>0.0</td>\n      <td>0.0</td>\n      <td>0.0</td>\n    </tr>\n    <tr>\n      <th>2</th>\n      <td>1</td>\n      <td>Very disappointed firstly i checked in online ...</td>\n      <td>1.0</td>\n      <td>0.0</td>\n      <td>0.0</td>\n      <td>0.0</td>\n      <td>0.0</td>\n    </tr>\n    <tr>\n      <th>3</th>\n      <td>1</td>\n      <td>First of all we arrived wanting to park at the...</td>\n      <td>1.0</td>\n      <td>0.0</td>\n      <td>0.0</td>\n      <td>0.0</td>\n      <td>0.0</td>\n    </tr>\n    <tr>\n      <th>4</th>\n      <td>1</td>\n      <td>Hello,  I currently staying @ Hilton Metropole...</td>\n      <td>1.0</td>\n      <td>0.0</td>\n      <td>0.0</td>\n      <td>0.0</td>\n      <td>0.0</td>\n    </tr>\n  </tbody>\n</table>\n</div>"
     },
     "execution_count": 1131,
     "metadata": {},
     "output_type": "execute_result"
    }
   ]
  },
  {
   "cell_type": "code",
   "execution_count": 1132,
   "outputs": [
    {
     "data": {
      "text/plain": "   rating                                             review  rating_1  \\\n0       1  Its hard to find words that can describe this ...       1.0   \n1       1  Absolutely terrible. Cracked ceiling, tiny roo...       1.0   \n2       1  Very disappointed firstly i checked in online ...       1.0   \n3       1  First of all we arrived wanting to park at the...       1.0   \n4       1  Hello,  I currently staying @ Hilton Metropole...       1.0   \n\n   rating_2  rating_3  rating_4  rating_5  \n0       0.0       0.0       0.0       0.0  \n1       0.0       0.0       0.0       0.0  \n2       0.0       0.0       0.0       0.0  \n3       0.0       0.0       0.0       0.0  \n4       0.0       0.0       0.0       0.0  ",
      "text/html": "<div>\n<style scoped>\n    .dataframe tbody tr th:only-of-type {\n        vertical-align: middle;\n    }\n\n    .dataframe tbody tr th {\n        vertical-align: top;\n    }\n\n    .dataframe thead th {\n        text-align: right;\n    }\n</style>\n<table border=\"1\" class=\"dataframe\">\n  <thead>\n    <tr style=\"text-align: right;\">\n      <th></th>\n      <th>rating</th>\n      <th>review</th>\n      <th>rating_1</th>\n      <th>rating_2</th>\n      <th>rating_3</th>\n      <th>rating_4</th>\n      <th>rating_5</th>\n    </tr>\n  </thead>\n  <tbody>\n    <tr>\n      <th>0</th>\n      <td>1</td>\n      <td>Its hard to find words that can describe this ...</td>\n      <td>1.0</td>\n      <td>0.0</td>\n      <td>0.0</td>\n      <td>0.0</td>\n      <td>0.0</td>\n    </tr>\n    <tr>\n      <th>1</th>\n      <td>1</td>\n      <td>Absolutely terrible. Cracked ceiling, tiny roo...</td>\n      <td>1.0</td>\n      <td>0.0</td>\n      <td>0.0</td>\n      <td>0.0</td>\n      <td>0.0</td>\n    </tr>\n    <tr>\n      <th>2</th>\n      <td>1</td>\n      <td>Very disappointed firstly i checked in online ...</td>\n      <td>1.0</td>\n      <td>0.0</td>\n      <td>0.0</td>\n      <td>0.0</td>\n      <td>0.0</td>\n    </tr>\n    <tr>\n      <th>3</th>\n      <td>1</td>\n      <td>First of all we arrived wanting to park at the...</td>\n      <td>1.0</td>\n      <td>0.0</td>\n      <td>0.0</td>\n      <td>0.0</td>\n      <td>0.0</td>\n    </tr>\n    <tr>\n      <th>4</th>\n      <td>1</td>\n      <td>Hello,  I currently staying @ Hilton Metropole...</td>\n      <td>1.0</td>\n      <td>0.0</td>\n      <td>0.0</td>\n      <td>0.0</td>\n      <td>0.0</td>\n    </tr>\n  </tbody>\n</table>\n</div>"
     },
     "execution_count": 1132,
     "metadata": {},
     "output_type": "execute_result"
    }
   ],
   "source": [
    "df.head()"
   ],
   "metadata": {
    "collapsed": false,
    "pycharm": {
     "name": "#%%\n"
    }
   }
  },
  {
   "cell_type": "code",
   "execution_count": 1133,
   "outputs": [
    {
     "data": {
      "text/plain": "(16511, 7)"
     },
     "execution_count": 1133,
     "metadata": {},
     "output_type": "execute_result"
    }
   ],
   "source": [
    "df.shape"
   ],
   "metadata": {
    "collapsed": false,
    "pycharm": {
     "name": "#%%\n"
    }
   }
  },
  {
   "cell_type": "markdown",
   "source": [
    "# Train - Test Split"
   ],
   "metadata": {
    "id": "N_yzTznxxx8b"
   }
  },
  {
   "cell_type": "markdown",
   "source": [
    "#   Noktalama işaretlerini Kaldırılması ve Tokanization Yapılması"
   ],
   "metadata": {
    "id": "Bvu_heQc6LLf"
   }
  },
  {
   "cell_type": "code",
   "execution_count": 1134,
   "outputs": [],
   "source": [
    "from nltk.tokenize import RegexpTokenizer\n",
    "tokenizer = RegexpTokenizer(r'[a-zA-Z]+')\n",
    "\n",
    "def text_cleanup(text):\n",
    "\n",
    "    token_list = tokenizer.tokenize(text.lower())\n",
    "    new_text = ''\n",
    "    for word in token_list:\n",
    "        new_text += word + ' '\n",
    "\n",
    "    return new_text"
   ],
   "metadata": {
    "collapsed": false,
    "pycharm": {
     "name": "#%%\n"
    }
   }
  },
  {
   "cell_type": "code",
   "source": [
    "df['review_cleaned'] = df['review'].apply(text_cleanup)"
   ],
   "metadata": {
    "id": "53z2KkPJ6MzV",
    "executionInfo": {
     "status": "ok",
     "timestamp": 1660506679148,
     "user_tz": -180,
     "elapsed": 1703,
     "user": {
      "displayName": "Serkan",
      "userId": "13266514479312701423"
     }
    }
   },
   "execution_count": 1135,
   "outputs": []
  },
  {
   "cell_type": "code",
   "source": [
    "review_index = 2000\n",
    "print('REVİEW:', df['review'].iloc[review_index],)\n",
    "print('REVİEW_CLEANED', df['review_cleaned'].iloc[review_index])"
   ],
   "metadata": {
    "colab": {
     "base_uri": "https://localhost:8080/",
     "height": 206
    },
    "id": "8YKHpqVS6M1m",
    "executionInfo": {
     "status": "ok",
     "timestamp": 1660506685752,
     "user_tz": -180,
     "elapsed": 686,
     "user": {
      "displayName": "Serkan",
      "userId": "13266514479312701423"
     }
    },
    "outputId": "d0657400-2517-406f-cd58-c63b9935fa7a"
   },
   "execution_count": 1136,
   "outputs": [
    {
     "name": "stdout",
     "output_type": "stream",
     "text": [
      "REVİEW: Paid £120 for a room for 10 hours occupation pre flight . We expected a comfortable bed, decent room and facilities.  Its the worst bed we have ever had the occasion to sleep in except we did not sleep at all.  The mattress was so lumpy. The matress did not fit on the  box frame and every time you got out of the bed you banged your legs, resulting in bruises. No drinks facility in the room. Should be internet access in room and not have go into the lobby. Never again at this hotel. Its totally put us off staying at any other Hilton hotels.\n",
      "REVİEW_CLEANED paid for a room for hours occupation pre flight we expected a comfortable bed decent room and facilities its the worst bed we have ever had the occasion to sleep in except we did not sleep at all the mattress was so lumpy the matress did not fit on the box frame and every time you got out of the bed you banged your legs resulting in bruises no drinks facility in the room should be internet access in room and not have go into the lobby never again at this hotel its totally put us off staying at any other hilton hotels \n"
     ]
    }
   ]
  },
  {
   "cell_type": "code",
   "execution_count": 1137,
   "outputs": [
    {
     "data": {
      "text/plain": "   rating                                             review  rating_1  \\\n0       1  Its hard to find words that can describe this ...       1.0   \n1       1  Absolutely terrible. Cracked ceiling, tiny roo...       1.0   \n2       1  Very disappointed firstly i checked in online ...       1.0   \n3       1  First of all we arrived wanting to park at the...       1.0   \n4       1  Hello,  I currently staying @ Hilton Metropole...       1.0   \n\n   rating_2  rating_3  rating_4  rating_5  \\\n0       0.0       0.0       0.0       0.0   \n1       0.0       0.0       0.0       0.0   \n2       0.0       0.0       0.0       0.0   \n3       0.0       0.0       0.0       0.0   \n4       0.0       0.0       0.0       0.0   \n\n                                      review_cleaned  \n0  its hard to find words that can describe this ...  \n1  absolutely terrible cracked ceiling tiny room ...  \n2  very disappointed firstly i checked in online ...  \n3  first of all we arrived wanting to park at the...  \n4  hello i currently staying hilton metropole in ...  ",
      "text/html": "<div>\n<style scoped>\n    .dataframe tbody tr th:only-of-type {\n        vertical-align: middle;\n    }\n\n    .dataframe tbody tr th {\n        vertical-align: top;\n    }\n\n    .dataframe thead th {\n        text-align: right;\n    }\n</style>\n<table border=\"1\" class=\"dataframe\">\n  <thead>\n    <tr style=\"text-align: right;\">\n      <th></th>\n      <th>rating</th>\n      <th>review</th>\n      <th>rating_1</th>\n      <th>rating_2</th>\n      <th>rating_3</th>\n      <th>rating_4</th>\n      <th>rating_5</th>\n      <th>review_cleaned</th>\n    </tr>\n  </thead>\n  <tbody>\n    <tr>\n      <th>0</th>\n      <td>1</td>\n      <td>Its hard to find words that can describe this ...</td>\n      <td>1.0</td>\n      <td>0.0</td>\n      <td>0.0</td>\n      <td>0.0</td>\n      <td>0.0</td>\n      <td>its hard to find words that can describe this ...</td>\n    </tr>\n    <tr>\n      <th>1</th>\n      <td>1</td>\n      <td>Absolutely terrible. Cracked ceiling, tiny roo...</td>\n      <td>1.0</td>\n      <td>0.0</td>\n      <td>0.0</td>\n      <td>0.0</td>\n      <td>0.0</td>\n      <td>absolutely terrible cracked ceiling tiny room ...</td>\n    </tr>\n    <tr>\n      <th>2</th>\n      <td>1</td>\n      <td>Very disappointed firstly i checked in online ...</td>\n      <td>1.0</td>\n      <td>0.0</td>\n      <td>0.0</td>\n      <td>0.0</td>\n      <td>0.0</td>\n      <td>very disappointed firstly i checked in online ...</td>\n    </tr>\n    <tr>\n      <th>3</th>\n      <td>1</td>\n      <td>First of all we arrived wanting to park at the...</td>\n      <td>1.0</td>\n      <td>0.0</td>\n      <td>0.0</td>\n      <td>0.0</td>\n      <td>0.0</td>\n      <td>first of all we arrived wanting to park at the...</td>\n    </tr>\n    <tr>\n      <th>4</th>\n      <td>1</td>\n      <td>Hello,  I currently staying @ Hilton Metropole...</td>\n      <td>1.0</td>\n      <td>0.0</td>\n      <td>0.0</td>\n      <td>0.0</td>\n      <td>0.0</td>\n      <td>hello i currently staying hilton metropole in ...</td>\n    </tr>\n  </tbody>\n</table>\n</div>"
     },
     "execution_count": 1137,
     "metadata": {},
     "output_type": "execute_result"
    }
   ],
   "source": [
    "df.head()"
   ],
   "metadata": {
    "collapsed": false,
    "pycharm": {
     "name": "#%%\n"
    }
   }
  },
  {
   "cell_type": "code",
   "execution_count": 1138,
   "outputs": [
    {
     "data": {
      "text/plain": "<AxesSubplot:>"
     },
     "execution_count": 1138,
     "metadata": {},
     "output_type": "execute_result"
    },
    {
     "data": {
      "text/plain": "<Figure size 432x288 with 1 Axes>",
      "image/png": "[encoded data removed]"
     },
     "metadata": {
      "needs_background": "light"
     },
     "output_type": "display_data"
    }
   ],
   "source": [
    "df['count'] = df['review_cleaned'].str.count(' ') + 1\n",
    "indexNames = df[df['count'] >= 200 ].index\n",
    "df.drop(indexNames , inplace=True)\n",
    "df['count'].hist()"
   ],
   "metadata": {
    "collapsed": false,
    "pycharm": {
     "name": "#%%\n"
    }
   }
  },
  {
   "cell_type": "code",
   "execution_count": 1139,
   "outputs": [],
   "source": [
    "x_train, x_test, y_train, y_test = train_test_split(df[['review_cleaned']],\n",
    "                                                    df[['rating_1','rating_2','rating_3','rating_4','rating_5']],\n",
    "                                                    test_size=.2,\n",
    "                                                    random_state=42)"
   ],
   "metadata": {
    "collapsed": false,
    "pycharm": {
     "name": "#%%\n"
    }
   }
  },
  {
   "cell_type": "markdown",
   "source": [
    "# Her bir kelimenin flat şekilde ayrılması"
   ],
   "metadata": {
    "id": "QbGtI8oO6UPV"
   }
  },
  {
   "cell_type": "code",
   "source": [
    "flat_review = \" \".join(x_train['review_cleaned'].values)\n",
    "flat_review = flat_review.lower().split()"
   ],
   "metadata": {
    "id": "hp4S1XLi6W_d",
    "executionInfo": {
     "status": "ok",
     "timestamp": 1660506718727,
     "user_tz": -180,
     "elapsed": 442,
     "user": {
      "displayName": "Serkan",
      "userId": "13266514479312701423"
     }
    }
   },
   "execution_count": 1140,
   "outputs": []
  },
  {
   "cell_type": "code",
   "execution_count": 1141,
   "outputs": [],
   "source": [
    "#flat_review"
   ],
   "metadata": {
    "collapsed": false,
    "pycharm": {
     "name": "#%%\n"
    }
   }
  },
  {
   "cell_type": "code",
   "source": [
    "len(flat_review)"
   ],
   "metadata": {
    "colab": {
     "base_uri": "https://localhost:8080/"
    },
    "id": "7pEBEDxT6XBm",
    "executionInfo": {
     "status": "ok",
     "timestamp": 1660506721346,
     "user_tz": -180,
     "elapsed": 462,
     "user": {
      "displayName": "Serkan",
      "userId": "13266514479312701423"
     }
    },
    "outputId": "47f95ad8-a544-4dc5-9e05-cbacbf3dd3db"
   },
   "execution_count": 1142,
   "outputs": [
    {
     "data": {
      "text/plain": "1147541"
     },
     "execution_count": 1142,
     "metadata": {},
     "output_type": "execute_result"
    }
   ]
  },
  {
   "cell_type": "markdown",
   "source": [
    "Aynı kelimelerin tamamen kaldırıp uniqe bir veri oluşturulması"
   ],
   "metadata": {
    "collapsed": false,
    "pycharm": {
     "name": "#%% md\n"
    }
   }
  },
  {
   "cell_type": "code",
   "source": [
    "unique_list = []\n",
    "for word in flat_review:\n",
    "    if word not in unique_list:\n",
    "        unique_list.append(word)"
   ],
   "metadata": {
    "id": "JUfhdZJj6emN",
    "executionInfo": {
     "status": "ok",
     "timestamp": 1660507340671,
     "user_tz": -180,
     "elapsed": 189790,
     "user": {
      "displayName": "Serkan",
      "userId": "13266514479312701423"
     }
    }
   },
   "execution_count": 1143,
   "outputs": []
  },
  {
   "cell_type": "code",
   "source": [
    "len(unique_list)"
   ],
   "metadata": {
    "id": "VGPcKEhj6q3M",
    "executionInfo": {
     "status": "aborted",
     "timestamp": 1660507131135,
     "user_tz": -180,
     "elapsed": 16,
     "user": {
      "displayName": "Serkan",
      "userId": "13266514479312701423"
     }
    }
   },
   "execution_count": 1144,
   "outputs": [
    {
     "data": {
      "text/plain": "26399"
     },
     "execution_count": 1144,
     "metadata": {},
     "output_type": "execute_result"
    }
   ]
  },
  {
   "cell_type": "code",
   "source": [
    "word_index_dict = {}\n",
    "for i in range(0,len(unique_list)):\n",
    "    word_index_dict[unique_list[i]] = i"
   ],
   "metadata": {
    "id": "OKl368nK6sO-",
    "executionInfo": {
     "status": "aborted",
     "timestamp": 1660507131138,
     "user_tz": -180,
     "elapsed": 18,
     "user": {
      "displayName": "Serkan",
      "userId": "13266514479312701423"
     }
    }
   },
   "execution_count": 1145,
   "outputs": []
  },
  {
   "cell_type": "code",
   "execution_count": 1146,
   "outputs": [],
   "source": [
    " #word_index_dict"
   ],
   "metadata": {
    "collapsed": false,
    "pycharm": {
     "name": "#%%\n"
    }
   }
  },
  {
   "cell_type": "code",
   "execution_count": 1147,
   "outputs": [],
   "source": [
    "#word_index_dict.items()"
   ],
   "metadata": {
    "collapsed": false,
    "pycharm": {
     "name": "#%%\n"
    }
   }
  },
  {
   "cell_type": "code",
   "source": [
    "word_index_dict = {k:(v+4) for k,v in word_index_dict.items()}\n",
    "word_index_dict['<PAD>'] = 0\n",
    "word_index_dict['<START>'] = 1\n",
    "word_index_dict['<UNK>'] = 2  #Unkown Words\n",
    "word_index_dict['<UNUSED>'] = 3"
   ],
   "metadata": {
    "id": "XJ8H-xjU6teU",
    "executionInfo": {
     "status": "aborted",
     "timestamp": 1660507131139,
     "user_tz": -180,
     "elapsed": 19,
     "user": {
      "displayName": "Serkan",
      "userId": "13266514479312701423"
     }
    }
   },
   "execution_count": 1148,
   "outputs": []
  },
  {
   "cell_type": "code",
   "execution_count": 1149,
   "outputs": [
    {
     "data": {
      "text/plain": "26403"
     },
     "execution_count": 1149,
     "metadata": {},
     "output_type": "execute_result"
    }
   ],
   "source": [
    "len(word_index_dict)"
   ],
   "metadata": {
    "collapsed": false,
    "pycharm": {
     "name": "#%%\n"
    }
   }
  },
  {
   "cell_type": "markdown",
   "source": [
    "# Indexing Words in Reviews Using Dictionary"
   ],
   "metadata": {
    "id": "Ul5ocJMi6wv-"
   }
  },
  {
   "cell_type": "code",
   "source": [
    "def index_review_words(text):\n",
    "    review_word_list = []\n",
    "    for word in text.lower().split():\n",
    "        if word in word_index_dict.keys():\n",
    "            review_word_list.append(word_index_dict[word])\n",
    "        else:\n",
    "            review_word_list.append(word_index_dict['<UNK>'])\n",
    "\n",
    "    return review_word_list"
   ],
   "metadata": {
    "id": "8i7YBBmJ6yUl",
    "executionInfo": {
     "status": "aborted",
     "timestamp": 1660507131140,
     "user_tz": -180,
     "elapsed": 17,
     "user": {
      "displayName": "Serkan",
      "userId": "13266514479312701423"
     }
    }
   },
   "execution_count": 1150,
   "outputs": []
  },
  {
   "cell_type": "code",
   "execution_count": 1151,
   "outputs": [],
   "source": [
    "x_train['preprocessed_review'] = x_train['review_cleaned'].apply(index_review_words)\n",
    "x_test['preprocessed_review'] = x_test['review_cleaned'].apply(index_review_words)"
   ],
   "metadata": {
    "collapsed": false,
    "pycharm": {
     "name": "#%%\n"
    }
   }
  },
  {
   "cell_type": "code",
   "source": [
    "x_train.head()"
   ],
   "metadata": {
    "id": "I3QAoUWV7IfO"
   },
   "execution_count": 1152,
   "outputs": [
    {
     "data": {
      "text/plain": "                                          review_cleaned  \\\n13814  satisfied visit sydney travel agent recommende...   \n1945   the good thing about the hotel is the location...   \n10452  disappointment stayed worst room hotel view in...   \n11423  american stay away just got amsterdam loved st...   \n4790   overall the room wasn t clean rusty bath stain...   \n\n                                     preprocessed_review  \n13814  [4, 5, 6, 7, 8, 9, 10, 11, 12, 13, 14, 15, 16,...  \n1945   [79, 80, 81, 82, 79, 39, 83, 79, 36, 84, 85, 8...  \n10452  [152, 130, 23, 30, 39, 32, 153, 154, 155, 156,...  \n11423  [176, 144, 177, 178, 57, 179, 180, 144, 181, 3...  \n4790   [142, 79, 30, 209, 188, 97, 210, 211, 212, 101...  ",
      "text/html": "<div>\n<style scoped>\n    .dataframe tbody tr th:only-of-type {\n        vertical-align: middle;\n    }\n\n    .dataframe tbody tr th {\n        vertical-align: top;\n    }\n\n    .dataframe thead th {\n        text-align: right;\n    }\n</style>\n<table border=\"1\" class=\"dataframe\">\n  <thead>\n    <tr style=\"text-align: right;\">\n      <th></th>\n      <th>review_cleaned</th>\n      <th>preprocessed_review</th>\n    </tr>\n  </thead>\n  <tbody>\n    <tr>\n      <th>13814</th>\n      <td>satisfied visit sydney travel agent recommende...</td>\n      <td>[4, 5, 6, 7, 8, 9, 10, 11, 12, 13, 14, 15, 16,...</td>\n    </tr>\n    <tr>\n      <th>1945</th>\n      <td>the good thing about the hotel is the location...</td>\n      <td>[79, 80, 81, 82, 79, 39, 83, 79, 36, 84, 85, 8...</td>\n    </tr>\n    <tr>\n      <th>10452</th>\n      <td>disappointment stayed worst room hotel view in...</td>\n      <td>[152, 130, 23, 30, 39, 32, 153, 154, 155, 156,...</td>\n    </tr>\n    <tr>\n      <th>11423</th>\n      <td>american stay away just got amsterdam loved st...</td>\n      <td>[176, 144, 177, 178, 57, 179, 180, 144, 181, 3...</td>\n    </tr>\n    <tr>\n      <th>4790</th>\n      <td>overall the room wasn t clean rusty bath stain...</td>\n      <td>[142, 79, 30, 209, 188, 97, 210, 211, 212, 101...</td>\n    </tr>\n  </tbody>\n</table>\n</div>"
     },
     "execution_count": 1152,
     "metadata": {},
     "output_type": "execute_result"
    }
   ]
  },
  {
   "cell_type": "code",
   "execution_count": 1153,
   "outputs": [
    {
     "data": {
      "text/plain": "count       12497\nunique      12495\ntop       [19339]\nfreq            2\nName: preprocessed_review, dtype: object"
     },
     "execution_count": 1153,
     "metadata": {},
     "output_type": "execute_result"
    }
   ],
   "source": [
    "x_train['preprocessed_review'].describe()"
   ],
   "metadata": {
    "collapsed": false,
    "pycharm": {
     "name": "#%%\n"
    }
   }
  },
  {
   "cell_type": "code",
   "execution_count": 1154,
   "outputs": [
    {
     "data": {
      "text/plain": "(12497,)"
     },
     "execution_count": 1154,
     "metadata": {},
     "output_type": "execute_result"
    }
   ],
   "source": [
    "x_train['preprocessed_review'].shape"
   ],
   "metadata": {
    "collapsed": false,
    "pycharm": {
     "name": "#%%\n"
    }
   }
  },
  {
   "cell_type": "raw",
   "source": [
    "# 5.9 Modelling"
   ],
   "metadata": {
    "collapsed": false,
    "pycharm": {
     "name": "#%% raw\n"
    }
   }
  },
  {
   "cell_type": "code",
   "execution_count": 1155,
   "outputs": [],
   "source": [
    "from keras_preprocessing.sequence import pad_sequences\n",
    "\n",
    "x_train = pad_sequences(x_train['preprocessed_review'],value=word_index_dict['<PAD>'],padding='post',maxlen=200)  #value=0\n",
    "x_test = pad_sequences(x_test['preprocessed_review'],value=word_index_dict['<PAD>'],padding='post',maxlen=200)"
   ],
   "metadata": {
    "collapsed": false,
    "pycharm": {
     "name": "#%%\n"
    }
   }
  },
  {
   "cell_type": "code",
   "execution_count": 1156,
   "outputs": [
    {
     "data": {
      "text/plain": "(12497, 200)"
     },
     "execution_count": 1156,
     "metadata": {},
     "output_type": "execute_result"
    }
   ],
   "source": [
    "x_train.shape"
   ],
   "metadata": {
    "collapsed": false,
    "pycharm": {
     "name": "#%%\n"
    }
   }
  },
  {
   "cell_type": "markdown",
   "source": [
    "# Creating Neural Network Model"
   ],
   "metadata": {
    "collapsed": false,
    "pycharm": {
     "name": "#%% md\n"
    }
   }
  },
  {
   "cell_type": "code",
   "execution_count": 1157,
   "outputs": [],
   "source": [
    "np.save(r'C:\\Users\\lenovo\\PycharmProjects\\pythonProject2\\Data\\Neural_Networks\\x_test',x_test)"
   ],
   "metadata": {
    "collapsed": false,
    "pycharm": {
     "name": "#%%\n"
    }
   }
  },
  {
   "cell_type": "code",
   "execution_count": 1158,
   "outputs": [
    {
     "data": {
      "text/plain": "(12497, 5)"
     },
     "execution_count": 1158,
     "metadata": {},
     "output_type": "execute_result"
    }
   ],
   "source": [
    "y_train.shape"
   ],
   "metadata": {
    "collapsed": false,
    "pycharm": {
     "name": "#%%\n"
    }
   }
  },
  {
   "cell_type": "code",
   "execution_count": 1159,
   "outputs": [
    {
     "data": {
      "text/plain": "(3125, 200)"
     },
     "execution_count": 1159,
     "metadata": {},
     "output_type": "execute_result"
    }
   ],
   "source": [
    "x_test.shape"
   ],
   "metadata": {
    "collapsed": false,
    "pycharm": {
     "name": "#%%\n"
    }
   }
  },
  {
   "cell_type": "code",
   "execution_count": 1160,
   "outputs": [
    {
     "data": {
      "text/plain": "(3125, 5)"
     },
     "execution_count": 1160,
     "metadata": {},
     "output_type": "execute_result"
    }
   ],
   "source": [
    "y_test.shape"
   ],
   "metadata": {
    "collapsed": false,
    "pycharm": {
     "name": "#%%\n"
    }
   }
  },
  {
   "cell_type": "code",
   "execution_count": 1161,
   "outputs": [],
   "source": [
    "x_train, x_val, y_train, y_val = train_test_split(x_train,y_train,test_size=.4,random_state=42)"
   ],
   "metadata": {
    "collapsed": false,
    "pycharm": {
     "name": "#%%\n"
    }
   }
  },
  {
   "cell_type": "code",
   "execution_count": 1162,
   "outputs": [
    {
     "name": "stdout",
     "output_type": "stream",
     "text": [
      "Epoch 1/16\n",
      "30/30 [==============================] - 3s 85ms/step - loss: 1.6059 - accuracy: 0.2138 - val_loss: 1.5977 - val_accuracy: 0.2677\n",
      "Epoch 2/16\n",
      "30/30 [==============================] - 2s 80ms/step - loss: 1.5913 - accuracy: 0.2351 - val_loss: 1.5766 - val_accuracy: 0.2480\n",
      "Epoch 3/16\n",
      "30/30 [==============================] - 2s 82ms/step - loss: 1.5650 - accuracy: 0.2591 - val_loss: 1.5403 - val_accuracy: 0.3625\n",
      "Epoch 4/16\n",
      "30/30 [==============================] - 3s 84ms/step - loss: 1.5185 - accuracy: 0.2862 - val_loss: 1.4766 - val_accuracy: 0.3901\n",
      "Epoch 5/16\n",
      "30/30 [==============================] - 3s 83ms/step - loss: 1.4535 - accuracy: 0.3221 - val_loss: 1.3918 - val_accuracy: 0.4287\n",
      "Epoch 6/16\n",
      "30/30 [==============================] - 2s 82ms/step - loss: 1.3631 - accuracy: 0.3710 - val_loss: 1.2867 - val_accuracy: 0.4713\n",
      "Epoch 7/16\n",
      "30/30 [==============================] - 3s 85ms/step - loss: 1.2845 - accuracy: 0.3992 - val_loss: 1.2056 - val_accuracy: 0.4867\n",
      "Epoch 8/16\n",
      "30/30 [==============================] - 2s 83ms/step - loss: 1.2191 - accuracy: 0.4190 - val_loss: 1.1523 - val_accuracy: 0.5039\n",
      "Epoch 9/16\n",
      "30/30 [==============================] - 2s 82ms/step - loss: 1.1772 - accuracy: 0.4385 - val_loss: 1.1210 - val_accuracy: 0.5017\n",
      "Epoch 10/16\n",
      "30/30 [==============================] - 3s 84ms/step - loss: 1.1345 - accuracy: 0.4587 - val_loss: 1.0966 - val_accuracy: 0.5047\n",
      "Epoch 11/16\n",
      "30/30 [==============================] - 3s 93ms/step - loss: 1.0972 - accuracy: 0.4735 - val_loss: 1.0721 - val_accuracy: 0.5263\n",
      "Epoch 12/16\n",
      "30/30 [==============================] - 3s 85ms/step - loss: 1.0631 - accuracy: 0.4881 - val_loss: 1.0604 - val_accuracy: 0.5191\n",
      "Epoch 13/16\n",
      "30/30 [==============================] - 3s 87ms/step - loss: 1.0374 - accuracy: 0.5015 - val_loss: 1.0500 - val_accuracy: 0.5223\n",
      "Epoch 14/16\n",
      "30/30 [==============================] - 3s 87ms/step - loss: 1.0144 - accuracy: 0.5132 - val_loss: 1.0438 - val_accuracy: 0.5361\n",
      "Epoch 15/16\n",
      "30/30 [==============================] - 3s 88ms/step - loss: 0.9944 - accuracy: 0.5296 - val_loss: 1.0413 - val_accuracy: 0.5305\n",
      "Epoch 16/16\n",
      "30/30 [==============================] - 3s 85ms/step - loss: 0.9678 - accuracy: 0.5397 - val_loss: 1.0410 - val_accuracy: 0.5357\n"
     ]
    }
   ],
   "source": [
    "from tensorflow.keras import regularizers\n",
    "from tensorflow.keras import layers\n",
    "from tensorflow.python.keras.layers import AveragePooling1D\n",
    "##\n",
    "unique_list_len = len(word_index_dict) + 4\n",
    "##kernel_regularizer=regularizers.l2(0.03),\n",
    "##\n",
    "model = keras.Sequential([\n",
    "    Embedding(unique_list_len, 256),\n",
    "    GlobalAveragePooling1D(),\n",
    "    layers.Dropout(0.1),\n",
    "    layers.Dense(8,\n",
    "                 activation='relu'),\n",
    "    layers.Dropout(0.2),\n",
    "    layers.Dense(8,\n",
    "                 activation='relu'),\n",
    "    layers.Dropout(0.3),\n",
    "    layers.Dense(5,activation=\"softmax\"),\n",
    "])\n",
    "optimizer= tf.keras.optimizers.Adam(\n",
    "        learning_rate=0.9,\n",
    ")\n",
    "model.compile(optimizer='adam',\n",
    "              loss=\"categorical_crossentropy\",\n",
    "              metrics=[\"accuracy\"])\n",
    "history = model.fit(\n",
    "    x_train, y_train,\n",
    "    epochs=16,\n",
    "    batch_size=250,\n",
    "    validation_data=(x_val,y_val))"
   ],
   "metadata": {
    "collapsed": false,
    "pycharm": {
     "name": "#%%\n"
    }
   }
  },
  {
   "cell_type": "code",
   "execution_count": 1163,
   "outputs": [
    {
     "data": {
      "text/plain": "<Figure size 432x288 with 1 Axes>",
      "image/png": "[encoded data removed]"
     },
     "metadata": {
      "needs_background": "light"
     },
     "output_type": "display_data"
    }
   ],
   "source": [
    "history_dict = history.history\n",
    "history_dict.keys()\n",
    "\n",
    "import matplotlib.pyplot as plt\n",
    "history_dict = history.history\n",
    "\n",
    "loss_values = history_dict[\"loss\"]\n",
    "val_loss_values = history_dict[\"val_loss\"]\n",
    "epochs = range(1, len(loss_values) + 1)\n",
    "plt.plot(epochs, loss_values, \"bo\", label=\"Training loss\")\n",
    "plt.plot(epochs, val_loss_values, \"b\", label=\"Validation loss\")\n",
    "plt.title(\"Training and validation loss\")\n",
    "plt.xlabel(\"Epochs\")\n",
    "plt.ylabel(\"Loss\")\n",
    "plt.legend()\n",
    "plt.show()"
   ],
   "metadata": {
    "collapsed": false,
    "pycharm": {
     "name": "#%%\n"
    }
   }
  },
  {
   "cell_type": "code",
   "execution_count": 1164,
   "outputs": [
    {
     "data": {
      "text/plain": "<Figure size 432x288 with 1 Axes>",
      "image/png": "[encoded data removed]"
     },
     "metadata": {
      "needs_background": "light"
     },
     "output_type": "display_data"
    }
   ],
   "source": [
    "plt.clf()\n",
    "acc = history.history[\"accuracy\"]\n",
    "val_acc = history.history[\"val_accuracy\"]\n",
    "plt.plot(epochs, acc, \"bo\", label=\"Training accuracy\")\n",
    "plt.plot(epochs, val_acc, \"b\", label=\"Validation accuracy\")\n",
    "plt.title(\"Training and validation accuracy\")\n",
    "plt.xlabel(\"Epochs\")\n",
    "plt.ylabel(\"Accuracy\")\n",
    "plt.legend()\n",
    "plt.show()"
   ],
   "metadata": {
    "collapsed": false,
    "pycharm": {
     "name": "#%%\n"
    }
   }
  },
  {
   "cell_type": "markdown",
   "source": [
    "# Test Confusion Matrix"
   ],
   "metadata": {
    "collapsed": false,
    "pycharm": {
     "name": "#%% md\n"
    }
   }
  },
  {
   "cell_type": "markdown",
   "source": [
    "Reverse Encode Target Into One Column for Confusion Matrix"
   ],
   "metadata": {
    "collapsed": false,
    "pycharm": {
     "name": "#%% md\n"
    }
   }
  },
  {
   "cell_type": "code",
   "execution_count": 1113,
   "outputs": [],
   "source": [
    "def reverse_encode(y_df):\n",
    "\n",
    "    y_df['score'] = (y_df.iloc[:, 0:] == 1).idxmax(1)['score'] = (y_df.iloc[:, 0:] == 1).idxmax(1)\n",
    "    for i in range(0,len(y_df)):\n",
    "        if y_df.iloc[i,-1] == 'score_1':\n",
    "            y_df.iloc[i,-1] = 1\n",
    "        elif y_df.iloc[i,-1] == 'score_2':\n",
    "            y_df.iloc[i,-1] = 2\n",
    "        elif y_df.iloc[i,-1]== 'score_3':\n",
    "            y_df.iloc[i,-1] = 3\n",
    "        elif y_df.iloc[i,-1]== 'score_4':\n",
    "            y_df.iloc[i,-1] = 4\n",
    "        elif y_df.iloc[i,-1] == 'score_5':\n",
    "            y_df.iloc[i,-1]= 5"
   ],
   "metadata": {
    "collapsed": false,
    "pycharm": {
     "name": "#%%\n"
    }
   }
  },
  {
   "cell_type": "raw",
   "source": [],
   "metadata": {
    "collapsed": false,
    "pycharm": {
     "name": "#%% raw\n"
    }
   }
  },
  {
   "cell_type": "code",
   "execution_count": 1114,
   "outputs": [],
   "source": [
    "yy_test = y_test\n",
    "#yy_val = y_val\n",
    "\n",
    "reverse_encode(yy_test)\n",
    "#reverse_encode(yy_val)"
   ],
   "metadata": {
    "collapsed": false,
    "pycharm": {
     "name": "#%%\n"
    }
   }
  },
  {
   "cell_type": "code",
   "execution_count": 1115,
   "outputs": [],
   "source": [
    "def add_one_argmax_score(x):\n",
    "\n",
    "    x = x+1\n",
    "\n",
    "    return x"
   ],
   "metadata": {
    "collapsed": false,
    "pycharm": {
     "name": "#%%\n"
    }
   }
  },
  {
   "cell_type": "code",
   "execution_count": 1116,
   "outputs": [
    {
     "name": "stdout",
     "output_type": "stream",
     "text": [
      "98/98 [==============================] - 0s 2ms/step\n"
     ]
    }
   ],
   "source": [
    "yy_test_predicted = add_one_argmax_score(np.argmax(model.predict(x_test),axis=1))"
   ],
   "metadata": {
    "collapsed": false,
    "pycharm": {
     "name": "#%%\n"
    }
   }
  },
  {
   "cell_type": "markdown",
   "source": [
    " Saving Neural Network Preprocessed y Data"
   ],
   "metadata": {
    "collapsed": false,
    "pycharm": {
     "name": "#%% md\n"
    }
   }
  },
  {
   "cell_type": "code",
   "execution_count": 1117,
   "outputs": [],
   "source": [
    "yy_test.to_csv(r'C:\\Users\\lenovo\\PycharmProjects\\pythonProject2\\Data\\Neural_Networks/y_test_nn_df_5labels.csv',index=False)\n",
    "np.save(r'C:\\Users\\lenovo\\PycharmProjects\\pythonProject2\\Data\\Neural_Networks/y_test_predicted_array_5labels',yy_test_predicted)"
   ],
   "metadata": {
    "collapsed": false,
    "pycharm": {
     "name": "#%%\n"
    }
   }
  },
  {
   "cell_type": "code",
   "execution_count": 1118,
   "outputs": [],
   "source": [
    "yy_test['score'] = yy_test['score'].replace(['rating_1'],1)\n",
    "yy_test['score'] = yy_test['score'].replace(['rating_2'],2)\n",
    "yy_test['score'] = yy_test['score'].replace(['rating_3'],3)\n",
    "yy_test['score'] = yy_test['score'].replace(['rating_4'],4)\n",
    "yy_test['score'] = yy_test['score'].replace(['rating_5'],5)"
   ],
   "metadata": {
    "collapsed": false,
    "pycharm": {
     "name": "#%%\n"
    }
   }
  },
  {
   "cell_type": "code",
   "execution_count": 1119,
   "outputs": [],
   "source": [
    "yy_test['score'] = yy_test['score'].astype(np.int64)"
   ],
   "metadata": {
    "collapsed": false,
    "pycharm": {
     "name": "#%%\n"
    }
   }
  },
  {
   "cell_type": "code",
   "execution_count": 1120,
   "outputs": [],
   "source": [
    "def conf_matrix(cm):\n",
    "\n",
    "    plt.figure(figsize=(9,9))\n",
    "    ax = sns.heatmap(cm,\n",
    "                     annot= True,\n",
    "                     fmt = '.4g',\n",
    "                     cbar=0,\n",
    "                     xticklabels=[1,2,3,4,5],\n",
    "                     yticklabels=[1,2,3,4,5])\n",
    "\n",
    "    plt.show()"
   ],
   "metadata": {
    "collapsed": false,
    "pycharm": {
     "name": "#%%\n"
    }
   }
  },
  {
   "cell_type": "code",
   "execution_count": 1121,
   "outputs": [
    {
     "data": {
      "text/plain": "<Figure size 648x648 with 1 Axes>",
      "image/png": "[encoded data removed]"
     },
     "metadata": {
      "needs_background": "light"
     },
     "output_type": "display_data"
    }
   ],
   "source": [
    "test_cm = confusion_matrix(yy_test['score'], yy_test_predicted)\n",
    "conf_matrix(test_cm)"
   ],
   "metadata": {
    "collapsed": false,
    "pycharm": {
     "name": "#%%\n"
    }
   }
  },
  {
   "cell_type": "code",
   "execution_count": 1122,
   "outputs": [
    {
     "name": "stdout",
     "output_type": "stream",
     "text": [
      "              precision    recall  f1-score   support\n",
      "\n",
      "           1       0.68      0.64      0.66       655\n",
      "           2       0.44      0.47      0.46       567\n",
      "           3       0.55      0.48      0.51       695\n",
      "           4       0.52      0.49      0.50       650\n",
      "           5       0.62      0.76      0.68       558\n",
      "\n",
      "    accuracy                           0.56      3125\n",
      "   macro avg       0.56      0.57      0.56      3125\n",
      "weighted avg       0.56      0.56      0.56      3125\n",
      "\n"
     ]
    }
   ],
   "source": [
    "from sklearn.metrics import classification_report\n",
    "\n",
    "print(classification_report(yy_test_predicted, yy_test['score']))"
   ],
   "metadata": {
    "collapsed": false,
    "pycharm": {
     "name": "#%%\n"
    }
   }
  },
  {
   "cell_type": "markdown",
   "source": [
    "# Saving Model for streamlit"
   ],
   "metadata": {
    "collapsed": false,
    "pycharm": {
     "name": "#%% md\n"
    }
   }
  },
  {
   "cell_type": "code",
   "execution_count": 1125,
   "outputs": [
    {
     "name": "stderr",
     "output_type": "stream",
     "text": [
      "WARNING:absl:Found untraced functions such as embedding_60_layer_call_and_return_conditional_losses, embedding_60_layer_call_fn while saving (showing 2 of 2). These functions will not be directly callable after loading.\n"
     ]
    },
    {
     "name": "stdout",
     "output_type": "stream",
     "text": [
      "INFO:tensorflow:Assets written to: C:\\Users\\lenovo\\PycharmProjects\\pythonProject2\\Data\\Neural_Networks/Models/Neural_Network.h5py\\assets\n"
     ]
    },
    {
     "name": "stderr",
     "output_type": "stream",
     "text": [
      "INFO:tensorflow:Assets written to: C:\\Users\\lenovo\\PycharmProjects\\pythonProject2\\Data\\Neural_Networks/Models/Neural_Network.h5py\\assets\n"
     ]
    }
   ],
   "source": [
    "model.save(r'C:\\Users\\lenovo\\PycharmProjects\\pythonProject2\\Data\\Neural_Networks/Models/Neural_Network.h5py')"
   ],
   "metadata": {
    "collapsed": false,
    "pycharm": {
     "name": "#%%\n"
    }
   }
  },
  {
   "cell_type": "code",
   "execution_count": 1126,
   "outputs": [],
   "source": [
    "pickle.dump(word_index_dict,open(r'C:\\Users\\lenovo\\PycharmProjects\\pythonProject2\\Data\\Neural_Networks/Models/word_index_dict.pkl','wb'))"
   ],
   "metadata": {
    "collapsed": false,
    "pycharm": {
     "name": "#%%\n"
    }
   }
  }
 ]
}